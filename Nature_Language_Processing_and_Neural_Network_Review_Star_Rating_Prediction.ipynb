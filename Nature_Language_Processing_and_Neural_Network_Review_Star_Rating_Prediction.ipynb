{
  "nbformat": 4,
  "nbformat_minor": 0,
  "metadata": {
    "colab": {
      "provenance": [],
      "collapsed_sections": [
        "xKpY8ERCZSHP"
      ],
      "authorship_tag": "ABX9TyNeqMC+rokkxcR3GREhyjsy",
      "include_colab_link": true
    },
    "kernelspec": {
      "name": "python3",
      "display_name": "Python 3"
    },
    "language_info": {
      "name": "python"
    }
  },
  "cells": [
    {
      "cell_type": "markdown",
      "metadata": {
        "id": "view-in-github",
        "colab_type": "text"
      },
      "source": [
        "<a href=\"https://colab.research.google.com/github/yimeiwen/FraudDetection/blob/main/Nature_Language_Processing_and_Neural_Network_Review_Star_Rating_Prediction.ipynb\" target=\"_parent\"><img src=\"https://colab.research.google.com/assets/colab-badge.svg\" alt=\"Open In Colab\"/></a>"
      ]
    },
    {
      "cell_type": "markdown",
      "source": [
        "# **1.Document Clustering and Topic Modeling**"
      ],
      "metadata": {
        "id": "uGnQ_HEvHbhR"
      }
    },
    {
      "cell_type": "code",
      "source": [
        "!pip install PyDrive"
      ],
      "metadata": {
        "colab": {
          "base_uri": "https://localhost:8080/"
        },
        "id": "Q-M-D6y5Qs3j",
        "outputId": "6e114687-5fb1-4685-da2a-5564c36f9e46"
      },
      "execution_count": null,
      "outputs": [
        {
          "output_type": "stream",
          "name": "stdout",
          "text": [
            "Looking in indexes: https://pypi.org/simple, https://us-python.pkg.dev/colab-wheels/public/simple/\n",
            "Requirement already satisfied: PyDrive in /usr/local/lib/python3.7/dist-packages (1.3.1)\n",
            "Requirement already satisfied: oauth2client>=4.0.0 in /usr/local/lib/python3.7/dist-packages (from PyDrive) (4.1.3)\n",
            "Requirement already satisfied: google-api-python-client>=1.2 in /usr/local/lib/python3.7/dist-packages (from PyDrive) (1.12.11)\n",
            "Requirement already satisfied: PyYAML>=3.0 in /usr/local/lib/python3.7/dist-packages (from PyDrive) (6.0)\n",
            "Requirement already satisfied: uritemplate<4dev,>=3.0.0 in /usr/local/lib/python3.7/dist-packages (from google-api-python-client>=1.2->PyDrive) (3.0.1)\n",
            "Requirement already satisfied: httplib2<1dev,>=0.15.0 in /usr/local/lib/python3.7/dist-packages (from google-api-python-client>=1.2->PyDrive) (0.17.4)\n",
            "Requirement already satisfied: google-api-core<3dev,>=1.21.0 in /usr/local/lib/python3.7/dist-packages (from google-api-python-client>=1.2->PyDrive) (1.31.6)\n",
            "Requirement already satisfied: google-auth<3dev,>=1.16.0 in /usr/local/lib/python3.7/dist-packages (from google-api-python-client>=1.2->PyDrive) (1.35.0)\n",
            "Requirement already satisfied: six<2dev,>=1.13.0 in /usr/local/lib/python3.7/dist-packages (from google-api-python-client>=1.2->PyDrive) (1.15.0)\n",
            "Requirement already satisfied: google-auth-httplib2>=0.0.3 in /usr/local/lib/python3.7/dist-packages (from google-api-python-client>=1.2->PyDrive) (0.0.4)\n",
            "Requirement already satisfied: pytz in /usr/local/lib/python3.7/dist-packages (from google-api-core<3dev,>=1.21.0->google-api-python-client>=1.2->PyDrive) (2022.5)\n",
            "Requirement already satisfied: setuptools>=40.3.0 in /usr/local/lib/python3.7/dist-packages (from google-api-core<3dev,>=1.21.0->google-api-python-client>=1.2->PyDrive) (57.4.0)\n",
            "Requirement already satisfied: packaging>=14.3 in /usr/local/lib/python3.7/dist-packages (from google-api-core<3dev,>=1.21.0->google-api-python-client>=1.2->PyDrive) (21.3)\n",
            "Requirement already satisfied: googleapis-common-protos<2.0dev,>=1.6.0 in /usr/local/lib/python3.7/dist-packages (from google-api-core<3dev,>=1.21.0->google-api-python-client>=1.2->PyDrive) (1.56.4)\n",
            "Requirement already satisfied: protobuf<4.0.0dev,>=3.12.0 in /usr/local/lib/python3.7/dist-packages (from google-api-core<3dev,>=1.21.0->google-api-python-client>=1.2->PyDrive) (3.17.3)\n",
            "Requirement already satisfied: requests<3.0.0dev,>=2.18.0 in /usr/local/lib/python3.7/dist-packages (from google-api-core<3dev,>=1.21.0->google-api-python-client>=1.2->PyDrive) (2.23.0)\n",
            "Requirement already satisfied: cachetools<5.0,>=2.0.0 in /usr/local/lib/python3.7/dist-packages (from google-auth<3dev,>=1.16.0->google-api-python-client>=1.2->PyDrive) (4.2.4)\n",
            "Requirement already satisfied: rsa<5,>=3.1.4 in /usr/local/lib/python3.7/dist-packages (from google-auth<3dev,>=1.16.0->google-api-python-client>=1.2->PyDrive) (4.9)\n",
            "Requirement already satisfied: pyasn1-modules>=0.2.1 in /usr/local/lib/python3.7/dist-packages (from google-auth<3dev,>=1.16.0->google-api-python-client>=1.2->PyDrive) (0.2.8)\n",
            "Requirement already satisfied: pyasn1>=0.1.7 in /usr/local/lib/python3.7/dist-packages (from oauth2client>=4.0.0->PyDrive) (0.4.8)\n",
            "Requirement already satisfied: pyparsing!=3.0.5,>=2.0.2 in /usr/local/lib/python3.7/dist-packages (from packaging>=14.3->google-api-core<3dev,>=1.21.0->google-api-python-client>=1.2->PyDrive) (3.0.9)\n",
            "Requirement already satisfied: certifi>=2017.4.17 in /usr/local/lib/python3.7/dist-packages (from requests<3.0.0dev,>=2.18.0->google-api-core<3dev,>=1.21.0->google-api-python-client>=1.2->PyDrive) (2022.9.24)\n",
            "Requirement already satisfied: idna<3,>=2.5 in /usr/local/lib/python3.7/dist-packages (from requests<3.0.0dev,>=2.18.0->google-api-core<3dev,>=1.21.0->google-api-python-client>=1.2->PyDrive) (2.10)\n",
            "Requirement already satisfied: urllib3!=1.25.0,!=1.25.1,<1.26,>=1.21.1 in /usr/local/lib/python3.7/dist-packages (from requests<3.0.0dev,>=2.18.0->google-api-core<3dev,>=1.21.0->google-api-python-client>=1.2->PyDrive) (1.24.3)\n",
            "Requirement already satisfied: chardet<4,>=3.0.2 in /usr/local/lib/python3.7/dist-packages (from requests<3.0.0dev,>=2.18.0->google-api-core<3dev,>=1.21.0->google-api-python-client>=1.2->PyDrive) (3.0.4)\n"
          ]
        }
      ]
    },
    {
      "cell_type": "code",
      "source": [
        "from pydrive.auth import GoogleAuth\n",
        "from pydrive.drive import GoogleDrive\n",
        "from google.colab import auth\n",
        "from oauth2client.client import GoogleCredentials"
      ],
      "metadata": {
        "id": "_bf9JkkjSHKz"
      },
      "execution_count": null,
      "outputs": []
    },
    {
      "cell_type": "code",
      "source": [
        "auth.authenticate_user()\n",
        "gauth = GoogleAuth()\n",
        "gauth.credentials = GoogleCredentials.get_application_default()\n",
        "drive = GoogleDrive(gauth)"
      ],
      "metadata": {
        "id": "BNChecbGSVmS"
      },
      "execution_count": null,
      "outputs": []
    },
    {
      "cell_type": "code",
      "source": [
        "file = drive.CreateFile({'id':'192JMR7SIqoa14vrs7Z9BXO3iK89pimJL'})\n",
        "file.GetContentFile('data.tsv') #tab-separated\n",
        "\n",
        "#https://drive.google.com/file/d/192JMR7SIqoa14vrs7Z9BXO3iK89pimJL/view?usp=sharing"
      ],
      "metadata": {
        "id": "y3amXB2VNWjj"
      },
      "execution_count": null,
      "outputs": []
    },
    {
      "cell_type": "code",
      "source": [
        "import numpy as np\n",
        "import pandas as pd\n",
        "import nltk #Natural Language Toolkit\n",
        "#import genism\n",
        "from sklearn.feature_extraction.text import TfidfVectorizer\n",
        "import matplotlib.pyplot as plt\n",
        "\n",
        "nltk.download('punkt')  #Punkt Sentence Tokenizer\n",
        "\n",
        "#Punkt This tokenizer divides a text into a list of sentences by using an unsupervised algorithm to build a model for abbreviation words, collocations, and words that start sentences.  \n",
        "#It must be trained on a large collection of plain text in the target language before it can be used.\n",
        "nltk.download('stopwords')\n",
        "#The process of converting data to something a computer can understand is referred to as pre-processing. \n",
        "#One of the major forms of pre-processing is to filter out useless data. \n",
        "#In natural language processing, useless words (data), are referred to as stop words. \n",
        "#What are Stop words?\n",
        "#Stop Words: A stop word is a commonly used word (such as “the”, “a”, “an”, “in”) that a search engine has been programmed to ignore,\n",
        "#both when indexing entries for searching and when retrieving them as the result of a search query. \n",
        "#We would not want these words to take up space in our database, or taking up valuable processing time. \n",
        "#For this, we can remove them easily, by storing a list of words that you consider to stop words. "
      ],
      "metadata": {
        "colab": {
          "base_uri": "https://localhost:8080/"
        },
        "id": "7WIQsUNwQ9cy",
        "outputId": "68d285c9-4123-4c5a-e9ed-bfeeaccdfcc8"
      },
      "execution_count": null,
      "outputs": [
        {
          "output_type": "stream",
          "name": "stderr",
          "text": [
            "[nltk_data] Downloading package punkt to /root/nltk_data...\n",
            "[nltk_data]   Package punkt is already up-to-date!\n",
            "[nltk_data] Downloading package stopwords to /root/nltk_data...\n",
            "[nltk_data]   Package stopwords is already up-to-date!\n"
          ]
        },
        {
          "output_type": "execute_result",
          "data": {
            "text/plain": [
              "True"
            ]
          },
          "metadata": {},
          "execution_count": 10
        }
      ]
    },
    {
      "cell_type": "code",
      "source": [
        "df = pd.read_csv('data.tsv',sep='\\t', error_bad_lines=False)"
      ],
      "metadata": {
        "colab": {
          "base_uri": "https://localhost:8080/"
        },
        "id": "vXgXB7syp-_u",
        "outputId": "5d1de600-fb41-4ce9-c8f8-ad1babd814ef"
      },
      "execution_count": null,
      "outputs": [
        {
          "output_type": "stream",
          "name": "stderr",
          "text": [
            "b'Skipping line 8704: expected 15 fields, saw 22\\nSkipping line 16933: expected 15 fields, saw 22\\nSkipping line 23726: expected 15 fields, saw 22\\n'\n",
            "b'Skipping line 85637: expected 15 fields, saw 22\\n'\n",
            "b'Skipping line 132136: expected 15 fields, saw 22\\nSkipping line 158070: expected 15 fields, saw 22\\nSkipping line 166007: expected 15 fields, saw 22\\nSkipping line 171877: expected 15 fields, saw 22\\nSkipping line 177756: expected 15 fields, saw 22\\nSkipping line 181773: expected 15 fields, saw 22\\nSkipping line 191085: expected 15 fields, saw 22\\nSkipping line 196273: expected 15 fields, saw 22\\nSkipping line 196331: expected 15 fields, saw 22\\n'\n",
            "b'Skipping line 197000: expected 15 fields, saw 22\\nSkipping line 197011: expected 15 fields, saw 22\\nSkipping line 197432: expected 15 fields, saw 22\\nSkipping line 208016: expected 15 fields, saw 22\\nSkipping line 214110: expected 15 fields, saw 22\\nSkipping line 244328: expected 15 fields, saw 22\\nSkipping line 248519: expected 15 fields, saw 22\\nSkipping line 254936: expected 15 fields, saw 22\\n'\n",
            "b'Skipping line 272057: expected 15 fields, saw 22\\nSkipping line 293214: expected 15 fields, saw 22\\nSkipping line 310507: expected 15 fields, saw 22\\nSkipping line 312306: expected 15 fields, saw 22\\nSkipping line 316296: expected 15 fields, saw 22\\n'\n",
            "b'Skipping line 336028: expected 15 fields, saw 22\\nSkipping line 344885: expected 15 fields, saw 22\\nSkipping line 352551: expected 15 fields, saw 22\\n'\n",
            "b'Skipping line 408773: expected 15 fields, saw 22\\nSkipping line 434535: expected 15 fields, saw 22\\n'\n",
            "b'Skipping line 581593: expected 15 fields, saw 22\\n'\n",
            "b'Skipping line 652409: expected 15 fields, saw 22\\n'\n"
          ]
        }
      ]
    },
    {
      "cell_type": "markdown",
      "source": [
        "# error_bad_lines : boolean, default True\n",
        "\n",
        "Lines with too many fields (e.g. a csv line with too many commas) will by default cause an exception to be raised, and no DataFrame will be returned. If False, then these “bad lines” will dropped from the DataFrame that is returned. (Only valid with C parser)\n",
        "\n",
        "error_bad_lines=False    =====> Ignore rows with extra columns/drop bad lines"
      ],
      "metadata": {
        "id": "DEx-ILUdmkS3"
      }
    },
    {
      "cell_type": "code",
      "source": [
        "df.head()"
      ],
      "metadata": {
        "colab": {
          "base_uri": "https://localhost:8080/",
          "height": 600
        },
        "id": "pmcxBh26qfRf",
        "outputId": "d021e276-af9b-4acd-cf44-7280d9c14419"
      },
      "execution_count": null,
      "outputs": [
        {
          "output_type": "execute_result",
          "data": {
            "text/plain": [
              "  marketplace  customer_id       review_id  product_id  product_parent  \\\n",
              "0          US      3653882  R3O9SGZBVQBV76  B00FALQ1ZC       937001370   \n",
              "1          US     14661224   RKH8BNC3L5DLF  B00D3RGO20       484010722   \n",
              "2          US     27324930  R2HLE8WKZSU3NL  B00DKYC7TK       361166390   \n",
              "3          US      7211452  R31U3UH5AZ42LL  B000EQS1JW       958035625   \n",
              "4          US     12733322  R2SV659OUJ945Y  B00A6GFD7S       765328221   \n",
              "\n",
              "                                       product_title product_category  \\\n",
              "0  Invicta Women's 15150 \"Angel\" 18k Yellow Gold ...          Watches   \n",
              "1  Kenneth Cole New York Women's KC4944 Automatic...          Watches   \n",
              "2  Ritche 22mm Black Stainless Steel Bracelet Wat...          Watches   \n",
              "3  Citizen Men's BM8180-03E Eco-Drive Stainless S...          Watches   \n",
              "4  Orient ER27009B Men's Symphony Automatic Stain...          Watches   \n",
              "\n",
              "   star_rating  helpful_votes  total_votes vine verified_purchase  \\\n",
              "0            5              0            0    N                 Y   \n",
              "1            5              0            0    N                 Y   \n",
              "2            2              1            1    N                 Y   \n",
              "3            5              0            0    N                 Y   \n",
              "4            4              0            0    N                 Y   \n",
              "\n",
              "                              review_headline  \\\n",
              "0                                  Five Stars   \n",
              "1  I love thiswatch it keeps time wonderfully   \n",
              "2                                   Two Stars   \n",
              "3                                  Five Stars   \n",
              "4    Beautiful face, but cheap sounding links   \n",
              "\n",
              "                                         review_body review_date  \n",
              "0  Absolutely love this watch! Get compliments al...  2015-08-31  \n",
              "1       I love this watch it keeps time wonderfully.  2015-08-31  \n",
              "2                                          Scratches  2015-08-31  \n",
              "3  It works well on me. However, I found cheaper ...  2015-08-31  \n",
              "4  Beautiful watch face.  The band looks nice all...  2015-08-31  "
            ],
            "text/html": [
              "\n",
              "  <div id=\"df-ec3a5856-5f4c-46b4-b585-52ce8c47082a\">\n",
              "    <div class=\"colab-df-container\">\n",
              "      <div>\n",
              "<style scoped>\n",
              "    .dataframe tbody tr th:only-of-type {\n",
              "        vertical-align: middle;\n",
              "    }\n",
              "\n",
              "    .dataframe tbody tr th {\n",
              "        vertical-align: top;\n",
              "    }\n",
              "\n",
              "    .dataframe thead th {\n",
              "        text-align: right;\n",
              "    }\n",
              "</style>\n",
              "<table border=\"1\" class=\"dataframe\">\n",
              "  <thead>\n",
              "    <tr style=\"text-align: right;\">\n",
              "      <th></th>\n",
              "      <th>marketplace</th>\n",
              "      <th>customer_id</th>\n",
              "      <th>review_id</th>\n",
              "      <th>product_id</th>\n",
              "      <th>product_parent</th>\n",
              "      <th>product_title</th>\n",
              "      <th>product_category</th>\n",
              "      <th>star_rating</th>\n",
              "      <th>helpful_votes</th>\n",
              "      <th>total_votes</th>\n",
              "      <th>vine</th>\n",
              "      <th>verified_purchase</th>\n",
              "      <th>review_headline</th>\n",
              "      <th>review_body</th>\n",
              "      <th>review_date</th>\n",
              "    </tr>\n",
              "  </thead>\n",
              "  <tbody>\n",
              "    <tr>\n",
              "      <th>0</th>\n",
              "      <td>US</td>\n",
              "      <td>3653882</td>\n",
              "      <td>R3O9SGZBVQBV76</td>\n",
              "      <td>B00FALQ1ZC</td>\n",
              "      <td>937001370</td>\n",
              "      <td>Invicta Women's 15150 \"Angel\" 18k Yellow Gold ...</td>\n",
              "      <td>Watches</td>\n",
              "      <td>5</td>\n",
              "      <td>0</td>\n",
              "      <td>0</td>\n",
              "      <td>N</td>\n",
              "      <td>Y</td>\n",
              "      <td>Five Stars</td>\n",
              "      <td>Absolutely love this watch! Get compliments al...</td>\n",
              "      <td>2015-08-31</td>\n",
              "    </tr>\n",
              "    <tr>\n",
              "      <th>1</th>\n",
              "      <td>US</td>\n",
              "      <td>14661224</td>\n",
              "      <td>RKH8BNC3L5DLF</td>\n",
              "      <td>B00D3RGO20</td>\n",
              "      <td>484010722</td>\n",
              "      <td>Kenneth Cole New York Women's KC4944 Automatic...</td>\n",
              "      <td>Watches</td>\n",
              "      <td>5</td>\n",
              "      <td>0</td>\n",
              "      <td>0</td>\n",
              "      <td>N</td>\n",
              "      <td>Y</td>\n",
              "      <td>I love thiswatch it keeps time wonderfully</td>\n",
              "      <td>I love this watch it keeps time wonderfully.</td>\n",
              "      <td>2015-08-31</td>\n",
              "    </tr>\n",
              "    <tr>\n",
              "      <th>2</th>\n",
              "      <td>US</td>\n",
              "      <td>27324930</td>\n",
              "      <td>R2HLE8WKZSU3NL</td>\n",
              "      <td>B00DKYC7TK</td>\n",
              "      <td>361166390</td>\n",
              "      <td>Ritche 22mm Black Stainless Steel Bracelet Wat...</td>\n",
              "      <td>Watches</td>\n",
              "      <td>2</td>\n",
              "      <td>1</td>\n",
              "      <td>1</td>\n",
              "      <td>N</td>\n",
              "      <td>Y</td>\n",
              "      <td>Two Stars</td>\n",
              "      <td>Scratches</td>\n",
              "      <td>2015-08-31</td>\n",
              "    </tr>\n",
              "    <tr>\n",
              "      <th>3</th>\n",
              "      <td>US</td>\n",
              "      <td>7211452</td>\n",
              "      <td>R31U3UH5AZ42LL</td>\n",
              "      <td>B000EQS1JW</td>\n",
              "      <td>958035625</td>\n",
              "      <td>Citizen Men's BM8180-03E Eco-Drive Stainless S...</td>\n",
              "      <td>Watches</td>\n",
              "      <td>5</td>\n",
              "      <td>0</td>\n",
              "      <td>0</td>\n",
              "      <td>N</td>\n",
              "      <td>Y</td>\n",
              "      <td>Five Stars</td>\n",
              "      <td>It works well on me. However, I found cheaper ...</td>\n",
              "      <td>2015-08-31</td>\n",
              "    </tr>\n",
              "    <tr>\n",
              "      <th>4</th>\n",
              "      <td>US</td>\n",
              "      <td>12733322</td>\n",
              "      <td>R2SV659OUJ945Y</td>\n",
              "      <td>B00A6GFD7S</td>\n",
              "      <td>765328221</td>\n",
              "      <td>Orient ER27009B Men's Symphony Automatic Stain...</td>\n",
              "      <td>Watches</td>\n",
              "      <td>4</td>\n",
              "      <td>0</td>\n",
              "      <td>0</td>\n",
              "      <td>N</td>\n",
              "      <td>Y</td>\n",
              "      <td>Beautiful face, but cheap sounding links</td>\n",
              "      <td>Beautiful watch face.  The band looks nice all...</td>\n",
              "      <td>2015-08-31</td>\n",
              "    </tr>\n",
              "  </tbody>\n",
              "</table>\n",
              "</div>\n",
              "      <button class=\"colab-df-convert\" onclick=\"convertToInteractive('df-ec3a5856-5f4c-46b4-b585-52ce8c47082a')\"\n",
              "              title=\"Convert this dataframe to an interactive table.\"\n",
              "              style=\"display:none;\">\n",
              "        \n",
              "  <svg xmlns=\"http://www.w3.org/2000/svg\" height=\"24px\"viewBox=\"0 0 24 24\"\n",
              "       width=\"24px\">\n",
              "    <path d=\"M0 0h24v24H0V0z\" fill=\"none\"/>\n",
              "    <path d=\"M18.56 5.44l.94 2.06.94-2.06 2.06-.94-2.06-.94-.94-2.06-.94 2.06-2.06.94zm-11 1L8.5 8.5l.94-2.06 2.06-.94-2.06-.94L8.5 2.5l-.94 2.06-2.06.94zm10 10l.94 2.06.94-2.06 2.06-.94-2.06-.94-.94-2.06-.94 2.06-2.06.94z\"/><path d=\"M17.41 7.96l-1.37-1.37c-.4-.4-.92-.59-1.43-.59-.52 0-1.04.2-1.43.59L10.3 9.45l-7.72 7.72c-.78.78-.78 2.05 0 2.83L4 21.41c.39.39.9.59 1.41.59.51 0 1.02-.2 1.41-.59l7.78-7.78 2.81-2.81c.8-.78.8-2.07 0-2.86zM5.41 20L4 18.59l7.72-7.72 1.47 1.35L5.41 20z\"/>\n",
              "  </svg>\n",
              "      </button>\n",
              "      \n",
              "  <style>\n",
              "    .colab-df-container {\n",
              "      display:flex;\n",
              "      flex-wrap:wrap;\n",
              "      gap: 12px;\n",
              "    }\n",
              "\n",
              "    .colab-df-convert {\n",
              "      background-color: #E8F0FE;\n",
              "      border: none;\n",
              "      border-radius: 50%;\n",
              "      cursor: pointer;\n",
              "      display: none;\n",
              "      fill: #1967D2;\n",
              "      height: 32px;\n",
              "      padding: 0 0 0 0;\n",
              "      width: 32px;\n",
              "    }\n",
              "\n",
              "    .colab-df-convert:hover {\n",
              "      background-color: #E2EBFA;\n",
              "      box-shadow: 0px 1px 2px rgba(60, 64, 67, 0.3), 0px 1px 3px 1px rgba(60, 64, 67, 0.15);\n",
              "      fill: #174EA6;\n",
              "    }\n",
              "\n",
              "    [theme=dark] .colab-df-convert {\n",
              "      background-color: #3B4455;\n",
              "      fill: #D2E3FC;\n",
              "    }\n",
              "\n",
              "    [theme=dark] .colab-df-convert:hover {\n",
              "      background-color: #434B5C;\n",
              "      box-shadow: 0px 1px 3px 1px rgba(0, 0, 0, 0.15);\n",
              "      filter: drop-shadow(0px 1px 2px rgba(0, 0, 0, 0.3));\n",
              "      fill: #FFFFFF;\n",
              "    }\n",
              "  </style>\n",
              "\n",
              "      <script>\n",
              "        const buttonEl =\n",
              "          document.querySelector('#df-ec3a5856-5f4c-46b4-b585-52ce8c47082a button.colab-df-convert');\n",
              "        buttonEl.style.display =\n",
              "          google.colab.kernel.accessAllowed ? 'block' : 'none';\n",
              "\n",
              "        async function convertToInteractive(key) {\n",
              "          const element = document.querySelector('#df-ec3a5856-5f4c-46b4-b585-52ce8c47082a');\n",
              "          const dataTable =\n",
              "            await google.colab.kernel.invokeFunction('convertToInteractive',\n",
              "                                                     [key], {});\n",
              "          if (!dataTable) return;\n",
              "\n",
              "          const docLinkHtml = 'Like what you see? Visit the ' +\n",
              "            '<a target=\"_blank\" href=https://colab.research.google.com/notebooks/data_table.ipynb>data table notebook</a>'\n",
              "            + ' to learn more about interactive tables.';\n",
              "          element.innerHTML = '';\n",
              "          dataTable['output_type'] = 'display_data';\n",
              "          await google.colab.output.renderOutput(dataTable, element);\n",
              "          const docLink = document.createElement('div');\n",
              "          docLink.innerHTML = docLinkHtml;\n",
              "          element.appendChild(docLink);\n",
              "        }\n",
              "      </script>\n",
              "    </div>\n",
              "  </div>\n",
              "  "
            ]
          },
          "metadata": {},
          "execution_count": 34
        }
      ]
    },
    {
      "cell_type": "code",
      "source": [
        "df.dropna(subset=['review_body'],inplace=True)\n",
        "#DataFrame.dropna(axis=0, how='any', thresh=None, subset=None, inplace=False)\n",
        "#Remove missing values in column \"review_body\"  drop rows that there are no value"
      ],
      "metadata": {
        "id": "r8Kf8aY0qlNt"
      },
      "execution_count": null,
      "outputs": []
    },
    {
      "cell_type": "markdown",
      "source": [
        "# inplace = Ture\n",
        "\n",
        "Inplace is a parameter accepted by a number of pandas methods which affects the behaviour of how the method runs.Using the inplace=True keyword in a pandas method changes the default behaviour such that the operation on the dataframe doesn’t return anything, it instead ‘modifies the underlying data’ (more on that later). It mutates the actual object which you apply it to.\n",
        "This means that any other objects referencing this dataframe (such as slices) will now see the modified version of the data — not the original."
      ],
      "metadata": {
        "id": "kcioQZseHaq8"
      }
    },
    {
      "cell_type": "markdown",
      "source": [
        "# inplace= False(default option)\n",
        "Alternatively, when using inplace=False (which is the default behaviour) the dataframe operation returns a copy of the dataframe, leaving the original data intact."
      ],
      "metadata": {
        "id": "iO3liTlpsIYR"
      }
    },
    {
      "cell_type": "markdown",
      "source": [
        "# Count Vectorizer give number of frequency with respect to index of vocabulary where as tf-idf consider overall documents of weight of words."
      ],
      "metadata": {
        "id": "hFlB3jtDhcll"
      }
    },
    {
      "cell_type": "code",
      "source": [
        "df.reset_index(inplace=True, drop=True)\n"
      ],
      "metadata": {
        "id": "YUulQOZQvank"
      },
      "execution_count": null,
      "outputs": []
    },
    {
      "cell_type": "markdown",
      "source": [
        "DataFrame.reset_index(level=None, drop=False, inplace=False, col_level=0, col_fill=''）\n",
        "Reset the index, or a level of it.\n",
        "Reset the index of the DataFrame, and use the default one instead. If the DataFrame has a MultiIndex, this method can remove one or more levels."
      ],
      "metadata": {
        "id": "LjRtVJ6X5_2y"
      }
    },
    {
      "cell_type": "code",
      "source": [
        "df.info()"
      ],
      "metadata": {
        "colab": {
          "base_uri": "https://localhost:8080/"
        },
        "id": "VuBMkcty7f64",
        "outputId": "55788b59-0f10-4044-a3fa-0cb22d9d89d8"
      },
      "execution_count": null,
      "outputs": [
        {
          "output_type": "stream",
          "name": "stdout",
          "text": [
            "<class 'pandas.core.frame.DataFrame'>\n",
            "RangeIndex: 960056 entries, 0 to 960055\n",
            "Data columns (total 15 columns):\n",
            " #   Column             Non-Null Count   Dtype \n",
            "---  ------             --------------   ----- \n",
            " 0   marketplace        960056 non-null  object\n",
            " 1   customer_id        960056 non-null  int64 \n",
            " 2   review_id          960056 non-null  object\n",
            " 3   product_id         960056 non-null  object\n",
            " 4   product_parent     960056 non-null  int64 \n",
            " 5   product_title      960054 non-null  object\n",
            " 6   product_category   960056 non-null  object\n",
            " 7   star_rating        960056 non-null  int64 \n",
            " 8   helpful_votes      960056 non-null  int64 \n",
            " 9   total_votes        960056 non-null  int64 \n",
            " 10  vine               960056 non-null  object\n",
            " 11  verified_purchase  960056 non-null  object\n",
            " 12  review_headline    960049 non-null  object\n",
            " 13  review_body        960056 non-null  object\n",
            " 14  review_date        960052 non-null  object\n",
            "dtypes: int64(5), object(10)\n",
            "memory usage: 109.9+ MB\n"
          ]
        }
      ]
    },
    {
      "cell_type": "code",
      "source": [
        "data=df.loc[:999,'review_body'].tolist()\n",
        "#get first 999 lines content under Column name 'review_body\" due to too many reviews in the profle, it is not needed\n",
        "\n",
        "#DataFrame.iloc -----》Access group of rows and columns by integer position(s).\n",
        "#https://towardsdatascience.com/how-to-use-loc-and-iloc-for-selecting-data-in-pandas-bd09cb4c3d79"
      ],
      "metadata": {
        "id": "wEh4Ek8q7ikN"
      },
      "execution_count": null,
      "outputs": []
    },
    {
      "cell_type": "markdown",
      "source": [
        "loc is label-based, which means that you have to specify rows and columns based on their row and column labels.\n",
        "iloc is integer position-based, so you have to specify rows and columns by their integer position values (0-based integer position).\n"
      ],
      "metadata": {
        "id": "DAnqR_kE_0Yp"
      }
    },
    {
      "cell_type": "markdown",
      "source": [
        "## Pandas tolist() is used to convert a series to list. Initially the series is of type pandas.core.series.Series and applying tolist() method, it is converted to list data type."
      ],
      "metadata": {
        "id": "TGnMcmMZg14R"
      }
    },
    {
      "cell_type": "code",
      "source": [
        "data # review——body content"
      ],
      "metadata": {
        "colab": {
          "base_uri": "https://localhost:8080/"
        },
        "id": "ZsfOZG73g7B2",
        "outputId": "3e6b5c8e-33ea-4a92-8e36-3d6ff82faba9"
      },
      "execution_count": null,
      "outputs": [
        {
          "output_type": "execute_result",
          "data": {
            "text/plain": [
              "['Absolutely love this watch! Get compliments almost every time I wear it. Dainty.',\n",
              " 'I love this watch it keeps time wonderfully.',\n",
              " 'Scratches',\n",
              " 'It works well on me. However, I found cheaper prices in other places after making the purchase',\n",
              " \"Beautiful watch face.  The band looks nice all around.  The links do make that squeaky cheapo noise when you swing it back and forth on your wrist which can be embarrassing in front of watch enthusiasts.  However, to the naked eye from afar, you can't tell the links are cheap or folded because it is well polished and brushed and the folds are pretty tight for the most part.<br /><br />I love the new member of my collection and it looks great.  I've had it for about a week and so far it has kept good time despite day 1 which is typical of a new mechanical watch\",\n",
              " 'i love this watch for my purpose, about the people complaining should of done their research better before buying. dumb people.',\n",
              " 'for my wife and she loved it, looks great and a great price!',\n",
              " 'I was about to buy this thinking it was a Swiss Army Infantry watch-- the description uses the words infantry and army--- when I realized it must be a fraud for $12.00. This should not be offered on Amazon-- it is designed to confuse consumers.',\n",
              " \"Watch is perfect. Rugged with the metal &#34;Bull Bars&#34;. The red accents are a great touch and I get compliments when wearing it. If you are worried about being able to read this in sunlight or in the dark don't! The LED ilumination works great! I might even get this in a different color for my next G-Shock purchase!\",\n",
              " 'Great quality and build.<br />The motors are really silent.<br />After fiddling with the settings my watches are always charged and ready to use.',\n",
              " \"The watch was pretty much as it was described and how it looks. I really like the simplicity of it and it looks pretty amazing. It is slightly too big, so I have yet to adjust it, but I'm glad it's too big rather than too small. The weight is good which is what I was hoping for. Very satisfied with this purchase. I was slightly on the fence getting this one because of the previous fossil watch I had, which by some time, did have some gems fall off from ring around the numbers, but so far so good with this one! Excuse my bad lighting for my pic.\",\n",
              " 'I bought this watch on 2013, the screen had a problem 10 months later. I sent the watch back to Casio Service Center in LA, they sent to me a replacement new watch. Last week, less than one year after I received the new watch, the battery is out.  I went to a shop to replace the battery. Then the A button of the watch do not working, so I could not change the time and other settings. I do not think this watch is a good product. Do not buy it.',\n",
              " \"It is a cheap watch that looks cheap.  There isn't much else to say.\",\n",
              " 'Heavier than i though',\n",
              " 'Had it for several weeks now and I love it - reliable, functional, wears easy, not too heavy.  I also get a lot of comments on it - great watch!',\n",
              " 'This one is different from the rest of my Invictas. I like the big watches but this one gave a classy more defined look for the craftsmanship. All of the colors compliment each other. It all starts from the stitching of the band.  Very nice watch.',\n",
              " \"The watch is attractive and easy to read, except for the date. The little diamonds are very, very tiny. All in all, I'm happy with it.\",\n",
              " 'said my wife..',\n",
              " 'Nice watch, on time delivery from seller.',\n",
              " 'Looks great and love to wear this watch.  Only negative thing is due to its blue/black colors, it is difficult to read in average or low light.  Good thing for me, I wear a watch for looks and not really for telling the time.',\n",
              " \"I really like this watch. It has a great face that contrasts nicely with the white numerals. Keeps time accurately. Overall very pleased. I really like its distinctive look. It's also durable and water proof. I leave it on when I go kayaking or out on the boat fishing.\",\n",
              " 'Works great but the watch a used it on was slim so I had to use a quarter to rase it up the right height',\n",
              " 'Just what I needed for my Timex watch. Fits perfect on my wrist',\n",
              " \"Absolutely LOVE this watch! Amazon prime saved me over $400 after tax from the store prices. Between the great buy and the Coolness of this watch it was an amazing purchase. I can't stop looking at it. Movado is an excellent brand. Time keeping is perfect. Quality is perfect.\",\n",
              " 'Its too large. When you order check the size of the case.',\n",
              " \"This was a watch I bought during a quick sale thing, so it was cheaper than normal.  I bought it as a daily wear.  It's really a decent watch for the price; a retro look with a modern movement.\",\n",
              " 'It works well with nice simple look.',\n",
              " 'Thought that I read somewhere that you could swim with it. It does not however bear the 50M Water Resistance designation.',\n",
              " 'Perfect Condition, Arrived on Time,Works & Looks Great',\n",
              " \"This watch is a very beautiful time piece. This also could be an alternative choice to a Rolex submariner. It also has the same features as a Rolex submariner but it's not as good as a Rolex watch but darn close.<br /><br />Take good care of this watch if you get one because it has gold plating on it. This watch is 'Not' a sport watch.<br /><br />This watch features<br />-Rotating timer dial<br />-All stainless steel (kinda heavy)<br />-Glow in the dark<br />-Water resistant to 200 meters (600 feet)<br />-Automatic winding (from wrist movements)<br />-Shows date<br />-Very beautiful<br /><br />Sizeing isn't difficult, I sized mine by using a thumbtack and a hammer to tap the pins out of the band and I tapped a pin back into the band after removing three band links. If you don't know what your doing then just take it to s jewelry store so they can size it for you\",\n",
              " \"This is a beautiful watch. I love the look and feel of it, and I get complimented on it all the time. If that were the entirety of the story, this would be a 5 star review.<br /><br />Unfortunately, the most important part of this watch, the functionality, has some issues. Despite this being an automatic winding watch, it doesn't always stay wound. I have had days where I had to re-wind it before the end of the day. Most days however, it does last through the day. I just have to wind it and set the time again in the morning. Other mechanical self winding watches I own will in fact not need to be wound again until I stop wearing them for a full day. In addition, I can't always get the spring fully wound before it will start clicking and the spring skips off the winding gear.<br /><br />If I hadn't been so lazy, I would have returned this watch. Unfortunately, I missed the 30 day return window. So now I'm stuck with an only mostly working but beautiful watch. I guess that makes it kinda like a fashion model. When I think of it that way, it's not quite so disappointing.\",\n",
              " 'very good',\n",
              " 'I was very apprehensive about buying a 28 dollar watch online, but it looked so much like the 400 dollar Invicta Coalition forces watch I was wanting that I went for it.  I was very pleased when it arrived.  It is a BIG, heavy, sharp looking watch and I could not be happier. I am sure I will be purchasing the solid black one as well',\n",
              " '[[VIDEOID:cc599be25462207f860e42621171d7e1]]This watch has an understated clean and classy design.  It looks elegant. It has a stainless steel body and genuine leather band.  The band maximum width 7.5\\\\\\\\\" (last hole), if needed additional holes could be made to make it as wide as 8\\\\\\\\\".<br /><br />The face of the watch is 1 3/16\\\\\\\\\" wide and the watch is 1/4\\\\\\\\\" thick. The back of the watch states it has Japanese quartz movement.  The watch is water resistant to rain and splashing but cannot be submerged into water.<br /><br />This watch is made in China but includes an English manual. The manual covers several watches so it is a somewhat confusing as it refers to self-winding watches as well as quartz watches like this one.  The third page in the manual can be used as a guide to the watch adjustment method.  I found the controls to be simple, everything is controlled by the position of the crown. It can be pulled out into two position, the first position allows change the day of the month, the second position moves the arms.<br /><br />Overall, this is a very attractive classy looking watch.  It comes in attractive package, the box has a pillow and include a gift bag.<br /><br />This watch is provided by BUREI for review.  Getting a review product does not influence what I say, I leave critical reviews as well as positive reviews like this one.<br /><br />Ali Julia review',\n",
              " 'Awesome watch for the price',\n",
              " 'Love this watch, I just received it yesterday it looks really nice on my  wrist, my friends and family love it.',\n",
              " 'Nice face, easy to read. The band is a little too small.',\n",
              " 'crap',\n",
              " 'This is now my everyday watch.  Easy to read with lots of features.  Light  and functional.  You can not beat the price.  It is clean in detail and I love the watch.',\n",
              " 'amazing product keeps everything safe and secure organized great quality for my designer belts perfect for homes or traveling',\n",
              " \"Watch looks amazing and the features are second to none, but....the watch is small.  I have a PAW-5000 which dwarfs it.  I had to look at the box to make sure I didn't get a woman's watch.  No joke, the band on my, average at best, sized wrist almost couldn't accommodate it.  Probably had 1.5 inch left on the band after I put it on.  Make this Man-size and it would fantastic.\",\n",
              " 'Metal color was changed after the first use , which indicates a very poor quality',\n",
              " 'So far so good. I have only had this watch a few weeks & so far it is still working. Style is really cute exactly as pictured',\n",
              " 'Grand Kids loved this',\n",
              " 'Have worn it constantly, love the light at night',\n",
              " 'Wife loves it and nice looking watch,',\n",
              " 'Great product . Love the continous innovation in this field and given the price-tag of $149, this product is a steal . Bought it 1 week back . Battery is satisfactory . Charges fast . Discharges within 12-15 hours . But it has a touch screen, so naturally its going to eat-up battery. For entry level android-wear, pretty decent',\n",
              " 'A very beautul and well-made pilots watch. Highly detailed dial,as well. The movement is tack- on for 24 hours but if you are not a ditch digger,wind it 20 revs  daily.',\n",
              " \"Comfortable, looks great, very lightweight.The band is a little on the short side, but it's usable and not a big deal to replace.\",\n",
              " 'excelent product',\n",
              " 'This press is very well constructed and sturdy. The different dies are easily interchangeable. A good tool for watches and miniature work.',\n",
              " \"Love the look but the leather band is so stiff it doesn't conform well to my wrist.\",\n",
              " 'Beyond my expectation..excellent product..good quality, well built, nicely done..:)',\n",
              " 'It was bad it didnt fit my 22mm retro casio',\n",
              " 'Watch kicks ass. Upon putting on this watch you will grow a full beard and be able to tame a pack of wolves by looking at them. 8/10 Only gripe is that I wish the back light was a tad better.',\n",
              " \"It's a good value, and a good functional watch strap.  It's super wide though, and takes more space on the wrist than I'd like.\",\n",
              " 'Loved the watch; it just did not work supposedly self-winding; tried all possible motions to cause the winder clearly visible from the rear of the watch; no luck',\n",
              " 'Alrighty, after seeking out the ultimate low-profile, ultra water resistant, mechanical watch with a rotating bezel and date for less than $100, I settled on this.<br /><br />It looks much like the famous Rolex Submariner, and performs similarly.<br /><br />However, after about a year of use now, the paint on the bezel is chipping, and after a decent smack on the hood of a car the crystal has cracked and all but shattered.<br /><br />It keeps time fairly well, gaining about 15 seconds per day, without taking it to a healer for fine tuning.',\n",
              " 'Love it',\n",
              " 'Not bad but a little tacky. It does have substantial weight for a $15 watch.',\n",
              " \"I thought it looked beautiful.  My boyfriend loved it.  It's only been a few days, so I can't comment on durability.  But, I didn't have some of the problems mentioned in other reviews--the little dots around the outside glowed like they were supposed to, it was easy to set including the date, the band was fine and long enough even though my boyfriend wears it loose.  Great price too--I see them in stores for nearly twice what I paid.\",\n",
              " 'More beautiful in person. High quality! Looks understated but so sophisticated! It was a gift for my mother and she loved it!',\n",
              " \"It's a nice watch but if you have a large arm it will not fit  well.  does good under water I use when I go to water aerobic to keep tack of my time\",\n",
              " 'Beautiful watch! Looks better on the wrist than in the picture.  Could not have been more pleased. A great addition to my collection.',\n",
              " 'Bought for a cousin, he loved it',\n",
              " 'Man watch for woman, just a right size and design for it.',\n",
              " \"I like the watch!  I had its predecessor and enjoyed it until all the numbers started to fall off.  Hope that does not happen to this one.  The numbers run together it's sometimes difficult to distinguish the time.  I'm adjusting to it.  Like the new clasp.\",\n",
              " \"I have many Baby-G's, but none have gotten as much attention and compliments as this one. The glitter pops out at everyone and the silver makes it look feminine and sleek. I paid $120 for it, wayy more than I usually pay for Baby-G's, but I think it was worth it, especially since it's a special Japanese model. Probably won't see many people with this watch making it pretty unique. I like the background light is a light blue color, goes well with the color of the watch.\",\n",
              " 'Perfect watch for camping and hiking.',\n",
              " 'the watch is beautiful, a little on the big side but it is perfect!!!!! LOVE LOVE LOVE!!!!!',\n",
              " 'The watch as expected was an amazing product from citizen, however the the cover was in a damaged condition which was quite upsetting since I was planning to gift this to some one.',\n",
              " 'great looking sports watch',\n",
              " 'These were purchased for my daughter and her friend, but I liked them enough that I kept one for myself as well!',\n",
              " \"This is junk.  Why would you name a watch an ironkid watch if it isn't made for swimming (last time I checked an ironman consisted of swim, bike and run)?  It claims it is water resistant but the watch leaks and it will die if your kid wears it in a pool.  Don't waste your money.\",\n",
              " 'Lens cracked on the third day',\n",
              " 'very good',\n",
              " \"My husband like it but he would have liked the dial face to be a little smaller. He is not used to the bigger face but getting used to it. The picture product was hard to tell about the dial face and don't think it mention about the dial face being bigger than normal. Besides that everything else is really well made.\",\n",
              " 'Excellent product and seller very good service',\n",
              " \"This is a very nice watch, i love that it's made of wood but black in color. The face is big and has three silver, decorative yet functional dials. It's extremely lightweight and comfortable to wear. It's so lightweight you could actually forget you're wearing it. The wood is very smooth and the semi-matte finish is very dressy.<br />The links move easily and is worn without catching or squeezing skin/hair. It's easy to adjust so it will fit a variety of  wrist sizesI love that it's water proof because although very dressy it can be worn for every day use.<br />This would make a great gift for any man in your life.<br />I received this product complimentary in exchange for my honest opinion but the opinion expressed is all my own.\",\n",
              " 'Love. That is pretty much it. Item as described, really beautiful and functional.',\n",
              " 'husband loves it',\n",
              " 'So pretty, strap is so soft, easy pliable rubber material. Unfortunately, bezel does not turn. But I recommend this for everyday nursing use.',\n",
              " \"The size and thickness is Huge. the color is eye Popping.The band is durable and ridged . the only problem I have is that it doesn't glow to mush in the dark. but I like it\",\n",
              " 'the band broke in first week',\n",
              " \"This is exactly what I was looking for!  I fixed my watch band and haven't been happier!  I didn't need 5, but the extra 4 may come in handy.\",\n",
              " 'PERFECT',\n",
              " 'A great automatic, but I give it 4 stars for being too conservative with its small size and the blue is dark and more of a navy color unless light is shining on it and reflecting. Other than that, like all based seiko 5s, it looks great on a Nato strap. I have this bad boy setup on a brown leather strap with a deployable clasp which looks very similar to the Omega Seamaster Aqua Terra. A great watch that can be worn in almost any occasion except when swimming',\n",
              " \"Disappointed by the huge size of it, although yes they say in the specs it's a 52&#34; etc...<br />Sent it back. The taxes and p&p cost made me pay for it again.\",\n",
              " 'Love it',\n",
              " 'Cool',\n",
              " 'first:<br />i received watch in good condition, however he battery was not working and i changed the battery<br />second:<br />i tried the watch to my hand but unfortunately was not amazing, it is for old ppl more than youth. i am looking to change the model .<br />i dont know if i can change irt from guess agent in Scotland/Edinburgh or not.',\n",
              " \"This is a good looking men's watch that would go well with most outfits, though it's leather strap pushes it to a more dressy watch. It's a simple watch with a day and date window. It is luminescent on the hour marks but not on the watch hands themselves, which is a little weird.<br /><br />I would be curious to see how long the battery lasts. Aside from the watch band wearing out, that would be the weakest part of this watch in the long term.\",\n",
              " \"It's a great looking product. One of the best watches I have ever seen. The quality is mediocre but that's alright. Just keep it out of water as much as possible and the leather should hold up alright.\",\n",
              " 'Good value product',\n",
              " 'Looks good. Not bulky. Keeps good time.',\n",
              " 'good',\n",
              " 'This is my 3rd Hadley Roma leather watch band. Others lasted 3+ years. Great quality and design at a good price.',\n",
              " 'Gorgeous, petite watch - goes great with my engagement ring ;-)',\n",
              " 'heavier than expected',\n",
              " 'All perfect!',\n",
              " 'I got this watch on June 8th . I wore it for three weeks and the watch band fell apart. I called Amazon about the repair and was told  I had to call the seller as the warranty does not cover the band. I have never  had a ceramic watch band thus  I  have never had this problem. The watch is beautiful but it servers no purpose if the band is no good. I will try to call the seller for repair.',\n",
              " \"This is an impressive timepiece that's ready for the business world.\",\n",
              " 'This product really surpassed my expectation. It was able to perform very well for me. I used it for my US Army Basic training and AIT. It never disappointed me and it was able to remain sturdy even after a series of rugged use. I highly recommend this product.',\n",
              " 'Love the Watch. Good Deal and works Good.. :-)',\n",
              " 'It is so cheap and gaudy, I will never wear it.  It was misrepresented in the picture and description. The picture is darling but the real thing is beyond cheap.  It will go into the thrift shop donation pile.',\n",
              " \"I bought surprised watch  gift for my daughter. It's beautiful and nice color. She really likes it.\",\n",
              " 'A beautiful and precision automatic watch。',\n",
              " \"Didn't like\",\n",
              " 'works good so far.',\n",
              " 'Great',\n",
              " 'Stopped working after one week. Have no idea why. Will try to return or exchange.',\n",
              " 'handy',\n",
              " 'Love fits good use it every day.',\n",
              " 'good',\n",
              " \"I'm late getting to the party, but after discovering Invicta watches I just can't get enough of them. There is a watch for every situation from dress to casual. After acquiring several of these in a short time, I can honestly say that I have not been let down in style or performance. I don't think I'll ever buy another watch that isn't an Invicta!!!!!\",\n",
              " \"The photo provided of this watch badly distorts the color of the band, which is in fact much lighter than pictured. It is so light, in fact, that it practically blends into my skin when wearing it. But, I can just replace it for a few bucks, right? Wrong. Skagen apparently uses a proprietary design for their watch bands, and they also don't sell replacements to third party dealers. As far as I can gather I would have to send the watch to them and pay whatever sum they demand just to get a reasonable-looking band.<br /><br />Save yourself the aggravation: Do not buy this watch, or any other produced by Skagen for that matter.\",\n",
              " \"Beautiful watch. Love Skagen watches, hope they'll keep up the quality now the firm's sold. Have had several compliments on the watch.\",\n",
              " \"Don't buy this watch.  It looked fine when it arrived, but back of watch has already begun to corrode.  The wrist band turns my wrist green.\",\n",
              " 'the dial looks so big compare to this iamge',\n",
              " 'very good.',\n",
              " 'Beautiful watch!  Great seller!',\n",
              " 'Battery or watch died less than 2 days after opening.',\n",
              " 'I bought one of these watches in blue and although it is big that is the trend right now.  It is definitely not cheap looking as the previous reviewer stated.  It is a gorgeous watch with beautiful colors.  I am not sure what she was looking for but I completely disagree with her review.',\n",
              " 'I like it!!',\n",
              " \"Love the looks, love the style..... it's a Seiko.\",\n",
              " \"It was a gift, I happen to like watches especially with many dials (which I will never figure out) I hope the receipiant may have that ability.<br />The Band is cool looking, so the dial and the band were meant for each other.A truly good looking time piece and well made by a company who has been doing this for many years.If you haven't guessed that name as yet I will now tell you,  &#34;TIMEX&#34;, the price is right, get yourself one.\",\n",
              " \"I love love love this watch it's beautiful!!\",\n",
              " \"Had it 2 mos and the battery dies. do they think i'm going to send it in for warranty or just go get a new battery. It must have been sitting around for years for the battery to go bad that quick. Buyer beware : great watch old battery\",\n",
              " \"So the watch stopped working almost as soon as I got it but it's so cute that sometimes I'll just wear it as a fashion accessory.  Not very practical but all in all a good buy.\",\n",
              " 'Its a great watch love tge color',\n",
              " '10 years old loved it.  Easy to use, water resistant, alarm, chronograph and has a light.',\n",
              " \"You get what you paid for. The watch is so thick that it does not look nice as it is shown in the picture.<br />It reminds of $9.99 no name brand watches at Walmart. The band's design is not practical.\",\n",
              " 'perfect! everything as expected! Thank you!',\n",
              " 'vary nice',\n",
              " 'My son loves it!!! Many great features, he said it is super comfortable, I would recommend it to everyone!!',\n",
              " \"I love this watch! Aside from being cheap, this watch fits perfectly my son's wrist. My first purchase was the gray one. Then I purchased blue for my husband. Now I'm planning to buy one for myself. It has a simple design and the size and thickness is just enough on my wrist. I really love this watch!\",\n",
              " \"Garbage product that should be sold in a plastic egg in a quarter operated vending machine. I'd give it 1 star but I accidentally got it to work before it fell apart.\",\n",
              " 'Absolutely amazing! Perfect!',\n",
              " \"I've had this blue Chicane for about 3 years now and own another 2 Orients and they are still some of my favorite pieces.<br /><br />The Chicane is the watch I wear most often. It works well in both casual and more formal dress situations, the blue face looks fantastic, the movement is high quality and the price is pretty much unbeatable. You really do get a lot of watch for your money. You can usually find Orient watches discounted throughout the web, so if you pay more than $150 for this watch, you've probably overpaid. That said, I'd stress again that the low price doesn't mean low quality. The watch is accurate and, despite the fact that I wear it everywhere and in all sorts of situations, the face has yet to scratch.<br /><br />The only negative in my opinion, is the folded-steel links in the band. They can pull the little hairs on your wrist occasionally. So a higher quality band might be something to look in to, although, despite the occasional pull, I've stuck with the OEM band for these 3 years and felt fine with it.<br /><br />Overall, it's a great looking and high-quality watch that, like all Orients, is a phenomenal deal. Highly recommended.\",\n",
              " 'work for a week dont broke',\n",
              " 'Bought 7 of of these as gifts for my groomsmen and they all loved it.  The watches arrived within 3 days!  Watch looks great.  For the price and quality it was a great deal.  The size is good not too big for a square face watch.  Read the instructions on how to set the watch as because it can be tricky.  The subdials are quite small but still readable, and for a watch under 40$ with day and date dials still worth the money.  2 watches did arrive with dead batteries, but upon contacting amazon, they refunded me a fair amount to purchase and install batteries on my own.',\n",
              " 'The watch is practical, stylish and very reasonably priced.',\n",
              " 'Great watch, really pretty, NOT water resistant. This claims that you can even wear it in the shower... however, one day of wearing it in rainy weather and the face is foggy. Other than that, I LOVE this watch.',\n",
              " 'Very nice watch !!!',\n",
              " 'Great looking g shock.',\n",
              " \"Horrible watch. Don't buy. The crown came.off after one year with minimum use.\",\n",
              " \"Fantastic if you need a watch and have Android phone. If i didn't want to wear a watch i'm not sure i would need it. Keep you from getting you phone out so much for new updates and texts and such. i like being able to change faces and colors. i'm just starting to download games and apps for it.battery life is one waking day. charger is cool.\",\n",
              " 'Perfect watch for my elk hunt.  Rugged.  Big.  Non-glare.  Amazing backlight.  Super light.  Super comfortable. Perfect!!!  Thanks Amazon/Casio.',\n",
              " 'Love the looks,quality  n sizes of watch. Unfortunately I could not get it working properly. After 3 days trying , send it back. I am sure it was me running out of patients.',\n",
              " 'Good',\n",
              " 'handsome watch. hands are a bit difficult to read.',\n",
              " 'After two months of careful wear the cap/screw that holds the wristband pin fell off (and was lost) - and being that I have missed the 30 day sellers return deadline I now have a pretty much brand new yet useless watch!',\n",
              " 'Excelent for the price.',\n",
              " 'Great price great look!',\n",
              " 'Good quality with a reasonable price',\n",
              " \"I wish it was less manly looking (yes, I know it is a man's watch), and I wish that you had the capability of setting two different countdowns, as I use this for work breaks, but I'm still pretty happy with the features.\",\n",
              " 'This watch stops working if left on dresser for over 2/3 hours. This is happening since it was bought. I am not sure if it is the issue with battery or something else. after giving a few shake it get back its life and there is a need to reset time date etc. NOT worth the time. Certainly it is very disappointing. I would not recommend anyone this watch.',\n",
              " 'I like it',\n",
              " \"It's a beautiful watch that I absolutely love, but it is running 3-4 minutes per month too fast.  It is expensive to fix.  I haven't yet looked into the warranty from Amazon, but it was a gift from my wife on our wedding I don't want to send it somewhere to have it adjusted.  I am just living with it for now.\",\n",
              " \"I was hesitant to buy this watch at first after reading the reviews about the band being too small. Now after receiving it I find that it fits me perfect! (By the way my wrist is not skinny). I work at a jewelry counter where we sell watches and this watch's band seems to be the average length of a normal digital woman's watch. Anyways, I'm happy with it.\",\n",
              " 'We looked at many clocks before coming across this one.  It looks very nice runs very smoothly/quietly.  We are very satisfied with this product.',\n",
              " 'great watch for gifting.',\n",
              " \"I got a deal on this watch at a local department store, but after I got home and read the reviews, my guard was up already. Well, less than a week into wearing it, I took it off tonight and my wrist was green. Ugh! Frustrating! These US Polo watches have great style and weight in a lot of cases, I just wish they would up the price by about $20 and put some real quality into them, like genuine stainless steel!  Some of the other issues I noticed include: pulling the crown stern in and out moved the entire movement inside the watch, the analog and digital times were off by more than five seconds within a week, the stopwatch time was hard to see in most lighting conditions, and, as others have undoubtedly mentioned, the bezel doesn't actually rotate. I don't expect much for the low price these watches are sold at, but several of those problems I listed are real deal breakers in my book, so back it goes tomorrow.\",\n",
              " 'good quality. on time',\n",
              " 'LOVE ITTTTTT!!!!!!!',\n",
              " 'Love love this watch fits nicely on my hand. Got lots of compliments on it 😆',\n",
              " 'nice watch what you see on the picture is what you get',\n",
              " \"nice but it's a really noisy watch.<br />you will hear it all time... literally every second ...\",\n",
              " 'Good looking and smart! Works like a charm.',\n",
              " 'Good for work',\n",
              " 'The strap was well made, however, I had ordered black and it was a dark brown.  Returned for a refund which I received quite promptly.',\n",
              " 'Very stylish; looks good on my wrist. Lots of compliments. A good buy.',\n",
              " 'Looks awesome.',\n",
              " 'I love it. I did not know that it glows in the dark. That was a nice surprise.',\n",
              " \"All I can say is this is an amazing watch. It's nice and heavy and looks and feels so expensive! I bought it for my boyfriend for his birthday and he loves it!\",\n",
              " \"I love this watch. It looks professional and stylish without being ostentatious, and actually looks awesome with my glitzy but delicate engagement ring, adding a hint of classic menswear. It's sturdy and you really can't beat the price, plus I have relatively narrow arms/wrists and the size is perfect. It has a really nice weight to it and everyone always thinks it's much more expensive than it really is.\",\n",
              " 'Bought it for my girlfriend, she loves it. She works in the health bussines so she needed something easy to clean, that could get wet and that matches her uniform. Great watch and theStar Series on the dial gives the watch a nice look.',\n",
              " 'muy buen producto',\n",
              " \"My wife really likes the cool blue silicon wristband and watch face on this Armitron sports watch. It's stylish and fun. It has many holes for adjustment, so even very small wrists should find the proper adjustment (our four year old could wear it comfortably). The setup was fairly simple and standard, with two time zones able to be set, a stopwatch, countdown timer, and alarm. The weekdays on the display are very tiny to read, and makes the display seem a little cluttered or crowded. It is easily visible under water, with little to no glare, and seems a solid sports watch with no frills. While you can wear it in pools and the ocean, you can pretty much predict that if you do that often, the bands will degrade and discolor--but then again that's why you wear your sports watch and not a nice one. Also sunscreens etc, are unfriendly to watch faces and bands.\",\n",
              " 'Very nice watch for running',\n",
              " \"I wasn't expecting much for the price....It came on kind of a cheap necklace type chain, but the watch itself was actually a lot nicer than I had ever expected.\",\n",
              " 'Nice',\n",
              " 'I was looking for a Seiko for my husband.  He likes it.  Wish the face was glow in the dark but other than that it fits the bill.',\n",
              " 'Nice',\n",
              " 'love the look just too big for my wrist.',\n",
              " 'Good qualities and a great seller.',\n",
              " 'I am very happy with this purchase.  I have had it for a month and have used it to adjust the length of 4 watches so far.  Very good quality.  Easy to use.  I have saved a lot of money by not having to take my watches to the jewelers to have them shorten the watch bands.  I would recommend this purchase to anyone.  Delivered on time and without problems.',\n",
              " 'Great watch I love it',\n",
              " \"I got this for my daughter for her 7th birthday and she was so excited. She has worn it everyday since receiving it. The watch fits her perfectly, with plenty of room to grow.It looks different from different angles, this makes her so ecstatic.she told me that this was the best gift she'd ever received.\",\n",
              " 'Gift for someone, I cant really comment on it.',\n",
              " \"Great watch! I've had the watch for almost 4 years with no complaints. Looks great, really durable, first battery lasted over 2 years. The light works great and sometimes you'll need it during the day to read the time. The all black can be a little hard to read at times, but the light will is sufficient to help out. Worth every penny!\",\n",
              " 'Soft, durable, comfortable band, and the face looks exactly as it does here. Reduces glare and the light up feature is great.',\n",
              " 'Love this watch! Got a great price and quick delivery.',\n",
              " 'Battery died in 2 weeks!!!!!!!',\n",
              " 'Good Product & good seller',\n",
              " \"I absolutely love the design and the quality of the watch materials. When I received the watch, it was set correctly so I did not have to make any adjustments to the date or day for almost 2 months after my purchase. Sadly, when I went to adjust the date because it was off from having a shorter month, I found out this part of the watch was broken. I do not wear it often and am not rough on it (primarily worn in an office setting). The band and watch face still look close to new, so I'm assuming the dial was broken when I received it and I realized it too late to return it. This is the third time this has happened to me when ordering a watch through Amazon. I absolutely love Kate Spade designs and they are generally of a superior quality, but when ordering on Amazon, you typically get a product that looks or functions like an item that was rejected by the maker because of minor dysfunctions. The gold-on-gold color make the watch slightly harder to read and the date dial is quite small, but the pink hands really help with visibility. The leather on this strap is very thick, which takes some adjusting to if you are used to wearing lower-profile watches. It is also a light enough color that if you are wearing it to work and are rubbing up against printed materials, the band will get a slight discoloration from the ink. The watch face is large, as other reviews suggest. I have a medium sized wrist (~ 16 cm), but it does not look too large on my wrist. When wearing it, I can definitely feel that I have a watch on, but the size makes it look like a nice statement piece.\",\n",
              " \"I really wanted to love this watch but I don't.  Compared to the women's Timex Ironman Triathlon watch it is replacing:<br />1.  The watch is much heavier and bigger.  I really notice the bulk and weight on my wrist when I'm working out<br />2.  The date display is goofy.  The year is displayed first.  Duh - who doesn't know what year it is?  The month/date has a small display which is difficult to read at times.  I went all through the instructions to see if I could change this, but could not.  The Ironman defaults to DAY of week then the DATE of month.  That's what I need, and I need it to be displayed clearly.  Done.<br />3.  The display of the Casio can be difficult to read in bright light conditions.  I don't know if it's my sunglasses, the glare, or what.  But I don't have the same problem with my Ironman watch.<br />4.  This watch is double the price of the Timex Ironman.<br /><br />I prefer the lighter/smaller Timex with easier to read display for half the cost.  My Casio is collecting dust on my shelf, although I will admit it looks nicer than the Timex sitting there.\",\n",
              " \"I've had it a month so far.  It's not as high quality as the old one but I like the design.  Very convenient as a bedside alarm.  I find it loud enough, contrary to other reviews.  Quality is okay.\",\n",
              " \"Had not noticed that this is the very large watch face and band. I like the watch face fine though it's bigger than I anticipate. Silicone band seems cheap and it's stiff. Put on a leather band that I had for my other watch which was a smaller size, but made the band work ok.\",\n",
              " 'Great key. Works well and does exactly as it should. Solid Construction.',\n",
              " 'Bought this watch in 2014 and wear it at least 75% of the time including in the shower, running, hiking, kayaking, swimming, and all other sorts of activity. It only recently &#34;broke&#34;. Honestly, the circle piece of the face came off, but the watch still functions perfectly. Picture shows what I am talking  about. Purchasing another one and hoping it will last another 3 years!',\n",
              " 'A+ deal, love the band.',\n",
              " \"It's not keeping good time\",\n",
              " 'Not what I expected....',\n",
              " 'good',\n",
              " 'Good Nice watch',\n",
              " 'coolest watch ever',\n",
              " 'Extremely well I made watch. It even has a solid stainless link bracelet. Deep dish dial and very beautiful.',\n",
              " 'Amazing',\n",
              " \"it 's good watch . I wear when I work. it light and look style.thanks\",\n",
              " 'I am extremely pleased with the product.  Excellent watch!',\n",
              " 'Nice desing. I love this watch.',\n",
              " 'its good',\n",
              " 'Nice',\n",
              " 'Too tight.',\n",
              " \"It pains me to rate this watch with 1 star because I love the way that it looks and wears, but if I'm being honest with you and myself, it's a P.O.S.  I'm not a watch snob, in fact this is the most expensive watch that I've ever purchased ($190) and it's been the worst experience I've ever had with a watch. I purchased from the seller Area Trend on Amazon so I can only assume that it's an authentic Luminox but wouldn't be surprised to learn that it's a fake/knock-off/refurbished. When it arrived it wasn't running...Tap it and it would start running...a few hours it would stop again.  I sent it back and they sent me a new one (I had to pay for shipping and wait a couple weeks).  About 3 months later the exact same thing begins to happen...stop periodically and start back for a few hours.  Rather than send it back to wait several weeks and pay shipping again, I took it to a watch repair shop thinking maybe it's a bad battery connection but I find out that it is a faulty mechanism and required a new one.  My watch repairman orders a new mechanism from Luminox and installs it for about $65. Here we are at about 10 months later (owned the watch for a total of about 15 months) and I look down at the watch and the second hand has fallen off and is shaking around loose under the crystal. I'll take it to the watch repairman again, get him to fix it again, wear the hell out of it till it screws up again, but I would never buy this watch again.  Very disappointed in what I thought was going to be a cool watch to own.\",\n",
              " 'love it. ellegant sleek, and ferrari',\n",
              " 'The smile on my significant others face was worth the cost the watch was prefect better then I expected',\n",
              " 'Better quality than picture sugests...',\n",
              " 'Happy with product',\n",
              " \"Very nice watch. I get compliments all the time and everyone asks where I got it. This is an excellent watch for business/formal types of gigs that doesn't break the bank. Not heavy on the wrist.\",\n",
              " 'Perfect size, light weight, and matches almost everything. A negative is it ticks loudly.',\n",
              " 'Pretty much what I wanted, disappointed with the band. Very stiff, and the end was squared. Hard to feed through buckle.',\n",
              " 'great watch',\n",
              " \"Love it ! ; got it for my lil brother & it looked just like the picture & didn't look or feel cheap. Only bad thing is I got it to help him tell time however the numbers are extremely small\",\n",
              " \"This is a nice sports watch.  Bigger than it looks on the picture, so it want disappoint if that's one of the desires in getting it.\",\n",
              " \"I wasn't able to get this to work. At all. So it's sitting in a box somewhere.\",\n",
              " 'Very nice and reasonably price!',\n",
              " \"The Swiss Legend World Timer is a nice higher end quartz movement watch with dressy looks and nice functionality.  The watch is BIG coming in at 48.5 mm case diameter so this is basically a large man's watch.  I would say it wears small-average for it's size but again it's a big watch.<br /><br />It does have gold accents on it but it doesn't come off gaudy at all.  Overall I highly recommend this if you are looking for a large men's quartz watch for dress occasions.\",\n",
              " 'Good!',\n",
              " \"Gorgeous watch! Works fantastic. The dial is of the right size for my not so monstrous hands (7&#34; diameter at wrist - Left Hand), if you have big arms, this may look tiny. The two tone double lock metal strap is gorgeous. It has polished center links with brushed finish links on either side. I had to remove 3 links to fit well on my wrist. There are 5 more links that can be removed to fit ones wrist (so a total of 8 links can be removed to fit ones needs). Hope this gives you an idea of the range of wrist sizes this can fit. I love the big Yellow stop watch arm. All are screw in buttons and knobs, what I mean by that is, you have to unscrew the rings by the two buttons at the top and bottom and the ring at the center knob to make it work. Once you are done using the knob and the buttons make sure to screw back the rings tight, this I suppose makes it water tight. The small dial on the left is your seconds dial, the one at the bottom is your alarm and the one at the top is your stop watch dial. Surprisingly all of the arms fall right on the marker lines when they work, may be I got lucky or may be the quality of the product is that good...I don't know! The hour/minute arms and the main dial has fluorescence on them to aid in visibility in dark surroundings. I have owned this for little over 2 weeks now! The dial is supposed to be used to measure 7 or 8 different parameters, I haven't had a chance to do any of that...Sorry! I have to say at least three others in my work place have bought this piece in the past 2 weeks since they saw this on me!\",\n",
              " 'Great product.',\n",
              " 'I was very disappointed that the &#34;illumination&#34; is limited to the teeny tiny little LED section of the watch face.  Not useful at all for nigh time display.',\n",
              " 'Recommended ...',\n",
              " \"Nice watch, a little complicated getting set up, but has nice features, probably more than I'll ever use. Great looking!\",\n",
              " 'good',\n",
              " 'Automatic movt,mop dial,open heart,44 diamonds,butterfly clasp,and on. This was an anniversary gift for my wife. The diamonds may be small but in the light- WoW .',\n",
              " 'Great watch...great price...great delivery...',\n",
              " \"The wife likes it n she's happy with the watch\",\n",
              " 'Very nice',\n",
              " \"Little upset....the hands don't match up with the hours and minutes...sad ...because it's a beautiful watch that I can't wear.\",\n",
              " 'Excellent watch for the money. Sharp understated design. Particularly good if you have a smaller wrist. Hard to find a Chronograph for small wristed. This one fits well!',\n",
              " 'Great Box for the Price',\n",
              " 'Awesome and Quick..Thx',\n",
              " \"This watch looks good and real leather band but when you take it out of the package it feels cheap, lightweight, and you begin to notice the lack of beefiness, and masculinity points dropped. It lacks weight, but it would be good for someone that needs a watch that is light weight, has visual appeal, and isn't concerned about it getting chewed up or broken.\",\n",
              " \"Just like in the picture but the textured dial isn't as shiny as you think it is but still shiny.\",\n",
              " 'Beautiful watch in almost perfect condition. Such a great deal compared to the regular price on this watch.',\n",
              " 'the nice watch',\n",
              " \"Bought this as a gift for my grandfather, its beautiful and looks just as nice and high quality as the more expensive ones! He loved it, great gift for men, who can be so hard to shop for. It's something they wouldn't buy for themselves but can still appreciate and use!\",\n",
              " \"This is a gorgeous watch. I almost canceled my order because I was scared it might look to masculine for my female wrist. Im glad I didn't. The combination of colors with the grey polished metal face, stainless steal bezel and black croc band gives it a nice rich look. I have an average female wrist and it fits fine. What doesn't show on the pic or video is the number markers are indented into the metal which plays beautifully in the light. Its a steal for the price and works for a man or a woman.\",\n",
              " 'Its Great!!! So beautiful.<br /><br />Totally recommended. My mother loved it',\n",
              " 'Its really nice and it looks good to me. Thumbs up!',\n",
              " 'Beautifull watch im very happy with this piece actually i want the 1020 model, is the same white instead orange',\n",
              " 'The watch itself it fine, but the watch band is too small.',\n",
              " \"Loving it.  Works fine, easy to set up, etc.  I used to have one of these when I was a kid, so it's the nostalgia that's really got me going.\",\n",
              " 'Very eyecatching obviously.  I found the back of the watch to have a bunch of different metal pieces which uncomfortably dug into my skin.  The weight of the watch, while noticeable, is not unbearable.  The band got quite discolored around the area of the clasp.  Mine is grayish black now besides being orange.',\n",
              " \"Love the look and function as advertised. Couldn't beat the price.\",\n",
              " \"I was looking for a watch with a brown strap that had a somewhat timeless look.  I almost went for a chronograph just because I love the way they look but for the price on this watch I couldn't pass it up.  This is a nice addition to my very small collection and it's my first automatic.  I only wear it once or twice a week but setting the time and date only takes 30 seconds so it's not a big deal.  I first thought the inscription on the band was cheesy but the more I thought about the words &#34;without liberty life is a misery&#34; the more I wanted the watch.  The inscription adds a little flair to an otherwise simple yet sophisticated watch.  The band has variations in the brown color so this watch can be paired with light brown shoes/belt as well as dark burgundy / oxblood shoes/belt.  It fits well and looks great.\",\n",
              " 'Beautiful.',\n",
              " 'like them.',\n",
              " 'Good looking watch, very comfortable, great price',\n",
              " \"not a bad watch but don't use it on water or else the it will stop working\",\n",
              " 'Love it and works very good! Looks exactly as pictured and love wearing.',\n",
              " 'My favorite features in a watch, now available  in Vikings colors! Love love love!',\n",
              " 'Very nice and simple!!!!',\n",
              " 'Beautiful watch that is even nicer in real life. When first received placed on window sill for about two hours and has worked great since. Strap doesn’t pull arm hair and fit great right out of the box. My only issue is that the hands or numbers are not luminous. This was an oversight by me and should have checked before I ordered but no fault of Amazon or seller so they shouldn’t incur the cost of shipping to exchange. Overall a good buy just do more research before you order to be sure what you select has all options wanted or needed.I plan on keeping as everything else is perfect.',\n",
              " 'the band looks good but it was a bear getting the links out to resize it without the holder to keep the band aligned while removing the extra links.',\n",
              " 'Excellent Product, competitive price and quick delivery.',\n",
              " 'GREAT WATCH & VALUE, VERY COMFORTABLE TO WEAR',\n",
              " 'This band fits my watch well and I expect it to last a very long time.',\n",
              " 'The crown and stem fell out within 48 hours. The replacement watch HAD THE EXACT SAME PROBLEM! So very disappointed with this model, which is a shame.',\n",
              " 'Good quality band but it is about a half inch too short.  I can use it as is but it would be comfortable if it were a bit longer.',\n",
              " 'Amazon sent me a broken one which I returned. These subaqua specialty watches are normally very good though!',\n",
              " 'Good',\n",
              " 'love this watch color',\n",
              " \"I like the watch but I don't like the buckle on the watchband.  It's cheap plastic.  It would be better if it was made of metal.  Also, when searching for a replacement watch band, it is impossible to find a better upgrade.  All I could find to replace the band with, if I ever had to, was the exact same cheap band that it came with.  If not for the crappy band, I would have given this watch a 5 star rating.\",\n",
              " 'So far I have used the watch for a week. Looks clean and simple to use. The weather function is simple and on point so far. The band is comfortable and holds nicely without the end falling out of the loop. Havent used all the other functions yet, so I couldnt rate this watch five stars.',\n",
              " 'The band is super small...the watch head-is much bigger-I really help-the band would fit the &#34;watch&#34; size...A bigger band would make it more appealing...for the price-you would think the band would be larger..',\n",
              " 'Amazing watch, Love every aspect of this thing and especially for its price. So worth it.',\n",
              " 'Works',\n",
              " \"It's not really blue at all...\",\n",
              " 'Love this watch. I actually purchased it for my son. It’s awesome.',\n",
              " \"I recently went shopping for a new watch when my old Timex band started cracking after 8 years. Duct tape works ok to keep it together but I needed something that looks good on my wrist.<br /><br />I went to Target looking for a new band and I decided that for a few dollars more I could just buy a new watch and use the old one for yard work and working out.<br /><br />This model met all my requirements. I wanted a clean easy-to-read design with date and day, a comfortable brown leather band and a face that lights up clearly in the dark. So far after a few weeks I have been very happy. It looks as good as my $150 Seiko at a fraction of the price as well as keeps good time. It's still accurate to the second since I first set it.<br /><br />I am a medium to large man who normally can only get the last notch buckled in most watch bands. This band will buckle to the second notch. The advantage of leather is that it CAN stretch, so don't worry if you have large wrists. A few minutes soaking the band in water will let it custom fit even the largest of wrists.<br /><br />Design wise this watch has a nice clean legible design. I'm not going SCUBA diving or orienteering in the woods. I just want a nice stylish watch that will tell the time accurately at a glance without the distraction of nonsensical mini dials. The smaller case still looks good on my larger than normal wrist and doesn't catch on doorways or sleeves like a large bulky case would.<br /><br />I've always had good luck with Timex watches since I was a kid. Good quality for the money. The only reason I have an expensive Seiko was because it was a gift and I only wear it for formal occasions.<br /><br />Like the old ad says, it takes a licking and keeps on ticking...\",\n",
              " \"I love having this watch!  Make sure to allow it to charge in the sun when you first get it because it's solar.  You will lose some of the functions if it's not charged up properly.\",\n",
              " 'This automatic watch keeps great time when worn regularly or placed on a winder. Holds time for at least 48 hours. It looks great....face is a darker blue than pictured under normal light conditions, but a bright blue in direct sunlight. The upper crown controls only the day of week, which can be set in English or Spanish. The upper crown screws down, but not as securely as the main crown.<br /><br />My only knock is that the band pinches the skin and hair on my wrist... plus it has that unsightly dolphin emblem. Do yourself a favor and either buy this watch with the metal band or replace the one that comes with it. I replaced it with a metal band for less money than it would have cost to buy it that way.',\n",
              " \"I'm preparing to do my clinical rotation next month and this is a great, inexpensive watch for me to help take vital signs manually, such as tracking  pulse and respiration measurements using the second hand.  The interface of the watch is big and clear so I can keep track of the seconds without having to squint my eyes closely at the watch.  In addition, the company was very responsive when I reported that my watch had a stain on the interface, which they quickly replaced for me with a new one that came in a week later.  The band is kind of stiff, however the resourcefulness of the watch to help me take manual vital sign measurements is more of an important purchasing factor for me.\",\n",
              " 'A bit flimsey',\n",
              " 'Nice time piece. Keeps precise time and is sturdy to wear daily. Not super big like some.',\n",
              " 'great watch for referee.  super fast shipping!',\n",
              " \"I've been wearing versions of this watch for about 20 years.  It's easy to use, easy to see the display, comfortable, reliable, and affordable. The small &#34;downside&#34; is that this watch is very ordinary.  Like the title says, it's the Corolla of watches.\",\n",
              " 'good, A little big',\n",
              " 'Worked great. Hope to get another 10 years from my Casio G-shock watch.',\n",
              " 'awesome!!!',\n",
              " \"Cute watches for the prices. They are huge so if you have a small wrist you'll need to get some links removed .\",\n",
              " 'I like the watch it looks nice and fits comfortably on my wrist. But I was looking the watch over and noticed that it is advertised as being Swiss quartz movement and the watch I received is a Japan movement. This concerns me some as I am not sure what exactly this means as far as why mine is different than the one advertised.',\n",
              " 'Nice watch. Not what I was expecting but that is not the sellers fault.',\n",
              " 'The time knob is difficult to operate. The design could and should be improved.',\n",
              " 'Returned it as it did not work!',\n",
              " 'My wife is a dental hygienist and she loves her watch!',\n",
              " 'All of the G-Shock watches are great. This particular one is of the same quality. They are very hardy watches and can withstand a beating. Definitely a good buy for this price.',\n",
              " 'This watch is just awesome..',\n",
              " \"Seems like a nice watch and easy to read. Still unraveling the connection with the Seafire; now that I have the watch, I looked on-line at a Seafire's instrument panel and specifically the clock, the face doesn't really look like this at all. By the way, this is the stiffest leather watch strap I have ever encountered, hopefully that bodes well to longevity.\",\n",
              " 'My mom LOVES this watch. The band is very smooth...',\n",
              " 'cool watch, slim and big dial. Looks great',\n",
              " 'Looks great, came super fast. I would recommend.',\n",
              " 'I bought it for my 7 year-old niece and she loved it so that makes me love the purchase as well!',\n",
              " 'it is beautiful and it works just fine',\n",
              " 'only used two days, one of the lug was broken.',\n",
              " 'Good!',\n",
              " \"This is a great watch and I very much enjoy wearing it. I wear it almost all the time unless I am working in the yard or doing something where I wouldn't want it scratched or damaged, though I have no reason to believe this watch can't handle almost any situation. The black light does illuminate the number dial sufficiently, but as others have said, it doesn't illuminate the hands very much, and definitely doesn't illuminate the LCD screens at all. The watch is pretty large, so if you have small wrists (I have average wrists) this watch may feel rather large.\",\n",
              " 'bangles seem like they wont last, but im watching closely',\n",
              " 'This watch is beautiful!  Way better than the picture... and the pic is fab. I love it!',\n",
              " \"It looks good and in the rose gold it is definitely an eye catcher!! Enjoy wearing it too. It looks great with my MK rose gold metallic Cindy large satchel handbag I also purchased on Amazon Prime a few months back. I'm a Prime shopper for sure!\",\n",
              " 'Great item... excellent price',\n",
              " 'I wanted a good watch for a value price to wear playing golf and this is a beaut!',\n",
              " 'junk',\n",
              " 'My husband loves it!  Excellent product!',\n",
              " '👍👍👍',\n",
              " \"No instructions, couldn't get it to work.  Useless\",\n",
              " 'Very nice watch! Very comfortable to wear.',\n",
              " 'Lots of compliments...',\n",
              " 'great show watch',\n",
              " 'A very solid, good looking watch. It was given as a gift and was loved by the recipient. The Mother of Pearl face makes this watch stand out above others. So far it has kept perfect time. The solar feature is great. No more batteries to replace.',\n",
              " \"the vibrating alarm doesn't vibrate for a long period of time - the vibrations turns off after 2 vibrations.\",\n",
              " 'My husband loves it and it does look very classy.',\n",
              " \"I got one of these beauties.  Looks nice, the outside is very high quality.  The rest is the opposite.  Cannot figure out how to hack the watch to synchronize the time, despite the user's manual.  The time is hard to tell, one has to search for the hour hand of the watch, because the three dials are mostly black or dark, same as most of the hour hand.  Worst of all the big red 60 second counter hand which jumps perhaps every second, does not line up with the 60 hash marks on the dial, but only about half the time.  Guessing, either the 60 second counter hand jumps at different intervals and they are not equal, or the hashmarks on the dial are not spaced equally. After nearly 162 years of watch making, a manufacturer should be able to divide the circle to 360 equal spaces and also should be able to make a second hand jump exactly 1/60th minute, every second. Operating the watch is NOT intuitive, the three time measuring dials are impossible to zero once.  The watch measures, stops, as if has its own mind, one may need a six month course to learn how to operate it. Question:  Why Tissot cannot fix the shortcomings of the watch, as I am sure they read the watch collector's blogs and many dozen people point out the same thing, I did above.  I have over two dozen watches and this will be the first one I get rid of, gladly.\",\n",
              " 'I got this on another website in Dec. 2014.  Very adorable watch. I loved it. Note, the past tense. I watched my hands and rinsed off dishes (no deep water immersion), ordinary daily routines. Somehow water got into the face, and it stopped.  So be very careful of not getting it wet, the water may leak in.',\n",
              " 'so far so good,  it is a good looking watch.  With all the necessary features one needs.  only drawback is the date window, the date is awfully small.',\n",
              " 'Good but fogged up after a few months and could not read face.',\n",
              " 'clock meets all expectations',\n",
              " \"I've been eyeing this watch for months now and i love it!!\",\n",
              " 'Very good',\n",
              " 'Perfect timepiece for me and to top it all it came as a water resistant watch. The compass is not always acurate though but thats not nothing to complain about because the watch has real 24hour operation',\n",
              " 'Everything you want in a $16.00 watch and more!<br /><br />No, really a useful, serviceable timepiece. Works great.',\n",
              " 'The watch came in a timely manner and in an absolutely beautiful box. The watch itself has a gorgeous antique styled face, the winding action is precise and tight and the casing is a total conversation starter. This watch is easily worth twice the cost.',\n",
              " 'Love it',\n",
              " \"It's ok\",\n",
              " 'This does not work with the IPhones',\n",
              " 'Perfect fit for my casio g shock watch model 2608.',\n",
              " 'My 9 year old son loves it. It is a bit large on his hand but not too bad.  update: lowered to 2 stars.. 3 months have passed since we bought it. A couple of times when my son took it to the pool it got condensation which prevented seeing anything on the screen and this lasted not a few minutes but a day or so.   Now it just stopped working altogether.',\n",
              " 'its okay kind of plain',\n",
              " 'Fit perfect',\n",
              " 'I also ordered the Batman watch and instead received the Superman watch.  Do not order this item if you expect to get what you ordered.',\n",
              " 'Great watch, amazing features!',\n",
              " \"Great product...5 star for quality... 5 star for being, and looking like the pic. This watch is sturdy and has lasted longer than any of the cheap plastic watches I've usually purchased in the past. I am typically the destroyer of watches because of my job but this one is still going strong and that is a lot to say for someone like me who usually breaks them in about a month. You won't be disappointed with this one!\",\n",
              " 'Very pretty watch with an easy to read big dial.  I have a very small wrist and it fits perfectly.  Very happy with this purchase.',\n",
              " 'Terrible quality and cannot be programmed without the instructions and the instructions that came with it were in Chinese. Terrible purchase.',\n",
              " \"I generally love Time Indigo but this one has been a disappointment. The Blue band started fading within a few weeks and I've lost time several times. I have not yet determined what caused that since it is not constant just occasional.\",\n",
              " 'very good',\n",
              " \"We purchased this watch for our son (just turning 10). It is a great watch and he loves it. I only rated it as a 3 instead of a 5 because the band was rather long. The watch is identified as a Kids' watch however, the band is as long as my own Casio (AQS800W-1B2VCF). Also if you search the model number for the &#34;kids&#34; watch it will show up twice, labeled as a kids watch and as a men's watch.<br /><br />In short, I think it would be fine for a kid 10 years or older. A younger child may have too much of the band overhanging.\",\n",
              " 'Very pretty, elegant',\n",
              " 'I needed this to replace the far too small original brand on my LG G Watch.  Perfect length for me!',\n",
              " 'Very pleased.  Beautiful watch and very fast delivery.',\n",
              " 'Nice watch, on time delivery from the seller.',\n",
              " 'Love this watch it is my third Invicta from Amazon , however it worked for a week then would not keep time, I was on the road so had a new battery installed to see if that was the problem, No,  So I have shipped it of to Invicta with the $28 check  know we will see what happens .<br />My other two Invicta`s have been great. keeping good time.',\n",
              " 'Great watch for a amazing price!',\n",
              " 'Just whatI was looking for',\n",
              " 'Very nice looking watch.',\n",
              " 'This is a beautiful watch.  I have worn other watches by Kenneth Cole for years.  This is just as nice of quality as previous styles.  The rose color is softer than some other brands and looks more delicate and professional.  The numerals on the face are Roman and that also adds character to the watch.',\n",
              " 'Bought this watch as a birthday present for my boyfriend and he absolutely loved it!',\n",
              " 'Nice and strong',\n",
              " 'All perfect!',\n",
              " 'Bought this for my husband for our 7th anniversary. It really is a cool looking, trendy watch that fits his style very well.',\n",
              " 'Very classy, a little spendy, but you get what you pay for. My son loves it.',\n",
              " \"No complaints. It's incredibly light and it tells the time.\",\n",
              " 'She loves it.',\n",
              " 'super',\n",
              " 'Works will with my watch.Thanks',\n",
              " 'I love it. Really nice.',\n",
              " 'super slim and chic. I gave it as a gift and it has been getting raves - from the recipient and non-stop from her friends.',\n",
              " 'I had a watch just like this but it was blue and the rubber broke and I liked the style and brand so much that I bought another in my favorite color. It is waterproof to a certain deep depth and the packaging confirms that. Has a speed timer, an alarm, a secondary time as well as the normal time and day month and year.',\n",
              " 'Super nice',\n",
              " 'Like the style',\n",
              " 'For forty bucks, this thing is solid and BEAUTIFUL!',\n",
              " 'A great watch.',\n",
              " 'I love it, very comfortable. Feels weak in the bracelet.',\n",
              " 'love it --came alot faster than noted too!',\n",
              " 'excellent watch',\n",
              " \"I haven't been impressed with this watch since I purchased it 4 months ago.  First, like others have mentioned, the metal band squeaked a lot when I first got it -- it was very annoying to constantly have a squeaking noise coming from my wrist when I moved.  I was able to silence the noise with a few shots of silicone lubricant.  Second, the watch does not keep time very accurately, even when I wear it every day, sometimes winding it if I have had it off for more than a few hours.  In my case, the watch gains a few minutes every few days.  Third, despite the beauty of the watch in the photo, in reality it is very hard to see the silver hands against the silver background -- just glancing at it to see the time isn't possible; you have to look at it for several seconds to distinguish where the hands are, and which hand is which; I hate wearing it in low light, and often I only choose it wear it (as opposed to my other watch) if I'm going to be outside where I can see the face better.  Finally, and most annoying, the crystal somehow became chipped under normal wearing conditions a couple of weeks ago, and now it has moisture in it.  In all my life of wearing watches, I've never had a crystal chip; and I know I didn't do anything outside of normal use.  So now, because the crystal isn't covered under warranty, it's going to cost $45 for repair.  I've had a lot of watches in the same price-point as this watch during my life, but never one of such poor quality.  I won't be buying a Relic watch again.\",\n",
              " \"That's what I want\",\n",
              " 'Love the watch, pretty colors.',\n",
              " 'I have had some version of this watch for 30 years. There is nothing better. The countdown  timer is a must for me. Thanks for keeping it available!',\n",
              " 'Exactly what I needed and wanted. Awesome and great price!',\n",
              " 'Band is impossible to shorten. Uses very tiny screws. I bought a 0.8 mm screwdriver and could listen it.',\n",
              " 'Looks as is as shown. Packaged well and was shipped promptly. Quality looks good so far. Definitely Recommend it!',\n",
              " \"Shipping?... Less than two days!<br />This watch is really nice. Reminds me<br />of a Panerai Daylight.<br />Works fine, I'm happy with it.<br /><br />Thanks Amazon\",\n",
              " 'Watch looks great and was easy to use.  My wife loves it',\n",
              " 'Love the watch!  Beautiful, bright and clear display.  This is my work and snorkeling watch.<br /><br />This is not a con.  I knew what I was buying.  I wish that Armitron would also make sleeker LCD display watches with large numerals for more normal wear.<br /><br />If you want an all around good, and very legible LCD watch, I can only recommend it!<br /><br />Bernie',\n",
              " 'Excellent quality. Solid. Would highly recommend.',\n",
              " 'Wife loves it.',\n",
              " \"Great watch for everyday use!  It is big enough to see the time even without putting the watch directly in front of your face... so if you need a watch that you can look at subtly (if you're on a bad date), this is the watch to get! : )\",\n",
              " 'The picture of the watch on Amazon showed chrome plated hands on the watch.  The watch arrived with grey metal hands on the watch which make it somewhat difficult to read in low light conditions.  Otherwise it is great!!',\n",
              " 'Great',\n",
              " \"Great Genuine Casio Watch!<br />-Japan made (Quality Wise)<br />-Easy to setup<br />-Classy look (Thanks to its retro design and gold tone)<br />-It's for MEN! (Thanks to its black frame color and band design)<br />-A must have model of Casio because it's very hard to find in any local store or atleast just in Australia.<br /><br />Delivered a little late than expected but did refund the shipping fee (Carrier issue, not the seller). But very satisfied with the watch. Thanks!\",\n",
              " 'Sun permanantly turns it browninsh. Forget it.',\n",
              " \"I loved the face of this watch the moment I first saw it.  It's clean and bright and keeps good time.  I also love the fact that i don't have to wind it.  Yesterday I was sitting in a restaurant in Los Angeles and a lady passed by my table, stopped, stepped back and said: &#34;Nice watch!&#34;\",\n",
              " 'clock meets all expectations',\n",
              " \"I bought this watch from Amazon as the seller. So I will first review the Amazon experience, then the watch itself.<br /><br />It's quite difficult when it comes to rating Amazon, thing is the experience I've had with them over the years is incredibly positive. What I can  say is, the watch is authentic and I had it inspected by a Tissot shop. The packaging was great and the watch box had all the catalogues with it. When the seller is Amazon, buy with confidence.<br /><br />The watch itself is really a true piece of art. The blue dial and the outer black case with the white numbers all come together in perfect harmony with the stainless steel bracelet. It's subtle and a looker at the same time. It's not small whilst not too big either. For me it's about the perfect size. It's a bit heavy, but this only adds to the great feeling you get when you wear it. The thing I love most about this watch, is that with a quick glance, you get the time, day and date. I definitely recommend this watch.\",\n",
              " \"It seems to be a very cheap watch.  Accurate time keeping isn't possible.  Band fell apart after 3 weeks.\",\n",
              " 'I love this watch but within a month, the clasp has broken. Really disappointed!',\n",
              " 'OK so I have had this watch for a few days now and I can easily say is the best cheaply priced watch I have ever owned. It fits comfortably on the worst and it has some weight to it but not too much. Just enough. I have gotten multiple compliments on the sport amount of time I have had it.',\n",
              " 'Love the watch I will buy another one',\n",
              " 'My wife loves this watch.',\n",
              " 'Nice. Loops are properly placed for extra strap length. Heavy weave.',\n",
              " 'Good watch links scratch easily',\n",
              " 'The band is made out of some type of plastic and when it arrived weeks later the band was stained or had some type of water damage.. Got a full refund so happy at the end. ✌🏽😄',\n",
              " 'Very nice watch for the money!',\n",
              " 'Disappointing!  After receiving the watch, reading the manual, and setting the city and Day Light Savings Time.  The auto setting for Day Light Savings time did not work.  The watch also was turned toward the west sun for 4 to 5 hours for two straight days, yet it never left M (medium power setting) designation for the solar battery.  It should have moved by the end of the first day to H for high battery power.  I returned the watch to Amazon, and received a full refunded of the purchase price.',\n",
              " 'Very fast shipping.  The watch strap was like described. I have a small wrist and it fit perfect.  I am happy with purchase.',\n",
              " 'Excellent. My son loves it. He wants to swim with it, so we are yet to pass this test!',\n",
              " 'Bad Quality in this moment no working',\n",
              " 'nice',\n",
              " 'The product is good when it works.  Within months of purchasing this, one side of the winder stopped working.  The seller sent a part that we replaced ourselves and it seemed to get it to work...for a little while.  Few months later, both sides of the winder stopped working.  Product works less than a year.  Contacted seller and was told no warranty.  So unless you are good with paying for something that last less than a year...would not recommend buying this.',\n",
              " 'The large size is QUITE large--had to return it for a medium, for my husband who is a pretty big guy.',\n",
              " 'Very v cheaply made broke within the first 3 days',\n",
              " 'Like it',\n",
              " 'All perfect!',\n",
              " 'Handsome watch. However two caveats; one, the attractive band is way to large. I had to buy a smaller one that cost nearly as much as the watch! Two, the second hand has a loud ticking sound... can be very distracting at bight.',\n",
              " 'like them.',\n",
              " \"I really like this watch.  The face is very big--really more the size for a man, which is perhaps why it's called &#34;unisex.&#34;  I can't imagine a man wearing it however; the  pink color and the glittery band make it quite feminine.  I would give this watch 5 stars except for 2 things: the day and date are difficult to advance correctly, and the plastic buckle is rather delicate--I envision it breaking at the point where the pin joins the buckle to the band.\",\n",
              " 'The watch is beautiful! It is a little bigger than I expected, but after wearing it, it is perfect.',\n",
              " 'Good',\n",
              " 'Great watch... versace versace!!!!!!',\n",
              " \"The strap itself is pretty great but it didn't come with the springs to put it on my watch (which every strap I've ordered online thus far HAS included) so I was kinda bummed about that.. It unfortunately doesn't look really good with my original white Pebble watch so I won't be using it after all - but it's a good strap if you have a conventional watch to re-strap!\",\n",
              " \"The SNZH53 is a very good automatic watch at its price point. It keeps good time, has a decent power reserve and the deep blue of the face and bezel is very pretty. The crystal is fairly scratch resistant. Not as good as high end watches, but the hardlex will prevent all but the hardest bangs from leaving a mark. The worst thing about this watch is the bracelet. It feels light and cheap. If you're planning to wear it on an aftermarket strap, as I do, that's not an issue. Though it's a &#34;divers watch&#34; it doesn't have a screw-down crown so it's not really great for doing a lot of underwater wear. That said, I've gone swimming with it on and had no ill effects.\",\n",
              " 'This watch is very attractive, and I very happy to wear it.',\n",
              " 'love, love<br />so cute and ladylike',\n",
              " 'Products like these which need time to show what they are and how good or bad they may be, need TIME. We have not even given it as the gift we bought it fopr, and may be later they would be owner will advise how is was.<br />Please give these items time to prove or disapprove themselves.',\n",
              " \"I ordered this watch online and I absolutely love it. It's true to the picture, very sophisticated. It's great for nights out. Overall an amazing purchase!\",\n",
              " 'i wear it often.  works well',\n",
              " 'Good product',\n",
              " \"If looking for a FUN / Practical & good quality watch for the Spring / Summer, this is the one to grab!!!  I definitely am enjoying mine this Summer '15.\",\n",
              " 'Classy!!',\n",
              " 'perfect',\n",
              " 'It looks even better in person than it does in the picture. Awesome watch, I love Nixon.',\n",
              " 'Pelage dial with tiny jewels positioned at 10,25,40,and 50 minutes. There is a date function its a perfect size and it is comfortable. Oh, yeah, its also gorgeous.',\n",
              " 'Husband likes it.',\n",
              " 'Very sturdy and light.',\n",
              " \"Very cheaply made. Battery doesn't even work\",\n",
              " 'Too large by far! Cannot be adjusted.',\n",
              " 'Love it, looks just like the picture. Actually a lot nicer in real life because of the mother of pearl casing and the grey leather and rose-gold contrast.<br /><br />Also, it is quite small. So just read the description carefully before you buy because it really is a small small watch. But I love it exactly that way, I think it looks perfect!',\n",
              " 'excellent',\n",
              " 'Very nice watch , very high quality and 80 hours power reserv is excellent future , love it. Due its size , which is on medium-small size, for perfect balans I recommend this watch for smaller and skinny types of wrists,',\n",
              " \"Black strap is stylish.  The holes are well sealed so they should not fray but I don't think you could add your own holes. The buckle is metal but slightly lighter than I expected - still it should be strong enough.  Although the band is 9.5 inches (24 cm) not counting the buckle there are no holes for the first inch so it only just fits my 8.5 inch (21.5 cm) wrist.\",\n",
              " 'Awesome watch arrived quickly',\n",
              " 'I wanted an outrageously styled and colorful watch. Boy did I find it.',\n",
              " 'very good.',\n",
              " \"Love the watch, back light is bad but you learn to deal with it. Looks great. Directions came in Japanese so I went onto UTUBE and watch a video. Very durable I'm in law enforcement and have slammed it a couple of times dealing with bad guys and not a scratch on it.giving it 4 stars because of the back light.\",\n",
              " 'The watch appears nice and is a copy of what we saw on your site being advertised. But it is for a gift; and then again it takes time for the owner to use it and get back to us after  a while as to if it was a good watch and worked out well, or it was junk. Please give these item time for evaluation.',\n",
              " 'This replacement band is not as comfortable as the original that came with the watch. The finish also is somewhat disappointing with excess flash around the openings where pins go. Would not purchase again.',\n",
              " 'Pretty good',\n",
              " 'The watch indicates it is &#34;Indiglo Night Light&#34; but pressing the A button or the Crown does not turn it on.<br />How does it turn on?<br />Both the hour hand and the minute hand are very narrow and it is difficult to see in low light.',\n",
              " 'Nice quality, very good precision. Leather belt is really nice.',\n",
              " \"Great watch. Great water resistance, substantial-feeling case and band, keeps time very well. Only downside is that the gold plating isn't very scratch resistant.\",\n",
              " 'Excelent for the price.',\n",
              " \"This is a nice looking watch but I had to send it back.  I'm just an average sized person and it made my arm look like a stick.  Way to big for my taste.\",\n",
              " \"All titanium, eta 2824 movt, 2 butter soft silicone straps, watch winder- at less than $200. I'm not kidding.\",\n",
              " 'Nice watch, band is light and hollow.',\n",
              " 'Sucks',\n",
              " 'This is a very pretty watch .... My granddaughter loved it!',\n",
              " \"Extremely Poor Quality product!<br /><br />I received one and thought all was fine.  A few hours later, it had stopped.  I tried to reset it and both hands moved together.  I pushed the stem back in and the second hand tries to go backwards occasionally and the other hands don't move!<br /><br />I contacted JewlreyWe asking for a replacement.  By the end of the week, I had the replacement.  That one is even worse!  From the get-go, it would not set.  I pull the stem to set it and the hands don't move.  I push the stem back in and the hands now spin around the center loosely as I shift the watch.<br /><br />I contacted again, this time asking for a refund.  Instead, they're sending me a 3rd one!  Will this one be any better?  Two absolutely total wastes as a watch -- what are the chances?<br /><br />At this point, I have two little velvet bags, two nice chains, two batteries, and two little owl-shaped paperweights!  They said I didn't have to send them back.  Note -- the little velvet bags do NOT have &#34;JewelryWe&#34; printed on them.  The description is wrong there.<br /><br />Update (9/12/15) -- I did get the third one and despite JewelreWe saying they ship from MA, it shipped from China.  However, it did finally work!  It has a visible flaw in that it looks like the owl is crying!  I have corrected the problem because of the two previous non-working owls.  I removed the big screw in the back from this and one of the other owls and swapped the eyes!  Again -- more work on my part but I finally -- after over 3 weeks  - got a working and pretty owl pendant watch.\",\n",
              " 'Looks as is as shown. Packaged well and was shipped promptly. Quality looks good so far. Definitely Recommend it!',\n",
              " 'All was as expected! Thank you.',\n",
              " \"It's a real good watch, with great features (love the snooze).<br />Looks good too with it's low signature overall appearance (no visible markings about this or that).<br />However, that inverse display is awful !<br />Impossible to read the time !<br />With sunglasses in broad daylight - forget it (get your glasses off !)<br />In broad daylight, tilt that watch till you can read something ...<br />In low light, don't even try, just press the illuminator button.<br />Whilst driving the car and just wanting to know what time it is, just look at the car clock.<br />It's a real pity ... because otherwise I love it.<br />It would be perfect if it was as it is with as the only change a normal display (not inverse).<br />Got myself a G-9000-8V which is the same watch, but with a normalish display (orange) and a sand color - very neat and I can at last read the time !\",\n",
              " 'Do not purchase the watch!  I tried numerous times to get this watch to function and could not.  I then realized there was no resource for support.  I have returned the watch and I recommend you not invest the time and money that I have.',\n",
              " 'Band was scratched and looks like someone tried to fix it with a sharpie...',\n",
              " \"This is beautiful and heavy weight. Great quality. It's very unique and has wonderful detail. Love this piece, will definitely order from this buyer again!\",\n",
              " \"Not sure what I'm more impressed with, the watch or the shipping. Great looking watch,  shipped to Australia in 5 days!\",\n",
              " 'Nice looking watch, large but good looking and comfortable to wear. Very noticeable, love how it looks with included leather bands!',\n",
              " 'I suggest you do not waste your money on this ,bracelet was broken in less than a month  i use.',\n",
              " 'Great deal on a great watch.',\n",
              " 'Love, Love, Love the soft shade of Lavender.  I ordered several for gifts & I know they will be a HIT!!!',\n",
              " 'Always getting complimented',\n",
              " 'AWESOME',\n",
              " 'great watch! I love it!',\n",
              " \"I just rec'd my Bessky watch and it's nicer than the $50 Timex digital I replaced. It has a very large face and is very easy to read. It looks like I paid $50 + for it. I was hoping it would be this nice but really didn't expect it.  For $5.68 with free shipping I will replace this as required without a care for the cost. I set the time/date etc. and tried the stop watch without referring to the directions that came with it. Very intuitive to set up. Stop watch with lap time very easy to useTHIS IS THE FIRST REVIEW I HAVE TAKEN THE TIME TO WRITE IN MORE THAN A YEAR.<br />TONY B.\",\n",
              " \"I like the large number display its easy for me to see at night and for the money it's a pretty good value compared to other brands I like it.\",\n",
              " \"It's a very nice watch band. Good leather and is well made.  This should last a long time.\",\n",
              " \"As a former Rolex owner (GMT Master) for 35 years, I have been very surprised by this Stuhrling watch.  Yes, its' a quartz watch, not a chronograph, the band isn't as heavy duty, as the Rolex was, but still this 824.01 is very attractive and is working well.  Compared to a $3k watch with a $250 band, this is a good alternative.  Very pleased with it.\",\n",
              " 'Nice size, fits oversized watches very well.  Attractive looking case!',\n",
              " 'A fun watch with a retro look!  Love this watch, highly recommend!',\n",
              " 'Absolutely beautiful!!!',\n",
              " 'VERY NICE WATCH AND VERY NICE PRICE',\n",
              " 'Watch arrived without tags and was yellowed in color. I bought a new watch, but it looks used. Less than pleased with it.',\n",
              " 'Excellent product!',\n",
              " 'Great!',\n",
              " 'All perfect!',\n",
              " 'This is funny story. The package it came in smelled like leather and the watch says Polo and looks so Expensive. I had to go recheck to make sure i paid $9.99 and not $99.99. I thought i might have made a mistake. I didnt. In fact there was not saying it is not affiliated with Raulph Lauren. Ive gotten compliments on this watch. To me its worth $100. I love it! You will too if you like gaudy. Once i thought i broke it because it fell on floor and a piece came off, but it was a piece for in case you want to adjust it and make it bigger or smaller.',\n",
              " 'Excelent...',\n",
              " \"Ordered three of these in different colors, blue, red, and multi colored (orange, green, blue) for my two year old grandson who LOVES his &#34;Ganpa's&#34; watch collection. So my husband had a watch to give him, purchased these.  I purchased three to be &#34;back ups&#34; when one broke, there would be another one to give my grandson. The multi color has lasted thru baths, swimming, jumping and bumping of a two year old. The red one one is working but it hasn't been needed so I can't really leave a good review for that one. One day, my grandson came over without the multi colored watch so I gave him the blue one. My daughter said that my grandson was jumping up and down, fell on the floor and the watch broke when his wrist hit the floor. So much for the blue one.\",\n",
              " 'Excellent quality and very fast shipping thank you.',\n",
              " 'Wife loves it. So no complains!',\n",
              " \"I love this design was so excited to receive it , but when I got it it didn't work. I returned it very disappointed.\",\n",
              " \"I will start from the shipping, I got the watch a day after Amazon scheduled the delivery day. Still it was kind of fast 5days. The package where the watch came it was an envelope And a zip lock bag with no instructions. but still no damaged to the watch! Now the watch, is a beautiful and awesome watch the materials are the same used by the big brands! The day after the delivery I used the watch and got compliments from many people! One guy even said to me &#34; hey awesome hublot wish I could afford one&#34; lol. When I got home I Checked hublot website and they look exactly the same as this watch the only difference is the price hublot 34k and this watch 34dlls!!! If you thinking about buying this watch please don't just buy it I highly recommend this watch is really really nice and for the price is just an awesome deal I just bought two more! If I could I will give more than 5 stars! Happy shopping!\",\n",
              " 'Great watch never own something so stylish, great for swimming can see numbers under water and works perfectly. Allot of compliments.',\n",
              " 'This was the perfect choice for a replacement band for my Samsung Gear Live watch. I did have to notch the pin placement however that was easy the band not only works well it looks good as well. Very happy with this replacement.',\n",
              " 'Works great!',\n",
              " 'My niece loved it',\n",
              " 'The metallic material is plastic. I really like the background lighting though, the colors help separate the digits and letters. This has lasted me for almost a year now, even after swimming in pools, running in the rain, and showering. Anyone who wants a waterproof watch for cheap should look at this one.',\n",
              " \"Really pretty and cool watch.  My 10 years old love it.  Has multiple functions as chronograph, alarm (you can set 3 different alarms), light and it is water resistant ... it's a bit tricky to remember the order to press the buttons to program it.  Loved the color.\",\n",
              " 'good good!good good!good good!',\n",
              " 'This item needs a LED light to indicate when the item is on.  No visual to tell when on or off.',\n",
              " 'Watching arrive on time and it is nice as I was expecting',\n",
              " 'Just the right strap and they included a second strap for free!',\n",
              " 'Looks good. Very easy to read even at night. Somewhat larger face than I thought by picture',\n",
              " \"The watch band fit nicely with my watch. It doesn't come with the two metal pieces/rods that attach the band to the watch. But you can use your old ones. You'll need a very small screw driver or small pocket knife to remove and replace the two metal rods. They are spring loaded so they compress.The thing about the band that kept me from rating it higher is the color. I expected it to be darker than it appeared on the web site. But it is still OK and very functional.\",\n",
              " 'Nice summer watch.',\n",
              " 'slightly lighter in color than the picture, but overall a good quality - easy to install.  I can wear my watch again.  Good value for the price.',\n",
              " 'Was perfect for putting the backs onto watches after changing the batteries.  Very easy to use.  Already used it on 3 watches.',\n",
              " \"Incredible watch!  Very high quality and solid.  Looks and feels like a multi-thousand dollar watch.....seriously! Nothing about this watch is cheap. Everything: clasp, band, movements, dials, buttons, detail, even the box.....etc is amazing. Beautiful emblem engraving on the reverse.  Exceptional watch. I wouldn't be surprised to see Jiusko as a top-tier watch seller very soon!\",\n",
              " \"First, the pros: This is a nice-looking, automatic movement watch for much cheaper that you can usually find. It's styled after the Rolex Submariner, and it can be worn causually or dressed up. The blue dial and bezel are the perfect shade - bright and colorful without being garish.<br /><br />But, it can't tell time. I've set it repeatedly, wearing it to ensure it was getting wound, and it's consistently fast, sometimes by as much as several minutes after a single day. You had ONE job, watch!<br /><br />I have trouble even calling it a watch because it's useless for telling time. I shouldn't have trusted a company who has a watch (distinct from this one) in their &#34;Pro Diver&#34; collection that can't even be taken in the shower!\",\n",
              " 'Beautiful watch, very light, comfortable and classy. Great size face. I love  wearing it',\n",
              " 'Beautiful watch! Son in Law loves it!',\n",
              " 'I can recommend this watch. High quality and it has performed as advertised. A couple of things that might not be right for some. One it is a heavy watch. Two it sits on your wrist higher than other watches. Also because of the metal band you may needed to remove some links, as I did. If you have a thick wrist, the band does not come with extra links, should it fit you too tight. Again rated 5 stars for my use.',\n",
              " 'Heavy, large, beautiful',\n",
              " 'Beautiful watch!',\n",
              " \"It's hard to set it and the buttons no longer work on it after a week\",\n",
              " \"A lot of bang for the buck. I actually used this 24mm strap with adapters for an Apple Watch. Looks great, feels super comfortable. And yes, I'm a watch guy. I have straps that are $400 and ones that are super cheap. This one is a great strap for the money. The more I wear it, the more comfortable it gets, and it keeps it's look.\",\n",
              " \"I'm late getting to the party, but after discovering Invicta watches I just can't get enough of them. There is a watch for every situation from dress to casual. After acquiring several of these in a short time, I can honestly say that I have not been let down in style or performance. I don't think I'll ever buy another watch that isn't an Invicta!!!!!\",\n",
              " 'loved it, a very cool looking watch for a teenager.',\n",
              " 'Nice looking watch, but I prefer a watch with a little bigger face. Other than that its great.',\n",
              " 'Great product',\n",
              " 'good',\n",
              " 'I absolutely love these silicone watch bands. Totally waterproof.',\n",
              " 'great watch for gifting.',\n",
              " 'Beautiful watch ... Fun but still elegant wonderful color much prettier in person  and wow do those crystals Around the dial sparkle.',\n",
              " 'good watch fast shipping good price',\n",
              " 'Watch works very well.',\n",
              " 'Great Watch!',\n",
              " 'Just great!',\n",
              " 'Beautiful watch, receive compliments all the time',\n",
              " 'Love this watch. It looks very professional and masculine. Got it for my husband for his birthday. At first he thought the face was a little too big, but now he loves it. Great price too',\n",
              " 'The previous version was streamlined and had a flow from maid body through band. This version has a bit larger body and band is not as heavy and feels a bit cheaper.<br /><br />Technical functionally is great.',\n",
              " 'Loved it. Came really quickly. Very functional. Little tricky to set up date.',\n",
              " \"I like the look of the watch and the fact that I don't need to buy batteries for it and that it is water resistant makes it a good purchase.\",\n",
              " 'nice watch',\n",
              " \"I love my watch it's exactly as pictured. A boyfriend style watch with the copper/rose gold accents.\",\n",
              " 'Very good for the price<br />Love it',\n",
              " 'This clock is pretty. Recommended.',\n",
              " 'Just awesome! Ive been after this watch for about 3 yrs and i couldnt find it. When i saw it on Amazon again, i just had to have it. I also own the mod 9937 and ive been very happy with it. They both have a swiss movement, that is why its more expensive than japanese movement counterparts.',\n",
              " 'Seems like a pretty good watch for the price. Have not had it long enough to give a thorough review as far as quality. It is in line with Fossil watches as far as comparison wise. It looks good and is thin, which would work as a dress watch.',\n",
              " 'Excelent!',\n",
              " 'Metal feels kinda cheap, but watch looks great.',\n",
              " 'Good I love it',\n",
              " 'Beautiful !!!!!!!!',\n",
              " 'Love this retro watch!  Very stylish and fun!',\n",
              " \"Nice looking watch.  A quick wind and it goes for 24 hours.  Keeps great time.  No instructions, so no idea what the other dials or buttons are for, but it tells time so I'm happy.  If and when it quits, I'll look for another.\",\n",
              " \"Have a timex expedition watch.  Liked it and the band it came with.  After a year of heavy duty wear the band got caught and ripped loose from the watch.  I thought I would have to buy a new watch.  Ordered this band which looked similar first and I'm glad I did.  It's better than the original in comfort and works the same.  Even if it only lasts a year I am still money ahead.\",\n",
              " 'Awesome!.',\n",
              " 'item is beautiful and you will get many compliments but the reason i gave it the rating i did is because the time does run slow, and it looks like there is some specks of dust of something in the actually encasement its self!',\n",
              " 'Good quality',\n",
              " \"My daughter loves it. When I asked her if there was anything she liked/didn't like about it she said &#34;I like that it has butterflies, but I don't like that they don't come to live and play with me.&#34;<br /><br />So there you go, perfect watch unless you're a 6-year-old with unrealistic expectations.\",\n",
              " 'Great watch',\n",
              " 'I love it. Lightweight and comfortable, it fits with any occasion and overall a great everyday watch to have.',\n",
              " 'I was worried about buying an automatic watch at this price point. I decided to go for it and I’m glad I did. The watch seems well made and mechanically sound. I haven’t had any problems with the watch keeping time. It’s really great for such an affordable automatic watch. I have taken this watch in the ocean, water several times and also, no issues. Seems very solid. I would note, the band is terrible. I replaced it with a nato band it looks great. I would suggest this watch to anyone.',\n",
              " 'I love the watch!!! However I only received the white one. Who can I talk to about not getting the black one delivered',\n",
              " \"Thx it's very good\",\n",
              " 'Beautiful!',\n",
              " 'Excellent quality and very fast shipping thank you.',\n",
              " 'It came rusted. Do not buy this watch!',\n",
              " 'Amazing...',\n",
              " 'The blue faced diamond accented Armitron watch is very pretty!',\n",
              " \"As a watch person, I really love this particular model. I didn't want to take my Tag watch to school, so I bought this as an alternative since it really resembles the Rolex Submariner. I've got many compliments from people, most of them assuming it was an actual Rolex. So if your looking for a nice watch that isn't too heavy, stylish, and won't break the bank, than this is it. I already plan to purchase another one in a different color.\",\n",
              " \"Very nice for a solar watch, i've had plenty of watchs that were a bit better but i would buy this again worth every penny\",\n",
              " 'i dont like it',\n",
              " 'Strap is great quality but the design is flawed. The loops for turning the strap back on itself are too near the buckle, meaning the tail of the strap sticks out a lot. I have a luminox branded nato strap on another watch which is much neater and more comfortable.',\n",
              " 'Comes as it looks. Not perfect but good for the price.',\n",
              " 'Bought 2 (4 months apart) and neither is water resistant.  The description says water-resistant to 165 feet; the pool is 10 feet deep.  After the kids wore it the pool several times, the inside fogged up and the buttons became difficult to press and sometimes unresponsive.  Timex will replace it - if you ship it to them ($) and include $8 for return shipping and they recommend insuring it in case of loss during transit...  for a $15 watch.  Shame... my kids really liked the watches too.',\n",
              " 'As expected!',\n",
              " \"It's a nice looking band (once I finally got the right thing- my order was wrong three times before I got the right product), but the coat of plastic over the top of it is already coming off after 2 weeks or so of wear.  I don't think this will last long.  But it does look good.\",\n",
              " 'love the design and style - awesome',\n",
              " 'Nice',\n",
              " 'Its OK.  The fit is good and worked well for a few months.  Now the light no longer works and the entire watch resets occasionally when the mode button is pressed.',\n",
              " 'very military looking and functional',\n",
              " \"When I first saw the watch, I was so happy not until I discovered that the watch is not working, I was so disappointed, and the seller is something else, they said I have to send the watch back with my own money when the fault is theirs, it's very very unfair,\",\n",
              " \"that's good. I love so much.\",\n",
              " 'Works like a charm.',\n",
              " 'Good',\n",
              " 'It looks very nice.',\n",
              " \"I got this watch for my father for Father's Day, as an everyday watch, and was surprised how much he loves it. My mom says he wears it all the time,  and loves its simplicity.\",\n",
              " 'Worn once and the silver disappeared underneath the band in 2 hours time. Looks beautiful on here and when it arrived a month after ordering it. Too bad it was only beautiful for 120 minutes.',\n",
              " 'Nice quality ,comfortable to wear . The hands  are however small and with the dark grey background  it is somewhat difficult to quickly glance to see the time.',\n",
              " 'Excelente!',\n",
              " 'Fit the watch with out problems. Nice color. Good price.  But the leather was thick enough that it rubs against the watch side causing the leather to have small tear where it rubs.',\n",
              " \"I have only had this watch for a week but it keeps to-the-second exact time, at least in reference to my cell phone's time.  The compass is reasonably accurate, but I still need to calibrate it, so assume it will perform even better afterward.  All in all I am very happy with this watch so far.\",\n",
              " 'very sheik',\n",
              " \"Really I'm surprised  it's a such wonderful watch from timex I liked this model is unique and stylish\",\n",
              " 'This watch is AWESOME! Very well made and after many years of use is still as good as when I bought it. Many compliments on the orange face too.',\n",
              " 'There jewel missing from the interface may be form shiping',\n",
              " 'To heavy.',\n",
              " \"The rectangular shape is very nice.I have received  several compliments on the watch.It is hardier to read in lower light because of the darker face and lighter numerals.You don't also want to push the light button to check the time.\",\n",
              " \"I'm late getting to the party, but after discovering Invicta watches I just can't get enough of them. There is a watch for every situation from dress to casual. After acquiring several of these in a short time, I can honestly say that I have not been let down in style or performance. I don't think I'll ever buy another watch that isn't an Invicta!!!!!\",\n",
              " 'Great watch only had it a couple of weeks but I am satisfied. Looks nice and appears to be durable. This version with the black case and olive leather strap is for casual dress which is what I wanted for work and everyday use. The other styles would be more for dress I think.',\n",
              " \"Nice watch. It's simple and perfect for daily wear.\",\n",
              " 'My wife loves the watch, so much she slept with it.she really appreciate the watch thank you very much',\n",
              " 'I have it over a month now seems awsome no sound great quality would recommend it. The gift gloves are too small in size should be a medium size',\n",
              " 'Band broke in two days the pieces are cheap.',\n",
              " 'Piece of junk',\n",
              " 'I have owned this watch for two weeks so far. The watch itself (case and crystal) is very nice and machined well with polished surfaces. It was much thinner than I expected and sits well on the wrist. The bezel does not click and rotates with some effort-- but it looks good enough. The watch face has a nice metallic black finish and some contrast between the middle and outer edges. The lume on the hour markers does not last very long but the lume on the hour and minute hands last through the night (dim).<br /><br />The band is quite cheap and is made of hollow links but is quite comfortable on my wrist and lightweight. I ordered a replacement band when I placed the order.<br /><br />I am still measuring the accuracy of the movement but out of the box it gained approx 4 minutes over 7 days (~34s a day). However, after I opened up the caseback and adjusted the balance the watch is holding time pretty well (still measuring, but I will update).<br /><br />Overall, for the price this watch has tremendous value. I really like the no-nonsense design that works with hydro-static pressure and there is just something about the unique and classic look of this watch. Not to mention the price!',\n",
              " 'Excellent product!...great deal!',\n",
              " 'Nice quality! Very durable. It is very stiff though and takes time to break in.',\n",
              " 'Great watch, nice deal, works perfectly...exactly what i needed. Recommended.',\n",
              " 'This watch is very nice.  A great value.  I think it looks great',\n",
              " 'Excellent feeling on my hands, as expected .',\n",
              " 'Really gorgeous watch!',\n",
              " 'This watch is more impressive in person than just looking at the photos. Very well made mechanical movement, elegant, yet simple retro design with a 40.5mm case. Slightly more than a typical dress watch but not oversized to retain that classy look. The band is a thick leather, embossed with a faux croc pattern that is slightly stiff and needs to be broken in. But it is a quality leather band. If you are looking for a simple but elegant dress watch, I would highly recommend the Bambino, especially at this price!',\n",
              " 'Great value for the price.',\n",
              " \"I love this watch i have ordered about 5 different Invicta watches from Amazon and i have never regreted it. I do struggle with gauging the size of the watch and this one was smaller than expected. It's a more petite feminine style vs the big boyfriend style watches. The only negative thing i can say about it is the mother of pearl looks more like just a white background you have to look very carefully to see some differentiating of color that you could be called mother of pearl. I was a little disappointed with that part only.\",\n",
              " \"It's perfect! Must buy!\",\n",
              " \"I bought the watch knowing that it was not the best quality....Looks good but is not overly self-winding.  I have to wind it everyday so I guess the self-winding is just to maintain through that day. 3-30-16 UPDATE: Link pins are now coming out.  This is my dress/work watch so no I'm not scaling mountains with it on.  I have had better success with my &#34;drugstore&#34; watch that cost 10 bucks!   Down to 1 star.  Not worth the money at all.....would make a great paper weight though!\",\n",
              " 'Different, Sweet, Feminine!  A little hard to see the time due to the &#34;busy&#34; pattern but I buy a watch more for the Jewelry effect and color coordination!!',\n",
              " 'The watch looks great and seems really well made.  I like the subtle blue hue to the face.  The bracelet snaps very positively and feels secure.  Good heft and size to the watch.  The only thing that knocks a star off is that the hands are hard to see because they are polished and unless the light is hitting them the right way they tend to blend into the face.',\n",
              " 'WORST ITEM IVE EVER PURCHASED!!!! All of the watches broke the first time I put them on, I should have expected that for the price. But in this case I definitely did not get what I paid for, I GOT WAAAAY LESS !!!!!! NO STARS AT ALL',\n",
              " 'The watchband is exactly what I was looking for.',\n",
              " 'Terrific!',\n",
              " \"I bought this as a present, and have been told that very acceptable and exactly what was wanted. It's very bright too\",\n",
              " 'Very bad<br />Eager leakage and it is not water resistant',\n",
              " \"This watch has it all.  The basic features you expect (timer, stopwatch, multiple alarms, etc.), plus atomic sync, solar powered, and a nice backlight.  On top of that, it looks great and is very comfortable.  The size is a little bit big for my taste, but is still reasonable for my 5'9&#34; 170lbs body.  I really wanted to like this watch, but there is one major issue that caused me to return it.  The display is just too small, especially for such a big watch.  My main digital watch for the past 10 years has been the standard issue Timex Ironman 30-lap, and the display on this Casio is about half that size.  I'm a middle age guy with good eyesight, but I want my watch to be easy to read, and this Casio just falls short on that.  In the end, if you can tolerate the small display, this is a brilliant watch.\",\n",
              " \"It's very good watch\",\n",
              " 'A beautiful timepiece worthy of the Seiko name. This watch has the quality of a much more expensive brand get does it all for less money.',\n",
              " 'Beatyfull',\n",
              " 'Great product',\n",
              " 'love it',\n",
              " \"Update on 8/4/16 - the watch stopped working (battery) on 8/3/2016 which is less than a year after purchase (8/19/15).<br /><br />I bought this based on another product experience - [[ASIN:B005DRE6UU Invicta Men's 1431 Sea Hunter Black Dial Rubber Watch]] it has issues when wearing for extended period of time.<br /><br />Issues: Strap breaks, second hand stops and the two brackets to keep the strap in place break off. Also because the watch has a second hand +date the time will eventually slow down, so the correct time will not be kept. This is a design fault.<br /><br />The silver 1431 watch looks better on your wrist than the 1432.<br /><br />Still... it's okay for everyday wear.\",\n",
              " \"Watch Face smaller than expected but dope watch. I love it. And I don't know what these other 'reviewers' are talking about because the band is very comfortable.\",\n",
              " 'It is so big,the watch is not suitable for me.',\n",
              " 'pretty nice',\n",
              " 'excelente',\n",
              " \"Awesome watch for an awesome price at the time. I got this for my son's grad gift. He loves it. Shipping was prompt.\",\n",
              " 'Got wrong watch',\n",
              " 'it was just what I was looking for, fore my wife',\n",
              " 'We love it',\n",
              " \"I bought this red watch for my daughter's birthday. I opened the box and it is PINK! Not her favorite. I'm not sure where the problem truly lies. The only problem is the color.\",\n",
              " 'Still trying to figure out all of the settings.',\n",
              " 'Great watch band.',\n",
              " 'It’s a good watch band. I changed the original band on my diver watch and it complements it well. The materials are nice, both, the metal pieces and the nylon.',\n",
              " \"I love this tiny watch since I like black and it's very delicate. Suitable for little bit thin wrist.\",\n",
              " 'good, A little big',\n",
              " 'Great product, quiet and it works',\n",
              " 'Good',\n",
              " 'very nice strap',\n",
              " 'Not an OEM band. Yes, this band says Seiko and is sturdy, but is sturdy to the point where I have found it uncomfortable for constant wearing. The band is not near as soft and pliable as the one which came with my original Black Monster watch. It looks vey similar, but again is not the original.',\n",
              " \"It's cute. It's fairly lightweight. Makes a charming keychain. The watch, which is what it was bought for is not as charming. The hinge is awkward and hard for my mother's hands to operate. We've had it only a few months and already it is no longer keeping time. Could be the battery but that seems doubtful.\",\n",
              " \"I absolutely love this watch. It's casual enough to wear daily and dressy enough to wear out. Perfect :-)\",\n",
              " \"I love it! It's like a rolex but it's invicta.\",\n",
              " 'Nice watch. I returned it as it was small on my wrist.',\n",
              " \"Didn't realize this came from China. There's a reason it was so cheap - it's kind of crappy. Watch face came cracked.\",\n",
              " 'My husband LOVE it, I will definitely buy more in the future different color of course.',\n",
              " 'Watch works as described. I only wish the dial used luminous paint for the numbers and hands. I like the watch alot.',\n",
              " 'Love this watch and many compliments on the large face',\n",
              " 'good tool good price fast shipping',\n",
              " 'I like this Timex Expedition watch a lot. The Indiglo feature means that I can now read my watch in the dark. My old Timex not only kept the exact time for more than 10 years but was still waterproof till the end.',\n",
              " 'Face is too small. Need glasses to read time. Item returned.',\n",
              " \"I didn't order the pins so I haven't had a chance to attach it to my watch yet but the look and feel of the band seems good.  It's a plain watch band, no designs at all.  the pictures are misleading.  the &#34;designs&#34; are on the underside of the watch band.  when attached, the smooth, plain side is showing.  at first I wasn't happy about that but I think it will be fine.  the texture and materials are perfect tho.\",\n",
              " 'I like it very much \\x1a\\x1a\\x1a\\x1a\\x1a\\x1a\\x1a\\x1a\\x1a\\x1a\\x1a',\n",
              " \"The time on the watch goes faster than normal time so I have to keep changing it and it's hard to see anything on it during the day (practically impossible when you're running.)\",\n",
              " 'Very Happy!  This is my second purchase and its great for a gift',\n",
              " 'very good',\n",
              " \"for this price it's really a nice watch\",\n",
              " \"I like this watch so far.  I've been a fan of Seiko watches but last year decided to  try Fossil as highly recommended by a Macy's staff due to frequent hand washing for nurses.  I was hoping not to have the replace the battery every year as needed by my previous Seiko watch and have to deal with the poor watch sealing after battery replacements. I was wrong.  The battery in my Fossil watch died within a year.  I took it back to Macy but they refused to fix it because I've misplaced my receipt and Macy could not find the  online receipt either. I ended up taking it to a jewel store for battery replacement.  It worked for approx a week after the battery replacement but died again, probably due to the poor sealing of the watch by the jeweler.  I did not want to spend the extra money to send it back to Fossil for repair either.  I did some checking and decided to try this Seiko solar watch since the solar Seiko watch i've bought for my husband several years ago still work. So far it has been working great.  The face and numbers are large enough to read and the red second-hand allows me to count heart and respiration rates incrementally well.  I gave it a 4 star instead of a 5 because the date and the day of the week displayed on the watch do not always match and will take some time to get them to display right. I am happy with my new Seiko solar watch.\",\n",
              " 'Sent as a gift.  No instructions though, on how to set the date/time.  Figured out the time on our own, but not the date.',\n",
              " 'Works great only thing missing is the ability to give the date.',\n",
              " 'GREAT watch for price paid. No issues and looks nice!!',\n",
              " 'This is a quality tool kit that will pay for itself many times over again through usage.  It has everything you would want for the DYI man.  My husband has a collection of watches and is a craftsman in another trade so he is picky about his tools.  He was delighted with this purchase.  The price is deceptively low.  I truly was not expecting the quality that I got.',\n",
              " \"Nice watch but has one of the loudest movements I've ever come across which is distracting but not unexpected at this price.\",\n",
              " 'Looks great and feels great!',\n",
              " 'Nice and classy appeal. Solid construction.',\n",
              " 'Looks great, the band on the black version actually looks somewhat brown. If you have a small wrist this is not a watch for you, you will have a few inches of extra band sticking out and catching on your shirt and stuff.',\n",
              " 'Arrived earlier than we thought. My son is happy to have it. Easy to wear and to adjust the time. Fits well in his little arms. Overall happy with the product.',\n",
              " 'Its very big but it looks good',\n",
              " 'broke as soon as i got it',\n",
              " \"I'm always a little skeptical when there's a big difference in price between products, after all, you get what you pay for.  In this case, this watch band is more than worth the price paid. I replaced a Citizen watch band, and this band is just as comfortable and a little more stylish than the original.  I highly recommend this product.\",\n",
              " 'Dead battery.  Sent it back for another of same model and the next watch came. Guess what. ANOTHER DEAD BATTERY.',\n",
              " 'Really fun looking and iconic alarm clock at a reasonable price for a Star Wars fanatic!  Clock works just fine as does the alarm.',\n",
              " 'Easy to install and exact replacement',\n",
              " 'GREAT Disney Watch!  Fast Delivery!  Awesome.',\n",
              " 'Very cheap quality....I should have gone by the price to know how cheap it would be. It is huge on me and I cannot find and pins to remove in order to remove links to make it smaller. For some reason it came with 2 of the same watches...I only ordered one. Although, I do like the way it looks.',\n",
              " 'too bad a little time after no working more',\n",
              " 'The watch was massive. I took it to a jeweler and had three links taken out. It was okay for two weeks, and then broke. I think the screws were just poor quality.',\n",
              " 'The strap is a bit more maroon than red, but a great color overall. Light weight overall. You can definitely hear the second hand tick, but this is not a problem for me.',\n",
              " \"I like the watch.  Had to take it to a jeweler to have it sized, as we couldn't find a screw driver small enough to remove the screws.  The watch is very comfortable and easy to read.\",\n",
              " 'I am extremely pleased with the product.',\n",
              " 'Bad quality. Stop working within a week after I got it.',\n",
              " \"My eyesight isn't great, especially in dim light. I really like everything about it. The large black face with white numbers and hands makes it so easy to read. The Indiglo light makes it perfect for me. The style, with an adjustable leather band, contrasting white stitching and silver color casing, is very appealing. It was more than $10.00 below retail. At $36.99 you can't beat the value. To me, Timex has always been one of the most reliable and durable brand on the market. I don't need an expensive watch for a status symbol. I just want an attractive watch that tells me the time accurately and is dependable. Timex still makes a great watch at an excellent price.\",\n",
              " \"Ordered three of these in different colors, blue, red, and multi colored (orange, green, blue) for my two year old grandson who LOVES his &#34;Ganpa's&#34; watch collection. So my husband had a watch to give him, purchased these.  I purchased three to be &#34;back ups&#34; when one broke, there would be another one to give my grandson. The multi color has lasted thru baths, swimming, jumping and bumping of a two year old. The red one one is working but it hasn't been needed so I can't really leave a good review for that one. One day, my grandson came over without the multi colored watch so I gave him the blue one. My daughter said that my grandson was jumping up and down, fell on the floor and the watch broke when his wrist hit the floor. So much for the blue one. But this one again, is awesome!\",\n",
              " 'Very nice !',\n",
              " \"The quality is wonderful and it's stylish.\",\n",
              " 'very good.',\n",
              " 'Simple but cool.',\n",
              " 'good one',\n",
              " 'This is my 3rd versioon',\n",
              " \"It is cheap and I didn't expect a lot. But my question is: is it a male watch? The bracelet is a little too short for my hand and my arm. Half centimeter longer should be enough to fit comfortable\",\n",
              " 'My wife loves her gift.',\n",
              " 'Good qualities and a great seller.',\n",
              " 'good',\n",
              " \"I ordered this watch on ebay but it had to go back due to a defective date wheel. The unscrupulous seller tried to say I didn't align the 24-hour dial with the main display but I did. Despite the inconvenience I learned that I really loved how this watch looks and wanted to replace it ASAP!<br /><br />Anyhow, over a month in to the one I ordered on sale from amazon and I couldn't be happier. It keeps excellent time, losing only one-minute every 4-5 days. The date wheel works as it should, and the compliments keep pouring in.<br /><br />I can't afford a $26K Hublot with industrial rise gold appointments, but this sub-$200 Diesel has to be one of the best values around. I love its sculpted dials and the large display is easy to read, along with luminescent accents when the lights go out. The leather band is glove soft and I do believe that this will last me many years. I like the chronograph option too and am getting used to using it for various applications.<br /><br />All-in-all, a killer watch! Highly recommended!!!\",\n",
              " 'Not please with  it',\n",
              " 'For the price, looks fine.',\n",
              " 'Works great. Stylish.  Looking to buy other colors too. Thanks. MauistyleAloha.com, Sk8Maui.com TexasStyleSkateboarding.com',\n",
              " 'If you are looking for a basic Casio watch that looks like a G-Shock, but is a more reasonable size, this is the watch to get.  The only reason I returned it is because I was between sizes on the band.  It was either too loose or too tight.  Otherwise, I would have kept it.',\n",
              " 'I love it.....I can actually read the numbers!!',\n",
              " 'Love it. The perfect AKA gift!',\n",
              " 'Nice',\n",
              " 'JUST AS DESCRIBED',\n",
              " 'Very light.',\n",
              " 'Very good product',\n",
              " \"Comfortable Band, Easy to Wear.<br />I work night time hours outdoors and have been looking for a solid watch that I can see at night and that I can depend on.<br />This watch is Simple, Straightforward, Rugged and Dependable. I almost feel like buying a second one so that if something ever happened to the one I'm wearing that I would have a replacement ready to go.<br />I don't usually give anything a 5 Star Rating....but this Luminox deserves it.<br />Great Piece of Equipment.\",\n",
              " 'Daughter loved it',\n",
              " 'I love it!!!!',\n",
              " 'not fair to ding the watch as other reviewer did because it is too big for him...it is lightweight and a super watch.',\n",
              " 'Great watch',\n",
              " 'great  Watch  a very nice price.',\n",
              " 'They work like they should.',\n",
              " 'Bought this for my son and he loves it..<br />No problem so far..',\n",
              " 'Perfect',\n",
              " \"it doesn't work, dissapointed\",\n",
              " 'What a nice and simple watch. after adjustment my wife like to were it out when we cruise',\n",
              " 'The wife likes the watch, it was a good deal...----',\n",
              " \"For a very inexpensive watch I was pleasantly surprised! Construction was solid.  Band feels cheap and lightweight and appears to be like aluminum but so far holds up well. It is an automatic but also has a mechanical winder as well.  For $15 dollars you can't go wrong.\",\n",
              " \"Nice watch! The color of the band and body aren't common so that's pretty cool! The watch itself is pretty heavy so it seems like pretty good quality.  I got it on sale for less than 80 bucks so that was a great deal!\",\n",
              " \"We bought this as a birthday present for my father-in-law and he loves it! Couldn't stop showing it off.<br />Very well made and does not look cheap which is always my fear with gold tone watches.\",\n",
              " 'excelente',\n",
              " 'Fine watch,, but can not hear alarm...',\n",
              " 'A beautiful, supremely functional time piece.  It does take a while to charge, but if you take the time to follow the instructions in the manual, you get to watch it setting itself, keeping time perfectly, and impressing the onlookers with its heavy, functional construction and function.',\n",
              " 'BEAUTIFUL ,',\n",
              " 'I have 5 other Phlip Stein watches and I just love, love, love the Fruitz  watches!',\n",
              " 'Bought this for my Guy and he LOVED IT !!!',\n",
              " 'This watch is more beautiful in person than it is in the picture.  I love the royal blue color.  I love the big face with all the big and small lines for the numbers.  This makes reading time easy which is important to me.  The hands are glow in the dark.  The wristband is skinny making it feminine looking.  By the way it looks, you can tell that it is a good quality watch.  This watch is perfect for me.',\n",
              " 'After few month paint started peeling off!',\n",
              " 'A gift to myself, and I absolutely love!',\n",
              " 'I have bought 8 of these as a gift. Their Solar. You can swim with them. Light and double hour. Get it!',\n",
              " 'Works as expected but very loud clicking noise.',\n",
              " \"We bought this watch for our daughter and she loves it. She's only 3 and can't actually tell time yet but she wears it all the time. Its nice that its waterproof and the band makes it easy for her to take on and off.And she was excited to the cool 3D texture. Good purchase.\",\n",
              " 'Very nice and light.',\n",
              " \"It was disappointing to me.  Perhaps it is the Color Combination???  I love Pink but it doesn't go with the trim color of the watch.  My Opinion!\",\n",
              " 'I have never found a watch I like more than this one in terms of features and functionality, but over the years, the quality has seen a sharp decline.  I have found the need to replace it at least once a year, not because of the watch, but because the band inevitably breaks.  After reading several reviews with the same complaint, I contacted Timex customer service: custserv@timex.com.<br /><br />Timex replied the same day and offered to fix or replace the watch for $10.  They sent instructions along with a pre-paid mailing label so I could send the watch and check.  By the next week, I had a new watch.<br /><br />The inconvenience is a pain, but I was impressed with their customer service and am happy to have my tried and true watch back without having to purchase a brand new one.',\n",
              " 'The band fit my watch LG RW watch perfectly.  It does give the watch a great look to it.<br />I tried to size the band myself but was not successful. I ended up taking the watch and band to a jeweler to have it sized. It cost about $12 money well spent.<br />Mike',\n",
              " 'The watch looks great and is as described. A bit smaller, than I thought (I actually thought I ordered a female watch).<br /><br />Cons: I do not like the stretchy band aspect. Catches my arm hair a lot, and can be quite painful.',\n",
              " \"Doesn't fit a large wrist. Tells great time, easy to read.\",\n",
              " 'In love!! Thank you',\n",
              " 'Excellent product and seller very good service',\n",
              " \"Zodiac is now one of the best brands I own. Apart from the watch being beautiful, well built and easy to read during bright light and at night; it's extremely comfortable to wear!! This is now my second Zodiac\",\n",
              " 'Nice watch. Works great so far but losses a little time.',\n",
              " \"I'm late getting to the party, but after discovering Invicta watches I just can't get enough of them. There is a watch for every situation from dress to casual. After acquiring several of these in a short time, I can honestly say that I have not been let down in style or performance. I don't think I'll ever buy another watch that isn't an Invicta!!!!!\",\n",
              " 'the package was open and the battery was dead! very poor way to sell a product.',\n",
              " 'This my first ever automatic /mechanical watch that I have owned and so far so good. Great looking watch and the cost did not break the bank. I was somewhat apprehensive not being able to physically see the watch before I purchased it, but the price was favorably discounted compared to prices for same watch at department stores. Overall very please so far.',\n",
              " 'It is good and lot of cheaper thank officer website',\n",
              " 'the watch has met all my expectations, and is now my everyday wear!',\n",
              " \"I was not too impressed by the look and feel of this watch. Looks very generic and cheap. I was hoping for a better quality from Seiko - kinda disappointed. But thankful for Amazon's easy return policy - I was able to return it and get a full refund.<br /><br />The dial of the watch is very small. I usually wear a 42mm diameter watches but these are much smaller then the 42mm diameter watches that I have.<br /><br />Sorry Seiko, maybe next time.\",\n",
              " 'Excellent watch if you like the colors. Whether or not you like it will probably depend on personal preference really. But the material is fantastic!',\n",
              " \"If you are anything like me, you have been looking at some of the Casio Protrek watches, like the PRG-270 or PRW-3000.  No doubt, sweet looking watches with tons of great features.  However, those watches are either too big or too expensive, or both.<br /><br />Enter the SGW-100.  Almost the same features as its more expensive siblings, but at a fraction of the cost.  Also, the size is much more reasonable.  Not too big (and ridiculous), not too small.  And it has a real backlight, not the weak 1980's amber LED light that shines from the bottom left corner, like too many lower price Casio's.\",\n",
              " 'very beautiful',\n",
              " \"I thought it said made of wood in the description but it wasn't. One corner was not glues together. I had to return it.\",\n",
              " \"Ehh, wasn't crazy about this watch at all. Looks very cheap and cheesy but now that I have it seems silly to send it back\",\n",
              " 'This watch stopped working in about 5 weeks.',\n",
              " 'Face plate broke on my fiance after 2 days.  Horrible choice',\n",
              " 'good',\n",
              " 'Great deal on a great watch.',\n",
              " 'Owned probably 4 or more over the last 25 years.  Great watch....so glad they are still available...',\n",
              " \"Well built, everything you'd expect from a Swiss Army.\",\n",
              " \"Great watch, easy to wear, looks great on, and very inexpensive!  Love wearing it in the Florida heat when I bike!  Doesn't fade, water resistant, keeps on ticking!\",\n",
              " 'nice',\n",
              " 'gets broken easily',\n",
              " 'Nice watch and a great bargain. I love it.',\n",
              " 'Cool watch. Looks more expensive than it is. This watch will look good with dressy clothing.',\n",
              " 'Cool kids watch with unique layout for telling time.',\n",
              " 'Junk! Went swimming in pool & watch filled up with water almost instantly. This happened on the last day (30 days) of warranty so no refund. :(',\n",
              " \"The watch is lovely but beware the bracelet.  It is very difficult to adjust unless you're a jeweler.  My husband (who is very handy) tried to remove some links and the strap broke very easily.  Pay to have a jeweler adjust the fit.\",\n",
              " 'Strap looks better in real life, love the watch itself!!!',\n",
              " 'WAY too BIG and awkward (size not obvious in the pictures).',\n",
              " \"I purchased this Casio watch a week ago to replace a much more expensive watch that kept giving me problems, first with water leakage, then with a faulty band.  It's a nice-looking watch with high-visibility numbers and hands.  Setting the time was easy, and it's keeping accurate time.  The band seems rugged.  I haven't done anything abusive to it yet, so I don't know how the crystal will hold up (the super-hard crystal was one thing I loved about my troublesome old watch).  The Casio does not have a screw-down crown to keep out moisture, but I've been wearing it in the shower with no signs of moisture problems yet.  So, all-in-all, I'm quite pleased with the watch, especially for the price.  I didn't give it five stars because, really, how much can you love a cheap watch like this?  But in terms of value for the money, it's definitely looking like five stars so far.\",\n",
              " 'Good Watch.. Excellent',\n",
              " 'Great watch ,large and blingy, just as it looks at the picture!',\n",
              " 'The watch starting losing time almost immediately.',\n",
              " \"I received my watch in a very timely matter and it was packaged better than my previous G-Shock from the store. I love every aspect of this watch. It's great for my job and stylish enough to wear outside of work.\",\n",
              " 'Amazing, outstanding, and beautiful watch!<br />All I have to do is get a link or two taken out.',\n",
              " \"The strap of the watch was cut after using the watch for only 2 days<br />Don't buy this watch\",\n",
              " \"I can't really personally give a review here because it was a gift for my boyfriend. He's a watch collector though with some pretty expensive taste (his next &#34;reasonably priced&#34; watch that he wants is over $3,000). He loves this watch and wears it at least once a week.\",\n",
              " 'Good',\n",
              " \"Hard to unhook at first, but it's great now!\",\n",
              " 'This watch will not allow for second hand setting.  Two other watches were sent and they too could not set second hand.  Just be aware that these Seiko watches are not made in Japan!',\n",
              " 'Great watch for the money!',\n",
              " 'very good',\n",
              " \"This watch is awesome, it's a high quality design. The product arrived 2 weeks earlier than estimated.\",\n",
              " 'very nice',\n",
              " 'This watch was enormous on my wrist. I will be returning it. I like the looks of the watch quite a lot, but just too big,',\n",
              " \"That's too bottons not working. Only accesoris?\",\n",
              " 'Very cute and durable',\n",
              " 'clock meets all expectations',\n",
              " 'This watch is beautiful , fits great, and is a fantastic buy.  The photo on this site does not do justice for how this item really looks in person.',\n",
              " 'Amazing quality! Love it',\n",
              " 'Beautiful',\n",
              " \"I received this product at a discount in exchange for an honest review.  Beautiful watch and bracelet.  Not a bad color so it doesn't scream fake but the clamp is very hard to open so it's not that easy to put on.\",\n",
              " 'Just nice. In accordance to the price paid.',\n",
              " 'This was a gift and the person I gave it to loved it very much!',\n",
              " 'The watch itself it fine, but the watch band is too small.',\n",
              " 'great fit and durrable.',\n",
              " 'I bought this watch for my girlfriend, she was so happy when I gave it to her, very nice I really recommend',\n",
              " 'Disappointed!  Boring due to same color on the band, the trim and he face!!',\n",
              " 'This watchband literally fell apart after 6 weeks of wear.  The leather at the connection to the watch started to pull apart, but before that part broke, the leather at the buckle gave way and the buckle fell off.  Since there was no way to repair it, it went in the trash.',\n",
              " 'I had purchased one of these last year, but had dropped it and cracked the crystal. I liked the watch, sturdy but not large and thick like many pro divers. However, when I ordered another recently it came with a dead battery and I sent it back. That process went smoothly, but I decided to go another route.',\n",
              " 'Great watch. Like the large face. Directions need to be somewhat more explicit.',\n",
              " \"it's pretty early to  to give a good rating, but I think I'm going to love it\",\n",
              " 'Nice',\n",
              " 'The blue is very dark, almost a black.  Not as light as the picture shows.',\n",
              " \"This was a great buy and a beautiful watch, but I returned it because the face was really large, the band was very loose, and it's too &#34;flashy&#34; for wearing it with my normal wardrobe. I think if you were dressed up for a special occasion, it might be just right. It's hard to rate it with the stars, so I put three.\",\n",
              " \"Have had this watch for one week and am very pleased with it so far.  It is my first automatic watch and is more accurate than I expected.. I have been recording times with an app called WatchCheck, from Google Play Store, and over the last week it is only running fast by just over 6 seconds (an average of 0.9 sec/day per the app).  It runs slightly fast when wearing and slightly slow when off and laid vertical with 3:00 up.  They seem to cancel out very well.<br />It is very light thanks to the titanium construction.<br />I cannot comment on the water resistance of the watch since I have not exposed it to water, It does have a screw in crown that seems sturdy.<br />Some things I suggest for future models:<br />a) a larger luminous area on the second hand.  Hard to see in dim light.<br />b) better luminosity in general.  They are bright when you first go into a dark room but seem to fade fairly quickly, Basically, don't expect to wake up in the middle of the night and easily see the hands of the watch when it's on your nightstand.  There is some glow, but it is very faint, making it fairly hard for me to tell the time even when fully dark adapted. Maybe add red outlines on all the hands since the minute hand is much easier to see.<br />c) a domed crystal: this watch has a flat crystal and it does seem more reflective (see photo).  Have also read that domed are more durable, but I have not had any problems with durability of this one to date.<br />d) more watch band options:  I got the bund band and it seems it be of good quality and was comfortable but I also ordered a nato/zulu style band from Infantry Co., that I think looks sportier (see photo) and makes it less likely to drop the watch if a lug spring pin popped for any reason.  I will probably mainly use the nylon band.<br />Overall I think the watch is a good value (the other watches I had considered were Hamilton's that were considerably more expensive and did not have the screw in crown and therefore, were rated less water resistant).<br />I would definitely buy this watch again and recommend it.ated less water resistant).<br />I would definitely buy this watch again and recommend it.\",\n",
              " 'Great watch',\n",
              " 'Exactly what I was looking for, inexpensive, fast delivery.',\n",
              " 'Beautiful watch',\n",
              " 'This watch SMELLS so bad you can not even wear it! Stinks like mildew. It looks ok but wasted my money on it because the smell is atrocious.',\n",
              " 'Simply beautiful, far exceeded my expectations!!! Highly recommend it!!! Perfect for everyday wearing and goes with any attire!!! Very satisfied.',\n",
              " \"(*Full Disclosure* I purchased this watch elsewhere on a TV network so this is a C&P of my review for it)<br />For a long time I was teetering back and forth from choosing this or the SAN Specialty mirror high polish gold/gold, but in the end it came down to me preferring the face of the SAN IV which imo needs no explanation, the line has many beautiful combinations all of which being due to the great cutout layering of the Swiss cross throughout the dial. Getting on to reviewing the watch, a piece that hopefully will once again be in stock and available for sale again lest my review be in vain.<br /><br />It arrived and of course it was immediately sized, and resized and micro adjusted a few times, yes this is a watch and bracelet design that can be challenging to those not familiar with large heavy watches with SS bracelets, it's all about finding that sweet spot and then it's smooth sailing. I emphasize this because proper sizing and simple micro-adjusts can make or break your watch experience. Depending on the weather or season my wrist can vary quite a bit, so I size it as tight as possible with the links and then I'm able to easily adjust the band in small increments.<br /><br />Next up is the finish, wow what a finish it is! If you have a little OCD as I do you may want to keep a soft polishing cloth in your back pocket,lol but I am serious, it gets smudged very easily. About the extra &#34;clear coat&#34; as I like to call it, it acts much like the nickname I gave it. When I closed the safety clasp it was very tight and after 30+ uses I was pretty amazed to see that the finish was still holding firm, not even a scratch. Normally a watch that has a matte finish or SS will likely leave a good scratch on the clasp where the safety clamps down, not the case here. I've worn it A LOT over the first month and did several of my own rigorous quality control experiments which is, if you don't know, extremely important when dealing with Invicta. While my haphazardnesshas etched plenty of very fine hairline scratches, none of them even came close to the depth of the actual gold finish thanks to the clear coat polish.<br /><br />Finally, after all of that 30 day break in, the movement and chronograph have been 100% functional and the time is within one second from which I set it to on arrival, month date and snapback day of the week all working just fine. The Ronda 8040N is easily my favorite quartz movement. As for the flash of the finish, yea it's loud and blingy, not everyone can pull it off, but you guys can sort that kinda thing out for yourselves. As for me I love it. This marks my 7th higher end Invicta I've purchased in the last year and a half, all of them Swiss quartz and over that time every single watch is within 5 seconds of what I set it too. The bottom line is that Invicta's design team has been operating at a level of intricacy and making designs that are unrivaled in their beauty and function(when they do function;)har har, and this piece is proof of it. I really wish they would attempt to redeem themselves in the public eye by boosting QC and CS, but until then they will leave customers weary, even people like me who have had nothing but positive experiences and collectors alike can't help but to hope to heck they don't ever need to deal with Invicta's CS for warranty service, but enough of that, they know what needs improvement and as long as I continue to receive quality timepieces I'll remain I customer of Invicta. Pictures included below. JD\",\n",
              " 'PURCHASED FOR MY 6 YEAR OLD GRANDDAUGHTER AND SHE LOVES THIS WATCH! SHE WEARS IT ALL THE TIME!',\n",
              " \"Little on the large side for a women's watch. Keeping good time so far 4 rating due to size\",\n",
              " 'Great watch for the price. Looks like it cost more. Keeps time very well.',\n",
              " 'I got this as a gift for my husband, and he loved it. It is a very big heavy watch, with a lot of buttons and features, but still looks very nice when he gets dressed up.',\n",
              " \"The look and feel of the watch are all right. I love the hand-wind functionality. I encourage the maker and other watch makers to design and promote more watches that don't need batteries for the sake of our planet. I could be asked to makers of items that could work with energy coming from a hand winded source.\",\n",
              " 'I get compliments on it also it looks great and it goes with anything I want to wear it was definitely a great buy.',\n",
              " 'Good',\n",
              " \"Looks nice, but the ticking is really loud.  Edit: the dial broke off after a few months of use. I don't think I was particularly rough with it...\",\n",
              " 'Gorgeous watch at a reasonable price. Very classy, elegant, and simple. The casing it comes in is also very nice!',\n",
              " 'Looks and feels like a fake watch',\n",
              " \"I bought this as a replacement band for a Pebble Time and it works beautifully. It's a perfect match for the watch color and functions exactly as specified. The only minor drawback is with sizing: it's virtually impossible for anyone without the dexterity of an octopus to grasp two tiny screwdrivers and exert enough force to be able to unfasten the links. I ended up using a Swiss army knife blade to prevent one screw from turning and then unscrewing the other with a watchmaker's screwdriver.\",\n",
              " 'Delicate and fashion, if the table shows the second hand,then it is perfect.',\n",
              " 'Worst item ever purchased, not even worth a DIME!!! Broke the first time I wore it, fell right off my arm while I was wearing it,',\n",
              " 'Beautiful watch.  I own several Kenneth Cole watches in different styles, and this is one of my favorites.  The dial is easy to read and while I typically wear reading glasses,  I am able to read the day/date hands without them.  Besides a wedding band, watches are the only &#34;jewelry&#34; that I wear.  This one fills the bill as both an attractive and functional timepiece. The only negative comment I would share, and the reason I give it 4 stars instead of 5 relates to the description which indicates that this watch has a &#34;21-jewel, Japanese quartz analog automatic movement, with exhibition case back&#34;.  It is a Japanese quartz movement but does not have an exhibition case back, nor an automatic (self-winding) movement.',\n",
              " 'Just as described....works wonderful...fast delivery as well .',\n",
              " 'I waited for a long time after placing the order, but in the end it all worth the wait.<br /><br />Very decent quality and packaging, especially considering the reasonable price.',\n",
              " \"This is a fantastically well-made, quality product.  Easily the best watch band I've ever owned!  Except for the fact that when I sweat the band stains my arm . I guess whatever they use to stain the leather didn't set properly or something.  If it wasn't for that, I would have given it five stars.  The black finish had started wearing off the hardware,  but that just gives it charm I think.<br /><br />Update: I bought this watchband on August 16, 2015. I used it for one year and seven months before replacing it. I've changed this review from 3 to 4 stars based on the durability of the band over that time. The hardware held up without fault, aside from the loss of color. Towards the end the leather started showing it's age by cracking and stretching. This is forgivable since this band only cost a surprising $11 at the time. Arm staining continued for a few months before tapering off with no lasting effects. Overall, this was a really great value and I wholeheartedly recommend it to others.<br /><br />(Last three pictures are after 1yr 7mths of use)\",\n",
              " 'it broke, I want my money back.',\n",
              " \"I feel that I'm going to ask for a replacement because the glass you can see has some very little bruises which is unnoticeable and the product is very chique and classy.\",\n",
              " 'Great watch band.',\n",
              " 'Great watch. Look well.',\n",
              " 'My husband and I got this for our daughter for her birthday, and she absolutely loves it!!  It is so cute and looks even better than the pictures!',\n",
              " \"But if you want to keep your watch looking like it has original parts, just spring for it.<br />I like the the watch, but the design isn't made for everyday.\",\n",
              " 'I have gone through a variety of Casio watches, and by far this is the best one I have ever acquired: Very sturdy, large font to see the time, the buttons on the sides require significant force to apply hence do not get pressed by mistake. The solar charge works very well; you can get it fully charged by placing it out in the bright sun one day (all day), after which just make sure to give it some sun on a regular basis (while wearing).',\n",
              " 'Just what I wanted!',\n",
              " 'Really beautiful watch. Big but fits very comfortably. Orange on silver/black a really nice combo.',\n",
              " 'Excellent quality and very fast shipping thank you.',\n",
              " \"The watch is fine.  I'm okay with it.  It's pretty much what I expected it to be, but it is NOT red.  The one color I cannot wear it with is red - which I have a lot of in my wardrobe.  The color is more like salmon.  There is pink in it.  Just disappointed in the color, but will keep the watch.  I like the watch.\",\n",
              " \"I've been wearing this watch for several months and I love it. It's a great weight and isn't too heavy. The face is striking and easily readable, with the mother of pearl adding a nice touch. I've worn it underwater many times while swimming this summer with no moisture leaking in. The bubble over the date took a bit to get used to, but now I can read the date without issues. Easily adjusted to the correct size for me. The clasp feels secure and I haven't noticed it opening at all. I have noticed a bit of the rose gold finish wearing off where my wrist rests on tabletops, but it's not noticeable to anyone but me. Great watch, would buy again!\",\n",
              " 'Nice watch, however the buckle on the watch band broke when I first tried it on!!',\n",
              " \"Later on I don't know yet.....but right now it,s amazing and like this watch very much....that's I'm looking for they have date,day and month.....\",\n",
              " 'Stopped working about 24 hrs after I got it. Dead battery.',\n",
              " 'Perfectly adequate traditional watch and band with date and handy Indiglo (face lights up with pressing on the knob) feature.<br />Cost is about 2/3 of buying in Target or other retail facility. arrived promptly as promised.',\n",
              " 'Good product',\n",
              " 'Excellent',\n",
              " 'not for me but if you like a large watch face it is a nice watch',\n",
              " 'Looks good but arrived with dead battery',\n",
              " 'It looks awesome, but the time changes constantly.  I have to ask my husband to set up the correct time constantly.',\n",
              " 'nice',\n",
              " \"Not real heavy and the metal makes a kind of thin aluminum sound when it's moved, but it looks nice and for $5, I'd say it's just about perfect.\",\n",
              " 'It has already fallen apart!',\n",
              " \"Honestly, I think this is what a Daniel Wellington should cost...<br />Pros: lightweight (forget it's on) and simplistic (easily matches w/anything).<br />Cons: Thinness of whole piece (makes it look a bit cheap), No second hand (Could be a preference, but also makes it look lifeless mad cheap/broken) It just seems like Made in China is written all over it.<br /><br />Reason to buy: this is the best price out there, and the best part of DW is the easily interchangeable straps, I would suggest buying a couple of 20mm Nato straps to add some variety to this purchase ($5-15). Make sure you get rose gold though.\",\n",
              " 'Watch itself it neat, but the rods that hold the band on keep popping off.',\n",
              " 'I love it..',\n",
              " \"The colors, ease of use, and style of this watch are great. The size should be good for most people. I am a woman with slim/average sized wrists and wear the watch almost at its tightest. The watch is lightweight and fairly slim.<br />Negatives: The inner Velcro seam was itchy at first, but it doesn't bother me as much after a couple days. Also, the date isn't displayed on the face unless you press start/stop.\",\n",
              " 'Exactly as described. Fits the Apple Watch perfectly.',\n",
              " 'it was just what I was looking for',\n",
              " \"This watch is even better than I'd hoped. Looks amazing and the quality out weighs the value by a great deal. Couldn't be more happier with my purchase. This is my first invicta but can guarantee, won't be my last!\",\n",
              " \"The backlight is not very good. It only lights up the digital section at the bottom of the watch. Other than that, I haven't had any problems with this watch.\",\n",
              " 'very think strap',\n",
              " \"Simple and elegant design for the tightest of budgets. It's plastic so the cover will scuff easily, but a replacement is cheap!\",\n",
              " 'One funky looking watch. Big face. Keeps good time...2 year warrantly.',\n",
              " 'this is really good looking watch and i can give  5 stars just for the look and that it works well..... but there is a big problem with its band.... i just wore it for couple of days and it just teared up......so it deserves 1 star for it.........can not even find a new band to change it...........',\n",
              " \"Worked as expected and very good quality.<br />It came with spring bars (I did not use them, but it's always good to have a spare)<br />Now, the leather may be a bit stiff at first, but after break in time, it looks and feels very nice!\",\n",
              " \"This is a good watch for people who want something simple -- no alarms, no extra gadgets.  I've only had it a few months, though, so can't say how it will last.\",\n",
              " \"The SKX series are classic automatic watches and a great value.  These are the Kalashnikovs of the watch world - iconic styling, robust construction, but not terribly accurate.  Expect it to run +/- 10-20s per day and you won't be disappointed.  It can be regulated for much better accuracy - you can also learn to position the watch at night to make up or lose time as you need.  For me, that's part of the fun of an automatic.  It does not hack or wind if that's important for you.  Fit and finish is excellent in my opinion.  The case in particular is beautiful and you can easily trace it's evolution through an interesting lineage of Seiko divers back to the 60s.  My first (SKXA35) is still going strong after 10 years without ever being serviced (FYI it's marked mov't Malaysia same as the SKX173).  Even the Lumibrite lume and Hardlex crystal are like new.<br />I just bought this one for use as a daily 'beater' that isn't bright yellow.  I also really like the square indices, reminiscent of the old 6105 from my era...  The first watch that arrived had a misaligned chapter ring, bad enough my wife and kids could notice, so back it went.  The second watch is much better but not 100% perfectly aligned and the day/date sit low in the their window.  My wife and kids can't see it and think I'm crazy for insisting - so I kept it (but I know...).  For what it's worth, my old SKXA35 was/is perfect.  I don't know if QC has gone down hill or if I just got lucky on that one.  Anyway,  I do recommend buying 'Fulfilled Through Amazon' so you can take advantage of the easy returns if your particular watch doesn't cut it.<br />I might add that these are thickish watches at 13mm but wear well on smaller wrists.  Lug to lug distance is about 45mm, that's pretty short and I feel a better measure of fit on the wrist than diameter (42mm w/o crown).  I have a 6.25&#34; oval wrist and it feels fine and looks natural.  On a Strapcode oyster bracelet it feels wonderful and looks expensive.  On a nato strap it looks all business and is ready to get knocked about...<br />I would give this watch 5 stars if not for the QC issues with chapter ring alignment.a nato strap it looks all business and is ready to get knocked about...<br />I would give this watch 5 stars if not for the QC issues with chapter ring alignment.\",\n",
              " 'Its a bad ass watch.',\n",
              " 'Nice',\n",
              " 'VERYYYYY GOOOOOD',\n",
              " 'Really good sports watch for the price.',\n",
              " 'Good watch',\n",
              " 'Looks good and fits great.  It is thin, so I am not sure how durable it is, but it might be that I am used to the canvas style rather than the nylon.  I like how it looks on my Seiko, and will wear it as soon as I replace the battery (in my watch, the strap does not require one).',\n",
              " \"Product not as described - bezel is black not gunmetal like the face.  I live overseas and due to postage costs this is too cheap a watch to bother returning, but disappointed I didn't get what I paid for.\",\n",
              " \"I have to admit that iI wasn't quite sure I was actually going to get it first of all and that if I did if it was going to work well.<br />I'm  saying this because it was  ridiculous low price for the look that this product can give. surprisingly enough this watch works fine. except for the 24 hr  and montly indicators. they are stationary.  i though the metal part wast going to rust and change color, so far it hasn't .<br />good product for that price.\",\n",
              " 'A little small',\n",
              " 'Nice',\n",
              " 'I love it.',\n",
              " 'excellent',\n",
              " 'Excellent watch and very fast delivery.  Very pleased',\n",
              " \"This is a very nice watch. I like to use it when I am working in the garden and in the kitchen. I don't have to worry about having to take it off for dirty work.\",\n",
              " \"This is my second G shock and it's really a cool one. It's a little more expensive than the main line of Gshocks but it more than makes up for it with its appearance. As others have said here, the colors are not pure orange and blue, but a tad washed out. The Japanese special edition has more vibrant color. I knew this before hand and chose this version as I think the colors stand out enough already to the point where you can't avoid seeing it and to go further would be a little obnoxious. It's big and colorful so it works well in places like dark bars, clubs, or anywhere else at night that isn't very dressy. The yellow roller on the side is a little overpowering on the watch but it adds a little childish character to the watch. It looks like something out of a cartoon or perhaps a nerf produce or a late 80s, early 90s watch. I will wear this over my Rolex when I'm out at night just because the colors can keep. Good buy and will easily last at least a decade like most Gshocks do.\",\n",
              " 'Really beautiful.......',\n",
              " \"I bought this watch May of 2013 to use before my deployment with the army to Afghanistan. This watch is still going strong. It also looks great; not too big like some other G- Shocks I've been, and it looks more subtle than the others, which I like. I don't like the other flashy looking ones.  My younger brother is in need of a watch for cross country and am buying this one once again. Great watch, I highly recommend it!\",\n",
              " 'These have worked nicely so far.',\n",
              " \"Took about a month to get here, but it's worth the wait. I've gotten a lot of compliments on it and it even glows in the dark :)\",\n",
              " 'Very disappointed with this watch, does not work.  I removed the pin and set the time and the hands never moved.',\n",
              " 'Excellent watch! Does all I need it to do. Use the stopwatch often. Also temperature function. All easy to access and fairly easy to operate. Complicated! Just what I wanted for years.',\n",
              " 'Bought this watch for my Fiance birthday and he loved it. The watch looks so much better in person. The leather band is very well made and thick. The watch itself is great.',\n",
              " \"beautiful appearance I bought for my wife's 25th anniversary and it is worth the money\",\n",
              " 'Really nice and sleek looking watch. The style and look is very unique and is very durable. This face of the watch looks very chic. Good value for the price. I have made this my every day watch, i wear it to work, a night on the town or a nice wedding it looks good in every situation. It is a very comfortable fit I would highly recommend this watch to anyone looking for a good quality watch. This is already my second tmbr watch purchase and these watches have not given me any issues. Pick one up, you wont regret it.',\n",
              " \"It's very nice and exactly what I expected. I already had a silver one.\",\n",
              " 'Ilike the look and feel of the watch. it is very easy to operate and I love the auto time setting.',\n",
              " \"I absolutely love this watch. I don't like that the battery died a month after I bought it.\",\n",
              " 'I absolutely love this watch!! Thankfully there was no physical damage to the watch but it was loose in the box like it had just been put in there with limited care. I was a little disappointed when opening the box but thankfully the watch still had its plastic covering on the face to help protect it.  Overall, I was very pleased with the purchase. It even came in the Fossil tin. :)',\n",
              " \"truly the perfect watch....classic in it's appearance, not too bulky, perfect size.\",\n",
              " 'Broke in two weeks',\n",
              " \"I never have to worry about the time again since its an atomic talking watch. Nice big numbers and it even lights up at night! I'll never want to go back to a regular watch again!\",\n",
              " 'Excelent on time its that they offer. Elgant and finest',\n",
              " \"The lid of the box doesn't close properly with my Seiko SSC007 in it.\",\n",
              " 'Love this watch, very simple and straight forward. nothing to distract you when trying to read time.',\n",
              " 'Very nice.',\n",
              " 'Not bad, not great. It takes a little getting accustomed to, though I am not a techie wizard. The only thing I would change is the digital display. It is dim until the light is turned on. It reads the temperature accurately and other functions seem to work well. It needs to have time to take it through my routine.',\n",
              " 'good product original',\n",
              " \"very nice watch as I am an ESQ fan having owned a number of ESQ watches in the past... my favorite ESQ's  though have been and still are their Octane line of watches that they have since discontinued.. the Octane snap clasp rubber watchband is better for my needs than this standard band... this is overall a super nice watch though.. nice large numerals that are easily readable..great crystal quality..  still very happy overall with ESQ-Movado watches .. BTW I just purchased a 2nd one thru Amazon today 2/9/2016\",\n",
              " 'It does the job, however, a timer would be nice.',\n",
              " 'Good',\n",
              " 'Works well',\n",
              " 'have to say originally,  I could not tell the difference between the band that came on my citizen watch and this one. They have the same look, same thickness. This one was advertised as Leather, and while the back portion seems to be leather, the front (the part that everyone sees) is DEFINITELY NOT LEATHER...BUT VERY CHEAP VINYL. It has cracked and split to the point that after less than six weeks, I have to get another watch band. I have included a picture that shows how the band wore out over this time period and proves that it cannot be leather.',\n",
              " \"Needed a battery operated, reliable alarm clock.  This one is easy to read, the alarm is loud enough to wake me, but not jarring or harsh. There's an easy-to-locate button to light the face if you need to take a look during the night.\",\n",
              " 'Its stylish as well as functiones great with quiet mechanism unlike my old Timex. I just wish it had a sweeping second hand option without having to keep the stopwatch feature turned on.',\n",
              " 'Excelent!!!',\n",
              " 'It just wonderful. Best if you want to give as a gift.',\n",
              " 'good',\n",
              " \"This watch looks nice, but it has a nasty tendency to spontaneously stop, because the opening mechanism is at the same location as the time-setting mechanism. I left mine in Philadelphia and didn't feel compelled to go back for it.\",\n",
              " 'My watch stopped working almost right away! Gumball machine quality.',\n",
              " 'Great watch, comfortable, good looking.',\n",
              " 'Nice !!!!!!!!',\n",
              " 'The Only problem is that the strap band looks inferior and is made of a low quality.<br />I just ordered for a new quality stray band replacement.<br />The band kills the beauty of this time piece.',\n",
              " 'I love this watch!! I wanted something casual but nice and inexpensive. These weekenders take a classic look and make it totally versatile but allowing you to easily switch the bands with different styles/colors. :-)',\n",
              " \"I got this watch because I always see  it posted online with rave reviews, so I decided to give it a shot. I didn't like the band initially, but it has come to grow on me. The watch comes with a ton of functions, I don't think I'll use them all except for the indiglo feature. On thing I was happy about was that this watch doesn't have the loud tick that so many Timex watches suffer from. I was able to snag this on sale, but I wouldn't mind paying full retail for this watch. If you are looking for a stylish daily driver, do yourself a favor and get this watch.\",\n",
              " 'fell off apart and i am trying to send it back to company.',\n",
              " '10 points. everything was as expected',\n",
              " 'exactly products',\n",
              " 'Band fell off after wear it a while',\n",
              " 'Thought this watch too big for even me, a large watch lover. I think had the watch itself been somewhat thinner  and the band slightly more narrow I would have kept it as it was a beautiful color. As it was, I returned mine the same day I received it. But for those who love really large face watches, this one is great!',\n",
              " \"This box is beautiful and was a great gift! I took it to a local engraver to have my husband's initials added, which just added to the character. Love this!\",\n",
              " 'GREAT WATCH , VERY COMFORTABLE TO WEAR',\n",
              " 'Having had a Pathfinder for ten(10) years, I am about to get another.  Still operates great(features and solar powered) but is beginning to look its age.  Great for traveling other time zones too!  Not Bonny&#62;&#62;&#62;&#62;J',\n",
              " \"The pictures don't really give you an impression of how big it is. THIS THING IS GIANORMOUS!!! Perfect if you want everyone to know that you are wearing a watch. But not really my style.\",\n",
              " 'That best buy ever',\n",
              " 'very comfortable nice fit goes with everything really glad I purchased like it a lot',\n",
              " 'Great watch.',\n",
              " 'The product as per the shipping agreement. The watch was packaged well. The only problem was the battery was just about dead. I had to send the watch to Nixon to have the battery replaced.',\n",
              " 'you get what you pay for.  not the best quality.  would not buy again.',\n",
              " \"If you're looking for a stylish and heavy-duty watch with an analog readout, check out Swiss Legends.  This watch has the same look as what you would see on James Bond.  Extremely heavy-duty, but stylish at the same time (no laser beams or decoders included that I know of though).<br /><br />I've had a number of watches, but this one is by far the heaviest I've ever owned (not just heavy duty, but it physically weighs a lot).  So if you like the feeling of knowing you have the watch on your arm, then this is a great option.<br /><br />The readout has a lot of settings.  There are stopwatch capabilities, including lap timer, multiple different time zone readout options, and date.<br /><br />It does take a bit of time (no pun intended) to learn how to use this sophisticated watch.  But once you learn the basics, it is fairly intuitive.<br /><br />Be sure you get the chronograph version (unless you enjoy regularly winding the watch, or you're prepping for an EMC and you want a watch that won't stop working).<br /><br />The only notable downside - the many readouts, and the instruction manual, are tiny.  My eyes are starting to go and I can really only read the &#34;big hand, little hand&#34; parts without the aid of eyeglasses.  Even the date is too tiny for me to read without eyeglasses.  So one star removed because of my aging eyes.<br /><br />Also, unless your wrist exactly fits this watch, you'll likely be taking it to a jeweler to get a link or two removed in order to size it for your wrist (but that's the case with any high-end watch).\",\n",
              " 'this watch so far has been really nice. it fits comfortably, not big and bulky, easy to use perfect for work',\n",
              " \"this watch performs all the functions I need it to have it perform. It is inexpensive and durable. I'll buy another one when this one breaks.\",\n",
              " 'very good',\n",
              " \"It's just like in the picture but would have appreciated if they offered wrist sizing\",\n",
              " \"Not sure if it's even genuine. This watch can pass 12 two or three times before the date will change.\",\n",
              " 'Looks great and good quality.',\n",
              " 'Metal feels kinda cheap, but watch looks great.',\n",
              " 'Have used it several times.  Works great!',\n",
              " 'hard to set time, etc. Even with the instructions was unable to set it.  Nice looking though',\n",
              " 'Love this watch. Face is easy to read and not too big on my wrist. Leather band is beautiful shade of blue and comfortable as well. Thanks for a great value.',\n",
              " 'I like the style and fit but the clasp is installed backwards, it makes it difficult to clasp yourself so you have the have the made in china face outwards instead of Akribos.',\n",
              " 'Looks sharp! The face is a bit big for my liking but my husband loves it and it was a great value for a nice &#34;dress watch&#34;.',\n",
              " \"I've just received this watch 4 days ago and when I press the light buttom it goes like crazy, changing light colors and it doesn't stop.<br />I set the time and just one day after it had 45 minutes behind real time.  So, It definitely has a serious quality problem!<br />So, It's just a waste of money!\",\n",
              " \"This is a cool looking watch without going too far, the stainless steel case is well machined and solid, the offset 10 O'Clock crown is knurled making it easy to grip while adjusting. A Sapphire Crystal is strong preventing scratches much better than mineral glass that you'l find in many watches in this price range.  This watch comes in a shaped ballistic nylon case that zips the clam shell case closed keeping your watch safe when not being worn. The second hand extends the full 12 to 6 O'clock length, half of the second hand is red so its easy to keep track of. The ribbed soft rubber strap is light and comfortable, its shaped at the contact points helping to keep it from rolling around on your wrist. No rubber smell emitting from this strap. The hour and minuet hands have blue/Green luminous markers, they hold a good glow for longer than most showing Oakley cared about the details.\",\n",
              " 'I used a push pin to remove links from the band, which was very easy. Light weight overall. You can definitely hear the second hand tick, but this is not a problem for me.',\n",
              " \"She likes the appearances, the fit and the feel time will tell if it's a fantastic watch.\",\n",
              " \"i have just received my hilfiger men's watch. it is perfect except that i cannot get instruction anywhere`order no. 701-2002682=7454662  it is a<br />tommy hilfiger men's 1710337.  please. i know that i am no quite in the rightn dept.\",\n",
              " 'The watch is beautiful! I love it',\n",
              " 'Very pleased.  Beautiful watch and very fast delivery.',\n",
              " 'Package arrived in time, product is excellent clock is working but a bit bigger than indicated in the picture, overall satisfied with the transaction.',\n",
              " \"I've had itcsbout a month now & like it.  It was just as represented, is attractive and keeping good tome.\",\n",
              " 'Stamp is incorrect on backside. It is reversed, so can tell it is a remake. It is still very nice though.',\n",
              " 'Beautiful - love it!',\n",
              " \"It's a good watch for the price. The watch band broke already, just popped apart.\",\n",
              " 'It stoped working 3 days after arriving...',\n",
              " 'very very nice finish , fast and easy to adjust !',\n",
              " \"I just loved it.. it's glass so you have to keep it clean from top and bottom but it worth it.\",\n",
              " \"This is truly a magnificent watch.. it's a quartz movement watch but the quality is incredibly. Pictures don't do justice to it. A great watch for this price.\",\n",
              " 'Beautiful workmanship.  Chimes have volume control, so can be tuned to a room.  Good purchase.',\n",
              " 'Metal feels kinda cheap, but watch looks great.',\n",
              " 'Great looking, stylish very comfortable',\n",
              " \"I got it in a black plastic bag covered in tape. It doesn't tell the time. Its about a half second slow. It confused me for half the day. Also the strap broke as I first put it on. The gem stones instide the watch fell off on that one day I wore it. I guess it makes a good maraca...\",\n",
              " 'works well, it is a bit difficult to program without the manual.',\n",
              " 'Very nice and quiet',\n",
              " \"I love this watch! It's so unique and I've gotten lots of compliments.<br /><br />Initially after ordering, I got a quick email with a shipping confirmation, and received the watch a few days later. It shipped inside a nifty little suede pouch with a button fastener, and I use it as a place to set my watch on my nightstand.  After I got it the first day and did a quick inspection, the watch was flawless with a really nice rose gold finish. The wood dial is stunning with the tmbr logo very tiny and understated. The crown clicks in and out precisely, and overall the watch feels like precision workmanship.<br /><br />The band is nice supple leather that breathes quite well, even when it's humid outside, and the buckle matches the rose gold watch case perfectly.<br /><br />This is all good news, because I'll probably buy another one. After a week of me wearing it, my wife decided she liked it so much that she claimed it for herself.  She has very tiny wrists, but I have to admit it looks great on her, too.\",\n",
              " 'Received quickly and will make a lovely Christmas gift!',\n",
              " \"It's prank, the worst item I ever bought from Amazon, I got it for my girlfriend on her birthday and withe two months it turns the colors which made me look like s***, wish I could give lower than one star also.\",\n",
              " 'Scrached to easy and if i would have known it was so heavy i would not have bought it.',\n",
              " 'What a gorgeous watch!  I am a nurse and wanted an everyday watch to wear to work with some style.  This is it!  I have received many compliments already!',\n",
              " 'Very good!',\n",
              " \"It's OK,very pretty. It it much too large for me to wear, but would look lovely if you like BIG watches.\",\n",
              " \"Exactly as advertised. It's the real deal. My pathfinder has seen some rough days, and the band was about to go. I expected to have problems with the screws, but aside from having to use knives as screwdrivers, the bolts came out and went back in easily, even though they were badly bent. That's the only downside to this product; it doesn't come with the screws, but it said that in the description. But the band is nice and legit. Nicer than my ratty old watch!\",\n",
              " 'I like it!!',\n",
              " 'Is so cute .love it',\n",
              " 'Excellent value for this watch, for smaller wrist - best purchase price you could find anywhere',\n",
              " 'Awesome watch!!! Love it',\n",
              " 'Just what was shown and ordered.  Delivery etc was good.',\n",
              " 'It is a very nice clock with  sweeping second hand.  We purchased it for our administrative office and it is a very nice addition.',\n",
              " \"Strap too short and I don't have large wrists.  Loops keep migrating.  Other than that it does it's job albeit &#34;snugly&#34;.  For 12 bucks I'm being too fussy.\",\n",
              " 'Great watch',\n",
              " 'Magnifique watch very sturdy very high quality 100% recommend use it everyday',\n",
              " 'a very nice watch for a good price.',\n",
              " \"I received this product at a discount in exchange for an honest review.  Fits the wrist very well and it's a cool watch.  Does not come with any instructions and it's pretty tough to set.\",\n",
              " 'My husband LOVED it😁👍🏽👍🏽👍🏽👍🏽',\n",
              " 'very nice!',\n",
              " \"I like this watch. It's got a retro look to it. I have a skinny wrist so the band is on nearly the tightest notch, but that's ok. The face is big but not overwhelming and the numbers are clear. The date is hard to read, but hey, I'm retired, so who cares what the date is!\",\n",
              " \"Excellent replacement/alternate  watch, considering it's not a &#34;high dollar&#34; model.  I bought it as a back up to my other watch of the same type, and I was surprised to see it has a 10 year battery (didn't think that was possible; will see).  Anyway, the five alarms are nice to have, it looks nice; with decent sized numbers for me (eyesight's not what it used to be).  Nice color.  My other is black and silver this is as pictured, black and blue; which is cool, as I like both colors.  Nifty little inexpensive watch to have.  It includes manual, which the Casio Men's AW80D-1AVCB 10-Year Battery Ana-Digi Bracelet Watch did not, reviewed separately.\",\n",
              " \"I'm late getting to the party, but after discovering Invicta watches I just can't get enough of them. There is a watch for every situation from dress to casual. After acquiring several of these in a short time, I can honestly say that I have not been let down in style or performance. I don't think I'll ever buy another watch that isn't an Invicta!!!!!\",\n",
              " 'Wear it all the time!',\n",
              " 'very good.',\n",
              " 'Watch is exactly as it is shown in the picture..would definitely recommend..',\n",
              " \"Really large on the arm but that's what I wanted - thx!\"]"
            ]
          },
          "metadata": {},
          "execution_count": 15
        }
      ]
    },
    {
      "cell_type": "markdown",
      "source": [
        "# Tokenizing and Stemming from NLTK\n",
        "Load stopwords and stemmer function from NLTK library. Stop words are words like \"a\", \"the\", or \"in\" which don't convey significant meaning. Stemming is the process of breaking a word down into its root."
      ],
      "metadata": {
        "id": "AhV8HEwcvytX"
      }
    },
    {
      "cell_type": "code",
      "source": [
        "stop_words= nltk.corpus.stopwords.words('english')  #engllish stopwords, not chinese or French\n",
        "stop_words.append(\"'s\")\n",
        "stop_words.append(\"'m\")\n",
        "\n",
        "stop_words.append('watch')\n",
        "\n",
        "print(\"We use \"+ str(len(stop_words)) +\" stop-word from nltk library.\")\n",
        "print(stop_words[:10]) #first ten stopwords"
      ],
      "metadata": {
        "colab": {
          "base_uri": "https://localhost:8080/"
        },
        "id": "_NvTKzY-wB3m",
        "outputId": "9387c96c-d64b-46e7-a74a-fb720fb05083"
      },
      "execution_count": null,
      "outputs": [
        {
          "output_type": "stream",
          "name": "stdout",
          "text": [
            "We use 182 stop-word from nltk library.\n",
            "['i', 'me', 'my', 'myself', 'we', 'our', 'ours', 'ourselves', 'you', \"you're\"]\n"
          ]
        }
      ]
    },
    {
      "cell_type": "code",
      "source": [
        "data[0:5]"
      ],
      "metadata": {
        "colab": {
          "base_uri": "https://localhost:8080/"
        },
        "id": "am0f0DSdDhGW",
        "outputId": "f3c2f1b4-4904-478c-b1f5-839accbf0347"
      },
      "execution_count": null,
      "outputs": [
        {
          "output_type": "execute_result",
          "data": {
            "text/plain": [
              "['Absolutely love this watch! Get compliments almost every time I wear it. Dainty.',\n",
              " 'I love this watch it keeps time wonderfully.',\n",
              " 'Scratches',\n",
              " 'It works well on me. However, I found cheaper prices in other places after making the purchase',\n",
              " \"Beautiful watch face.  The band looks nice all around.  The links do make that squeaky cheapo noise when you swing it back and forth on your wrist which can be embarrassing in front of watch enthusiasts.  However, to the naked eye from afar, you can't tell the links are cheap or folded because it is well polished and brushed and the folds are pretty tight for the most part.<br /><br />I love the new member of my collection and it looks great.  I've had it for about a week and so far it has kept good time despite day 1 which is typical of a new mechanical watch\"]"
            ]
          },
          "metadata": {},
          "execution_count": 16
        }
      ]
    },
    {
      "cell_type": "code",
      "source": [
        "from nltk.stem.snowball import SnowballStemmer\n",
        "#from nltk.stem import WordNetLemmatizer\n",
        "stemmer = SnowballStemmer('english')\n",
        "def tokenization_and_stemming(text):\n",
        "  tokens=[]\n",
        "  #exclude stop words and tokenize the document, generate a list of string\n",
        "  for word in nltk.word_tokenize(text):\n",
        "    if word.lower() not in stop_words:\n",
        "      tokens.append(word.lower())\n",
        "  filtered_tokens = []\n",
        "\n",
        "    # filter out any tokens not containing letters(eg, numeric tokens, raw punctuation)\n",
        "  for token in tokens:\n",
        "    if token.isalpha():\n",
        "      filtered_tokens.append(token)\n",
        "\n",
        "    #Stemming\n",
        "  stems = [stemmer.stem(t) for t in filtered_tokens]\n",
        "  return stems\n"
      ],
      "metadata": {
        "id": "iEl7sgVC6eFi"
      },
      "execution_count": null,
      "outputs": []
    },
    {
      "cell_type": "markdown",
      "source": [
        "The snowballstemmer module has two functions.\n",
        "\n",
        "The snowballstemmer.algorithms function returns a list of available algorithm names.\n",
        "\n",
        "The snowballstemmer.stemmer function takes an algorithm name and returns a Stemmer object.\n",
        "\n",
        "Stemmer objects have a Stemmer.stemWord(word) method and a Stemmer.stemWords(word[]) method.\n",
        "\n"
      ],
      "metadata": {
        "id": "_doTYl1i7xjH"
      }
    },
    {
      "cell_type": "code",
      "source": [
        "tokenization_and_stemming(data[0]) #showing what the first review look at after tokenization"
      ],
      "metadata": {
        "colab": {
          "base_uri": "https://localhost:8080/"
        },
        "id": "pQYr3NelGKhO",
        "outputId": "f45ec0e5-98f9-4f2d-8448-b12e4fdbf48f"
      },
      "execution_count": null,
      "outputs": [
        {
          "output_type": "execute_result",
          "data": {
            "text/plain": [
              "['absolut',\n",
              " 'love',\n",
              " 'get',\n",
              " 'compliment',\n",
              " 'almost',\n",
              " 'everi',\n",
              " 'time',\n",
              " 'wear',\n",
              " 'dainti']"
            ]
          },
          "metadata": {},
          "execution_count": 20
        }
      ]
    },
    {
      "cell_type": "code",
      "source": [
        "data[0]"
      ],
      "metadata": {
        "colab": {
          "base_uri": "https://localhost:8080/",
          "height": 35
        },
        "id": "4SZHGnJOG_PM",
        "outputId": "cded4486-dfb6-4a24-f612-996db8dbd49e"
      },
      "execution_count": null,
      "outputs": [
        {
          "output_type": "execute_result",
          "data": {
            "text/plain": [
              "'Absolutely love this watch! Get compliments almost every time I wear it. Dainty.'"
            ],
            "application/vnd.google.colaboratory.intrinsic+json": {
              "type": "string"
            }
          },
          "metadata": {},
          "execution_count": 21
        }
      ]
    },
    {
      "cell_type": "markdown",
      "source": [
        "# TF-IDF\n",
        "Term Frequency Inverse Document Frequency"
      ],
      "metadata": {
        "id": "0CeKDYgvHCXz"
      }
    },
    {
      "cell_type": "code",
      "source": [
        "from sklearn.feature_extraction.text import TfidfVectorizer\n",
        "#define vectorizer parameters\n",
        "#TfidfVectorizer will help us to create tf-idf matrix\n",
        "#max_df: maximum document frequency for the given word\n",
        "#min_df: minimum document frequency for the given word\n",
        "# max_features: maximum number of words\n",
        "# use_idf: if not true, we only calculate tf\n",
        "# stop_words : built-in stop words\n",
        "# tokenizer: how to tokenize the document\n",
        "# ngram_range: (min_value, max_value), eg. (1, 3) means the result will include 1-gram, 2-gram, 3-gram\n",
        "tfidf_model = TfidfVectorizer(max_df =0.99, max_features=1000,\n",
        "                              min_df = 0.01, stop_words=stop_words,\n",
        "                              use_idf = True, tokenizer=tokenization_and_stemming, ngram_range=(1,1))\n",
        "tfidf_matrix = tfidf_model.fit_transform(data)\n",
        "#fit the vectorizer to synopses(a brief summary or general survey of something/an outline of the plot of a book, play, movie, or episode of a television show/概要)\n",
        "print(\"In total, there are \" +str(tfidf_matrix.shape[0])+ \" review and \" + str(tfidf_matrix.shape[1])+ ' terms.')\n"
      ],
      "metadata": {
        "colab": {
          "base_uri": "https://localhost:8080/"
        },
        "id": "j98xSX_kHJL3",
        "outputId": "06c8e7fc-d04c-413f-8ec0-171ecc36a947"
      },
      "execution_count": null,
      "outputs": [
        {
          "output_type": "stream",
          "name": "stderr",
          "text": [
            "/usr/local/lib/python3.7/dist-packages/sklearn/feature_extraction/text.py:401: UserWarning: Your stop_words may be inconsistent with your preprocessing. Tokenizing the stop words generated tokens ['could', 'might', 'must', 'need', 'sha', 'wo', 'would'] not in stop_words.\n",
            "  % sorted(inconsistent)\n"
          ]
        },
        {
          "output_type": "stream",
          "name": "stdout",
          "text": [
            "In total, there are 1000 review and 276 terms.\n"
          ]
        }
      ]
    },
    {
      "cell_type": "code",
      "source": [
        "tfidf_matrix"
      ],
      "metadata": {
        "colab": {
          "base_uri": "https://localhost:8080/"
        },
        "id": "LR4ajGrqPSjT",
        "outputId": "f72c6959-393f-4d1a-d3dc-a81115fca648"
      },
      "execution_count": null,
      "outputs": [
        {
          "output_type": "execute_result",
          "data": {
            "text/plain": [
              "<1000x276 sparse matrix of type '<class 'numpy.float64'>'\n",
              "\twith 8048 stored elements in Compressed Sparse Row format>"
            ]
          },
          "metadata": {},
          "execution_count": 23
        }
      ]
    },
    {
      "cell_type": "code",
      "source": [
        "tfidf_matrix.toarray()\n",
        "#todense()\n",
        "#toarray returns an ndarray; todense returns a matrix. If you want a matrix, use todense; otherwise, use toarray."
      ],
      "metadata": {
        "colab": {
          "base_uri": "https://localhost:8080/"
        },
        "id": "jymnF3gYPXR0",
        "outputId": "f0cbcbfa-0106-4646-af41-17681f43006e"
      },
      "execution_count": null,
      "outputs": [
        {
          "output_type": "execute_result",
          "data": {
            "text/plain": [
              "array([[0.        , 0.43786652, 0.        , ..., 0.        , 0.        ,\n",
              "        0.        ],\n",
              "       [0.        , 0.        , 0.        , ..., 0.        , 0.        ,\n",
              "        0.        ],\n",
              "       [0.        , 0.        , 0.        , ..., 0.        , 0.        ,\n",
              "        0.        ],\n",
              "       ...,\n",
              "       [0.        , 0.        , 0.        , ..., 0.        , 0.        ,\n",
              "        0.        ],\n",
              "       [0.        , 0.        , 0.        , ..., 0.        , 0.        ,\n",
              "        0.        ],\n",
              "       [0.        , 0.        , 0.        , ..., 0.        , 0.        ,\n",
              "        0.        ]])"
            ]
          },
          "metadata": {},
          "execution_count": 24
        }
      ]
    },
    {
      "cell_type": "code",
      "source": [
        "print(type(tfidf_matrix.toarray()))"
      ],
      "metadata": {
        "colab": {
          "base_uri": "https://localhost:8080/"
        },
        "id": "SI0c4-v6XCe1",
        "outputId": "364445bf-7495-4fdf-c2e2-42c7dc59b37a"
      },
      "execution_count": null,
      "outputs": [
        {
          "output_type": "stream",
          "name": "stdout",
          "text": [
            "<class 'numpy.ndarray'>\n"
          ]
        }
      ]
    },
    {
      "cell_type": "code",
      "source": [
        "tfidf_matrix.todense()\n",
        "\n"
      ],
      "metadata": {
        "colab": {
          "base_uri": "https://localhost:8080/"
        },
        "id": "_4Ik73RsVce4",
        "outputId": "6855b0c3-587d-4d8a-eafe-3c0836049e68"
      },
      "execution_count": null,
      "outputs": [
        {
          "output_type": "execute_result",
          "data": {
            "text/plain": [
              "matrix([[0.        , 0.43786652, 0.        , ..., 0.        , 0.        ,\n",
              "         0.        ],\n",
              "        [0.        , 0.        , 0.        , ..., 0.        , 0.        ,\n",
              "         0.        ],\n",
              "        [0.        , 0.        , 0.        , ..., 0.        , 0.        ,\n",
              "         0.        ],\n",
              "        ...,\n",
              "        [0.        , 0.        , 0.        , ..., 0.        , 0.        ,\n",
              "         0.        ],\n",
              "        [0.        , 0.        , 0.        , ..., 0.        , 0.        ,\n",
              "         0.        ],\n",
              "        [0.        , 0.        , 0.        , ..., 0.        , 0.        ,\n",
              "         0.        ]])"
            ]
          },
          "metadata": {},
          "execution_count": 26
        }
      ]
    },
    {
      "cell_type": "code",
      "source": [
        "print(type(tfidf_matrix.todense()))"
      ],
      "metadata": {
        "colab": {
          "base_uri": "https://localhost:8080/"
        },
        "id": "pDseqmRzXE7z",
        "outputId": "f6caf672-ca56-42e0-f9c8-04cad606751d"
      },
      "execution_count": null,
      "outputs": [
        {
          "output_type": "stream",
          "name": "stdout",
          "text": [
            "<class 'numpy.matrix'>\n"
          ]
        }
      ]
    },
    {
      "cell_type": "code",
      "source": [
        "tf_selected_words = tfidf_model.get_feature_names()"
      ],
      "metadata": {
        "colab": {
          "base_uri": "https://localhost:8080/"
        },
        "id": "y3zyzykBWZIi",
        "outputId": "1fe0b618-615b-47de-aed9-896e9021af9e"
      },
      "execution_count": null,
      "outputs": [
        {
          "output_type": "stream",
          "name": "stderr",
          "text": [
            "/usr/local/lib/python3.7/dist-packages/sklearn/utils/deprecation.py:87: FutureWarning: Function get_feature_names is deprecated; get_feature_names is deprecated in 1.0 and will be removed in 1.2. Please use get_feature_names_out instead.\n",
            "  warnings.warn(msg, category=FutureWarning)\n"
          ]
        }
      ]
    },
    {
      "cell_type": "code",
      "source": [
        "tf_selected_words"
      ],
      "metadata": {
        "colab": {
          "base_uri": "https://localhost:8080/"
        },
        "id": "tjHyiUBvWl21",
        "outputId": "01942262-c8e2-4de4-a3a4-10f2fa1f24c5"
      },
      "execution_count": null,
      "outputs": [
        {
          "output_type": "execute_result",
          "data": {
            "text/plain": [
              "['abl',\n",
              " 'absolut',\n",
              " 'accur',\n",
              " 'actual',\n",
              " 'adjust',\n",
              " 'alarm',\n",
              " 'almost',\n",
              " 'alreadi',\n",
              " 'also',\n",
              " 'alway',\n",
              " 'amaz',\n",
              " 'amazon',\n",
              " 'anoth',\n",
              " 'arm',\n",
              " 'around',\n",
              " 'arriv',\n",
              " 'automat',\n",
              " 'awesom',\n",
              " 'back',\n",
              " 'bad',\n",
              " 'band',\n",
              " 'batteri',\n",
              " 'beauti',\n",
              " 'best',\n",
              " 'better',\n",
              " 'big',\n",
              " 'bit',\n",
              " 'black',\n",
              " 'blue',\n",
              " 'bought',\n",
              " 'box',\n",
              " 'br',\n",
              " 'bracelet',\n",
              " 'brand',\n",
              " 'break',\n",
              " 'bright',\n",
              " 'broke',\n",
              " 'button',\n",
              " 'buy',\n",
              " 'ca',\n",
              " 'came',\n",
              " 'case',\n",
              " 'casio',\n",
              " 'chang',\n",
              " 'cheap',\n",
              " 'clasp',\n",
              " 'classi',\n",
              " 'clock',\n",
              " 'color',\n",
              " 'come',\n",
              " 'comfort',\n",
              " 'compliment',\n",
              " 'cool',\n",
              " 'cost',\n",
              " 'could',\n",
              " 'crown',\n",
              " 'crystal',\n",
              " 'dark',\n",
              " 'date',\n",
              " 'daughter',\n",
              " 'day',\n",
              " 'deal',\n",
              " 'definit',\n",
              " 'deliveri',\n",
              " 'design',\n",
              " 'dial',\n",
              " 'differ',\n",
              " 'difficult',\n",
              " 'disappoint',\n",
              " 'display',\n",
              " 'dress',\n",
              " 'durabl',\n",
              " 'easi',\n",
              " 'easili',\n",
              " 'end',\n",
              " 'enough',\n",
              " 'even',\n",
              " 'ever',\n",
              " 'everi',\n",
              " 'everyday',\n",
              " 'everyth',\n",
              " 'exact',\n",
              " 'excel',\n",
              " 'expect',\n",
              " 'expens',\n",
              " 'face',\n",
              " 'fair',\n",
              " 'far',\n",
              " 'fast',\n",
              " 'featur',\n",
              " 'feel',\n",
              " 'fell',\n",
              " 'find',\n",
              " 'fine',\n",
              " 'finish',\n",
              " 'first',\n",
              " 'fit',\n",
              " 'function',\n",
              " 'gave',\n",
              " 'get',\n",
              " 'gift',\n",
              " 'give',\n",
              " 'go',\n",
              " 'gold',\n",
              " 'good',\n",
              " 'got',\n",
              " 'great',\n",
              " 'hand',\n",
              " 'happi',\n",
              " 'hard',\n",
              " 'heavi',\n",
              " 'high',\n",
              " 'hold',\n",
              " 'honest',\n",
              " 'hope',\n",
              " 'hour',\n",
              " 'howev',\n",
              " 'husband',\n",
              " 'includ',\n",
              " 'instruct',\n",
              " 'invicta',\n",
              " 'issu',\n",
              " 'item',\n",
              " 'keep',\n",
              " 'kept',\n",
              " 'know',\n",
              " 'larg',\n",
              " 'last',\n",
              " 'leather',\n",
              " 'less',\n",
              " 'light',\n",
              " 'like',\n",
              " 'link',\n",
              " 'littl',\n",
              " 'long',\n",
              " 'look',\n",
              " 'lot',\n",
              " 'love',\n",
              " 'low',\n",
              " 'made',\n",
              " 'make',\n",
              " 'mani',\n",
              " 'may',\n",
              " 'metal',\n",
              " 'minut',\n",
              " 'model',\n",
              " 'money',\n",
              " 'month',\n",
              " 'movement',\n",
              " 'much',\n",
              " 'need',\n",
              " 'never',\n",
              " 'new',\n",
              " 'nice',\n",
              " 'night',\n",
              " 'normal',\n",
              " 'number',\n",
              " 'old',\n",
              " 'one',\n",
              " 'open',\n",
              " 'oper',\n",
              " 'order',\n",
              " 'origin',\n",
              " 'overal',\n",
              " 'packag',\n",
              " 'paid',\n",
              " 'part',\n",
              " 'pay',\n",
              " 'perfect',\n",
              " 'perform',\n",
              " 'person',\n",
              " 'pictur',\n",
              " 'piec',\n",
              " 'pin',\n",
              " 'place',\n",
              " 'plastic',\n",
              " 'pleas',\n",
              " 'point',\n",
              " 'press',\n",
              " 'pretti',\n",
              " 'price',\n",
              " 'problem',\n",
              " 'product',\n",
              " 'purchas',\n",
              " 'put',\n",
              " 'qualiti',\n",
              " 'quick',\n",
              " 'quit',\n",
              " 'rate',\n",
              " 'read',\n",
              " 'real',\n",
              " 'realli',\n",
              " 'reason',\n",
              " 'receiv',\n",
              " 'recommend',\n",
              " 'red',\n",
              " 'remov',\n",
              " 'replac',\n",
              " 'resist',\n",
              " 'return',\n",
              " 'review',\n",
              " 'right',\n",
              " 'run',\n",
              " 'said',\n",
              " 'say',\n",
              " 'screw',\n",
              " 'second',\n",
              " 'see',\n",
              " 'seem',\n",
              " 'seiko',\n",
              " 'seller',\n",
              " 'send',\n",
              " 'sent',\n",
              " 'set',\n",
              " 'sever',\n",
              " 'ship',\n",
              " 'short',\n",
              " 'show',\n",
              " 'simpl',\n",
              " 'sinc',\n",
              " 'size',\n",
              " 'small',\n",
              " 'smaller',\n",
              " 'solid',\n",
              " 'someth',\n",
              " 'somewhat',\n",
              " 'son',\n",
              " 'star',\n",
              " 'start',\n",
              " 'still',\n",
              " 'stop',\n",
              " 'strap',\n",
              " 'sturdi',\n",
              " 'style',\n",
              " 'stylish',\n",
              " 'super',\n",
              " 'sure',\n",
              " 'surpris',\n",
              " 'swim',\n",
              " 'take',\n",
              " 'tell',\n",
              " 'thank',\n",
              " 'thick',\n",
              " 'thing',\n",
              " 'think',\n",
              " 'though',\n",
              " 'thought',\n",
              " 'three',\n",
              " 'time',\n",
              " 'timex',\n",
              " 'tini',\n",
              " 'tri',\n",
              " 'turn',\n",
              " 'two',\n",
              " 'use',\n",
              " 'valu',\n",
              " 'want',\n",
              " 'water',\n",
              " 'way',\n",
              " 'wear',\n",
              " 'week',\n",
              " 'weight',\n",
              " 'well',\n",
              " 'went',\n",
              " 'wife',\n",
              " 'wind',\n",
              " 'wish',\n",
              " 'within',\n",
              " 'without',\n",
              " 'work',\n",
              " 'worn',\n",
              " 'worth',\n",
              " 'would',\n",
              " 'wrist',\n",
              " 'year',\n",
              " 'yet']"
            ]
          },
          "metadata": {},
          "execution_count": 29
        }
      ]
    },
    {
      "cell_type": "markdown",
      "source": [
        "# K-means clustering"
      ],
      "metadata": {
        "id": "dFE0YdFsXo04"
      }
    },
    {
      "cell_type": "code",
      "source": [
        "#K-means clustering\n",
        "from sklearn.cluster import KMeans\n",
        "\n",
        "num_clusters= 5\n",
        "#number of clusters\n",
        "km=KMeans(n_clusters=num_clusters)\n",
        "km.fit(tfidf_matrix)\n",
        "clusters= km.labels_.tolist()"
      ],
      "metadata": {
        "id": "eDidjr6PXm-n"
      },
      "execution_count": null,
      "outputs": []
    },
    {
      "cell_type": "markdown",
      "source": [
        "# ndarray.tolist()\n",
        "Return the array as an a.ndim-levels deep nested list of Python scalars.\n",
        "\n",
        "Return a copy of the array data as a (nested) Python list. Data items are converted to the nearest compatible builtin Python type, via the item function.\n",
        "\n"
      ],
      "metadata": {
        "id": "xKpY8ERCZSHP"
      }
    },
    {
      "cell_type": "markdown",
      "source": [
        "#Analyze K-means Result"
      ],
      "metadata": {
        "id": "HoJ5MIvKombD"
      }
    },
    {
      "cell_type": "code",
      "source": [
        "#create DataFrame films from all of the input files\n",
        "product = {'review': df[:1000].review_body, 'cluster': clusters}\n",
        "frame = pd.DataFrame(product, columns = ['review','cluster'])"
      ],
      "metadata": {
        "id": "b4Bivw6rZU-H"
      },
      "execution_count": null,
      "outputs": []
    },
    {
      "cell_type": "code",
      "source": [
        "frame.head(10)"
      ],
      "metadata": {
        "colab": {
          "base_uri": "https://localhost:8080/",
          "height": 363
        },
        "id": "-xDxseuQqqCM",
        "outputId": "d4d3fece-594f-4b2b-d935-206b20f60467"
      },
      "execution_count": null,
      "outputs": [
        {
          "output_type": "execute_result",
          "data": {
            "text/plain": [
              "                                              review  cluster\n",
              "0  Absolutely love this watch! Get compliments al...        2\n",
              "1       I love this watch it keeps time wonderfully.        2\n",
              "2                                          Scratches        0\n",
              "3  It works well on me. However, I found cheaper ...        0\n",
              "4  Beautiful watch face.  The band looks nice all...        0\n",
              "5  i love this watch for my purpose, about the pe...        2\n",
              "6  for my wife and she loved it, looks great and ...        3\n",
              "7  I was about to buy this thinking it was a Swis...        0\n",
              "8  Watch is perfect. Rugged with the metal &#34;B...        3\n",
              "9  Great quality and build.<br />The motors are r...        0"
            ],
            "text/html": [
              "\n",
              "  <div id=\"df-a4f9993a-b737-42d6-9263-0ed391137654\">\n",
              "    <div class=\"colab-df-container\">\n",
              "      <div>\n",
              "<style scoped>\n",
              "    .dataframe tbody tr th:only-of-type {\n",
              "        vertical-align: middle;\n",
              "    }\n",
              "\n",
              "    .dataframe tbody tr th {\n",
              "        vertical-align: top;\n",
              "    }\n",
              "\n",
              "    .dataframe thead th {\n",
              "        text-align: right;\n",
              "    }\n",
              "</style>\n",
              "<table border=\"1\" class=\"dataframe\">\n",
              "  <thead>\n",
              "    <tr style=\"text-align: right;\">\n",
              "      <th></th>\n",
              "      <th>review</th>\n",
              "      <th>cluster</th>\n",
              "    </tr>\n",
              "  </thead>\n",
              "  <tbody>\n",
              "    <tr>\n",
              "      <th>0</th>\n",
              "      <td>Absolutely love this watch! Get compliments al...</td>\n",
              "      <td>2</td>\n",
              "    </tr>\n",
              "    <tr>\n",
              "      <th>1</th>\n",
              "      <td>I love this watch it keeps time wonderfully.</td>\n",
              "      <td>2</td>\n",
              "    </tr>\n",
              "    <tr>\n",
              "      <th>2</th>\n",
              "      <td>Scratches</td>\n",
              "      <td>0</td>\n",
              "    </tr>\n",
              "    <tr>\n",
              "      <th>3</th>\n",
              "      <td>It works well on me. However, I found cheaper ...</td>\n",
              "      <td>0</td>\n",
              "    </tr>\n",
              "    <tr>\n",
              "      <th>4</th>\n",
              "      <td>Beautiful watch face.  The band looks nice all...</td>\n",
              "      <td>0</td>\n",
              "    </tr>\n",
              "    <tr>\n",
              "      <th>5</th>\n",
              "      <td>i love this watch for my purpose, about the pe...</td>\n",
              "      <td>2</td>\n",
              "    </tr>\n",
              "    <tr>\n",
              "      <th>6</th>\n",
              "      <td>for my wife and she loved it, looks great and ...</td>\n",
              "      <td>3</td>\n",
              "    </tr>\n",
              "    <tr>\n",
              "      <th>7</th>\n",
              "      <td>I was about to buy this thinking it was a Swis...</td>\n",
              "      <td>0</td>\n",
              "    </tr>\n",
              "    <tr>\n",
              "      <th>8</th>\n",
              "      <td>Watch is perfect. Rugged with the metal &amp;#34;B...</td>\n",
              "      <td>3</td>\n",
              "    </tr>\n",
              "    <tr>\n",
              "      <th>9</th>\n",
              "      <td>Great quality and build.&lt;br /&gt;The motors are r...</td>\n",
              "      <td>0</td>\n",
              "    </tr>\n",
              "  </tbody>\n",
              "</table>\n",
              "</div>\n",
              "      <button class=\"colab-df-convert\" onclick=\"convertToInteractive('df-a4f9993a-b737-42d6-9263-0ed391137654')\"\n",
              "              title=\"Convert this dataframe to an interactive table.\"\n",
              "              style=\"display:none;\">\n",
              "        \n",
              "  <svg xmlns=\"http://www.w3.org/2000/svg\" height=\"24px\"viewBox=\"0 0 24 24\"\n",
              "       width=\"24px\">\n",
              "    <path d=\"M0 0h24v24H0V0z\" fill=\"none\"/>\n",
              "    <path d=\"M18.56 5.44l.94 2.06.94-2.06 2.06-.94-2.06-.94-.94-2.06-.94 2.06-2.06.94zm-11 1L8.5 8.5l.94-2.06 2.06-.94-2.06-.94L8.5 2.5l-.94 2.06-2.06.94zm10 10l.94 2.06.94-2.06 2.06-.94-2.06-.94-.94-2.06-.94 2.06-2.06.94z\"/><path d=\"M17.41 7.96l-1.37-1.37c-.4-.4-.92-.59-1.43-.59-.52 0-1.04.2-1.43.59L10.3 9.45l-7.72 7.72c-.78.78-.78 2.05 0 2.83L4 21.41c.39.39.9.59 1.41.59.51 0 1.02-.2 1.41-.59l7.78-7.78 2.81-2.81c.8-.78.8-2.07 0-2.86zM5.41 20L4 18.59l7.72-7.72 1.47 1.35L5.41 20z\"/>\n",
              "  </svg>\n",
              "      </button>\n",
              "      \n",
              "  <style>\n",
              "    .colab-df-container {\n",
              "      display:flex;\n",
              "      flex-wrap:wrap;\n",
              "      gap: 12px;\n",
              "    }\n",
              "\n",
              "    .colab-df-convert {\n",
              "      background-color: #E8F0FE;\n",
              "      border: none;\n",
              "      border-radius: 50%;\n",
              "      cursor: pointer;\n",
              "      display: none;\n",
              "      fill: #1967D2;\n",
              "      height: 32px;\n",
              "      padding: 0 0 0 0;\n",
              "      width: 32px;\n",
              "    }\n",
              "\n",
              "    .colab-df-convert:hover {\n",
              "      background-color: #E2EBFA;\n",
              "      box-shadow: 0px 1px 2px rgba(60, 64, 67, 0.3), 0px 1px 3px 1px rgba(60, 64, 67, 0.15);\n",
              "      fill: #174EA6;\n",
              "    }\n",
              "\n",
              "    [theme=dark] .colab-df-convert {\n",
              "      background-color: #3B4455;\n",
              "      fill: #D2E3FC;\n",
              "    }\n",
              "\n",
              "    [theme=dark] .colab-df-convert:hover {\n",
              "      background-color: #434B5C;\n",
              "      box-shadow: 0px 1px 3px 1px rgba(0, 0, 0, 0.15);\n",
              "      filter: drop-shadow(0px 1px 2px rgba(0, 0, 0, 0.3));\n",
              "      fill: #FFFFFF;\n",
              "    }\n",
              "  </style>\n",
              "\n",
              "      <script>\n",
              "        const buttonEl =\n",
              "          document.querySelector('#df-a4f9993a-b737-42d6-9263-0ed391137654 button.colab-df-convert');\n",
              "        buttonEl.style.display =\n",
              "          google.colab.kernel.accessAllowed ? 'block' : 'none';\n",
              "\n",
              "        async function convertToInteractive(key) {\n",
              "          const element = document.querySelector('#df-a4f9993a-b737-42d6-9263-0ed391137654');\n",
              "          const dataTable =\n",
              "            await google.colab.kernel.invokeFunction('convertToInteractive',\n",
              "                                                     [key], {});\n",
              "          if (!dataTable) return;\n",
              "\n",
              "          const docLinkHtml = 'Like what you see? Visit the ' +\n",
              "            '<a target=\"_blank\" href=https://colab.research.google.com/notebooks/data_table.ipynb>data table notebook</a>'\n",
              "            + ' to learn more about interactive tables.';\n",
              "          element.innerHTML = '';\n",
              "          dataTable['output_type'] = 'display_data';\n",
              "          await google.colab.output.renderOutput(dataTable, element);\n",
              "          const docLink = document.createElement('div');\n",
              "          docLink.innerHTML = docLinkHtml;\n",
              "          element.appendChild(docLink);\n",
              "        }\n",
              "      </script>\n",
              "    </div>\n",
              "  </div>\n",
              "  "
            ]
          },
          "metadata": {},
          "execution_count": 32
        }
      ]
    },
    {
      "cell_type": "code",
      "source": [
        "print(\"Number of reviews included in each clusters:\")\n",
        "frame['cluster'].value_counts().to_frame()"
      ],
      "metadata": {
        "colab": {
          "base_uri": "https://localhost:8080/",
          "height": 224
        },
        "id": "yxfmup1fq1cq",
        "outputId": "8ff7facd-04ec-425f-f14a-386a25745096"
      },
      "execution_count": null,
      "outputs": [
        {
          "output_type": "stream",
          "name": "stdout",
          "text": [
            "Number of reviews included in each clusters:\n"
          ]
        },
        {
          "output_type": "execute_result",
          "data": {
            "text/plain": [
              "   cluster\n",
              "0      657\n",
              "2      121\n",
              "3       88\n",
              "1       73\n",
              "4       61"
            ],
            "text/html": [
              "\n",
              "  <div id=\"df-87b158e2-3da1-4fee-8a7c-302d3d16736f\">\n",
              "    <div class=\"colab-df-container\">\n",
              "      <div>\n",
              "<style scoped>\n",
              "    .dataframe tbody tr th:only-of-type {\n",
              "        vertical-align: middle;\n",
              "    }\n",
              "\n",
              "    .dataframe tbody tr th {\n",
              "        vertical-align: top;\n",
              "    }\n",
              "\n",
              "    .dataframe thead th {\n",
              "        text-align: right;\n",
              "    }\n",
              "</style>\n",
              "<table border=\"1\" class=\"dataframe\">\n",
              "  <thead>\n",
              "    <tr style=\"text-align: right;\">\n",
              "      <th></th>\n",
              "      <th>cluster</th>\n",
              "    </tr>\n",
              "  </thead>\n",
              "  <tbody>\n",
              "    <tr>\n",
              "      <th>0</th>\n",
              "      <td>657</td>\n",
              "    </tr>\n",
              "    <tr>\n",
              "      <th>2</th>\n",
              "      <td>121</td>\n",
              "    </tr>\n",
              "    <tr>\n",
              "      <th>3</th>\n",
              "      <td>88</td>\n",
              "    </tr>\n",
              "    <tr>\n",
              "      <th>1</th>\n",
              "      <td>73</td>\n",
              "    </tr>\n",
              "    <tr>\n",
              "      <th>4</th>\n",
              "      <td>61</td>\n",
              "    </tr>\n",
              "  </tbody>\n",
              "</table>\n",
              "</div>\n",
              "      <button class=\"colab-df-convert\" onclick=\"convertToInteractive('df-87b158e2-3da1-4fee-8a7c-302d3d16736f')\"\n",
              "              title=\"Convert this dataframe to an interactive table.\"\n",
              "              style=\"display:none;\">\n",
              "        \n",
              "  <svg xmlns=\"http://www.w3.org/2000/svg\" height=\"24px\"viewBox=\"0 0 24 24\"\n",
              "       width=\"24px\">\n",
              "    <path d=\"M0 0h24v24H0V0z\" fill=\"none\"/>\n",
              "    <path d=\"M18.56 5.44l.94 2.06.94-2.06 2.06-.94-2.06-.94-.94-2.06-.94 2.06-2.06.94zm-11 1L8.5 8.5l.94-2.06 2.06-.94-2.06-.94L8.5 2.5l-.94 2.06-2.06.94zm10 10l.94 2.06.94-2.06 2.06-.94-2.06-.94-.94-2.06-.94 2.06-2.06.94z\"/><path d=\"M17.41 7.96l-1.37-1.37c-.4-.4-.92-.59-1.43-.59-.52 0-1.04.2-1.43.59L10.3 9.45l-7.72 7.72c-.78.78-.78 2.05 0 2.83L4 21.41c.39.39.9.59 1.41.59.51 0 1.02-.2 1.41-.59l7.78-7.78 2.81-2.81c.8-.78.8-2.07 0-2.86zM5.41 20L4 18.59l7.72-7.72 1.47 1.35L5.41 20z\"/>\n",
              "  </svg>\n",
              "      </button>\n",
              "      \n",
              "  <style>\n",
              "    .colab-df-container {\n",
              "      display:flex;\n",
              "      flex-wrap:wrap;\n",
              "      gap: 12px;\n",
              "    }\n",
              "\n",
              "    .colab-df-convert {\n",
              "      background-color: #E8F0FE;\n",
              "      border: none;\n",
              "      border-radius: 50%;\n",
              "      cursor: pointer;\n",
              "      display: none;\n",
              "      fill: #1967D2;\n",
              "      height: 32px;\n",
              "      padding: 0 0 0 0;\n",
              "      width: 32px;\n",
              "    }\n",
              "\n",
              "    .colab-df-convert:hover {\n",
              "      background-color: #E2EBFA;\n",
              "      box-shadow: 0px 1px 2px rgba(60, 64, 67, 0.3), 0px 1px 3px 1px rgba(60, 64, 67, 0.15);\n",
              "      fill: #174EA6;\n",
              "    }\n",
              "\n",
              "    [theme=dark] .colab-df-convert {\n",
              "      background-color: #3B4455;\n",
              "      fill: #D2E3FC;\n",
              "    }\n",
              "\n",
              "    [theme=dark] .colab-df-convert:hover {\n",
              "      background-color: #434B5C;\n",
              "      box-shadow: 0px 1px 3px 1px rgba(0, 0, 0, 0.15);\n",
              "      filter: drop-shadow(0px 1px 2px rgba(0, 0, 0, 0.3));\n",
              "      fill: #FFFFFF;\n",
              "    }\n",
              "  </style>\n",
              "\n",
              "      <script>\n",
              "        const buttonEl =\n",
              "          document.querySelector('#df-87b158e2-3da1-4fee-8a7c-302d3d16736f button.colab-df-convert');\n",
              "        buttonEl.style.display =\n",
              "          google.colab.kernel.accessAllowed ? 'block' : 'none';\n",
              "\n",
              "        async function convertToInteractive(key) {\n",
              "          const element = document.querySelector('#df-87b158e2-3da1-4fee-8a7c-302d3d16736f');\n",
              "          const dataTable =\n",
              "            await google.colab.kernel.invokeFunction('convertToInteractive',\n",
              "                                                     [key], {});\n",
              "          if (!dataTable) return;\n",
              "\n",
              "          const docLinkHtml = 'Like what you see? Visit the ' +\n",
              "            '<a target=\"_blank\" href=https://colab.research.google.com/notebooks/data_table.ipynb>data table notebook</a>'\n",
              "            + ' to learn more about interactive tables.';\n",
              "          element.innerHTML = '';\n",
              "          dataTable['output_type'] = 'display_data';\n",
              "          await google.colab.output.renderOutput(dataTable, element);\n",
              "          const docLink = document.createElement('div');\n",
              "          docLink.innerHTML = docLinkHtml;\n",
              "          element.appendChild(docLink);\n",
              "        }\n",
              "      </script>\n",
              "    </div>\n",
              "  </div>\n",
              "  "
            ]
          },
          "metadata": {},
          "execution_count": 33
        }
      ]
    },
    {
      "cell_type": "code",
      "source": [
        "km.cluster_centers_\n",
        "# tf-idf value for 239 features, represent distances to the cluster centroid \n",
        "#the higher the tf-idf value, means this centriod are more likely to be able to present the cluster\n"
      ],
      "metadata": {
        "colab": {
          "base_uri": "https://localhost:8080/"
        },
        "id": "UlXHTrcQrK4C",
        "outputId": "79934785-4840-44ce-8dcd-ca6025ceba1f"
      },
      "execution_count": null,
      "outputs": [
        {
          "output_type": "execute_result",
          "data": {
            "text/plain": [
              "array([[0.00519443, 0.00488267, 0.00334032, ..., 0.01674688, 0.01276594,\n",
              "        0.0052732 ],\n",
              "       [0.        , 0.        , 0.        , ..., 0.00843302, 0.        ,\n",
              "        0.        ],\n",
              "       [0.        , 0.03268569, 0.        , ..., 0.0149306 , 0.00522193,\n",
              "        0.00376556],\n",
              "       [0.00327021, 0.        , 0.        , ..., 0.        , 0.01338044,\n",
              "        0.        ],\n",
              "       [0.        , 0.        , 0.        , ..., 0.00797103, 0.        ,\n",
              "        0.        ]])"
            ]
          },
          "metadata": {},
          "execution_count": 34
        }
      ]
    },
    {
      "cell_type": "code",
      "source": [
        "km.cluster_centers_.shape"
      ],
      "metadata": {
        "colab": {
          "base_uri": "https://localhost:8080/"
        },
        "id": "Ks8rzt1EbbTv",
        "outputId": "82aeef75-5d0d-4d85-fdb9-baa9be9400e5"
      },
      "execution_count": null,
      "outputs": [
        {
          "output_type": "execute_result",
          "data": {
            "text/plain": [
              "(5, 276)"
            ]
          },
          "metadata": {},
          "execution_count": 35
        }
      ]
    },
    {
      "cell_type": "code",
      "source": [
        "print('<Document clustering result by K-means>')\n",
        "#use the first six largest number to represent the cluster\n",
        "order_centroids = km.cluster_centers_.argsort()[:,::-1]\n",
        "\n",
        "Cluster_keywords_summary= {}\n",
        "for i in range(num_clusters):\n",
        "  print('Cluster '+str(i)+' words:', end='')\n",
        "  Cluster_keywords_summary[i]=[]\n",
        "  for ind in order_centroids[i,:6]: #replace 6 with n words per cluster\n",
        "    Cluster_keywords_summary[i].append(tf_selected_words[ind])\n",
        "    print(tf_selected_words[ind] + \",\", end=\"\")\n",
        "  print()\n",
        "  cluster_reviews=frame[frame.cluster==i].review.tolist()\n",
        "  print('Cluster '+str(i) + ' reviews (' +str(len(cluster_reviews)) + \" reviews): \")\n",
        "  print(','.join(cluster_reviews))\n",
        "  print()\n",
        "\n"
      ],
      "metadata": {
        "colab": {
          "base_uri": "https://localhost:8080/"
        },
        "id": "0pUZidx2bfDS",
        "outputId": "a38f6eea-8959-4797-a0f7-9e5dc1f281e3"
      },
      "execution_count": null,
      "outputs": [
        {
          "output_type": "stream",
          "name": "stdout",
          "text": [
            "<Document clustering result by K-means>\n",
            "Cluster 0 words:like,look,work,band,br,time,\n",
            "Cluster 0 reviews (657 reviews): \n",
            "Scratches,It works well on me. However, I found cheaper prices in other places after making the purchase,Beautiful watch face.  The band looks nice all around.  The links do make that squeaky cheapo noise when you swing it back and forth on your wrist which can be embarrassing in front of watch enthusiasts.  However, to the naked eye from afar, you can't tell the links are cheap or folded because it is well polished and brushed and the folds are pretty tight for the most part.<br /><br />I love the new member of my collection and it looks great.  I've had it for about a week and so far it has kept good time despite day 1 which is typical of a new mechanical watch,I was about to buy this thinking it was a Swiss Army Infantry watch-- the description uses the words infantry and army--- when I realized it must be a fraud for $12.00. This should not be offered on Amazon-- it is designed to confuse consumers.,Great quality and build.<br />The motors are really silent.<br />After fiddling with the settings my watches are always charged and ready to use.,The watch was pretty much as it was described and how it looks. I really like the simplicity of it and it looks pretty amazing. It is slightly too big, so I have yet to adjust it, but I'm glad it's too big rather than too small. The weight is good which is what I was hoping for. Very satisfied with this purchase. I was slightly on the fence getting this one because of the previous fossil watch I had, which by some time, did have some gems fall off from ring around the numbers, but so far so good with this one! Excuse my bad lighting for my pic.,I bought this watch on 2013, the screen had a problem 10 months later. I sent the watch back to Casio Service Center in LA, they sent to me a replacement new watch. Last week, less than one year after I received the new watch, the battery is out.  I went to a shop to replace the battery. Then the A button of the watch do not working, so I could not change the time and other settings. I do not think this watch is a good product. Do not buy it.,It is a cheap watch that looks cheap.  There isn't much else to say.,Heavier than i though,Had it for several weeks now and I love it - reliable, functional, wears easy, not too heavy.  I also get a lot of comments on it - great watch!,This one is different from the rest of my Invictas. I like the big watches but this one gave a classy more defined look for the craftsmanship. All of the colors compliment each other. It all starts from the stitching of the band.  Very nice watch.,The watch is attractive and easy to read, except for the date. The little diamonds are very, very tiny. All in all, I'm happy with it.,said my wife..,Looks great and love to wear this watch.  Only negative thing is due to its blue/black colors, it is difficult to read in average or low light.  Good thing for me, I wear a watch for looks and not really for telling the time.,I really like this watch. It has a great face that contrasts nicely with the white numerals. Keeps time accurately. Overall very pleased. I really like its distinctive look. It's also durable and water proof. I leave it on when I go kayaking or out on the boat fishing.,Works great but the watch a used it on was slim so I had to use a quarter to rase it up the right height,Just what I needed for my Timex watch. Fits perfect on my wrist,Absolutely LOVE this watch! Amazon prime saved me over $400 after tax from the store prices. Between the great buy and the Coolness of this watch it was an amazing purchase. I can't stop looking at it. Movado is an excellent brand. Time keeping is perfect. Quality is perfect.,Its too large. When you order check the size of the case.,This was a watch I bought during a quick sale thing, so it was cheaper than normal.  I bought it as a daily wear.  It's really a decent watch for the price; a retro look with a modern movement.,Thought that I read somewhere that you could swim with it. It does not however bear the 50M Water Resistance designation.,This watch is a very beautiful time piece. This also could be an alternative choice to a Rolex submariner. It also has the same features as a Rolex submariner but it's not as good as a Rolex watch but darn close.<br /><br />Take good care of this watch if you get one because it has gold plating on it. This watch is 'Not' a sport watch.<br /><br />This watch features<br />-Rotating timer dial<br />-All stainless steel (kinda heavy)<br />-Glow in the dark<br />-Water resistant to 200 meters (600 feet)<br />-Automatic winding (from wrist movements)<br />-Shows date<br />-Very beautiful<br /><br />Sizeing isn't difficult, I sized mine by using a thumbtack and a hammer to tap the pins out of the band and I tapped a pin back into the band after removing three band links. If you don't know what your doing then just take it to s jewelry store so they can size it for you,This is a beautiful watch. I love the look and feel of it, and I get complimented on it all the time. If that were the entirety of the story, this would be a 5 star review.<br /><br />Unfortunately, the most important part of this watch, the functionality, has some issues. Despite this being an automatic winding watch, it doesn't always stay wound. I have had days where I had to re-wind it before the end of the day. Most days however, it does last through the day. I just have to wind it and set the time again in the morning. Other mechanical self winding watches I own will in fact not need to be wound again until I stop wearing them for a full day. In addition, I can't always get the spring fully wound before it will start clicking and the spring skips off the winding gear.<br /><br />If I hadn't been so lazy, I would have returned this watch. Unfortunately, I missed the 30 day return window. So now I'm stuck with an only mostly working but beautiful watch. I guess that makes it kinda like a fashion model. When I think of it that way, it's not quite so disappointing.,I was very apprehensive about buying a 28 dollar watch online, but it looked so much like the 400 dollar Invicta Coalition forces watch I was wanting that I went for it.  I was very pleased when it arrived.  It is a BIG, heavy, sharp looking watch and I could not be happier. I am sure I will be purchasing the solid black one as well,[[VIDEOID:cc599be25462207f860e42621171d7e1]]This watch has an understated clean and classy design.  It looks elegant. It has a stainless steel body and genuine leather band.  The band maximum width 7.5\\\\\" (last hole), if needed additional holes could be made to make it as wide as 8\\\\\".<br /><br />The face of the watch is 1 3/16\\\\\" wide and the watch is 1/4\\\\\" thick. The back of the watch states it has Japanese quartz movement.  The watch is water resistant to rain and splashing but cannot be submerged into water.<br /><br />This watch is made in China but includes an English manual. The manual covers several watches so it is a somewhat confusing as it refers to self-winding watches as well as quartz watches like this one.  The third page in the manual can be used as a guide to the watch adjustment method.  I found the controls to be simple, everything is controlled by the position of the crown. It can be pulled out into two position, the first position allows change the day of the month, the second position moves the arms.<br /><br />Overall, this is a very attractive classy looking watch.  It comes in attractive package, the box has a pillow and include a gift bag.<br /><br />This watch is provided by BUREI for review.  Getting a review product does not influence what I say, I leave critical reviews as well as positive reviews like this one.<br /><br />Ali Julia review,Awesome watch for the price,Nice face, easy to read. The band is a little too small.,crap,amazing product keeps everything safe and secure organized great quality for my designer belts perfect for homes or traveling,Watch looks amazing and the features are second to none, but....the watch is small.  I have a PAW-5000 which dwarfs it.  I had to look at the box to make sure I didn't get a woman's watch.  No joke, the band on my, average at best, sized wrist almost couldn't accommodate it.  Probably had 1.5 inch left on the band after I put it on.  Make this Man-size and it would fantastic.,Metal color was changed after the first use , which indicates a very poor quality,So far so good. I have only had this watch a few weeks & so far it is still working. Style is really cute exactly as pictured,Great product . Love the continous innovation in this field and given the price-tag of $149, this product is a steal . Bought it 1 week back . Battery is satisfactory . Charges fast . Discharges within 12-15 hours . But it has a touch screen, so naturally its going to eat-up battery. For entry level android-wear, pretty decent,A very beautul and well-made pilots watch. Highly detailed dial,as well. The movement is tack- on for 24 hours but if you are not a ditch digger,wind it 20 revs  daily.,excelent product,This press is very well constructed and sturdy. The different dies are easily interchangeable. A good tool for watches and miniature work.,Beyond my expectation..excellent product..good quality, well built, nicely done..:),It was bad it didnt fit my 22mm retro casio,Watch kicks ass. Upon putting on this watch you will grow a full beard and be able to tame a pack of wolves by looking at them. 8/10 Only gripe is that I wish the back light was a tad better.,Alrighty, after seeking out the ultimate low-profile, ultra water resistant, mechanical watch with a rotating bezel and date for less than $100, I settled on this.<br /><br />It looks much like the famous Rolex Submariner, and performs similarly.<br /><br />However, after about a year of use now, the paint on the bezel is chipping, and after a decent smack on the hood of a car the crystal has cracked and all but shattered.<br /><br />It keeps time fairly well, gaining about 15 seconds per day, without taking it to a healer for fine tuning.,Not bad but a little tacky. It does have substantial weight for a $15 watch.,I thought it looked beautiful.  My boyfriend loved it.  It's only been a few days, so I can't comment on durability.  But, I didn't have some of the problems mentioned in other reviews--the little dots around the outside glowed like they were supposed to, it was easy to set including the date, the band was fine and long enough even though my boyfriend wears it loose.  Great price too--I see them in stores for nearly twice what I paid.,It's a nice watch but if you have a large arm it will not fit  well.  does good under water I use when I go to water aerobic to keep tack of my time,Beautiful watch! Looks better on the wrist than in the picture.  Could not have been more pleased. A great addition to my collection.,Man watch for woman, just a right size and design for it.,I like the watch!  I had its predecessor and enjoyed it until all the numbers started to fall off.  Hope that does not happen to this one.  The numbers run together it's sometimes difficult to distinguish the time.  I'm adjusting to it.  Like the new clasp.,I have many Baby-G's, but none have gotten as much attention and compliments as this one. The glitter pops out at everyone and the silver makes it look feminine and sleek. I paid $120 for it, wayy more than I usually pay for Baby-G's, but I think it was worth it, especially since it's a special Japanese model. Probably won't see many people with this watch making it pretty unique. I like the background light is a light blue color, goes well with the color of the watch.,Perfect watch for camping and hiking.,The watch as expected was an amazing product from citizen, however the the cover was in a damaged condition which was quite upsetting since I was planning to gift this to some one.,These were purchased for my daughter and her friend, but I liked them enough that I kept one for myself as well!,This is junk.  Why would you name a watch an ironkid watch if it isn't made for swimming (last time I checked an ironman consisted of swim, bike and run)?  It claims it is water resistant but the watch leaks and it will die if your kid wears it in a pool.  Don't waste your money.,Lens cracked on the third day,My husband like it but he would have liked the dial face to be a little smaller. He is not used to the bigger face but getting used to it. The picture product was hard to tell about the dial face and don't think it mention about the dial face being bigger than normal. Besides that everything else is really well made.,This is a very nice watch, i love that it's made of wood but black in color. The face is big and has three silver, decorative yet functional dials. It's extremely lightweight and comfortable to wear. It's so lightweight you could actually forget you're wearing it. The wood is very smooth and the semi-matte finish is very dressy.<br />The links move easily and is worn without catching or squeezing skin/hair. It's easy to adjust so it will fit a variety of  wrist sizesI love that it's water proof because although very dressy it can be worn for every day use.<br />This would make a great gift for any man in your life.<br />I received this product complimentary in exchange for my honest opinion but the opinion expressed is all my own.,So pretty, strap is so soft, easy pliable rubber material. Unfortunately, bezel does not turn. But I recommend this for everyday nursing use.,The size and thickness is Huge. the color is eye Popping.The band is durable and ridged . the only problem I have is that it doesn't glow to mush in the dark. but I like it,the band broke in first week,This is exactly what I was looking for!  I fixed my watch band and haven't been happier!  I didn't need 5, but the extra 4 may come in handy.,PERFECT,Disappointed by the huge size of it, although yes they say in the specs it's a 52&#34; etc...<br />Sent it back. The taxes and p&p cost made me pay for it again.,Cool,first:<br />i received watch in good condition, however he battery was not working and i changed the battery<br />second:<br />i tried the watch to my hand but unfortunately was not amazing, it is for old ppl more than youth. i am looking to change the model .<br />i dont know if i can change irt from guess agent in Scotland/Edinburgh or not.,This is a good looking men's watch that would go well with most outfits, though it's leather strap pushes it to a more dressy watch. It's a simple watch with a day and date window. It is luminescent on the hour marks but not on the watch hands themselves, which is a little weird.<br /><br />I would be curious to see how long the battery lasts. Aside from the watch band wearing out, that would be the weakest part of this watch in the long term.,It's a great looking product. One of the best watches I have ever seen. The quality is mediocre but that's alright. Just keep it out of water as much as possible and the leather should hold up alright.,This is my 3rd Hadley Roma leather watch band. Others lasted 3+ years. Great quality and design at a good price.,heavier than expected,All perfect!,I got this watch on June 8th . I wore it for three weeks and the watch band fell apart. I called Amazon about the repair and was told  I had to call the seller as the warranty does not cover the band. I have never  had a ceramic watch band thus  I  have never had this problem. The watch is beautiful but it servers no purpose if the band is no good. I will try to call the seller for repair.,This is an impressive timepiece that's ready for the business world.,This product really surpassed my expectation. It was able to perform very well for me. I used it for my US Army Basic training and AIT. It never disappointed me and it was able to remain sturdy even after a series of rugged use. I highly recommend this product.,It is so cheap and gaudy, I will never wear it.  It was misrepresented in the picture and description. The picture is darling but the real thing is beyond cheap.  It will go into the thrift shop donation pile.,I bought surprised watch  gift for my daughter. It's beautiful and nice color. She really likes it.,A beautiful and precision automatic watch。,Didn't like,Stopped working after one week. Have no idea why. Will try to return or exchange.,handy,I'm late getting to the party, but after discovering Invicta watches I just can't get enough of them. There is a watch for every situation from dress to casual. After acquiring several of these in a short time, I can honestly say that I have not been let down in style or performance. I don't think I'll ever buy another watch that isn't an Invicta!!!!!,The photo provided of this watch badly distorts the color of the band, which is in fact much lighter than pictured. It is so light, in fact, that it practically blends into my skin when wearing it. But, I can just replace it for a few bucks, right? Wrong. Skagen apparently uses a proprietary design for their watch bands, and they also don't sell replacements to third party dealers. As far as I can gather I would have to send the watch to them and pay whatever sum they demand just to get a reasonable-looking band.<br /><br />Save yourself the aggravation: Do not buy this watch, or any other produced by Skagen for that matter.,Don't buy this watch.  It looked fine when it arrived, but back of watch has already begun to corrode.  The wrist band turns my wrist green.,the dial looks so big compare to this iamge,Battery or watch died less than 2 days after opening.,I bought one of these watches in blue and although it is big that is the trend right now.  It is definitely not cheap looking as the previous reviewer stated.  It is a gorgeous watch with beautiful colors.  I am not sure what she was looking for but I completely disagree with her review.,I like it!!,It was a gift, I happen to like watches especially with many dials (which I will never figure out) I hope the receipiant may have that ability.<br />The Band is cool looking, so the dial and the band were meant for each other.A truly good looking time piece and well made by a company who has been doing this for many years.If you haven't guessed that name as yet I will now tell you,  &#34;TIMEX&#34;, the price is right, get yourself one.,Had it 2 mos and the battery dies. do they think i'm going to send it in for warranty or just go get a new battery. It must have been sitting around for years for the battery to go bad that quick. Buyer beware : great watch old battery,So the watch stopped working almost as soon as I got it but it's so cute that sometimes I'll just wear it as a fashion accessory.  Not very practical but all in all a good buy.,10 years old loved it.  Easy to use, water resistant, alarm, chronograph and has a light.,You get what you paid for. The watch is so thick that it does not look nice as it is shown in the picture.<br />It reminds of $9.99 no name brand watches at Walmart. The band's design is not practical.,perfect! everything as expected! Thank you!,Garbage product that should be sold in a plastic egg in a quarter operated vending machine. I'd give it 1 star but I accidentally got it to work before it fell apart.,Absolutely amazing! Perfect!,I've had this blue Chicane for about 3 years now and own another 2 Orients and they are still some of my favorite pieces.<br /><br />The Chicane is the watch I wear most often. It works well in both casual and more formal dress situations, the blue face looks fantastic, the movement is high quality and the price is pretty much unbeatable. You really do get a lot of watch for your money. You can usually find Orient watches discounted throughout the web, so if you pay more than $150 for this watch, you've probably overpaid. That said, I'd stress again that the low price doesn't mean low quality. The watch is accurate and, despite the fact that I wear it everywhere and in all sorts of situations, the face has yet to scratch.<br /><br />The only negative in my opinion, is the folded-steel links in the band. They can pull the little hairs on your wrist occasionally. So a higher quality band might be something to look in to, although, despite the occasional pull, I've stuck with the OEM band for these 3 years and felt fine with it.<br /><br />Overall, it's a great looking and high-quality watch that, like all Orients, is a phenomenal deal. Highly recommended.,work for a week dont broke,Bought 7 of of these as gifts for my groomsmen and they all loved it.  The watches arrived within 3 days!  Watch looks great.  For the price and quality it was a great deal.  The size is good not too big for a square face watch.  Read the instructions on how to set the watch as because it can be tricky.  The subdials are quite small but still readable, and for a watch under 40$ with day and date dials still worth the money.  2 watches did arrive with dead batteries, but upon contacting amazon, they refunded me a fair amount to purchase and install batteries on my own.,The watch is practical, stylish and very reasonably priced.,Great watch, really pretty, NOT water resistant. This claims that you can even wear it in the shower... however, one day of wearing it in rainy weather and the face is foggy. Other than that, I LOVE this watch.,Horrible watch. Don't buy. The crown came.off after one year with minimum use.,Fantastic if you need a watch and have Android phone. If i didn't want to wear a watch i'm not sure i would need it. Keep you from getting you phone out so much for new updates and texts and such. i like being able to change faces and colors. i'm just starting to download games and apps for it.battery life is one waking day. charger is cool.,Perfect watch for my elk hunt.  Rugged.  Big.  Non-glare.  Amazing backlight.  Super light.  Super comfortable. Perfect!!!  Thanks Amazon/Casio.,Love the looks,quality  n sizes of watch. Unfortunately I could not get it working properly. After 3 days trying , send it back. I am sure it was me running out of patients.,handsome watch. hands are a bit difficult to read.,After two months of careful wear the cap/screw that holds the wristband pin fell off (and was lost) - and being that I have missed the 30 day sellers return deadline I now have a pretty much brand new yet useless watch!,Excelent for the price.,I wish it was less manly looking (yes, I know it is a man's watch), and I wish that you had the capability of setting two different countdowns, as I use this for work breaks, but I'm still pretty happy with the features.,This watch stops working if left on dresser for over 2/3 hours. This is happening since it was bought. I am not sure if it is the issue with battery or something else. after giving a few shake it get back its life and there is a need to reset time date etc. NOT worth the time. Certainly it is very disappointing. I would not recommend anyone this watch.,I like it,It's a beautiful watch that I absolutely love, but it is running 3-4 minutes per month too fast.  It is expensive to fix.  I haven't yet looked into the warranty from Amazon, but it was a gift from my wife on our wedding I don't want to send it somewhere to have it adjusted.  I am just living with it for now.,I was hesitant to buy this watch at first after reading the reviews about the band being too small. Now after receiving it I find that it fits me perfect! (By the way my wrist is not skinny). I work at a jewelry counter where we sell watches and this watch's band seems to be the average length of a normal digital woman's watch. Anyways, I'm happy with it.,We looked at many clocks before coming across this one.  It looks very nice runs very smoothly/quietly.  We are very satisfied with this product.,I got a deal on this watch at a local department store, but after I got home and read the reviews, my guard was up already. Well, less than a week into wearing it, I took it off tonight and my wrist was green. Ugh! Frustrating! These US Polo watches have great style and weight in a lot of cases, I just wish they would up the price by about $20 and put some real quality into them, like genuine stainless steel!  Some of the other issues I noticed include: pulling the crown stern in and out moved the entire movement inside the watch, the analog and digital times were off by more than five seconds within a week, the stopwatch time was hard to see in most lighting conditions, and, as others have undoubtedly mentioned, the bezel doesn't actually rotate. I don't expect much for the low price these watches are sold at, but several of those problems I listed are real deal breakers in my book, so back it goes tomorrow.,nice but it's a really noisy watch.<br />you will hear it all time... literally every second ...,The strap was well made, however, I had ordered black and it was a dark brown.  Returned for a refund which I received quite promptly.,Looks awesome.,I love this watch. It looks professional and stylish without being ostentatious, and actually looks awesome with my glitzy but delicate engagement ring, adding a hint of classic menswear. It's sturdy and you really can't beat the price, plus I have relatively narrow arms/wrists and the size is perfect. It has a really nice weight to it and everyone always thinks it's much more expensive than it really is.,Bought it for my girlfriend, she loves it. She works in the health bussines so she needed something easy to clean, that could get wet and that matches her uniform. Great watch and theStar Series on the dial gives the watch a nice look.,muy buen producto,My wife really likes the cool blue silicon wristband and watch face on this Armitron sports watch. It's stylish and fun. It has many holes for adjustment, so even very small wrists should find the proper adjustment (our four year old could wear it comfortably). The setup was fairly simple and standard, with two time zones able to be set, a stopwatch, countdown timer, and alarm. The weekdays on the display are very tiny to read, and makes the display seem a little cluttered or crowded. It is easily visible under water, with little to no glare, and seems a solid sports watch with no frills. While you can wear it in pools and the ocean, you can pretty much predict that if you do that often, the bands will degrade and discolor--but then again that's why you wear your sports watch and not a nice one. Also sunscreens etc, are unfriendly to watch faces and bands.,I wasn't expecting much for the price....It came on kind of a cheap necklace type chain, but the watch itself was actually a lot nicer than I had ever expected.,I was looking for a Seiko for my husband.  He likes it.  Wish the face was glow in the dark but other than that it fits the bill.,I am very happy with this purchase.  I have had it for a month and have used it to adjust the length of 4 watches so far.  Very good quality.  Easy to use.  I have saved a lot of money by not having to take my watches to the jewelers to have them shorten the watch bands.  I would recommend this purchase to anyone.  Delivered on time and without problems.,I got this for my daughter for her 7th birthday and she was so excited. She has worn it everyday since receiving it. The watch fits her perfectly, with plenty of room to grow.It looks different from different angles, this makes her so ecstatic.she told me that this was the best gift she'd ever received.,Gift for someone, I cant really comment on it.,Battery died in 2 weeks!!!!!!!,I absolutely love the design and the quality of the watch materials. When I received the watch, it was set correctly so I did not have to make any adjustments to the date or day for almost 2 months after my purchase. Sadly, when I went to adjust the date because it was off from having a shorter month, I found out this part of the watch was broken. I do not wear it often and am not rough on it (primarily worn in an office setting). The band and watch face still look close to new, so I'm assuming the dial was broken when I received it and I realized it too late to return it. This is the third time this has happened to me when ordering a watch through Amazon. I absolutely love Kate Spade designs and they are generally of a superior quality, but when ordering on Amazon, you typically get a product that looks or functions like an item that was rejected by the maker because of minor dysfunctions. The gold-on-gold color make the watch slightly harder to read and the date dial is quite small, but the pink hands really help with visibility. The leather on this strap is very thick, which takes some adjusting to if you are used to wearing lower-profile watches. It is also a light enough color that if you are wearing it to work and are rubbing up against printed materials, the band will get a slight discoloration from the ink. The watch face is large, as other reviews suggest. I have a medium sized wrist (~ 16 cm), but it does not look too large on my wrist. When wearing it, I can definitely feel that I have a watch on, but the size makes it look like a nice statement piece.,I really wanted to love this watch but I don't.  Compared to the women's Timex Ironman Triathlon watch it is replacing:<br />1.  The watch is much heavier and bigger.  I really notice the bulk and weight on my wrist when I'm working out<br />2.  The date display is goofy.  The year is displayed first.  Duh - who doesn't know what year it is?  The month/date has a small display which is difficult to read at times.  I went all through the instructions to see if I could change this, but could not.  The Ironman defaults to DAY of week then the DATE of month.  That's what I need, and I need it to be displayed clearly.  Done.<br />3.  The display of the Casio can be difficult to read in bright light conditions.  I don't know if it's my sunglasses, the glare, or what.  But I don't have the same problem with my Ironman watch.<br />4.  This watch is double the price of the Timex Ironman.<br /><br />I prefer the lighter/smaller Timex with easier to read display for half the cost.  My Casio is collecting dust on my shelf, although I will admit it looks nicer than the Timex sitting there.,I've had it a month so far.  It's not as high quality as the old one but I like the design.  Very convenient as a bedside alarm.  I find it loud enough, contrary to other reviews.  Quality is okay.,Had not noticed that this is the very large watch face and band. I like the watch face fine though it's bigger than I anticipate. Silicone band seems cheap and it's stiff. Put on a leather band that I had for my other watch which was a smaller size, but made the band work ok.,Bought this watch in 2014 and wear it at least 75% of the time including in the shower, running, hiking, kayaking, swimming, and all other sorts of activity. It only recently &#34;broke&#34;. Honestly, the circle piece of the face came off, but the watch still functions perfectly. Picture shows what I am talking  about. Purchasing another one and hoping it will last another 3 years!,Not what I expected....,coolest watch ever,Extremely well I made watch. It even has a solid stainless link bracelet. Deep dish dial and very beautiful.,Amazing,I am extremely pleased with the product.  Excellent watch!,Too tight.,It pains me to rate this watch with 1 star because I love the way that it looks and wears, but if I'm being honest with you and myself, it's a P.O.S.  I'm not a watch snob, in fact this is the most expensive watch that I've ever purchased ($190) and it's been the worst experience I've ever had with a watch. I purchased from the seller Area Trend on Amazon so I can only assume that it's an authentic Luminox but wouldn't be surprised to learn that it's a fake/knock-off/refurbished. When it arrived it wasn't running...Tap it and it would start running...a few hours it would stop again.  I sent it back and they sent me a new one (I had to pay for shipping and wait a couple weeks).  About 3 months later the exact same thing begins to happen...stop periodically and start back for a few hours.  Rather than send it back to wait several weeks and pay shipping again, I took it to a watch repair shop thinking maybe it's a bad battery connection but I find out that it is a faulty mechanism and required a new one.  My watch repairman orders a new mechanism from Luminox and installs it for about $65. Here we are at about 10 months later (owned the watch for a total of about 15 months) and I look down at the watch and the second hand has fallen off and is shaking around loose under the crystal. I'll take it to the watch repairman again, get him to fix it again, wear the hell out of it till it screws up again, but I would never buy this watch again.  Very disappointed in what I thought was going to be a cool watch to own.,The smile on my significant others face was worth the cost the watch was prefect better then I expected,Better quality than picture sugests...,Happy with product,Very nice watch. I get compliments all the time and everyone asks where I got it. This is an excellent watch for business/formal types of gigs that doesn't break the bank. Not heavy on the wrist.,Perfect size, light weight, and matches almost everything. A negative is it ticks loudly.,Pretty much what I wanted, disappointed with the band. Very stiff, and the end was squared. Hard to feed through buckle.,Love it ! ; got it for my lil brother & it looked just like the picture & didn't look or feel cheap. Only bad thing is I got it to help him tell time however the numbers are extremely small,This is a nice sports watch.  Bigger than it looks on the picture, so it want disappoint if that's one of the desires in getting it.,I wasn't able to get this to work. At all. So it's sitting in a box somewhere.,The Swiss Legend World Timer is a nice higher end quartz movement watch with dressy looks and nice functionality.  The watch is BIG coming in at 48.5 mm case diameter so this is basically a large man's watch.  I would say it wears small-average for it's size but again it's a big watch.<br /><br />It does have gold accents on it but it doesn't come off gaudy at all.  Overall I highly recommend this if you are looking for a large men's quartz watch for dress occasions.,Gorgeous watch! Works fantastic. The dial is of the right size for my not so monstrous hands (7&#34; diameter at wrist - Left Hand), if you have big arms, this may look tiny. The two tone double lock metal strap is gorgeous. It has polished center links with brushed finish links on either side. I had to remove 3 links to fit well on my wrist. There are 5 more links that can be removed to fit ones wrist (so a total of 8 links can be removed to fit ones needs). Hope this gives you an idea of the range of wrist sizes this can fit. I love the big Yellow stop watch arm. All are screw in buttons and knobs, what I mean by that is, you have to unscrew the rings by the two buttons at the top and bottom and the ring at the center knob to make it work. Once you are done using the knob and the buttons make sure to screw back the rings tight, this I suppose makes it water tight. The small dial on the left is your seconds dial, the one at the bottom is your alarm and the one at the top is your stop watch dial. Surprisingly all of the arms fall right on the marker lines when they work, may be I got lucky or may be the quality of the product is that good...I don't know! The hour/minute arms and the main dial has fluorescence on them to aid in visibility in dark surroundings. I have owned this for little over 2 weeks now! The dial is supposed to be used to measure 7 or 8 different parameters, I haven't had a chance to do any of that...Sorry! I have to say at least three others in my work place have bought this piece in the past 2 weeks since they saw this on me!,I was very disappointed that the &#34;illumination&#34; is limited to the teeny tiny little LED section of the watch face.  Not useful at all for nigh time display.,Recommended ...,Automatic movt,mop dial,open heart,44 diamonds,butterfly clasp,and on. This was an anniversary gift for my wife. The diamonds may be small but in the light- WoW .,The wife likes it n she's happy with the watch,Little upset....the hands don't match up with the hours and minutes...sad ...because it's a beautiful watch that I can't wear.,Excellent watch for the money. Sharp understated design. Particularly good if you have a smaller wrist. Hard to find a Chronograph for small wristed. This one fits well!,Awesome and Quick..Thx,This watch looks good and real leather band but when you take it out of the package it feels cheap, lightweight, and you begin to notice the lack of beefiness, and masculinity points dropped. It lacks weight, but it would be good for someone that needs a watch that is light weight, has visual appeal, and isn't concerned about it getting chewed up or broken.,Just like in the picture but the textured dial isn't as shiny as you think it is but still shiny.,Bought this as a gift for my grandfather, its beautiful and looks just as nice and high quality as the more expensive ones! He loved it, great gift for men, who can be so hard to shop for. It's something they wouldn't buy for themselves but can still appreciate and use!,This is a gorgeous watch. I almost canceled my order because I was scared it might look to masculine for my female wrist. Im glad I didn't. The combination of colors with the grey polished metal face, stainless steal bezel and black croc band gives it a nice rich look. I have an average female wrist and it fits fine. What doesn't show on the pic or video is the number markers are indented into the metal which plays beautifully in the light. Its a steal for the price and works for a man or a woman.,Beautifull watch im very happy with this piece actually i want the 1020 model, is the same white instead orange,The watch itself it fine, but the watch band is too small.,Loving it.  Works fine, easy to set up, etc.  I used to have one of these when I was a kid, so it's the nostalgia that's really got me going.,Very eyecatching obviously.  I found the back of the watch to have a bunch of different metal pieces which uncomfortably dug into my skin.  The weight of the watch, while noticeable, is not unbearable.  The band got quite discolored around the area of the clasp.  Mine is grayish black now besides being orange.,I was looking for a watch with a brown strap that had a somewhat timeless look.  I almost went for a chronograph just because I love the way they look but for the price on this watch I couldn't pass it up.  This is a nice addition to my very small collection and it's my first automatic.  I only wear it once or twice a week but setting the time and date only takes 30 seconds so it's not a big deal.  I first thought the inscription on the band was cheesy but the more I thought about the words &#34;without liberty life is a misery&#34; the more I wanted the watch.  The inscription adds a little flair to an otherwise simple yet sophisticated watch.  The band has variations in the brown color so this watch can be paired with light brown shoes/belt as well as dark burgundy / oxblood shoes/belt.  It fits well and looks great.,Beautiful.,like them.,not a bad watch but don't use it on water or else the it will stop working,Beautiful watch that is even nicer in real life. When first received placed on window sill for about two hours and has worked great since. Strap doesn’t pull arm hair and fit great right out of the box. My only issue is that the hands or numbers are not luminous. This was an oversight by me and should have checked before I ordered but no fault of Amazon or seller so they shouldn’t incur the cost of shipping to exchange. Overall a good buy just do more research before you order to be sure what you select has all options wanted or needed.I plan on keeping as everything else is perfect.,the band looks good but it was a bear getting the links out to resize it without the holder to keep the band aligned while removing the extra links.,Excellent Product, competitive price and quick delivery.,This band fits my watch well and I expect it to last a very long time.,The crown and stem fell out within 48 hours. The replacement watch HAD THE EXACT SAME PROBLEM! So very disappointed with this model, which is a shame.,Good quality band but it is about a half inch too short.  I can use it as is but it would be comfortable if it were a bit longer.,Amazon sent me a broken one which I returned. These subaqua specialty watches are normally very good though!,I like the watch but I don't like the buckle on the watchband.  It's cheap plastic.  It would be better if it was made of metal.  Also, when searching for a replacement watch band, it is impossible to find a better upgrade.  All I could find to replace the band with, if I ever had to, was the exact same cheap band that it came with.  If not for the crappy band, I would have given this watch a 5 star rating.,So far I have used the watch for a week. Looks clean and simple to use. The weather function is simple and on point so far. The band is comfortable and holds nicely without the end falling out of the loop. Havent used all the other functions yet, so I couldnt rate this watch five stars.,The band is super small...the watch head-is much bigger-I really help-the band would fit the &#34;watch&#34; size...A bigger band would make it more appealing...for the price-you would think the band would be larger..,Works,It's not really blue at all...,I recently went shopping for a new watch when my old Timex band started cracking after 8 years. Duct tape works ok to keep it together but I needed something that looks good on my wrist.<br /><br />I went to Target looking for a new band and I decided that for a few dollars more I could just buy a new watch and use the old one for yard work and working out.<br /><br />This model met all my requirements. I wanted a clean easy-to-read design with date and day, a comfortable brown leather band and a face that lights up clearly in the dark. So far after a few weeks I have been very happy. It looks as good as my $150 Seiko at a fraction of the price as well as keeps good time. It's still accurate to the second since I first set it.<br /><br />I am a medium to large man who normally can only get the last notch buckled in most watch bands. This band will buckle to the second notch. The advantage of leather is that it CAN stretch, so don't worry if you have large wrists. A few minutes soaking the band in water will let it custom fit even the largest of wrists.<br /><br />Design wise this watch has a nice clean legible design. I'm not going SCUBA diving or orienteering in the woods. I just want a nice stylish watch that will tell the time accurately at a glance without the distraction of nonsensical mini dials. The smaller case still looks good on my larger than normal wrist and doesn't catch on doorways or sleeves like a large bulky case would.<br /><br />I've always had good luck with Timex watches since I was a kid. Good quality for the money. The only reason I have an expensive Seiko was because it was a gift and I only wear it for formal occasions.<br /><br />Like the old ad says, it takes a licking and keeps on ticking...,This automatic watch keeps great time when worn regularly or placed on a winder. Holds time for at least 48 hours. It looks great....face is a darker blue than pictured under normal light conditions, but a bright blue in direct sunlight. The upper crown controls only the day of week, which can be set in English or Spanish. The upper crown screws down, but not as securely as the main crown.<br /><br />My only knock is that the band pinches the skin and hair on my wrist... plus it has that unsightly dolphin emblem. Do yourself a favor and either buy this watch with the metal band or replace the one that comes with it. I replaced it with a metal band for less money than it would have cost to buy it that way.,I'm preparing to do my clinical rotation next month and this is a great, inexpensive watch for me to help take vital signs manually, such as tracking  pulse and respiration measurements using the second hand.  The interface of the watch is big and clear so I can keep track of the seconds without having to squint my eyes closely at the watch.  In addition, the company was very responsive when I reported that my watch had a stain on the interface, which they quickly replaced for me with a new one that came in a week later.  The band is kind of stiff, however the resourcefulness of the watch to help me take manual vital sign measurements is more of an important purchasing factor for me.,A bit flimsey,Nice time piece. Keeps precise time and is sturdy to wear daily. Not super big like some.,I've been wearing versions of this watch for about 20 years.  It's easy to use, easy to see the display, comfortable, reliable, and affordable. The small &#34;downside&#34; is that this watch is very ordinary.  Like the title says, it's the Corolla of watches.,Worked great. Hope to get another 10 years from my Casio G-shock watch.,awesome!!!,Cute watches for the prices. They are huge so if you have a small wrist you'll need to get some links removed .,I like the watch it looks nice and fits comfortably on my wrist. But I was looking the watch over and noticed that it is advertised as being Swiss quartz movement and the watch I received is a Japan movement. This concerns me some as I am not sure what exactly this means as far as why mine is different than the one advertised.,The time knob is difficult to operate. The design could and should be improved.,Returned it as it did not work!,This watch is just awesome..,Seems like a nice watch and easy to read. Still unraveling the connection with the Seafire; now that I have the watch, I looked on-line at a Seafire's instrument panel and specifically the clock, the face doesn't really look like this at all. By the way, this is the stiffest leather watch strap I have ever encountered, hopefully that bodes well to longevity.,it is beautiful and it works just fine,only used two days, one of the lug was broken.,This is a great watch and I very much enjoy wearing it. I wear it almost all the time unless I am working in the yard or doing something where I wouldn't want it scratched or damaged, though I have no reason to believe this watch can't handle almost any situation. The black light does illuminate the number dial sufficiently, but as others have said, it doesn't illuminate the hands very much, and definitely doesn't illuminate the LCD screens at all. The watch is pretty large, so if you have small wrists (I have average wrists) this watch may feel rather large.,bangles seem like they wont last, but im watching closely,It looks good and in the rose gold it is definitely an eye catcher!! Enjoy wearing it too. It looks great with my MK rose gold metallic Cindy large satchel handbag I also purchased on Amazon Prime a few months back. I'm a Prime shopper for sure!,I wanted a good watch for a value price to wear playing golf and this is a beaut!,junk,👍👍👍,No instructions, couldn't get it to work.  Useless,Lots of compliments...,A very solid, good looking watch. It was given as a gift and was loved by the recipient. The Mother of Pearl face makes this watch stand out above others. So far it has kept perfect time. The solar feature is great. No more batteries to replace.,the vibrating alarm doesn't vibrate for a long period of time - the vibrations turns off after 2 vibrations.,I got one of these beauties.  Looks nice, the outside is very high quality.  The rest is the opposite.  Cannot figure out how to hack the watch to synchronize the time, despite the user's manual.  The time is hard to tell, one has to search for the hour hand of the watch, because the three dials are mostly black or dark, same as most of the hour hand.  Worst of all the big red 60 second counter hand which jumps perhaps every second, does not line up with the 60 hash marks on the dial, but only about half the time.  Guessing, either the 60 second counter hand jumps at different intervals and they are not equal, or the hashmarks on the dial are not spaced equally. After nearly 162 years of watch making, a manufacturer should be able to divide the circle to 360 equal spaces and also should be able to make a second hand jump exactly 1/60th minute, every second. Operating the watch is NOT intuitive, the three time measuring dials are impossible to zero once.  The watch measures, stops, as if has its own mind, one may need a six month course to learn how to operate it. Question:  Why Tissot cannot fix the shortcomings of the watch, as I am sure they read the watch collector's blogs and many dozen people point out the same thing, I did above.  I have over two dozen watches and this will be the first one I get rid of, gladly.,I got this on another website in Dec. 2014.  Very adorable watch. I loved it. Note, the past tense. I watched my hands and rinsed off dishes (no deep water immersion), ordinary daily routines. Somehow water got into the face, and it stopped.  So be very careful of not getting it wet, the water may leak in.,Good but fogged up after a few months and could not read face.,clock meets all expectations,Perfect timepiece for me and to top it all it came as a water resistant watch. The compass is not always acurate though but thats not nothing to complain about because the watch has real 24hour operation,Everything you want in a $16.00 watch and more!<br /><br />No, really a useful, serviceable timepiece. Works great.,The watch came in a timely manner and in an absolutely beautiful box. The watch itself has a gorgeous antique styled face, the winding action is precise and tight and the casing is a total conversation starter. This watch is easily worth twice the cost.,It's ok,This does not work with the IPhones,Perfect fit for my casio g shock watch model 2608.,My 9 year old son loves it. It is a bit large on his hand but not too bad.  update: lowered to 2 stars.. 3 months have passed since we bought it. A couple of times when my son took it to the pool it got condensation which prevented seeing anything on the screen and this lasted not a few minutes but a day or so.   Now it just stopped working altogether.,its okay kind of plain,Fit perfect,I also ordered the Batman watch and instead received the Superman watch.  Do not order this item if you expect to get what you ordered.,Great product...5 star for quality... 5 star for being, and looking like the pic. This watch is sturdy and has lasted longer than any of the cheap plastic watches I've usually purchased in the past. I am typically the destroyer of watches because of my job but this one is still going strong and that is a lot to say for someone like me who usually breaks them in about a month. You won't be disappointed with this one!,Very pretty watch with an easy to read big dial.  I have a very small wrist and it fits perfectly.  Very happy with this purchase.,Terrible quality and cannot be programmed without the instructions and the instructions that came with it were in Chinese. Terrible purchase.,I generally love Time Indigo but this one has been a disappointment. The Blue band started fading within a few weeks and I've lost time several times. I have not yet determined what caused that since it is not constant just occasional.,We purchased this watch for our son (just turning 10). It is a great watch and he loves it. I only rated it as a 3 instead of a 5 because the band was rather long. The watch is identified as a Kids' watch however, the band is as long as my own Casio (AQS800W-1B2VCF). Also if you search the model number for the &#34;kids&#34; watch it will show up twice, labeled as a kids watch and as a men's watch.<br /><br />In short, I think it would be fine for a kid 10 years or older. A younger child may have too much of the band overhanging.,Very pretty, elegant,I needed this to replace the far too small original brand on my LG G Watch.  Perfect length for me!,Very pleased.  Beautiful watch and very fast delivery.,Love this watch it is my third Invicta from Amazon , however it worked for a week then would not keep time, I was on the road so had a new battery installed to see if that was the problem, No,  So I have shipped it of to Invicta with the $28 check  know we will see what happens .<br />My other two Invicta`s have been great. keeping good time.,Just whatI was looking for,This is a beautiful watch.  I have worn other watches by Kenneth Cole for years.  This is just as nice of quality as previous styles.  The rose color is softer than some other brands and looks more delicate and professional.  The numerals on the face are Roman and that also adds character to the watch.,All perfect!,Bought this for my husband for our 7th anniversary. It really is a cool looking, trendy watch that fits his style very well.,No complaints. It's incredibly light and it tells the time.,super,Works will with my watch.Thanks,super slim and chic. I gave it as a gift and it has been getting raves - from the recipient and non-stop from her friends.,I had a watch just like this but it was blue and the rubber broke and I liked the style and brand so much that I bought another in my favorite color. It is waterproof to a certain deep depth and the packaging confirms that. Has a speed timer, an alarm, a secondary time as well as the normal time and day month and year.,Like the style,For forty bucks, this thing is solid and BEAUTIFUL!,excellent watch,I haven't been impressed with this watch since I purchased it 4 months ago.  First, like others have mentioned, the metal band squeaked a lot when I first got it -- it was very annoying to constantly have a squeaking noise coming from my wrist when I moved.  I was able to silence the noise with a few shots of silicone lubricant.  Second, the watch does not keep time very accurately, even when I wear it every day, sometimes winding it if I have had it off for more than a few hours.  In my case, the watch gains a few minutes every few days.  Third, despite the beauty of the watch in the photo, in reality it is very hard to see the silver hands against the silver background -- just glancing at it to see the time isn't possible; you have to look at it for several seconds to distinguish where the hands are, and which hand is which; I hate wearing it in low light, and often I only choose it wear it (as opposed to my other watch) if I'm going to be outside where I can see the face better.  Finally, and most annoying, the crystal somehow became chipped under normal wearing conditions a couple of weeks ago, and now it has moisture in it.  In all my life of wearing watches, I've never had a crystal chip; and I know I didn't do anything outside of normal use.  So now, because the crystal isn't covered under warranty, it's going to cost $45 for repair.  I've had a lot of watches in the same price-point as this watch during my life, but never one of such poor quality.  I won't be buying a Relic watch again.,That's what I want,I have had some version of this watch for 30 years. There is nothing better. The countdown  timer is a must for me. Thanks for keeping it available!,Band is impossible to shorten. Uses very tiny screws. I bought a 0.8 mm screwdriver and could listen it.,Looks as is as shown. Packaged well and was shipped promptly. Quality looks good so far. Definitely Recommend it!,Shipping?... Less than two days!<br />This watch is really nice. Reminds me<br />of a Panerai Daylight.<br />Works fine, I'm happy with it.<br /><br />Thanks Amazon,Love the watch!  Beautiful, bright and clear display.  This is my work and snorkeling watch.<br /><br />This is not a con.  I knew what I was buying.  I wish that Armitron would also make sleeker LCD display watches with large numerals for more normal wear.<br /><br />If you want an all around good, and very legible LCD watch, I can only recommend it!<br /><br />Bernie,Excellent quality. Solid. Would highly recommend.,Great watch for everyday use!  It is big enough to see the time even without putting the watch directly in front of your face... so if you need a watch that you can look at subtly (if you're on a bad date), this is the watch to get! : ),The picture of the watch on Amazon showed chrome plated hands on the watch.  The watch arrived with grey metal hands on the watch which make it somewhat difficult to read in low light conditions.  Otherwise it is great!!,Great Genuine Casio Watch!<br />-Japan made (Quality Wise)<br />-Easy to setup<br />-Classy look (Thanks to its retro design and gold tone)<br />-It's for MEN! (Thanks to its black frame color and band design)<br />-A must have model of Casio because it's very hard to find in any local store or atleast just in Australia.<br /><br />Delivered a little late than expected but did refund the shipping fee (Carrier issue, not the seller). But very satisfied with the watch. Thanks!,Sun permanantly turns it browninsh. Forget it.,clock meets all expectations,I bought this watch from Amazon as the seller. So I will first review the Amazon experience, then the watch itself.<br /><br />It's quite difficult when it comes to rating Amazon, thing is the experience I've had with them over the years is incredibly positive. What I can  say is, the watch is authentic and I had it inspected by a Tissot shop. The packaging was great and the watch box had all the catalogues with it. When the seller is Amazon, buy with confidence.<br /><br />The watch itself is really a true piece of art. The blue dial and the outer black case with the white numbers all come together in perfect harmony with the stainless steel bracelet. It's subtle and a looker at the same time. It's not small whilst not too big either. For me it's about the perfect size. It's a bit heavy, but this only adds to the great feeling you get when you wear it. The thing I love most about this watch, is that with a quick glance, you get the time, day and date. I definitely recommend this watch.,It seems to be a very cheap watch.  Accurate time keeping isn't possible.  Band fell apart after 3 weeks.,OK so I have had this watch for a few days now and I can easily say is the best cheaply priced watch I have ever owned. It fits comfortably on the worst and it has some weight to it but not too much. Just enough. I have gotten multiple compliments on the sport amount of time I have had it.,Nice. Loops are properly placed for extra strap length. Heavy weave.,The band is made out of some type of plastic and when it arrived weeks later the band was stained or had some type of water damage.. Got a full refund so happy at the end. ✌🏽😄,Disappointing!  After receiving the watch, reading the manual, and setting the city and Day Light Savings Time.  The auto setting for Day Light Savings time did not work.  The watch also was turned toward the west sun for 4 to 5 hours for two straight days, yet it never left M (medium power setting) designation for the solar battery.  It should have moved by the end of the first day to H for high battery power.  I returned the watch to Amazon, and received a full refunded of the purchase price.,Very fast shipping.  The watch strap was like described. I have a small wrist and it fit perfect.  I am happy with purchase.,Bad Quality in this moment no working,The product is good when it works.  Within months of purchasing this, one side of the winder stopped working.  The seller sent a part that we replaced ourselves and it seemed to get it to work...for a little while.  Few months later, both sides of the winder stopped working.  Product works less than a year.  Contacted seller and was told no warranty.  So unless you are good with paying for something that last less than a year...would not recommend buying this.,The large size is QUITE large--had to return it for a medium, for my husband who is a pretty big guy.,Very v cheaply made broke within the first 3 days,Like it,All perfect!,Handsome watch. However two caveats; one, the attractive band is way to large. I had to buy a smaller one that cost nearly as much as the watch! Two, the second hand has a loud ticking sound... can be very distracting at bight.,like them.,I really like this watch.  The face is very big--really more the size for a man, which is perhaps why it's called &#34;unisex.&#34;  I can't imagine a man wearing it however; the  pink color and the glittery band make it quite feminine.  I would give this watch 5 stars except for 2 things: the day and date are difficult to advance correctly, and the plastic buckle is rather delicate--I envision it breaking at the point where the pin joins the buckle to the band.,The watch is beautiful! It is a little bigger than I expected, but after wearing it, it is perfect.,The strap itself is pretty great but it didn't come with the springs to put it on my watch (which every strap I've ordered online thus far HAS included) so I was kinda bummed about that.. It unfortunately doesn't look really good with my original white Pebble watch so I won't be using it after all - but it's a good strap if you have a conventional watch to re-strap!,The SNZH53 is a very good automatic watch at its price point. It keeps good time, has a decent power reserve and the deep blue of the face and bezel is very pretty. The crystal is fairly scratch resistant. Not as good as high end watches, but the hardlex will prevent all but the hardest bangs from leaving a mark. The worst thing about this watch is the bracelet. It feels light and cheap. If you're planning to wear it on an aftermarket strap, as I do, that's not an issue. Though it's a &#34;divers watch&#34; it doesn't have a screw-down crown so it's not really great for doing a lot of underwater wear. That said, I've gone swimming with it on and had no ill effects.,This watch is very attractive, and I very happy to wear it.,Products like these which need time to show what they are and how good or bad they may be, need TIME. We have not even given it as the gift we bought it fopr, and may be later they would be owner will advise how is was.<br />Please give these items time to prove or disapprove themselves.,i wear it often.  works well,If looking for a FUN / Practical & good quality watch for the Spring / Summer, this is the one to grab!!!  I definitely am enjoying mine this Summer '15.,Classy!!,perfect,Pelage dial with tiny jewels positioned at 10,25,40,and 50 minutes. There is a date function its a perfect size and it is comfortable. Oh, yeah, its also gorgeous.,Husband likes it.,Very sturdy and light.,Very cheaply made. Battery doesn't even work,Too large by far! Cannot be adjusted.,Love it, looks just like the picture. Actually a lot nicer in real life because of the mother of pearl casing and the grey leather and rose-gold contrast.<br /><br />Also, it is quite small. So just read the description carefully before you buy because it really is a small small watch. But I love it exactly that way, I think it looks perfect!,excellent,Very nice watch , very high quality and 80 hours power reserv is excellent future , love it. Due its size , which is on medium-small size, for perfect balans I recommend this watch for smaller and skinny types of wrists,,Black strap is stylish.  The holes are well sealed so they should not fray but I don't think you could add your own holes. The buckle is metal but slightly lighter than I expected - still it should be strong enough.  Although the band is 9.5 inches (24 cm) not counting the buckle there are no holes for the first inch so it only just fits my 8.5 inch (21.5 cm) wrist.,Awesome watch arrived quickly,I wanted an outrageously styled and colorful watch. Boy did I find it.,Love the watch, back light is bad but you learn to deal with it. Looks great. Directions came in Japanese so I went onto UTUBE and watch a video. Very durable I'm in law enforcement and have slammed it a couple of times dealing with bad guys and not a scratch on it.giving it 4 stars because of the back light.,The watch appears nice and is a copy of what we saw on your site being advertised. But it is for a gift; and then again it takes time for the owner to use it and get back to us after  a while as to if it was a good watch and worked out well, or it was junk. Please give these item time for evaluation.,This replacement band is not as comfortable as the original that came with the watch. The finish also is somewhat disappointing with excess flash around the openings where pins go. Would not purchase again.,The watch indicates it is &#34;Indiglo Night Light&#34; but pressing the A button or the Crown does not turn it on.<br />How does it turn on?<br />Both the hour hand and the minute hand are very narrow and it is difficult to see in low light.,Excelent for the price.,This is a nice looking watch but I had to send it back.  I'm just an average sized person and it made my arm look like a stick.  Way to big for my taste.,All titanium, eta 2824 movt, 2 butter soft silicone straps, watch winder- at less than $200. I'm not kidding.,Sucks,Extremely Poor Quality product!<br /><br />I received one and thought all was fine.  A few hours later, it had stopped.  I tried to reset it and both hands moved together.  I pushed the stem back in and the second hand tries to go backwards occasionally and the other hands don't move!<br /><br />I contacted JewlreyWe asking for a replacement.  By the end of the week, I had the replacement.  That one is even worse!  From the get-go, it would not set.  I pull the stem to set it and the hands don't move.  I push the stem back in and the hands now spin around the center loosely as I shift the watch.<br /><br />I contacted again, this time asking for a refund.  Instead, they're sending me a 3rd one!  Will this one be any better?  Two absolutely total wastes as a watch -- what are the chances?<br /><br />At this point, I have two little velvet bags, two nice chains, two batteries, and two little owl-shaped paperweights!  They said I didn't have to send them back.  Note -- the little velvet bags do NOT have &#34;JewelryWe&#34; printed on them.  The description is wrong there.<br /><br />Update (9/12/15) -- I did get the third one and despite JewelreWe saying they ship from MA, it shipped from China.  However, it did finally work!  It has a visible flaw in that it looks like the owl is crying!  I have corrected the problem because of the two previous non-working owls.  I removed the big screw in the back from this and one of the other owls and swapped the eyes!  Again -- more work on my part but I finally -- after over 3 weeks  - got a working and pretty owl pendant watch.,Looks as is as shown. Packaged well and was shipped promptly. Quality looks good so far. Definitely Recommend it!,All was as expected! Thank you.,It's a real good watch, with great features (love the snooze).<br />Looks good too with it's low signature overall appearance (no visible markings about this or that).<br />However, that inverse display is awful !<br />Impossible to read the time !<br />With sunglasses in broad daylight - forget it (get your glasses off !)<br />In broad daylight, tilt that watch till you can read something ...<br />In low light, don't even try, just press the illuminator button.<br />Whilst driving the car and just wanting to know what time it is, just look at the car clock.<br />It's a real pity ... because otherwise I love it.<br />It would be perfect if it was as it is with as the only change a normal display (not inverse).<br />Got myself a G-9000-8V which is the same watch, but with a normalish display (orange) and a sand color - very neat and I can at last read the time !,Do not purchase the watch!  I tried numerous times to get this watch to function and could not.  I then realized there was no resource for support.  I have returned the watch and I recommend you not invest the time and money that I have.,Band was scratched and looks like someone tried to fix it with a sharpie...,This is beautiful and heavy weight. Great quality. It's very unique and has wonderful detail. Love this piece, will definitely order from this buyer again!,Not sure what I'm more impressed with, the watch or the shipping. Great looking watch,  shipped to Australia in 5 days!,Nice looking watch, large but good looking and comfortable to wear. Very noticeable, love how it looks with included leather bands!,I suggest you do not waste your money on this ,bracelet was broken in less than a month  i use.,Always getting complimented,AWESOME,I just rec'd my Bessky watch and it's nicer than the $50 Timex digital I replaced. It has a very large face and is very easy to read. It looks like I paid $50 + for it. I was hoping it would be this nice but really didn't expect it.  For $5.68 with free shipping I will replace this as required without a care for the cost. I set the time/date etc. and tried the stop watch without referring to the directions that came with it. Very intuitive to set up. Stop watch with lap time very easy to useTHIS IS THE FIRST REVIEW I HAVE TAKEN THE TIME TO WRITE IN MORE THAN A YEAR.<br />TONY B.,I like the large number display its easy for me to see at night and for the money it's a pretty good value compared to other brands I like it.,It's a very nice watch band. Good leather and is well made.  This should last a long time.,As a former Rolex owner (GMT Master) for 35 years, I have been very surprised by this Stuhrling watch.  Yes, its' a quartz watch, not a chronograph, the band isn't as heavy duty, as the Rolex was, but still this 824.01 is very attractive and is working well.  Compared to a $3k watch with a $250 band, this is a good alternative.  Very pleased with it.,Nice size, fits oversized watches very well.  Attractive looking case!,Absolutely beautiful!!!,Watch arrived without tags and was yellowed in color. I bought a new watch, but it looks used. Less than pleased with it.,Excellent product!,All perfect!,This is funny story. The package it came in smelled like leather and the watch says Polo and looks so Expensive. I had to go recheck to make sure i paid $9.99 and not $99.99. I thought i might have made a mistake. I didnt. In fact there was not saying it is not affiliated with Raulph Lauren. Ive gotten compliments on this watch. To me its worth $100. I love it! You will too if you like gaudy. Once i thought i broke it because it fell on floor and a piece came off, but it was a piece for in case you want to adjust it and make it bigger or smaller.,Excelent...,Ordered three of these in different colors, blue, red, and multi colored (orange, green, blue) for my two year old grandson who LOVES his &#34;Ganpa's&#34; watch collection. So my husband had a watch to give him, purchased these.  I purchased three to be &#34;back ups&#34; when one broke, there would be another one to give my grandson. The multi color has lasted thru baths, swimming, jumping and bumping of a two year old. The red one one is working but it hasn't been needed so I can't really leave a good review for that one. One day, my grandson came over without the multi colored watch so I gave him the blue one. My daughter said that my grandson was jumping up and down, fell on the floor and the watch broke when his wrist hit the floor. So much for the blue one.,Excellent quality and very fast shipping thank you.,I will start from the shipping, I got the watch a day after Amazon scheduled the delivery day. Still it was kind of fast 5days. The package where the watch came it was an envelope And a zip lock bag with no instructions. but still no damaged to the watch! Now the watch, is a beautiful and awesome watch the materials are the same used by the big brands! The day after the delivery I used the watch and got compliments from many people! One guy even said to me &#34; hey awesome hublot wish I could afford one&#34; lol. When I got home I Checked hublot website and they look exactly the same as this watch the only difference is the price hublot 34k and this watch 34dlls!!! If you thinking about buying this watch please don't just buy it I highly recommend this watch is really really nice and for the price is just an awesome deal I just bought two more! If I could I will give more than 5 stars! Happy shopping!,This was the perfect choice for a replacement band for my Samsung Gear Live watch. I did have to notch the pin placement however that was easy the band not only works well it looks good as well. Very happy with this replacement.,The metallic material is plastic. I really like the background lighting though, the colors help separate the digits and letters. This has lasted me for almost a year now, even after swimming in pools, running in the rain, and showering. Anyone who wants a waterproof watch for cheap should look at this one.,This item needs a LED light to indicate when the item is on.  No visual to tell when on or off.,Just the right strap and they included a second strap for free!,Looks good. Very easy to read even at night. Somewhat larger face than I thought by picture,The watch band fit nicely with my watch. It doesn't come with the two metal pieces/rods that attach the band to the watch. But you can use your old ones. You'll need a very small screw driver or small pocket knife to remove and replace the two metal rods. They are spring loaded so they compress.The thing about the band that kept me from rating it higher is the color. I expected it to be darker than it appeared on the web site. But it is still OK and very functional.,Was perfect for putting the backs onto watches after changing the batteries.  Very easy to use.  Already used it on 3 watches.,Incredible watch!  Very high quality and solid.  Looks and feels like a multi-thousand dollar watch.....seriously! Nothing about this watch is cheap. Everything: clasp, band, movements, dials, buttons, detail, even the box.....etc is amazing. Beautiful emblem engraving on the reverse.  Exceptional watch. I wouldn't be surprised to see Jiusko as a top-tier watch seller very soon!,First, the pros: This is a nice-looking, automatic movement watch for much cheaper that you can usually find. It's styled after the Rolex Submariner, and it can be worn causually or dressed up. The blue dial and bezel are the perfect shade - bright and colorful without being garish.<br /><br />But, it can't tell time. I've set it repeatedly, wearing it to ensure it was getting wound, and it's consistently fast, sometimes by as much as several minutes after a single day. You had ONE job, watch!<br /><br />I have trouble even calling it a watch because it's useless for telling time. I shouldn't have trusted a company who has a watch (distinct from this one) in their &#34;Pro Diver&#34; collection that can't even be taken in the shower!,I can recommend this watch. High quality and it has performed as advertised. A couple of things that might not be right for some. One it is a heavy watch. Two it sits on your wrist higher than other watches. Also because of the metal band you may needed to remove some links, as I did. If you have a thick wrist, the band does not come with extra links, should it fit you too tight. Again rated 5 stars for my use.,Heavy, large, beautiful,Beautiful watch!,It's hard to set it and the buttons no longer work on it after a week,A lot of bang for the buck. I actually used this 24mm strap with adapters for an Apple Watch. Looks great, feels super comfortable. And yes, I'm a watch guy. I have straps that are $400 and ones that are super cheap. This one is a great strap for the money. The more I wear it, the more comfortable it gets, and it keeps it's look.,I'm late getting to the party, but after discovering Invicta watches I just can't get enough of them. There is a watch for every situation from dress to casual. After acquiring several of these in a short time, I can honestly say that I have not been let down in style or performance. I don't think I'll ever buy another watch that isn't an Invicta!!!!!,Beautiful watch ... Fun but still elegant wonderful color much prettier in person  and wow do those crystals Around the dial sparkle.,Watch works very well.,Beautiful watch, receive compliments all the time,The previous version was streamlined and had a flow from maid body through band. This version has a bit larger body and band is not as heavy and feels a bit cheaper.<br /><br />Technical functionally is great.,I like the look of the watch and the fact that I don't need to buy batteries for it and that it is water resistant makes it a good purchase.,This clock is pretty. Recommended.,Just awesome! Ive been after this watch for about 3 yrs and i couldnt find it. When i saw it on Amazon again, i just had to have it. I also own the mod 9937 and ive been very happy with it. They both have a swiss movement, that is why its more expensive than japanese movement counterparts.,Seems like a pretty good watch for the price. Have not had it long enough to give a thorough review as far as quality. It is in line with Fossil watches as far as comparison wise. It looks good and is thin, which would work as a dress watch.,Excelent!,Beautiful !!!!!!!!,Nice looking watch.  A quick wind and it goes for 24 hours.  Keeps great time.  No instructions, so no idea what the other dials or buttons are for, but it tells time so I'm happy.  If and when it quits, I'll look for another.,Have a timex expedition watch.  Liked it and the band it came with.  After a year of heavy duty wear the band got caught and ripped loose from the watch.  I thought I would have to buy a new watch.  Ordered this band which looked similar first and I'm glad I did.  It's better than the original in comfort and works the same.  Even if it only lasts a year I am still money ahead.,Awesome!.,item is beautiful and you will get many compliments but the reason i gave it the rating i did is because the time does run slow, and it looks like there is some specks of dust of something in the actually encasement its self!,My daughter loves it. When I asked her if there was anything she liked/didn't like about it she said &#34;I like that it has butterflies, but I don't like that they don't come to live and play with me.&#34;<br /><br />So there you go, perfect watch unless you're a 6-year-old with unrealistic expectations.,I was worried about buying an automatic watch at this price point. I decided to go for it and I’m glad I did. The watch seems well made and mechanically sound. I haven’t had any problems with the watch keeping time. It’s really great for such an affordable automatic watch. I have taken this watch in the ocean, water several times and also, no issues. Seems very solid. I would note, the band is terrible. I replaced it with a nato band it looks great. I would suggest this watch to anyone.,I love the watch!!! However I only received the white one. Who can I talk to about not getting the black one delivered,Beautiful!,Excellent quality and very fast shipping thank you.,It came rusted. Do not buy this watch!,Amazing...,The blue faced diamond accented Armitron watch is very pretty!,As a watch person, I really love this particular model. I didn't want to take my Tag watch to school, so I bought this as an alternative since it really resembles the Rolex Submariner. I've got many compliments from people, most of them assuming it was an actual Rolex. So if your looking for a nice watch that isn't too heavy, stylish, and won't break the bank, than this is it. I already plan to purchase another one in a different color.,Very nice for a solar watch, i've had plenty of watchs that were a bit better but i would buy this again worth every penny,i dont like it,Strap is great quality but the design is flawed. The loops for turning the strap back on itself are too near the buckle, meaning the tail of the strap sticks out a lot. I have a luminox branded nato strap on another watch which is much neater and more comfortable.,Comes as it looks. Not perfect but good for the price.,Bought 2 (4 months apart) and neither is water resistant.  The description says water-resistant to 165 feet; the pool is 10 feet deep.  After the kids wore it the pool several times, the inside fogged up and the buttons became difficult to press and sometimes unresponsive.  Timex will replace it - if you ship it to them ($) and include $8 for return shipping and they recommend insuring it in case of loss during transit...  for a $15 watch.  Shame... my kids really liked the watches too.,As expected!,It's a nice looking band (once I finally got the right thing- my order was wrong three times before I got the right product), but the coat of plastic over the top of it is already coming off after 2 weeks or so of wear.  I don't think this will last long.  But it does look good.,Its OK.  The fit is good and worked well for a few months.  Now the light no longer works and the entire watch resets occasionally when the mode button is pressed.,very military looking and functional,When I first saw the watch, I was so happy not until I discovered that the watch is not working, I was so disappointed, and the seller is something else, they said I have to send the watch back with my own money when the fault is theirs, it's very very unfair,,Works like a charm.,Worn once and the silver disappeared underneath the band in 2 hours time. Looks beautiful on here and when it arrived a month after ordering it. Too bad it was only beautiful for 120 minutes.,Nice quality ,comfortable to wear . The hands  are however small and with the dark grey background  it is somewhat difficult to quickly glance to see the time.,Excelente!,Fit the watch with out problems. Nice color. Good price.  But the leather was thick enough that it rubs against the watch side causing the leather to have small tear where it rubs.,I have only had this watch for a week but it keeps to-the-second exact time, at least in reference to my cell phone's time.  The compass is reasonably accurate, but I still need to calibrate it, so assume it will perform even better afterward.  All in all I am very happy with this watch so far.,very sheik,Really I'm surprised  it's a such wonderful watch from timex I liked this model is unique and stylish,This watch is AWESOME! Very well made and after many years of use is still as good as when I bought it. Many compliments on the orange face too.,There jewel missing from the interface may be form shiping,To heavy.,The rectangular shape is very nice.I have received  several compliments on the watch.It is hardier to read in lower light because of the darker face and lighter numerals.You don't also want to push the light button to check the time.,I'm late getting to the party, but after discovering Invicta watches I just can't get enough of them. There is a watch for every situation from dress to casual. After acquiring several of these in a short time, I can honestly say that I have not been let down in style or performance. I don't think I'll ever buy another watch that isn't an Invicta!!!!!,Great watch only had it a couple of weeks but I am satisfied. Looks nice and appears to be durable. This version with the black case and olive leather strap is for casual dress which is what I wanted for work and everyday use. The other styles would be more for dress I think.,I have it over a month now seems awsome no sound great quality would recommend it. The gift gloves are too small in size should be a medium size,Band broke in two days the pieces are cheap.,Piece of junk,I have owned this watch for two weeks so far. The watch itself (case and crystal) is very nice and machined well with polished surfaces. It was much thinner than I expected and sits well on the wrist. The bezel does not click and rotates with some effort-- but it looks good enough. The watch face has a nice metallic black finish and some contrast between the middle and outer edges. The lume on the hour markers does not last very long but the lume on the hour and minute hands last through the night (dim).<br /><br />The band is quite cheap and is made of hollow links but is quite comfortable on my wrist and lightweight. I ordered a replacement band when I placed the order.<br /><br />I am still measuring the accuracy of the movement but out of the box it gained approx 4 minutes over 7 days (~34s a day). However, after I opened up the caseback and adjusted the balance the watch is holding time pretty well (still measuring, but I will update).<br /><br />Overall, for the price this watch has tremendous value. I really like the no-nonsense design that works with hydro-static pressure and there is just something about the unique and classic look of this watch. Not to mention the price!,Nice quality! Very durable. It is very stiff though and takes time to break in.,Excellent feeling on my hands, as expected .,Really gorgeous watch!,This watch is more impressive in person than just looking at the photos. Very well made mechanical movement, elegant, yet simple retro design with a 40.5mm case. Slightly more than a typical dress watch but not oversized to retain that classy look. The band is a thick leather, embossed with a faux croc pattern that is slightly stiff and needs to be broken in. But it is a quality leather band. If you are looking for a simple but elegant dress watch, I would highly recommend the Bambino, especially at this price!,I love this watch i have ordered about 5 different Invicta watches from Amazon and i have never regreted it. I do struggle with gauging the size of the watch and this one was smaller than expected. It's a more petite feminine style vs the big boyfriend style watches. The only negative thing i can say about it is the mother of pearl looks more like just a white background you have to look very carefully to see some differentiating of color that you could be called mother of pearl. I was a little disappointed with that part only.,It's perfect! Must buy!,I bought the watch knowing that it was not the best quality....Looks good but is not overly self-winding.  I have to wind it everyday so I guess the self-winding is just to maintain through that day. 3-30-16 UPDATE: Link pins are now coming out.  This is my dress/work watch so no I'm not scaling mountains with it on.  I have had better success with my &#34;drugstore&#34; watch that cost 10 bucks!   Down to 1 star.  Not worth the money at all.....would make a great paper weight though!,Different, Sweet, Feminine!  A little hard to see the time due to the &#34;busy&#34; pattern but I buy a watch more for the Jewelry effect and color coordination!!,The watch looks great and seems really well made.  I like the subtle blue hue to the face.  The bracelet snaps very positively and feels secure.  Good heft and size to the watch.  The only thing that knocks a star off is that the hands are hard to see because they are polished and unless the light is hitting them the right way they tend to blend into the face.,WORST ITEM IVE EVER PURCHASED!!!! All of the watches broke the first time I put them on, I should have expected that for the price. But in this case I definitely did not get what I paid for, I GOT WAAAAY LESS !!!!!! NO STARS AT ALL,The watchband is exactly what I was looking for.,Terrific!,I bought this as a present, and have been told that very acceptable and exactly what was wanted. It's very bright too,Very bad<br />Eager leakage and it is not water resistant,This watch has it all.  The basic features you expect (timer, stopwatch, multiple alarms, etc.), plus atomic sync, solar powered, and a nice backlight.  On top of that, it looks great and is very comfortable.  The size is a little bit big for my taste, but is still reasonable for my 5'9&#34; 170lbs body.  I really wanted to like this watch, but there is one major issue that caused me to return it.  The display is just too small, especially for such a big watch.  My main digital watch for the past 10 years has been the standard issue Timex Ironman 30-lap, and the display on this Casio is about half that size.  I'm a middle age guy with good eyesight, but I want my watch to be easy to read, and this Casio just falls short on that.  In the end, if you can tolerate the small display, this is a brilliant watch.,A beautiful timepiece worthy of the Seiko name. This watch has the quality of a much more expensive brand get does it all for less money.,Beatyfull,Update on 8/4/16 - the watch stopped working (battery) on 8/3/2016 which is less than a year after purchase (8/19/15).<br /><br />I bought this based on another product experience - [[ASIN:B005DRE6UU Invicta Men's 1431 Sea Hunter Black Dial Rubber Watch]] it has issues when wearing for extended period of time.<br /><br />Issues: Strap breaks, second hand stops and the two brackets to keep the strap in place break off. Also because the watch has a second hand +date the time will eventually slow down, so the correct time will not be kept. This is a design fault.<br /><br />The silver 1431 watch looks better on your wrist than the 1432.<br /><br />Still... it's okay for everyday wear.,It is so big,the watch is not suitable for me.,excelente,Got wrong watch,it was just what I was looking for, fore my wife,I bought this red watch for my daughter's birthday. I opened the box and it is PINK! Not her favorite. I'm not sure where the problem truly lies. The only problem is the color.,Still trying to figure out all of the settings.,It’s a good watch band. I changed the original band on my diver watch and it complements it well. The materials are nice, both, the metal pieces and the nylon.,I love this tiny watch since I like black and it's very delicate. Suitable for little bit thin wrist.,Not an OEM band. Yes, this band says Seiko and is sturdy, but is sturdy to the point where I have found it uncomfortable for constant wearing. The band is not near as soft and pliable as the one which came with my original Black Monster watch. It looks vey similar, but again is not the original.,It's cute. It's fairly lightweight. Makes a charming keychain. The watch, which is what it was bought for is not as charming. The hinge is awkward and hard for my mother's hands to operate. We've had it only a few months and already it is no longer keeping time. Could be the battery but that seems doubtful.,I absolutely love this watch. It's casual enough to wear daily and dressy enough to wear out. Perfect :-),Didn't realize this came from China. There's a reason it was so cheap - it's kind of crappy. Watch face came cracked.,Watch works as described. I only wish the dial used luminous paint for the numbers and hands. I like the watch alot.,I like this Timex Expedition watch a lot. The Indiglo feature means that I can now read my watch in the dark. My old Timex not only kept the exact time for more than 10 years but was still waterproof till the end.,Face is too small. Need glasses to read time. Item returned.,I didn't order the pins so I haven't had a chance to attach it to my watch yet but the look and feel of the band seems good.  It's a plain watch band, no designs at all.  the pictures are misleading.  the &#34;designs&#34; are on the underside of the watch band.  when attached, the smooth, plain side is showing.  at first I wasn't happy about that but I think it will be fine.  the texture and materials are perfect tho.,I like it very much \u001a\u001a\u001a\u001a\u001a\u001a\u001a\u001a\u001a\u001a\u001a,The time on the watch goes faster than normal time so I have to keep changing it and it's hard to see anything on it during the day (practically impossible when you're running.),I like this watch so far.  I've been a fan of Seiko watches but last year decided to  try Fossil as highly recommended by a Macy's staff due to frequent hand washing for nurses.  I was hoping not to have the replace the battery every year as needed by my previous Seiko watch and have to deal with the poor watch sealing after battery replacements. I was wrong.  The battery in my Fossil watch died within a year.  I took it back to Macy but they refused to fix it because I've misplaced my receipt and Macy could not find the  online receipt either. I ended up taking it to a jewel store for battery replacement.  It worked for approx a week after the battery replacement but died again, probably due to the poor sealing of the watch by the jeweler.  I did not want to spend the extra money to send it back to Fossil for repair either.  I did some checking and decided to try this Seiko solar watch since the solar Seiko watch i've bought for my husband several years ago still work. So far it has been working great.  The face and numbers are large enough to read and the red second-hand allows me to count heart and respiration rates incrementally well.  I gave it a 4 star instead of a 5 because the date and the day of the week displayed on the watch do not always match and will take some time to get them to display right. I am happy with my new Seiko solar watch.,Sent as a gift.  No instructions though, on how to set the date/time.  Figured out the time on our own, but not the date.,This is a quality tool kit that will pay for itself many times over again through usage.  It has everything you would want for the DYI man.  My husband has a collection of watches and is a craftsman in another trade so he is picky about his tools.  He was delighted with this purchase.  The price is deceptively low.  I truly was not expecting the quality that I got.,Nice watch but has one of the loudest movements I've ever come across which is distracting but not unexpected at this price.,Looks great, the band on the black version actually looks somewhat brown. If you have a small wrist this is not a watch for you, you will have a few inches of extra band sticking out and catching on your shirt and stuff.,Arrived earlier than we thought. My son is happy to have it. Easy to wear and to adjust the time. Fits well in his little arms. Overall happy with the product.,broke as soon as i got it,I'm always a little skeptical when there's a big difference in price between products, after all, you get what you pay for.  In this case, this watch band is more than worth the price paid. I replaced a Citizen watch band, and this band is just as comfortable and a little more stylish than the original.  I highly recommend this product.,Dead battery.  Sent it back for another of same model and the next watch came. Guess what. ANOTHER DEAD BATTERY.,Really fun looking and iconic alarm clock at a reasonable price for a Star Wars fanatic!  Clock works just fine as does the alarm.,Easy to install and exact replacement,Very cheap quality....I should have gone by the price to know how cheap it would be. It is huge on me and I cannot find and pins to remove in order to remove links to make it smaller. For some reason it came with 2 of the same watches...I only ordered one. Although, I do like the way it looks.,too bad a little time after no working more,The watch was massive. I took it to a jeweler and had three links taken out. It was okay for two weeks, and then broke. I think the screws were just poor quality.,The strap is a bit more maroon than red, but a great color overall. Light weight overall. You can definitely hear the second hand tick, but this is not a problem for me.,I like the watch.  Had to take it to a jeweler to have it sized, as we couldn't find a screw driver small enough to remove the screws.  The watch is very comfortable and easy to read.,I am extremely pleased with the product.,Bad quality. Stop working within a week after I got it.,My eyesight isn't great, especially in dim light. I really like everything about it. The large black face with white numbers and hands makes it so easy to read. The Indiglo light makes it perfect for me. The style, with an adjustable leather band, contrasting white stitching and silver color casing, is very appealing. It was more than $10.00 below retail. At $36.99 you can't beat the value. To me, Timex has always been one of the most reliable and durable brand on the market. I don't need an expensive watch for a status symbol. I just want an attractive watch that tells me the time accurately and is dependable. Timex still makes a great watch at an excellent price.,Ordered three of these in different colors, blue, red, and multi colored (orange, green, blue) for my two year old grandson who LOVES his &#34;Ganpa's&#34; watch collection. So my husband had a watch to give him, purchased these.  I purchased three to be &#34;back ups&#34; when one broke, there would be another one to give my grandson. The multi color has lasted thru baths, swimming, jumping and bumping of a two year old. The red one one is working but it hasn't been needed so I can't really leave a good review for that one. One day, my grandson came over without the multi colored watch so I gave him the blue one. My daughter said that my grandson was jumping up and down, fell on the floor and the watch broke when his wrist hit the floor. So much for the blue one. But this one again, is awesome!,The quality is wonderful and it's stylish.,Simple but cool.,This is my 3rd versioon,It is cheap and I didn't expect a lot. But my question is: is it a male watch? The bracelet is a little too short for my hand and my arm. Half centimeter longer should be enough to fit comfortable,I ordered this watch on ebay but it had to go back due to a defective date wheel. The unscrupulous seller tried to say I didn't align the 24-hour dial with the main display but I did. Despite the inconvenience I learned that I really loved how this watch looks and wanted to replace it ASAP!<br /><br />Anyhow, over a month in to the one I ordered on sale from amazon and I couldn't be happier. It keeps excellent time, losing only one-minute every 4-5 days. The date wheel works as it should, and the compliments keep pouring in.<br /><br />I can't afford a $26K Hublot with industrial rise gold appointments, but this sub-$200 Diesel has to be one of the best values around. I love its sculpted dials and the large display is easy to read, along with luminescent accents when the lights go out. The leather band is glove soft and I do believe that this will last me many years. I like the chronograph option too and am getting used to using it for various applications.<br /><br />All-in-all, a killer watch! Highly recommended!!!,Not please with  it,For the price, looks fine.,If you are looking for a basic Casio watch that looks like a G-Shock, but is a more reasonable size, this is the watch to get.  The only reason I returned it is because I was between sizes on the band.  It was either too loose or too tight.  Otherwise, I would have kept it.,JUST AS DESCRIBED,Very light.,Comfortable Band, Easy to Wear.<br />I work night time hours outdoors and have been looking for a solid watch that I can see at night and that I can depend on.<br />This watch is Simple, Straightforward, Rugged and Dependable. I almost feel like buying a second one so that if something ever happened to the one I'm wearing that I would have a replacement ready to go.<br />I don't usually give anything a 5 Star Rating....but this Luminox deserves it.<br />Great Piece of Equipment.,not fair to ding the watch as other reviewer did because it is too big for him...it is lightweight and a super watch.,They work like they should.,Perfect,it doesn't work, dissapointed,What a nice and simple watch. after adjustment my wife like to were it out when we cruise,The wife likes the watch, it was a good deal...----,For a very inexpensive watch I was pleasantly surprised! Construction was solid.  Band feels cheap and lightweight and appears to be like aluminum but so far holds up well. It is an automatic but also has a mechanical winder as well.  For $15 dollars you can't go wrong.,Nice watch! The color of the band and body aren't common so that's pretty cool! The watch itself is pretty heavy so it seems like pretty good quality.  I got it on sale for less than 80 bucks so that was a great deal!,We bought this as a birthday present for my father-in-law and he loves it! Couldn't stop showing it off.<br />Very well made and does not look cheap which is always my fear with gold tone watches.,excelente,Fine watch,, but can not hear alarm...,A beautiful, supremely functional time piece.  It does take a while to charge, but if you take the time to follow the instructions in the manual, you get to watch it setting itself, keeping time perfectly, and impressing the onlookers with its heavy, functional construction and function.,BEAUTIFUL ,,This watch is more beautiful in person than it is in the picture.  I love the royal blue color.  I love the big face with all the big and small lines for the numbers.  This makes reading time easy which is important to me.  The hands are glow in the dark.  The wristband is skinny making it feminine looking.  By the way it looks, you can tell that it is a good quality watch.  This watch is perfect for me.,After few month paint started peeling off!,I have bought 8 of these as a gift. Their Solar. You can swim with them. Light and double hour. Get it!,Works as expected but very loud clicking noise.,We bought this watch for our daughter and she loves it. She's only 3 and can't actually tell time yet but she wears it all the time. Its nice that its waterproof and the band makes it easy for her to take on and off.And she was excited to the cool 3D texture. Good purchase.,I have never found a watch I like more than this one in terms of features and functionality, but over the years, the quality has seen a sharp decline.  I have found the need to replace it at least once a year, not because of the watch, but because the band inevitably breaks.  After reading several reviews with the same complaint, I contacted Timex customer service: custserv@timex.com.<br /><br />Timex replied the same day and offered to fix or replace the watch for $10.  They sent instructions along with a pre-paid mailing label so I could send the watch and check.  By the next week, I had a new watch.<br /><br />The inconvenience is a pain, but I was impressed with their customer service and am happy to have my tried and true watch back without having to purchase a brand new one.,The band fit my watch LG RW watch perfectly.  It does give the watch a great look to it.<br />I tried to size the band myself but was not successful. I ended up taking the watch and band to a jeweler to have it sized. It cost about $12 money well spent.<br />Mike,The watch looks great and is as described. A bit smaller, than I thought (I actually thought I ordered a female watch).<br /><br />Cons: I do not like the stretchy band aspect. Catches my arm hair a lot, and can be quite painful.,Doesn't fit a large wrist. Tells great time, easy to read.,Zodiac is now one of the best brands I own. Apart from the watch being beautiful, well built and easy to read during bright light and at night; it's extremely comfortable to wear!! This is now my second Zodiac,I'm late getting to the party, but after discovering Invicta watches I just can't get enough of them. There is a watch for every situation from dress to casual. After acquiring several of these in a short time, I can honestly say that I have not been let down in style or performance. I don't think I'll ever buy another watch that isn't an Invicta!!!!!,the package was open and the battery was dead! very poor way to sell a product.,This my first ever automatic /mechanical watch that I have owned and so far so good. Great looking watch and the cost did not break the bank. I was somewhat apprehensive not being able to physically see the watch before I purchased it, but the price was favorably discounted compared to prices for same watch at department stores. Overall very please so far.,the watch has met all my expectations, and is now my everyday wear!,I was not too impressed by the look and feel of this watch. Looks very generic and cheap. I was hoping for a better quality from Seiko - kinda disappointed. But thankful for Amazon's easy return policy - I was able to return it and get a full refund.<br /><br />The dial of the watch is very small. I usually wear a 42mm diameter watches but these are much smaller then the 42mm diameter watches that I have.<br /><br />Sorry Seiko, maybe next time.,Excellent watch if you like the colors. Whether or not you like it will probably depend on personal preference really. But the material is fantastic!,If you are anything like me, you have been looking at some of the Casio Protrek watches, like the PRG-270 or PRW-3000.  No doubt, sweet looking watches with tons of great features.  However, those watches are either too big or too expensive, or both.<br /><br />Enter the SGW-100.  Almost the same features as its more expensive siblings, but at a fraction of the cost.  Also, the size is much more reasonable.  Not too big (and ridiculous), not too small.  And it has a real backlight, not the weak 1980's amber LED light that shines from the bottom left corner, like too many lower price Casio's.,very beautiful,I thought it said made of wood in the description but it wasn't. One corner was not glues together. I had to return it.,Ehh, wasn't crazy about this watch at all. Looks very cheap and cheesy but now that I have it seems silly to send it back,This watch stopped working in about 5 weeks.,Face plate broke on my fiance after 2 days.  Horrible choice,Well built, everything you'd expect from a Swiss Army.,gets broken easily,Cool watch. Looks more expensive than it is. This watch will look good with dressy clothing.,Cool kids watch with unique layout for telling time.,Junk! Went swimming in pool & watch filled up with water almost instantly. This happened on the last day (30 days) of warranty so no refund. :(,The watch is lovely but beware the bracelet.  It is very difficult to adjust unless you're a jeweler.  My husband (who is very handy) tried to remove some links and the strap broke very easily.  Pay to have a jeweler adjust the fit.,WAY too BIG and awkward (size not obvious in the pictures).,I purchased this Casio watch a week ago to replace a much more expensive watch that kept giving me problems, first with water leakage, then with a faulty band.  It's a nice-looking watch with high-visibility numbers and hands.  Setting the time was easy, and it's keeping accurate time.  The band seems rugged.  I haven't done anything abusive to it yet, so I don't know how the crystal will hold up (the super-hard crystal was one thing I loved about my troublesome old watch).  The Casio does not have a screw-down crown to keep out moisture, but I've been wearing it in the shower with no signs of moisture problems yet.  So, all-in-all, I'm quite pleased with the watch, especially for the price.  I didn't give it five stars because, really, how much can you love a cheap watch like this?  But in terms of value for the money, it's definitely looking like five stars so far.,The watch starting losing time almost immediately.,I received my watch in a very timely matter and it was packaged better than my previous G-Shock from the store. I love every aspect of this watch. It's great for my job and stylish enough to wear outside of work.,Amazing, outstanding, and beautiful watch!<br />All I have to do is get a link or two taken out.,The strap of the watch was cut after using the watch for only 2 days<br />Don't buy this watch,I can't really personally give a review here because it was a gift for my boyfriend. He's a watch collector though with some pretty expensive taste (his next &#34;reasonably priced&#34; watch that he wants is over $3,000). He loves this watch and wears it at least once a week.,This watch will not allow for second hand setting.  Two other watches were sent and they too could not set second hand.  Just be aware that these Seiko watches are not made in Japan!,This watch is awesome, it's a high quality design. The product arrived 2 weeks earlier than estimated.,This watch was enormous on my wrist. I will be returning it. I like the looks of the watch quite a lot, but just too big,,That's too bottons not working. Only accesoris?,Very cute and durable,clock meets all expectations,This watch is beautiful , fits great, and is a fantastic buy.  The photo on this site does not do justice for how this item really looks in person.,Beautiful,I received this product at a discount in exchange for an honest review.  Beautiful watch and bracelet.  Not a bad color so it doesn't scream fake but the clamp is very hard to open so it's not that easy to put on.,The watch itself it fine, but the watch band is too small.,I bought this watch for my girlfriend, she was so happy when I gave it to her, very nice I really recommend,Disappointed!  Boring due to same color on the band, the trim and he face!!,This watchband literally fell apart after 6 weeks of wear.  The leather at the connection to the watch started to pull apart, but before that part broke, the leather at the buckle gave way and the buckle fell off.  Since there was no way to repair it, it went in the trash.,I had purchased one of these last year, but had dropped it and cracked the crystal. I liked the watch, sturdy but not large and thick like many pro divers. However, when I ordered another recently it came with a dead battery and I sent it back. That process went smoothly, but I decided to go another route.,Great watch. Like the large face. Directions need to be somewhat more explicit.,The blue is very dark, almost a black.  Not as light as the picture shows.,This was a great buy and a beautiful watch, but I returned it because the face was really large, the band was very loose, and it's too &#34;flashy&#34; for wearing it with my normal wardrobe. I think if you were dressed up for a special occasion, it might be just right. It's hard to rate it with the stars, so I put three.,Have had this watch for one week and am very pleased with it so far.  It is my first automatic watch and is more accurate than I expected.. I have been recording times with an app called WatchCheck, from Google Play Store, and over the last week it is only running fast by just over 6 seconds (an average of 0.9 sec/day per the app).  It runs slightly fast when wearing and slightly slow when off and laid vertical with 3:00 up.  They seem to cancel out very well.<br />It is very light thanks to the titanium construction.<br />I cannot comment on the water resistance of the watch since I have not exposed it to water, It does have a screw in crown that seems sturdy.<br />Some things I suggest for future models:<br />a) a larger luminous area on the second hand.  Hard to see in dim light.<br />b) better luminosity in general.  They are bright when you first go into a dark room but seem to fade fairly quickly, Basically, don't expect to wake up in the middle of the night and easily see the hands of the watch when it's on your nightstand.  There is some glow, but it is very faint, making it fairly hard for me to tell the time even when fully dark adapted. Maybe add red outlines on all the hands since the minute hand is much easier to see.<br />c) a domed crystal: this watch has a flat crystal and it does seem more reflective (see photo).  Have also read that domed are more durable, but I have not had any problems with durability of this one to date.<br />d) more watch band options:  I got the bund band and it seems it be of good quality and was comfortable but I also ordered a nato/zulu style band from Infantry Co., that I think looks sportier (see photo) and makes it less likely to drop the watch if a lug spring pin popped for any reason.  I will probably mainly use the nylon band.<br />Overall I think the watch is a good value (the other watches I had considered were Hamilton's that were considerably more expensive and did not have the screw in crown and therefore, were rated less water resistant).<br />I would definitely buy this watch again and recommend it.ated less water resistant).<br />I would definitely buy this watch again and recommend it.,Exactly what I was looking for, inexpensive, fast delivery.,Beautiful watch,This watch SMELLS so bad you can not even wear it! Stinks like mildew. It looks ok but wasted my money on it because the smell is atrocious.,Simply beautiful, far exceeded my expectations!!! Highly recommend it!!! Perfect for everyday wearing and goes with any attire!!! Very satisfied.,(*Full Disclosure* I purchased this watch elsewhere on a TV network so this is a C&P of my review for it)<br />For a long time I was teetering back and forth from choosing this or the SAN Specialty mirror high polish gold/gold, but in the end it came down to me preferring the face of the SAN IV which imo needs no explanation, the line has many beautiful combinations all of which being due to the great cutout layering of the Swiss cross throughout the dial. Getting on to reviewing the watch, a piece that hopefully will once again be in stock and available for sale again lest my review be in vain.<br /><br />It arrived and of course it was immediately sized, and resized and micro adjusted a few times, yes this is a watch and bracelet design that can be challenging to those not familiar with large heavy watches with SS bracelets, it's all about finding that sweet spot and then it's smooth sailing. I emphasize this because proper sizing and simple micro-adjusts can make or break your watch experience. Depending on the weather or season my wrist can vary quite a bit, so I size it as tight as possible with the links and then I'm able to easily adjust the band in small increments.<br /><br />Next up is the finish, wow what a finish it is! If you have a little OCD as I do you may want to keep a soft polishing cloth in your back pocket,lol but I am serious, it gets smudged very easily. About the extra &#34;clear coat&#34; as I like to call it, it acts much like the nickname I gave it. When I closed the safety clasp it was very tight and after 30+ uses I was pretty amazed to see that the finish was still holding firm, not even a scratch. Normally a watch that has a matte finish or SS will likely leave a good scratch on the clasp where the safety clamps down, not the case here. I've worn it A LOT over the first month and did several of my own rigorous quality control experiments which is, if you don't know, extremely important when dealing with Invicta. While my haphazardnesshas etched plenty of very fine hairline scratches, none of them even came close to the depth of the actual gold finish thanks to the clear coat polish.<br /><br />Finally, after all of that 30 day break in, the movement and chronograph have been 100% functional and the time is within one second from which I set it to on arrival, month date and snapback day of the week all working just fine. The Ronda 8040N is easily my favorite quartz movement. As for the flash of the finish, yea it's loud and blingy, not everyone can pull it off, but you guys can sort that kinda thing out for yourselves. As for me I love it. This marks my 7th higher end Invicta I've purchased in the last year and a half, all of them Swiss quartz and over that time every single watch is within 5 seconds of what I set it too. The bottom line is that Invicta's design team has been operating at a level of intricacy and making designs that are unrivaled in their beauty and function(when they do function;)har har, and this piece is proof of it. I really wish they would attempt to redeem themselves in the public eye by boosting QC and CS, but until then they will leave customers weary, even people like me who have had nothing but positive experiences and collectors alike can't help but to hope to heck they don't ever need to deal with Invicta's CS for warranty service, but enough of that, they know what needs improvement and as long as I continue to receive quality timepieces I'll remain I customer of Invicta. Pictures included below. JD,Little on the large side for a women's watch. Keeping good time so far 4 rating due to size,I got this as a gift for my husband, and he loved it. It is a very big heavy watch, with a lot of buttons and features, but still looks very nice when he gets dressed up.,The look and feel of the watch are all right. I love the hand-wind functionality. I encourage the maker and other watch makers to design and promote more watches that don't need batteries for the sake of our planet. I could be asked to makers of items that could work with energy coming from a hand winded source.,Looks nice, but the ticking is really loud.  Edit: the dial broke off after a few months of use. I don't think I was particularly rough with it...,Gorgeous watch at a reasonable price. Very classy, elegant, and simple. The casing it comes in is also very nice!,Looks and feels like a fake watch,I bought this as a replacement band for a Pebble Time and it works beautifully. It's a perfect match for the watch color and functions exactly as specified. The only minor drawback is with sizing: it's virtually impossible for anyone without the dexterity of an octopus to grasp two tiny screwdrivers and exert enough force to be able to unfasten the links. I ended up using a Swiss army knife blade to prevent one screw from turning and then unscrewing the other with a watchmaker's screwdriver.,Delicate and fashion, if the table shows the second hand,then it is perfect.,Worst item ever purchased, not even worth a DIME!!! Broke the first time I wore it, fell right off my arm while I was wearing it,,Beautiful watch.  I own several Kenneth Cole watches in different styles, and this is one of my favorites.  The dial is easy to read and while I typically wear reading glasses,  I am able to read the day/date hands without them.  Besides a wedding band, watches are the only &#34;jewelry&#34; that I wear.  This one fills the bill as both an attractive and functional timepiece. The only negative comment I would share, and the reason I give it 4 stars instead of 5 relates to the description which indicates that this watch has a &#34;21-jewel, Japanese quartz analog automatic movement, with exhibition case back&#34;.  It is a Japanese quartz movement but does not have an exhibition case back, nor an automatic (self-winding) movement.,Just as described....works wonderful...fast delivery as well .,I waited for a long time after placing the order, but in the end it all worth the wait.<br /><br />Very decent quality and packaging, especially considering the reasonable price.,This is a fantastically well-made, quality product.  Easily the best watch band I've ever owned!  Except for the fact that when I sweat the band stains my arm . I guess whatever they use to stain the leather didn't set properly or something.  If it wasn't for that, I would have given it five stars.  The black finish had started wearing off the hardware,  but that just gives it charm I think.<br /><br />Update: I bought this watchband on August 16, 2015. I used it for one year and seven months before replacing it. I've changed this review from 3 to 4 stars based on the durability of the band over that time. The hardware held up without fault, aside from the loss of color. Towards the end the leather started showing it's age by cracking and stretching. This is forgivable since this band only cost a surprising $11 at the time. Arm staining continued for a few months before tapering off with no lasting effects. Overall, this was a really great value and I wholeheartedly recommend it to others.<br /><br />(Last three pictures are after 1yr 7mths of use),it broke, I want my money back.,I feel that I'm going to ask for a replacement because the glass you can see has some very little bruises which is unnoticeable and the product is very chique and classy.,But if you want to keep your watch looking like it has original parts, just spring for it.<br />I like the the watch, but the design isn't made for everyday.,I have gone through a variety of Casio watches, and by far this is the best one I have ever acquired: Very sturdy, large font to see the time, the buttons on the sides require significant force to apply hence do not get pressed by mistake. The solar charge works very well; you can get it fully charged by placing it out in the bright sun one day (all day), after which just make sure to give it some sun on a regular basis (while wearing).,Just what I wanted!,Really beautiful watch. Big but fits very comfortably. Orange on silver/black a really nice combo.,Excellent quality and very fast shipping thank you.,The watch is fine.  I'm okay with it.  It's pretty much what I expected it to be, but it is NOT red.  The one color I cannot wear it with is red - which I have a lot of in my wardrobe.  The color is more like salmon.  There is pink in it.  Just disappointed in the color, but will keep the watch.  I like the watch.,I've been wearing this watch for several months and I love it. It's a great weight and isn't too heavy. The face is striking and easily readable, with the mother of pearl adding a nice touch. I've worn it underwater many times while swimming this summer with no moisture leaking in. The bubble over the date took a bit to get used to, but now I can read the date without issues. Easily adjusted to the correct size for me. The clasp feels secure and I haven't noticed it opening at all. I have noticed a bit of the rose gold finish wearing off where my wrist rests on tabletops, but it's not noticeable to anyone but me. Great watch, would buy again!,Nice watch, however the buckle on the watch band broke when I first tried it on!!,Later on I don't know yet.....but right now it,s amazing and like this watch very much....that's I'm looking for they have date,day and month.....,Stopped working about 24 hrs after I got it. Dead battery.,Perfectly adequate traditional watch and band with date and handy Indiglo (face lights up with pressing on the knob) feature.<br />Cost is about 2/3 of buying in Target or other retail facility. arrived promptly as promised.,Excellent,Looks good but arrived with dead battery,It looks awesome, but the time changes constantly.  I have to ask my husband to set up the correct time constantly.,Not real heavy and the metal makes a kind of thin aluminum sound when it's moved, but it looks nice and for $5, I'd say it's just about perfect.,It has already fallen apart!,Honestly, I think this is what a Daniel Wellington should cost...<br />Pros: lightweight (forget it's on) and simplistic (easily matches w/anything).<br />Cons: Thinness of whole piece (makes it look a bit cheap), No second hand (Could be a preference, but also makes it look lifeless mad cheap/broken) It just seems like Made in China is written all over it.<br /><br />Reason to buy: this is the best price out there, and the best part of DW is the easily interchangeable straps, I would suggest buying a couple of 20mm Nato straps to add some variety to this purchase ($5-15). Make sure you get rose gold though.,Watch itself it neat, but the rods that hold the band on keep popping off.,The colors, ease of use, and style of this watch are great. The size should be good for most people. I am a woman with slim/average sized wrists and wear the watch almost at its tightest. The watch is lightweight and fairly slim.<br />Negatives: The inner Velcro seam was itchy at first, but it doesn't bother me as much after a couple days. Also, the date isn't displayed on the face unless you press start/stop.,Exactly as described. Fits the Apple Watch perfectly.,it was just what I was looking for,This watch is even better than I'd hoped. Looks amazing and the quality out weighs the value by a great deal. Couldn't be more happier with my purchase. This is my first invicta but can guarantee, won't be my last!,very think strap,Simple and elegant design for the tightest of budgets. It's plastic so the cover will scuff easily, but a replacement is cheap!,One funky looking watch. Big face. Keeps good time...2 year warrantly.,this is really good looking watch and i can give  5 stars just for the look and that it works well..... but there is a big problem with its band.... i just wore it for couple of days and it just teared up......so it deserves 1 star for it.........can not even find a new band to change it...........,Worked as expected and very good quality.<br />It came with spring bars (I did not use them, but it's always good to have a spare)<br />Now, the leather may be a bit stiff at first, but after break in time, it looks and feels very nice!,This is a good watch for people who want something simple -- no alarms, no extra gadgets.  I've only had it a few months, though, so can't say how it will last.,The SKX series are classic automatic watches and a great value.  These are the Kalashnikovs of the watch world - iconic styling, robust construction, but not terribly accurate.  Expect it to run +/- 10-20s per day and you won't be disappointed.  It can be regulated for much better accuracy - you can also learn to position the watch at night to make up or lose time as you need.  For me, that's part of the fun of an automatic.  It does not hack or wind if that's important for you.  Fit and finish is excellent in my opinion.  The case in particular is beautiful and you can easily trace it's evolution through an interesting lineage of Seiko divers back to the 60s.  My first (SKXA35) is still going strong after 10 years without ever being serviced (FYI it's marked mov't Malaysia same as the SKX173).  Even the Lumibrite lume and Hardlex crystal are like new.<br />I just bought this one for use as a daily 'beater' that isn't bright yellow.  I also really like the square indices, reminiscent of the old 6105 from my era...  The first watch that arrived had a misaligned chapter ring, bad enough my wife and kids could notice, so back it went.  The second watch is much better but not 100% perfectly aligned and the day/date sit low in the their window.  My wife and kids can't see it and think I'm crazy for insisting - so I kept it (but I know...).  For what it's worth, my old SKXA35 was/is perfect.  I don't know if QC has gone down hill or if I just got lucky on that one.  Anyway,  I do recommend buying 'Fulfilled Through Amazon' so you can take advantage of the easy returns if your particular watch doesn't cut it.<br />I might add that these are thickish watches at 13mm but wear well on smaller wrists.  Lug to lug distance is about 45mm, that's pretty short and I feel a better measure of fit on the wrist than diameter (42mm w/o crown).  I have a 6.25&#34; oval wrist and it feels fine and looks natural.  On a Strapcode oyster bracelet it feels wonderful and looks expensive.  On a nato strap it looks all business and is ready to get knocked about...<br />I would give this watch 5 stars if not for the QC issues with chapter ring alignment.a nato strap it looks all business and is ready to get knocked about...<br />I would give this watch 5 stars if not for the QC issues with chapter ring alignment.,Its a bad ass watch.,VERYYYYY GOOOOOD,Looks good and fits great.  It is thin, so I am not sure how durable it is, but it might be that I am used to the canvas style rather than the nylon.  I like how it looks on my Seiko, and will wear it as soon as I replace the battery (in my watch, the strap does not require one).,Product not as described - bezel is black not gunmetal like the face.  I live overseas and due to postage costs this is too cheap a watch to bother returning, but disappointed I didn't get what I paid for.,I have to admit that iI wasn't quite sure I was actually going to get it first of all and that if I did if it was going to work well.<br />I'm  saying this because it was  ridiculous low price for the look that this product can give. surprisingly enough this watch works fine. except for the 24 hr  and montly indicators. they are stationary.  i though the metal part wast going to rust and change color, so far it hasn't .<br />good product for that price.,A little small,excellent,Excellent watch and very fast delivery.  Very pleased,This is a very nice watch. I like to use it when I am working in the garden and in the kitchen. I don't have to worry about having to take it off for dirty work.,This is my second G shock and it's really a cool one. It's a little more expensive than the main line of Gshocks but it more than makes up for it with its appearance. As others have said here, the colors are not pure orange and blue, but a tad washed out. The Japanese special edition has more vibrant color. I knew this before hand and chose this version as I think the colors stand out enough already to the point where you can't avoid seeing it and to go further would be a little obnoxious. It's big and colorful so it works well in places like dark bars, clubs, or anywhere else at night that isn't very dressy. The yellow roller on the side is a little overpowering on the watch but it adds a little childish character to the watch. It looks like something out of a cartoon or perhaps a nerf produce or a late 80s, early 90s watch. I will wear this over my Rolex when I'm out at night just because the colors can keep. Good buy and will easily last at least a decade like most Gshocks do.,Really beautiful.......,I bought this watch May of 2013 to use before my deployment with the army to Afghanistan. This watch is still going strong. It also looks great; not too big like some other G- Shocks I've been, and it looks more subtle than the others, which I like. I don't like the other flashy looking ones.  My younger brother is in need of a watch for cross country and am buying this one once again. Great watch, I highly recommend it!,Took about a month to get here, but it's worth the wait. I've gotten a lot of compliments on it and it even glows in the dark :),Very disappointed with this watch, does not work.  I removed the pin and set the time and the hands never moved.,Excellent watch! Does all I need it to do. Use the stopwatch often. Also temperature function. All easy to access and fairly easy to operate. Complicated! Just what I wanted for years.,Bought this watch for my Fiance birthday and he loved it. The watch looks so much better in person. The leather band is very well made and thick. The watch itself is great.,beautiful appearance I bought for my wife's 25th anniversary and it is worth the money,Really nice and sleek looking watch. The style and look is very unique and is very durable. This face of the watch looks very chic. Good value for the price. I have made this my every day watch, i wear it to work, a night on the town or a nice wedding it looks good in every situation. It is a very comfortable fit I would highly recommend this watch to anyone looking for a good quality watch. This is already my second tmbr watch purchase and these watches have not given me any issues. Pick one up, you wont regret it.,It's very nice and exactly what I expected. I already had a silver one.,I absolutely love this watch!! Thankfully there was no physical damage to the watch but it was loose in the box like it had just been put in there with limited care. I was a little disappointed when opening the box but thankfully the watch still had its plastic covering on the face to help protect it.  Overall, I was very pleased with the purchase. It even came in the Fossil tin. :),truly the perfect watch....classic in it's appearance, not too bulky, perfect size.,Broke in two weeks,I never have to worry about the time again since its an atomic talking watch. Nice big numbers and it even lights up at night! I'll never want to go back to a regular watch again!,Excelent on time its that they offer. Elgant and finest,The lid of the box doesn't close properly with my Seiko SSC007 in it.,Not bad, not great. It takes a little getting accustomed to, though I am not a techie wizard. The only thing I would change is the digital display. It is dim until the light is turned on. It reads the temperature accurately and other functions seem to work well. It needs to have time to take it through my routine.,very nice watch as I am an ESQ fan having owned a number of ESQ watches in the past... my favorite ESQ's  though have been and still are their Octane line of watches that they have since discontinued.. the Octane snap clasp rubber watchband is better for my needs than this standard band... this is overall a super nice watch though.. nice large numerals that are easily readable..great crystal quality..  still very happy overall with ESQ-Movado watches .. BTW I just purchased a 2nd one thru Amazon today 2/9/2016,Works well,have to say originally,  I could not tell the difference between the band that came on my citizen watch and this one. They have the same look, same thickness. This one was advertised as Leather, and while the back portion seems to be leather, the front (the part that everyone sees) is DEFINITELY NOT LEATHER...BUT VERY CHEAP VINYL. It has cracked and split to the point that after less than six weeks, I have to get another watch band. I have included a picture that shows how the band wore out over this time period and proves that it cannot be leather.,Needed a battery operated, reliable alarm clock.  This one is easy to read, the alarm is loud enough to wake me, but not jarring or harsh. There's an easy-to-locate button to light the face if you need to take a look during the night.,Its stylish as well as functiones great with quiet mechanism unlike my old Timex. I just wish it had a sweeping second hand option without having to keep the stopwatch feature turned on.,Excelent!!!,It just wonderful. Best if you want to give as a gift.,This watch looks nice, but it has a nasty tendency to spontaneously stop, because the opening mechanism is at the same location as the time-setting mechanism. I left mine in Philadelphia and didn't feel compelled to go back for it.,My watch stopped working almost right away! Gumball machine quality.,The Only problem is that the strap band looks inferior and is made of a low quality.<br />I just ordered for a new quality stray band replacement.<br />The band kills the beauty of this time piece.,I love this watch!! I wanted something casual but nice and inexpensive. These weekenders take a classic look and make it totally versatile but allowing you to easily switch the bands with different styles/colors. :-),I got this watch because I always see  it posted online with rave reviews, so I decided to give it a shot. I didn't like the band initially, but it has come to grow on me. The watch comes with a ton of functions, I don't think I'll use them all except for the indiglo feature. On thing I was happy about was that this watch doesn't have the loud tick that so many Timex watches suffer from. I was able to snag this on sale, but I wouldn't mind paying full retail for this watch. If you are looking for a stylish daily driver, do yourself a favor and get this watch.,fell off apart and i am trying to send it back to company.,10 points. everything was as expected,exactly products,Band fell off after wear it a while,Thought this watch too big for even me, a large watch lover. I think had the watch itself been somewhat thinner  and the band slightly more narrow I would have kept it as it was a beautiful color. As it was, I returned mine the same day I received it. But for those who love really large face watches, this one is great!,The pictures don't really give you an impression of how big it is. THIS THING IS GIANORMOUS!!! Perfect if you want everyone to know that you are wearing a watch. But not really my style.,That best buy ever,very comfortable nice fit goes with everything really glad I purchased like it a lot,The product as per the shipping agreement. The watch was packaged well. The only problem was the battery was just about dead. I had to send the watch to Nixon to have the battery replaced.,you get what you pay for.  not the best quality.  would not buy again.,If you're looking for a stylish and heavy-duty watch with an analog readout, check out Swiss Legends.  This watch has the same look as what you would see on James Bond.  Extremely heavy-duty, but stylish at the same time (no laser beams or decoders included that I know of though).<br /><br />I've had a number of watches, but this one is by far the heaviest I've ever owned (not just heavy duty, but it physically weighs a lot).  So if you like the feeling of knowing you have the watch on your arm, then this is a great option.<br /><br />The readout has a lot of settings.  There are stopwatch capabilities, including lap timer, multiple different time zone readout options, and date.<br /><br />It does take a bit of time (no pun intended) to learn how to use this sophisticated watch.  But once you learn the basics, it is fairly intuitive.<br /><br />Be sure you get the chronograph version (unless you enjoy regularly winding the watch, or you're prepping for an EMC and you want a watch that won't stop working).<br /><br />The only notable downside - the many readouts, and the instruction manual, are tiny.  My eyes are starting to go and I can really only read the &#34;big hand, little hand&#34; parts without the aid of eyeglasses.  Even the date is too tiny for me to read without eyeglasses.  So one star removed because of my aging eyes.<br /><br />Also, unless your wrist exactly fits this watch, you'll likely be taking it to a jeweler to get a link or two removed in order to size it for your wrist (but that's the case with any high-end watch).,this watch so far has been really nice. it fits comfortably, not big and bulky, easy to use perfect for work,this watch performs all the functions I need it to have it perform. It is inexpensive and durable. I'll buy another one when this one breaks.,It's just like in the picture but would have appreciated if they offered wrist sizing,Not sure if it's even genuine. This watch can pass 12 two or three times before the date will change.,hard to set time, etc. Even with the instructions was unable to set it.  Nice looking though,Love this watch. Face is easy to read and not too big on my wrist. Leather band is beautiful shade of blue and comfortable as well. Thanks for a great value.,I like the style and fit but the clasp is installed backwards, it makes it difficult to clasp yourself so you have the have the made in china face outwards instead of Akribos.,Looks sharp! The face is a bit big for my liking but my husband loves it and it was a great value for a nice &#34;dress watch&#34;.,I've just received this watch 4 days ago and when I press the light buttom it goes like crazy, changing light colors and it doesn't stop.<br />I set the time and just one day after it had 45 minutes behind real time.  So, It definitely has a serious quality problem!<br />So, It's just a waste of money!,This is a cool looking watch without going too far, the stainless steel case is well machined and solid, the offset 10 O'Clock crown is knurled making it easy to grip while adjusting. A Sapphire Crystal is strong preventing scratches much better than mineral glass that you'l find in many watches in this price range.  This watch comes in a shaped ballistic nylon case that zips the clam shell case closed keeping your watch safe when not being worn. The second hand extends the full 12 to 6 O'clock length, half of the second hand is red so its easy to keep track of. The ribbed soft rubber strap is light and comfortable, its shaped at the contact points helping to keep it from rolling around on your wrist. No rubber smell emitting from this strap. The hour and minuet hands have blue/Green luminous markers, they hold a good glow for longer than most showing Oakley cared about the details.,I used a push pin to remove links from the band, which was very easy. Light weight overall. You can definitely hear the second hand tick, but this is not a problem for me.,She likes the appearances, the fit and the feel time will tell if it's a fantastic watch.,i have just received my hilfiger men's watch. it is perfect except that i cannot get instruction anywhere`order no. 701-2002682=7454662  it is a<br />tommy hilfiger men's 1710337.  please. i know that i am no quite in the rightn dept.,Very pleased.  Beautiful watch and very fast delivery.,Package arrived in time, product is excellent clock is working but a bit bigger than indicated in the picture, overall satisfied with the transaction.,Stamp is incorrect on backside. It is reversed, so can tell it is a remake. It is still very nice though.,It's a good watch for the price. The watch band broke already, just popped apart.,It stoped working 3 days after arriving...,very very nice finish , fast and easy to adjust !,I got it in a black plastic bag covered in tape. It doesn't tell the time. Its about a half second slow. It confused me for half the day. Also the strap broke as I first put it on. The gem stones instide the watch fell off on that one day I wore it. I guess it makes a good maraca...,works well, it is a bit difficult to program without the manual.,I love this watch! It's so unique and I've gotten lots of compliments.<br /><br />Initially after ordering, I got a quick email with a shipping confirmation, and received the watch a few days later. It shipped inside a nifty little suede pouch with a button fastener, and I use it as a place to set my watch on my nightstand.  After I got it the first day and did a quick inspection, the watch was flawless with a really nice rose gold finish. The wood dial is stunning with the tmbr logo very tiny and understated. The crown clicks in and out precisely, and overall the watch feels like precision workmanship.<br /><br />The band is nice supple leather that breathes quite well, even when it's humid outside, and the buckle matches the rose gold watch case perfectly.<br /><br />This is all good news, because I'll probably buy another one. After a week of me wearing it, my wife decided she liked it so much that she claimed it for herself.  She has very tiny wrists, but I have to admit it looks great on her, too.,It's prank, the worst item I ever bought from Amazon, I got it for my girlfriend on her birthday and withe two months it turns the colors which made me look like s***, wish I could give lower than one star also.,Scrached to easy and if i would have known it was so heavy i would not have bought it.,What a gorgeous watch!  I am a nurse and wanted an everyday watch to wear to work with some style.  This is it!  I have received many compliments already!,It's OK,very pretty. It it much too large for me to wear, but would look lovely if you like BIG watches.,Exactly as advertised. It's the real deal. My pathfinder has seen some rough days, and the band was about to go. I expected to have problems with the screws, but aside from having to use knives as screwdrivers, the bolts came out and went back in easily, even though they were badly bent. That's the only downside to this product; it doesn't come with the screws, but it said that in the description. But the band is nice and legit. Nicer than my ratty old watch!,I like it!!,Is so cute .love it,Excellent value for this watch, for smaller wrist - best purchase price you could find anywhere,Strap too short and I don't have large wrists.  Loops keep migrating.  Other than that it does it's job albeit &#34;snugly&#34;.  For 12 bucks I'm being too fussy.,Magnifique watch very sturdy very high quality 100% recommend use it everyday,I received this product at a discount in exchange for an honest review.  Fits the wrist very well and it's a cool watch.  Does not come with any instructions and it's pretty tough to set.,I like this watch. It's got a retro look to it. I have a skinny wrist so the band is on nearly the tightest notch, but that's ok. The face is big but not overwhelming and the numbers are clear. The date is hard to read, but hey, I'm retired, so who cares what the date is!,Excellent replacement/alternate  watch, considering it's not a &#34;high dollar&#34; model.  I bought it as a back up to my other watch of the same type, and I was surprised to see it has a 10 year battery (didn't think that was possible; will see).  Anyway, the five alarms are nice to have, it looks nice; with decent sized numbers for me (eyesight's not what it used to be).  Nice color.  My other is black and silver this is as pictured, black and blue; which is cool, as I like both colors.  Nifty little inexpensive watch to have.  It includes manual, which the Casio Men's AW80D-1AVCB 10-Year Battery Ana-Digi Bracelet Watch did not, reviewed separately.,I'm late getting to the party, but after discovering Invicta watches I just can't get enough of them. There is a watch for every situation from dress to casual. After acquiring several of these in a short time, I can honestly say that I have not been let down in style or performance. I don't think I'll ever buy another watch that isn't an Invicta!!!!!,Wear it all the time!,Watch is exactly as it is shown in the picture..would definitely recommend..,Really large on the arm but that's what I wanted - thx!\n",
            "\n",
            "Cluster 1 words:good,product,work,qualiti,price,big,\n",
            "Cluster 1 reviews (73 reviews): \n",
            "very good,It's a good value, and a good functional watch strap.  It's super wide though, and takes more space on the wrist than I'd like.,very good,Excellent product and seller very good service,Good value product,Looks good. Not bulky. Keeps good time.,good,Love the Watch. Good Deal and works Good.. :-),works good so far.,good,very good.,Good,Good quality with a reasonable price,good quality. on time,Good looking and smart! Works like a charm.,Good for work,Very stylish; looks good on my wrist. Lots of compliments. A good buy.,Good Product & good seller,It's not keeping good time,good,it 's good watch . I wear when I work. it light and look style.thanks,its good,Good!,good,Good,good, A little big,Good!,so far so good,  it is a good looking watch.  With all the necessary features one needs.  only drawback is the date window, the date is awfully small.,Very good,very good,Good watch links scratch easily,Good,Good product,very good.,Pretty good,good good!good good!good good!,slightly lighter in color than the picture, but overall a good quality - easy to install.  I can wear my watch again.  Good value for the price.,good,good watch fast shipping good price,Good I love it,Good quality,Thx it's very good,Good,It's very good watch,good, A little big,Good,good tool good price fast shipping,very good,Its very big but it looks good,very good.,good one,good,Very good product,Excellent product and seller very good service,It is good and lot of cheaper thank officer website,good,Good Watch.. Excellent,Good,very good,Good,Good product,The backlight is not very good. It only lights up the digital section at the bottom of the watch. Other than that, I haven't had any problems with this watch.,Really good sports watch for the price.,Good watch,good product original,Good,good,very good,I've had itcsbout a month now & like it.  It was just as represented, is attractive and keeping good tome.,Beautiful workmanship.  Chimes have volume control, so can be tuned to a room.  Good purchase.,Very good!,Just what was shown and ordered.  Delivery etc was good.,very good.\n",
            "\n",
            "Cluster 2 words:love,wife,look,beauti,husband,gift,\n",
            "Cluster 2 reviews (121 reviews): \n",
            "Absolutely love this watch! Get compliments almost every time I wear it. Dainty.,I love this watch it keeps time wonderfully.,i love this watch for my purpose, about the people complaining should of done their research better before buying. dumb people.,Love this watch, I just received it yesterday it looks really nice on my  wrist, my friends and family love it.,This is now my everyday watch.  Easy to read with lots of features.  Light  and functional.  You can not beat the price.  It is clean in detail and I love the watch.,Grand Kids loved this,Have worn it constantly, love the light at night,Wife loves it and nice looking watch,,Love the look but the leather band is so stiff it doesn't conform well to my wrist.,Loved the watch; it just did not work supposedly self-winding; tried all possible motions to cause the winder clearly visible from the rear of the watch; no luck,Love it,More beautiful in person. High quality! Looks understated but so sophisticated! It was a gift for my mother and she loved it!,Bought for a cousin, he loved it,the watch is beautiful, a little on the big side but it is perfect!!!!! LOVE LOVE LOVE!!!!!,Love. That is pretty much it. Item as described, really beautiful and functional.,husband loves it,Love it,Love fits good use it every day.,Beautiful watch. Love Skagen watches, hope they'll keep up the quality now the firm's sold. Have had several compliments on the watch.,Love the looks, love the style..... it's a Seiko.,I love love love this watch it's beautiful!!,Its a great watch love tge color,My son loves it!!! Many great features, he said it is super comfortable, I would recommend it to everyone!!,I love this watch! Aside from being cheap, this watch fits perfectly my son's wrist. My first purchase was the gray one. Then I purchased blue for my husband. Now I'm planning to buy one for myself. It has a simple design and the size and thickness is just enough on my wrist. I really love this watch!,LOVE ITTTTTT!!!!!!!,Love love this watch fits nicely on my hand. Got lots of compliments on it 😆,I love it. I did not know that it glows in the dark. That was a nice surprise.,All I can say is this is an amazing watch. It's nice and heavy and looks and feels so expensive! I bought it for my boyfriend for his birthday and he loves it!,love the look just too big for my wrist.,Love this watch! Got a great price and quick delivery.,A+ deal, love the band.,love it. ellegant sleek, and ferrari,Its Great!!! So beautiful.<br /><br />Totally recommended. My mother loved it,Love the look and function as advertised. Couldn't beat the price.,Love it and works very good! Looks exactly as pictured and love wearing.,My favorite features in a watch, now available  in Vikings colors! Love love love!,love this watch color,Amazing watch, Love every aspect of this thing and especially for its price. So worth it.,Love this watch. I actually purchased it for my son. It’s awesome.,I love having this watch!  Make sure to allow it to charge in the sun when you first get it because it's solar.  You will lose some of the functions if it's not charged up properly.,My wife is a dental hygienist and she loves her watch!,My mom LOVES this watch. The band is very smooth...,I bought it for my 7 year-old niece and she loved it so that makes me love the purchase as well!,This watch is beautiful!  Way better than the picture... and the pic is fab. I love it!,My husband loves it!  Excellent product!,My husband loves it and it does look very classy.,I've been eyeing this watch for months now and i love it!!,Love it,Bought this watch as a birthday present for my boyfriend and he absolutely loved it!,Very classy, a little spendy, but you get what you pay for. My son loves it.,She loves it.,I love it, very comfortable. Feels weak in the bracelet.,love it --came alot faster than noted too!,Love the watch, pretty colors.,Watch looks great and was easy to use.  My wife loves it,Wife loves it.,I loved the face of this watch the moment I first saw it.  It's clean and bright and keeps good time.  I also love the fact that i don't have to wind it.  Yesterday I was sitting in a restaurant in Los Angeles and a lady passed by my table, stopped, stepped back and said: &#34;Nice watch!&#34;,I love this watch but within a month, the clasp has broken. Really disappointed!,Love the watch I will buy another one,My wife loves this watch.,Excellent. My son loves it. He wants to swim with it, so we are yet to pass this test!,love, love<br />so cute and ladylike,I ordered this watch online and I absolutely love it. It's true to the picture, very sophisticated. It's great for nights out. Overall an amazing purchase!,It looks even better in person than it does in the picture. Awesome watch, I love Nixon.,This is a very pretty watch .... My granddaughter loved it!,Love, Love, Love the soft shade of Lavender.  I ordered several for gifts & I know they will be a HIT!!!,A fun watch with a retro look!  Love this watch, highly recommend!,Wife loves it. So no complains!,I love this design was so excited to receive it , but when I got it it didn't work. I returned it very disappointed.,My niece loved it,Really pretty and cool watch.  My 10 years old love it.  Has multiple functions as chronograph, alarm (you can set 3 different alarms), light and it is water resistant ... it's a bit tricky to remember the order to press the buttons to program it.  Loved the color.,Beautiful watch, very light, comfortable and classy. Great size face. I love  wearing it,Beautiful watch! Son in Law loves it!,loved it, a very cool looking watch for a teenager.,I absolutely love these silicone watch bands. Totally waterproof.,Love this watch. It looks very professional and masculine. Got it for my husband for his birthday. At first he thought the face was a little too big, but now he loves it. Great price too,Loved it. Came really quickly. Very functional. Little tricky to set up date.,I love my watch it's exactly as pictured. A boyfriend style watch with the copper/rose gold accents.,Very good for the price<br />Love it,Love this retro watch!  Very stylish and fun!,I love it. Lightweight and comfortable, it fits with any occasion and overall a great everyday watch to have.,love the design and style - awesome,that's good. I love so much.,I got this watch for my father for Father's Day, as an everyday watch, and was surprised how much he loves it. My mom says he wears it all the time,  and loves its simplicity.,My wife loves the watch, so much she slept with it.she really appreciate the watch thank you very much,love it,Watch Face smaller than expected but dope watch. I love it. And I don't know what these other 'reviewers' are talking about because the band is very comfortable.,Awesome watch for an awesome price at the time. I got this for my son's grad gift. He loves it. Shipping was prompt.,We love it,I love it! It's like a rolex but it's invicta.,My husband LOVE it, I will definitely buy more in the future different color of course.,Love this watch and many compliments on the large face,My wife loves her gift.,I love it.....I can actually read the numbers!!,Love it. The perfect AKA gift!,Daughter loved it,I love it!!!!,Bought this for my son and he loves it..<br />No problem so far..,I have 5 other Phlip Stein watches and I just love, love, love the Fruitz  watches!,Bought this for my Guy and he LOVED IT !!!,A gift to myself, and I absolutely love!,It was disappointing to me.  Perhaps it is the Color Combination???  I love Pink but it doesn't go with the trim color of the watch.  My Opinion!,In love!! Thank you,Strap looks better in real life, love the watch itself!!!,Amazing quality! Love it,This was a gift and the person I gave it to loved it very much!,it's pretty early to  to give a good rating, but I think I'm going to love it,PURCHASED FOR MY 6 YEAR OLD GRANDDAUGHTER AND SHE LOVES THIS WATCH! SHE WEARS IT ALL THE TIME!,My husband and I got this for our daughter for her birthday, and she absolutely loves it!!  It is so cute and looks even better than the pictures!,I love it..,I love it.,Ilike the look and feel of the watch. it is very easy to operate and I love the auto time setting.,I absolutely love this watch. I don't like that the battery died a month after I bought it.,Love this watch, very simple and straight forward. nothing to distract you when trying to read time.,This box is beautiful and was a great gift! I took it to a local engraver to have my husband's initials added, which just added to the character. Love this!,The watch is beautiful! I love it,Beautiful - love it!,I just loved it.. it's glass so you have to keep it clean from top and bottom but it worth it.,Received quickly and will make a lovely Christmas gift!,Awesome watch!!! Love it,My husband LOVED it😁👍🏽👍🏽👍🏽👍🏽\n",
            "\n",
            "Cluster 3 words:great,look,price,work,comfort,product,\n",
            "Cluster 3 reviews (88 reviews): \n",
            "for my wife and she loved it, looks great and a great price!,Watch is perfect. Rugged with the metal &#34;Bull Bars&#34;. The red accents are a great touch and I get compliments when wearing it. If you are worried about being able to read this in sunlight or in the dark don't! The LED ilumination works great! I might even get this in a different color for my next G-Shock purchase!,Perfect Condition, Arrived on Time,Works & Looks Great,Comfortable, looks great, very lightweight.The band is a little on the short side, but it's usable and not a big deal to replace.,great looking sports watch,A great automatic, but I give it 4 stars for being too conservative with its small size and the blue is dark and more of a navy color unless light is shining on it and reflecting. Other than that, like all based seiko 5s, it looks great on a Nato strap. I have this bad boy setup on a brown leather strap with a deployable clasp which looks very similar to the Omega Seamaster Aqua Terra. A great watch that can be worn in almost any occasion except when swimming,Gorgeous, petite watch - goes great with my engagement ring ;-),Great,Beautiful watch!  Great seller!,Great looking g shock.,Great price great look!,great watch for gifting.,Good qualities and a great seller.,Great watch I love it,Great watch! I've had the watch for almost 4 years with no complaints. Looks great, really durable, first battery lasted over 2 years. The light works great and sometimes you'll need it during the day to read the time. The all black can be a little hard to read at times, but the light will is sufficient to help out. Worth every penny!,Soft, durable, comfortable band, and the face looks exactly as it does here. Reduces glare and the light up feature is great.,Great key. Works well and does exactly as it should. Solid Construction.,great watch,Great product.,Great watch...great price...great delivery...,Great Box for the Price,Beautiful watch in almost perfect condition. Such a great deal compared to the regular price on this watch.,Good looking watch, very comfortable, great price,GREAT WATCH & VALUE, VERY COMFORTABLE TO WEAR,great watch for referee.  super fast shipping!,All of the G-Shock watches are great. This particular one is of the same quality. They are very hardy watches and can withstand a beating. Definitely a good buy for this price.,cool watch, slim and big dial. Looks great,Looks great, came super fast. I would recommend.,Great item... excellent price,great show watch,Great watch, amazing features!,Great watch for a amazing price!,A great watch.,Exactly what I needed and wanted. Awesome and great price!,Great,Great watch... versace versace!!!!!!,Great watch. Great water resistance, substantial-feeling case and band, keeps time very well. Only downside is that the gold plating isn't very scratch resistant.,Great deal on a great watch.,great watch! I love it!,Great!,Great watch never own something so stylish, great for swimming can see numbers under water and works perfectly. Allot of compliments.,Works great!,Nice looking watch, but I prefer a watch with a little bigger face. Other than that its great.,Great product,great watch for gifting.,Great Watch!,Just great!,Metal feels kinda cheap, but watch looks great.,Great watch,Excellent product!...great deal!,Great watch, nice deal, works perfectly...exactly what i needed. Recommended.,This watch is very nice.  A great value.  I think it looks great,Great value for the price.,Great product,Great watch band.,Great product, quiet and it works,Very Happy!  This is my second purchase and its great for a gift,Works great only thing missing is the ability to give the date.,GREAT watch for price paid. No issues and looks nice!!,Looks great and feels great!,GREAT Disney Watch!  Fast Delivery!  Awesome.,Good qualities and a great seller.,Works great. Stylish.  Looking to buy other colors too. Thanks. MauistyleAloha.com, Sk8Maui.com TexasStyleSkateboarding.com,Great watch,Nice watch. Works great so far but losses a little time.,Great deal on a great watch.,Owned probably 4 or more over the last 25 years.  Great watch....so glad they are still available...,Great watch, easy to wear, looks great on, and very inexpensive!  Love wearing it in the Florida heat when I bike!  Doesn't fade, water resistant, keeps on ticking!,Great watch ,large and blingy, just as it looks at the picture!,Hard to unhook at first, but it's great now!,Great watch for the money!,great fit and durrable.,Great watch,Great watch for the price. Looks like it cost more. Keeps time very well.,I get compliments on it also it looks great and it goes with anything I want to wear it was definitely a great buy.,Great watch band.,Great watch. Look well.,Great watch, comfortable, good looking.,GREAT WATCH , VERY COMFORTABLE TO WEAR,Having had a Pathfinder for ten(10) years, I am about to get another.  Still operates great(features and solar powered) but is beginning to look its age.  Great for traveling other time zones too!  Not Bonny&#62;&#62;&#62;&#62;J,Great watch.,Looks great and good quality.,Metal feels kinda cheap, but watch looks great.,Have used it several times.  Works great!,This is truly a magnificent watch.. it's a quartz movement watch but the quality is incredibly. Pictures don't do justice to it. A great watch for this price.,Metal feels kinda cheap, but watch looks great.,Great looking, stylish very comfortable,Great watch\n",
            "\n",
            "Cluster 4 words:nice,price,realli,look,simpl,good,\n",
            "Cluster 4 reviews (61 reviews): \n",
            "Nice watch, on time delivery from seller.,It works well with nice simple look.,vary nice,Very nice watch !!!,nice watch what you see on the picture is what you get,Very nice watch for running,Nice,Nice,Good Nice watch,Nice desing. I love this watch.,Nice,Very nice and reasonably price!,Nice watch, a little complicated getting set up, but has nice features, probably more than I'll ever use. Great looking!,Very nice,the nice watch,Its really nice and it looks good to me. Thumbs up!,Very nice and simple!!!!,Nice watch. Not what I was expecting but that is not the sellers fault.,Very nice watch! Very comfortable to wear.,Nice watch, on time delivery from the seller.,Very nice looking watch.,Nice and strong,I love it. Really nice.,Super nice,Very nice watch for the money!,nice,Nice quality, very good precision. Leather belt is really nice.,Nice watch, band is light and hollow.,VERY NICE WATCH AND VERY NICE PRICE,Watching arrive on time and it is nice as I was expecting,Nice summer watch.,nice watch,Nice,It looks very nice.,Nice watch. It's simple and perfect for daily wear.,pretty nice,very nice strap,Nice watch. I returned it as it was small on my wrist.,for this price it's really a nice watch,Nice and classy appeal. Solid construction.,Very nice !,Nice,great  Watch  a very nice price.,Very nice and light.,nice,Nice watch and a great bargain. I love it.,very nice,Just nice. In accordance to the price paid.,Nice,not for me but if you like a large watch face it is a nice watch,nice,Nice,Nice,These have worked nicely so far.,Very nice.,It does the job, however, a timer would be nice.,Nice !!!!!!!!,Very nice and quiet,It is a very nice clock with  sweeping second hand.  We purchased it for our administrative office and it is a very nice addition.,a very nice watch for a good price.,very nice!\n",
            "\n"
          ]
        }
      ]
    },
    {
      "cell_type": "markdown",
      "source": [
        "# Topic Modeling Latent Dirichlet Allocation Scikit-learn\n",
        "[link text](https://https://machinelearninggeek.com/latent-dirichlet-allocation-using-scikit-learn/)\n",
        "LDA is an unsupervised learning algorithm that discovers a blend of different themes or topics in a set of documents.\n",
        "In natural language processing, the latent Dirichlet allocation (LDA) is a generative statistical model that allows sets of observations to be explained by unobserved groups that explain why some parts of the data are similar. For example, if observations are words collected into documents, it posits that each document is a mixture of a small number of topics and that each word's presence is attributable to one of the document's topics. LDA is an example of a topic model."
      ],
      "metadata": {
        "id": "3rL-nFlOebfE"
      }
    },
    {
      "cell_type": "code",
      "source": [
        "#use LDA for clustering\n",
        "from sklearn.decomposition import LatentDirichletAllocation\n",
        "lda=LatentDirichletAllocation(n_components=5)"
      ],
      "metadata": {
        "id": "c7HKJMevelJv"
      },
      "execution_count": null,
      "outputs": []
    },
    {
      "cell_type": "code",
      "source": [
        "lda_output=lda.fit_transform(tfidf_matrix)\n",
        "print(lda_output.shape)\n",
        "print(lda_output)"
      ],
      "metadata": {
        "colab": {
          "base_uri": "https://localhost:8080/"
        },
        "id": "qtibsTpLe8FC",
        "outputId": "f3bd3ce0-cf93-4d90-86cc-5b391d2e3c98"
      },
      "execution_count": null,
      "outputs": [
        {
          "output_type": "stream",
          "name": "stdout",
          "text": [
            "(1000, 5)\n",
            "[[0.77942997 0.05506289 0.05694326 0.05380203 0.05476185]\n",
            " [0.0749036  0.07726616 0.07431442 0.69820603 0.0753098 ]\n",
            " [0.2        0.2        0.2        0.2        0.2       ]\n",
            " ...\n",
            " [0.10000022 0.59980393 0.10000041 0.10006249 0.10013294]\n",
            " [0.0625643  0.74835887 0.06211232 0.06222289 0.06474162]\n",
            " [0.0677184  0.06908541 0.06772959 0.06878918 0.72667742]]\n"
          ]
        }
      ]
    },
    {
      "cell_type": "code",
      "source": [
        "# topics and words matrix\n",
        "topic_word = lda.components_\n",
        "print(topic_word.shape)\n",
        "print(topic_word)"
      ],
      "metadata": {
        "colab": {
          "base_uri": "https://localhost:8080/"
        },
        "id": "E0qvXV5_fOig",
        "outputId": "0a2d0b26-3b7f-4599-fde8-bbcaf62b62ea"
      },
      "execution_count": null,
      "outputs": [
        {
          "output_type": "stream",
          "name": "stdout",
          "text": [
            "(5, 276)\n",
            "[[ 3.07547106  7.35686062  0.20040428 ...  0.20241539  1.63588116\n",
            "   0.20264239]\n",
            " [ 0.20155904  0.2010425   0.20024997 ...  0.20128804  0.20055104\n",
            "   0.20065116]\n",
            " [ 0.20130806  0.2019115   0.20012793 ...  0.20134012  0.20065194\n",
            "   0.20010952]\n",
            " [ 0.20267807  0.20135162  1.18510734 ...  2.97659958  1.0622134\n",
            "   0.20100847]\n",
            " [ 1.01949998  0.20171868  1.40869804 ... 11.32950564  8.09725444\n",
            "   4.11571222]]\n"
          ]
        }
      ]
    },
    {
      "cell_type": "code",
      "source": [
        "# column names\n",
        "topic_names = [\"Topic\" + str(i) for i in range(lda.n_components)]\n",
        "\n",
        "# index names\n",
        "doc_names = [\"Doc\" + str(i) for i in range(len(data))]\n",
        "\n",
        "df_document_topic = pd.DataFrame(np.round(lda_output, 2), columns=topic_names, index=doc_names)\n",
        "\n",
        "# get dominant topic for each document\n",
        "topic = np.argmax(df_document_topic.values, axis=1)\n",
        "df_document_topic['topic'] = topic\n",
        "\n",
        "df_document_topic.head(10)"
      ],
      "metadata": {
        "colab": {
          "base_uri": "https://localhost:8080/",
          "height": 363
        },
        "id": "ZcPPHzawfPmb",
        "outputId": "1960aea1-68b2-4cae-c060-1ee0f5dfa453"
      },
      "execution_count": null,
      "outputs": [
        {
          "output_type": "execute_result",
          "data": {
            "text/plain": [
              "      Topic0  Topic1  Topic2  Topic3  Topic4  topic\n",
              "Doc0    0.78    0.06    0.06    0.05    0.05      0\n",
              "Doc1    0.07    0.08    0.07    0.70    0.08      3\n",
              "Doc2    0.20    0.20    0.20    0.20    0.20      0\n",
              "Doc3    0.32    0.06    0.06    0.06    0.51      4\n",
              "Doc4    0.04    0.04    0.04    0.04    0.85      4\n",
              "Doc5    0.08    0.08    0.08    0.08    0.69      4\n",
              "Doc6    0.06    0.07    0.06    0.74    0.06      3\n",
              "Doc7    0.07    0.06    0.06    0.06    0.75      4\n",
              "Doc8    0.77    0.04    0.09    0.04    0.04      0\n",
              "Doc9    0.06    0.06    0.06    0.06    0.77      4"
            ],
            "text/html": [
              "\n",
              "  <div id=\"df-fba0cc34-4278-45f8-be57-6169619ccc37\">\n",
              "    <div class=\"colab-df-container\">\n",
              "      <div>\n",
              "<style scoped>\n",
              "    .dataframe tbody tr th:only-of-type {\n",
              "        vertical-align: middle;\n",
              "    }\n",
              "\n",
              "    .dataframe tbody tr th {\n",
              "        vertical-align: top;\n",
              "    }\n",
              "\n",
              "    .dataframe thead th {\n",
              "        text-align: right;\n",
              "    }\n",
              "</style>\n",
              "<table border=\"1\" class=\"dataframe\">\n",
              "  <thead>\n",
              "    <tr style=\"text-align: right;\">\n",
              "      <th></th>\n",
              "      <th>Topic0</th>\n",
              "      <th>Topic1</th>\n",
              "      <th>Topic2</th>\n",
              "      <th>Topic3</th>\n",
              "      <th>Topic4</th>\n",
              "      <th>topic</th>\n",
              "    </tr>\n",
              "  </thead>\n",
              "  <tbody>\n",
              "    <tr>\n",
              "      <th>Doc0</th>\n",
              "      <td>0.78</td>\n",
              "      <td>0.06</td>\n",
              "      <td>0.06</td>\n",
              "      <td>0.05</td>\n",
              "      <td>0.05</td>\n",
              "      <td>0</td>\n",
              "    </tr>\n",
              "    <tr>\n",
              "      <th>Doc1</th>\n",
              "      <td>0.07</td>\n",
              "      <td>0.08</td>\n",
              "      <td>0.07</td>\n",
              "      <td>0.70</td>\n",
              "      <td>0.08</td>\n",
              "      <td>3</td>\n",
              "    </tr>\n",
              "    <tr>\n",
              "      <th>Doc2</th>\n",
              "      <td>0.20</td>\n",
              "      <td>0.20</td>\n",
              "      <td>0.20</td>\n",
              "      <td>0.20</td>\n",
              "      <td>0.20</td>\n",
              "      <td>0</td>\n",
              "    </tr>\n",
              "    <tr>\n",
              "      <th>Doc3</th>\n",
              "      <td>0.32</td>\n",
              "      <td>0.06</td>\n",
              "      <td>0.06</td>\n",
              "      <td>0.06</td>\n",
              "      <td>0.51</td>\n",
              "      <td>4</td>\n",
              "    </tr>\n",
              "    <tr>\n",
              "      <th>Doc4</th>\n",
              "      <td>0.04</td>\n",
              "      <td>0.04</td>\n",
              "      <td>0.04</td>\n",
              "      <td>0.04</td>\n",
              "      <td>0.85</td>\n",
              "      <td>4</td>\n",
              "    </tr>\n",
              "    <tr>\n",
              "      <th>Doc5</th>\n",
              "      <td>0.08</td>\n",
              "      <td>0.08</td>\n",
              "      <td>0.08</td>\n",
              "      <td>0.08</td>\n",
              "      <td>0.69</td>\n",
              "      <td>4</td>\n",
              "    </tr>\n",
              "    <tr>\n",
              "      <th>Doc6</th>\n",
              "      <td>0.06</td>\n",
              "      <td>0.07</td>\n",
              "      <td>0.06</td>\n",
              "      <td>0.74</td>\n",
              "      <td>0.06</td>\n",
              "      <td>3</td>\n",
              "    </tr>\n",
              "    <tr>\n",
              "      <th>Doc7</th>\n",
              "      <td>0.07</td>\n",
              "      <td>0.06</td>\n",
              "      <td>0.06</td>\n",
              "      <td>0.06</td>\n",
              "      <td>0.75</td>\n",
              "      <td>4</td>\n",
              "    </tr>\n",
              "    <tr>\n",
              "      <th>Doc8</th>\n",
              "      <td>0.77</td>\n",
              "      <td>0.04</td>\n",
              "      <td>0.09</td>\n",
              "      <td>0.04</td>\n",
              "      <td>0.04</td>\n",
              "      <td>0</td>\n",
              "    </tr>\n",
              "    <tr>\n",
              "      <th>Doc9</th>\n",
              "      <td>0.06</td>\n",
              "      <td>0.06</td>\n",
              "      <td>0.06</td>\n",
              "      <td>0.06</td>\n",
              "      <td>0.77</td>\n",
              "      <td>4</td>\n",
              "    </tr>\n",
              "  </tbody>\n",
              "</table>\n",
              "</div>\n",
              "      <button class=\"colab-df-convert\" onclick=\"convertToInteractive('df-fba0cc34-4278-45f8-be57-6169619ccc37')\"\n",
              "              title=\"Convert this dataframe to an interactive table.\"\n",
              "              style=\"display:none;\">\n",
              "        \n",
              "  <svg xmlns=\"http://www.w3.org/2000/svg\" height=\"24px\"viewBox=\"0 0 24 24\"\n",
              "       width=\"24px\">\n",
              "    <path d=\"M0 0h24v24H0V0z\" fill=\"none\"/>\n",
              "    <path d=\"M18.56 5.44l.94 2.06.94-2.06 2.06-.94-2.06-.94-.94-2.06-.94 2.06-2.06.94zm-11 1L8.5 8.5l.94-2.06 2.06-.94-2.06-.94L8.5 2.5l-.94 2.06-2.06.94zm10 10l.94 2.06.94-2.06 2.06-.94-2.06-.94-.94-2.06-.94 2.06-2.06.94z\"/><path d=\"M17.41 7.96l-1.37-1.37c-.4-.4-.92-.59-1.43-.59-.52 0-1.04.2-1.43.59L10.3 9.45l-7.72 7.72c-.78.78-.78 2.05 0 2.83L4 21.41c.39.39.9.59 1.41.59.51 0 1.02-.2 1.41-.59l7.78-7.78 2.81-2.81c.8-.78.8-2.07 0-2.86zM5.41 20L4 18.59l7.72-7.72 1.47 1.35L5.41 20z\"/>\n",
              "  </svg>\n",
              "      </button>\n",
              "      \n",
              "  <style>\n",
              "    .colab-df-container {\n",
              "      display:flex;\n",
              "      flex-wrap:wrap;\n",
              "      gap: 12px;\n",
              "    }\n",
              "\n",
              "    .colab-df-convert {\n",
              "      background-color: #E8F0FE;\n",
              "      border: none;\n",
              "      border-radius: 50%;\n",
              "      cursor: pointer;\n",
              "      display: none;\n",
              "      fill: #1967D2;\n",
              "      height: 32px;\n",
              "      padding: 0 0 0 0;\n",
              "      width: 32px;\n",
              "    }\n",
              "\n",
              "    .colab-df-convert:hover {\n",
              "      background-color: #E2EBFA;\n",
              "      box-shadow: 0px 1px 2px rgba(60, 64, 67, 0.3), 0px 1px 3px 1px rgba(60, 64, 67, 0.15);\n",
              "      fill: #174EA6;\n",
              "    }\n",
              "\n",
              "    [theme=dark] .colab-df-convert {\n",
              "      background-color: #3B4455;\n",
              "      fill: #D2E3FC;\n",
              "    }\n",
              "\n",
              "    [theme=dark] .colab-df-convert:hover {\n",
              "      background-color: #434B5C;\n",
              "      box-shadow: 0px 1px 3px 1px rgba(0, 0, 0, 0.15);\n",
              "      filter: drop-shadow(0px 1px 2px rgba(0, 0, 0, 0.3));\n",
              "      fill: #FFFFFF;\n",
              "    }\n",
              "  </style>\n",
              "\n",
              "      <script>\n",
              "        const buttonEl =\n",
              "          document.querySelector('#df-fba0cc34-4278-45f8-be57-6169619ccc37 button.colab-df-convert');\n",
              "        buttonEl.style.display =\n",
              "          google.colab.kernel.accessAllowed ? 'block' : 'none';\n",
              "\n",
              "        async function convertToInteractive(key) {\n",
              "          const element = document.querySelector('#df-fba0cc34-4278-45f8-be57-6169619ccc37');\n",
              "          const dataTable =\n",
              "            await google.colab.kernel.invokeFunction('convertToInteractive',\n",
              "                                                     [key], {});\n",
              "          if (!dataTable) return;\n",
              "\n",
              "          const docLinkHtml = 'Like what you see? Visit the ' +\n",
              "            '<a target=\"_blank\" href=https://colab.research.google.com/notebooks/data_table.ipynb>data table notebook</a>'\n",
              "            + ' to learn more about interactive tables.';\n",
              "          element.innerHTML = '';\n",
              "          dataTable['output_type'] = 'display_data';\n",
              "          await google.colab.output.renderOutput(dataTable, element);\n",
              "          const docLink = document.createElement('div');\n",
              "          docLink.innerHTML = docLinkHtml;\n",
              "          element.appendChild(docLink);\n",
              "        }\n",
              "      </script>\n",
              "    </div>\n",
              "  </div>\n",
              "  "
            ]
          },
          "metadata": {},
          "execution_count": 40
        }
      ]
    },
    {
      "cell_type": "code",
      "source": [
        "df_document_topic['topic'].value_counts().to_frame()"
      ],
      "metadata": {
        "colab": {
          "base_uri": "https://localhost:8080/",
          "height": 206
        },
        "id": "hArDF7g_fXBN",
        "outputId": "5408ca8f-cb36-457b-f185-8bd079a70140"
      },
      "execution_count": null,
      "outputs": [
        {
          "output_type": "execute_result",
          "data": {
            "text/plain": [
              "   topic\n",
              "4    355\n",
              "0    193\n",
              "1    186\n",
              "3    181\n",
              "2     85"
            ],
            "text/html": [
              "\n",
              "  <div id=\"df-dd08cdd9-564e-4277-a79d-71c73782e4dd\">\n",
              "    <div class=\"colab-df-container\">\n",
              "      <div>\n",
              "<style scoped>\n",
              "    .dataframe tbody tr th:only-of-type {\n",
              "        vertical-align: middle;\n",
              "    }\n",
              "\n",
              "    .dataframe tbody tr th {\n",
              "        vertical-align: top;\n",
              "    }\n",
              "\n",
              "    .dataframe thead th {\n",
              "        text-align: right;\n",
              "    }\n",
              "</style>\n",
              "<table border=\"1\" class=\"dataframe\">\n",
              "  <thead>\n",
              "    <tr style=\"text-align: right;\">\n",
              "      <th></th>\n",
              "      <th>topic</th>\n",
              "    </tr>\n",
              "  </thead>\n",
              "  <tbody>\n",
              "    <tr>\n",
              "      <th>4</th>\n",
              "      <td>355</td>\n",
              "    </tr>\n",
              "    <tr>\n",
              "      <th>0</th>\n",
              "      <td>193</td>\n",
              "    </tr>\n",
              "    <tr>\n",
              "      <th>1</th>\n",
              "      <td>186</td>\n",
              "    </tr>\n",
              "    <tr>\n",
              "      <th>3</th>\n",
              "      <td>181</td>\n",
              "    </tr>\n",
              "    <tr>\n",
              "      <th>2</th>\n",
              "      <td>85</td>\n",
              "    </tr>\n",
              "  </tbody>\n",
              "</table>\n",
              "</div>\n",
              "      <button class=\"colab-df-convert\" onclick=\"convertToInteractive('df-dd08cdd9-564e-4277-a79d-71c73782e4dd')\"\n",
              "              title=\"Convert this dataframe to an interactive table.\"\n",
              "              style=\"display:none;\">\n",
              "        \n",
              "  <svg xmlns=\"http://www.w3.org/2000/svg\" height=\"24px\"viewBox=\"0 0 24 24\"\n",
              "       width=\"24px\">\n",
              "    <path d=\"M0 0h24v24H0V0z\" fill=\"none\"/>\n",
              "    <path d=\"M18.56 5.44l.94 2.06.94-2.06 2.06-.94-2.06-.94-.94-2.06-.94 2.06-2.06.94zm-11 1L8.5 8.5l.94-2.06 2.06-.94-2.06-.94L8.5 2.5l-.94 2.06-2.06.94zm10 10l.94 2.06.94-2.06 2.06-.94-2.06-.94-.94-2.06-.94 2.06-2.06.94z\"/><path d=\"M17.41 7.96l-1.37-1.37c-.4-.4-.92-.59-1.43-.59-.52 0-1.04.2-1.43.59L10.3 9.45l-7.72 7.72c-.78.78-.78 2.05 0 2.83L4 21.41c.39.39.9.59 1.41.59.51 0 1.02-.2 1.41-.59l7.78-7.78 2.81-2.81c.8-.78.8-2.07 0-2.86zM5.41 20L4 18.59l7.72-7.72 1.47 1.35L5.41 20z\"/>\n",
              "  </svg>\n",
              "      </button>\n",
              "      \n",
              "  <style>\n",
              "    .colab-df-container {\n",
              "      display:flex;\n",
              "      flex-wrap:wrap;\n",
              "      gap: 12px;\n",
              "    }\n",
              "\n",
              "    .colab-df-convert {\n",
              "      background-color: #E8F0FE;\n",
              "      border: none;\n",
              "      border-radius: 50%;\n",
              "      cursor: pointer;\n",
              "      display: none;\n",
              "      fill: #1967D2;\n",
              "      height: 32px;\n",
              "      padding: 0 0 0 0;\n",
              "      width: 32px;\n",
              "    }\n",
              "\n",
              "    .colab-df-convert:hover {\n",
              "      background-color: #E2EBFA;\n",
              "      box-shadow: 0px 1px 2px rgba(60, 64, 67, 0.3), 0px 1px 3px 1px rgba(60, 64, 67, 0.15);\n",
              "      fill: #174EA6;\n",
              "    }\n",
              "\n",
              "    [theme=dark] .colab-df-convert {\n",
              "      background-color: #3B4455;\n",
              "      fill: #D2E3FC;\n",
              "    }\n",
              "\n",
              "    [theme=dark] .colab-df-convert:hover {\n",
              "      background-color: #434B5C;\n",
              "      box-shadow: 0px 1px 3px 1px rgba(0, 0, 0, 0.15);\n",
              "      filter: drop-shadow(0px 1px 2px rgba(0, 0, 0, 0.3));\n",
              "      fill: #FFFFFF;\n",
              "    }\n",
              "  </style>\n",
              "\n",
              "      <script>\n",
              "        const buttonEl =\n",
              "          document.querySelector('#df-dd08cdd9-564e-4277-a79d-71c73782e4dd button.colab-df-convert');\n",
              "        buttonEl.style.display =\n",
              "          google.colab.kernel.accessAllowed ? 'block' : 'none';\n",
              "\n",
              "        async function convertToInteractive(key) {\n",
              "          const element = document.querySelector('#df-dd08cdd9-564e-4277-a79d-71c73782e4dd');\n",
              "          const dataTable =\n",
              "            await google.colab.kernel.invokeFunction('convertToInteractive',\n",
              "                                                     [key], {});\n",
              "          if (!dataTable) return;\n",
              "\n",
              "          const docLinkHtml = 'Like what you see? Visit the ' +\n",
              "            '<a target=\"_blank\" href=https://colab.research.google.com/notebooks/data_table.ipynb>data table notebook</a>'\n",
              "            + ' to learn more about interactive tables.';\n",
              "          element.innerHTML = '';\n",
              "          dataTable['output_type'] = 'display_data';\n",
              "          await google.colab.output.renderOutput(dataTable, element);\n",
              "          const docLink = document.createElement('div');\n",
              "          docLink.innerHTML = docLinkHtml;\n",
              "          element.appendChild(docLink);\n",
              "        }\n",
              "      </script>\n",
              "    </div>\n",
              "  </div>\n",
              "  "
            ]
          },
          "metadata": {},
          "execution_count": 41
        }
      ]
    },
    {
      "cell_type": "code",
      "source": [
        "# topic word matrix\n",
        "print(lda.components_)\n",
        "df_topic_words = pd.DataFrame(lda.components_)"
      ],
      "metadata": {
        "colab": {
          "base_uri": "https://localhost:8080/"
        },
        "id": "nU-XiDBimzy9",
        "outputId": "0eff62eb-366d-4fa7-f9c8-d9e25113ce38"
      },
      "execution_count": null,
      "outputs": [
        {
          "output_type": "stream",
          "name": "stdout",
          "text": [
            "[[ 3.07547106  7.35686062  0.20040428 ...  0.20241539  1.63588116\n",
            "   0.20264239]\n",
            " [ 0.20155904  0.2010425   0.20024997 ...  0.20128804  0.20055104\n",
            "   0.20065116]\n",
            " [ 0.20130806  0.2019115   0.20012793 ...  0.20134012  0.20065194\n",
            "   0.20010952]\n",
            " [ 0.20267807  0.20135162  1.18510734 ...  2.97659958  1.0622134\n",
            "   0.20100847]\n",
            " [ 1.01949998  0.20171868  1.40869804 ... 11.32950564  8.09725444\n",
            "   4.11571222]]\n"
          ]
        }
      ]
    },
    {
      "cell_type": "code",
      "source": [
        "#column and index\n",
        "df_topic_words.columns = tfidf_model.get_feature_names()\n",
        "df_topic_words.index = topic_names\n",
        "df_topic_words.head()"
      ],
      "metadata": {
        "colab": {
          "base_uri": "https://localhost:8080/",
          "height": 334
        },
        "id": "MqRalDaunDmt",
        "outputId": "8179a2bf-bcba-426a-94fe-0f38cf00fa67"
      },
      "execution_count": null,
      "outputs": [
        {
          "output_type": "stream",
          "name": "stderr",
          "text": [
            "/usr/local/lib/python3.7/dist-packages/sklearn/utils/deprecation.py:87: FutureWarning: Function get_feature_names is deprecated; get_feature_names is deprecated in 1.0 and will be removed in 1.2. Please use get_feature_names_out instead.\n",
            "  warnings.warn(msg, category=FutureWarning)\n"
          ]
        },
        {
          "output_type": "execute_result",
          "data": {
            "text/plain": [
              "             abl   absolut     accur    actual    adjust     alarm    almost  \\\n",
              "Topic0  3.075471  7.356861  0.200404  0.200843  0.935790  0.206091  0.898877   \n",
              "Topic1  0.201559  0.201042  0.200250  0.202225  0.201483  0.200068  0.200852   \n",
              "Topic2  0.201308  0.201911  0.200128  0.200838  0.200359  4.949479  2.798015   \n",
              "Topic3  0.202678  0.201352  1.185107  0.200118  0.201579  0.206980  0.275092   \n",
              "Topic4  1.019500  0.201719  1.408698  4.806444  4.530245  0.212587  2.963983   \n",
              "\n",
              "         alreadi      also     alway  ...      wish    within   without  \\\n",
              "Topic0  1.883098  2.236945  0.200280  ...  2.220785  2.393961  1.306450   \n",
              "Topic1  2.316300  0.200270  0.200183  ...  0.200435  0.200773  0.200653   \n",
              "Topic2  0.200750  0.201126  0.200908  ...  0.200594  0.905478  0.566852   \n",
              "Topic3  0.201576  1.830918  0.200665  ...  0.643301  0.535635  0.529277   \n",
              "Topic4  1.027517  3.861932  3.637212  ...  0.896917  0.201920  3.599972   \n",
              "\n",
              "             work      worn     worth      would      wrist      year  \\\n",
              "Topic0   6.378813  2.862961  2.694866   1.498657   0.202415  1.635881   \n",
              "Topic1   2.174520  0.201427  0.200075   1.174930   0.201288  0.200551   \n",
              "Topic2  17.495642  0.546156  0.201255   0.201157   0.201340  0.200652   \n",
              "Topic3   4.072578  0.200054  0.203298   0.471816   2.976600  1.062213   \n",
              "Topic4   7.733018  0.206320  3.255037  11.422511  11.329506  8.097254   \n",
              "\n",
              "             yet  \n",
              "Topic0  0.202642  \n",
              "Topic1  0.200651  \n",
              "Topic2  0.200110  \n",
              "Topic3  0.201008  \n",
              "Topic4  4.115712  \n",
              "\n",
              "[5 rows x 276 columns]"
            ],
            "text/html": [
              "\n",
              "  <div id=\"df-94357119-00f9-4ce7-8941-bc13437ee836\">\n",
              "    <div class=\"colab-df-container\">\n",
              "      <div>\n",
              "<style scoped>\n",
              "    .dataframe tbody tr th:only-of-type {\n",
              "        vertical-align: middle;\n",
              "    }\n",
              "\n",
              "    .dataframe tbody tr th {\n",
              "        vertical-align: top;\n",
              "    }\n",
              "\n",
              "    .dataframe thead th {\n",
              "        text-align: right;\n",
              "    }\n",
              "</style>\n",
              "<table border=\"1\" class=\"dataframe\">\n",
              "  <thead>\n",
              "    <tr style=\"text-align: right;\">\n",
              "      <th></th>\n",
              "      <th>abl</th>\n",
              "      <th>absolut</th>\n",
              "      <th>accur</th>\n",
              "      <th>actual</th>\n",
              "      <th>adjust</th>\n",
              "      <th>alarm</th>\n",
              "      <th>almost</th>\n",
              "      <th>alreadi</th>\n",
              "      <th>also</th>\n",
              "      <th>alway</th>\n",
              "      <th>...</th>\n",
              "      <th>wish</th>\n",
              "      <th>within</th>\n",
              "      <th>without</th>\n",
              "      <th>work</th>\n",
              "      <th>worn</th>\n",
              "      <th>worth</th>\n",
              "      <th>would</th>\n",
              "      <th>wrist</th>\n",
              "      <th>year</th>\n",
              "      <th>yet</th>\n",
              "    </tr>\n",
              "  </thead>\n",
              "  <tbody>\n",
              "    <tr>\n",
              "      <th>Topic0</th>\n",
              "      <td>3.075471</td>\n",
              "      <td>7.356861</td>\n",
              "      <td>0.200404</td>\n",
              "      <td>0.200843</td>\n",
              "      <td>0.935790</td>\n",
              "      <td>0.206091</td>\n",
              "      <td>0.898877</td>\n",
              "      <td>1.883098</td>\n",
              "      <td>2.236945</td>\n",
              "      <td>0.200280</td>\n",
              "      <td>...</td>\n",
              "      <td>2.220785</td>\n",
              "      <td>2.393961</td>\n",
              "      <td>1.306450</td>\n",
              "      <td>6.378813</td>\n",
              "      <td>2.862961</td>\n",
              "      <td>2.694866</td>\n",
              "      <td>1.498657</td>\n",
              "      <td>0.202415</td>\n",
              "      <td>1.635881</td>\n",
              "      <td>0.202642</td>\n",
              "    </tr>\n",
              "    <tr>\n",
              "      <th>Topic1</th>\n",
              "      <td>0.201559</td>\n",
              "      <td>0.201042</td>\n",
              "      <td>0.200250</td>\n",
              "      <td>0.202225</td>\n",
              "      <td>0.201483</td>\n",
              "      <td>0.200068</td>\n",
              "      <td>0.200852</td>\n",
              "      <td>2.316300</td>\n",
              "      <td>0.200270</td>\n",
              "      <td>0.200183</td>\n",
              "      <td>...</td>\n",
              "      <td>0.200435</td>\n",
              "      <td>0.200773</td>\n",
              "      <td>0.200653</td>\n",
              "      <td>2.174520</td>\n",
              "      <td>0.201427</td>\n",
              "      <td>0.200075</td>\n",
              "      <td>1.174930</td>\n",
              "      <td>0.201288</td>\n",
              "      <td>0.200551</td>\n",
              "      <td>0.200651</td>\n",
              "    </tr>\n",
              "    <tr>\n",
              "      <th>Topic2</th>\n",
              "      <td>0.201308</td>\n",
              "      <td>0.201911</td>\n",
              "      <td>0.200128</td>\n",
              "      <td>0.200838</td>\n",
              "      <td>0.200359</td>\n",
              "      <td>4.949479</td>\n",
              "      <td>2.798015</td>\n",
              "      <td>0.200750</td>\n",
              "      <td>0.201126</td>\n",
              "      <td>0.200908</td>\n",
              "      <td>...</td>\n",
              "      <td>0.200594</td>\n",
              "      <td>0.905478</td>\n",
              "      <td>0.566852</td>\n",
              "      <td>17.495642</td>\n",
              "      <td>0.546156</td>\n",
              "      <td>0.201255</td>\n",
              "      <td>0.201157</td>\n",
              "      <td>0.201340</td>\n",
              "      <td>0.200652</td>\n",
              "      <td>0.200110</td>\n",
              "    </tr>\n",
              "    <tr>\n",
              "      <th>Topic3</th>\n",
              "      <td>0.202678</td>\n",
              "      <td>0.201352</td>\n",
              "      <td>1.185107</td>\n",
              "      <td>0.200118</td>\n",
              "      <td>0.201579</td>\n",
              "      <td>0.206980</td>\n",
              "      <td>0.275092</td>\n",
              "      <td>0.201576</td>\n",
              "      <td>1.830918</td>\n",
              "      <td>0.200665</td>\n",
              "      <td>...</td>\n",
              "      <td>0.643301</td>\n",
              "      <td>0.535635</td>\n",
              "      <td>0.529277</td>\n",
              "      <td>4.072578</td>\n",
              "      <td>0.200054</td>\n",
              "      <td>0.203298</td>\n",
              "      <td>0.471816</td>\n",
              "      <td>2.976600</td>\n",
              "      <td>1.062213</td>\n",
              "      <td>0.201008</td>\n",
              "    </tr>\n",
              "    <tr>\n",
              "      <th>Topic4</th>\n",
              "      <td>1.019500</td>\n",
              "      <td>0.201719</td>\n",
              "      <td>1.408698</td>\n",
              "      <td>4.806444</td>\n",
              "      <td>4.530245</td>\n",
              "      <td>0.212587</td>\n",
              "      <td>2.963983</td>\n",
              "      <td>1.027517</td>\n",
              "      <td>3.861932</td>\n",
              "      <td>3.637212</td>\n",
              "      <td>...</td>\n",
              "      <td>0.896917</td>\n",
              "      <td>0.201920</td>\n",
              "      <td>3.599972</td>\n",
              "      <td>7.733018</td>\n",
              "      <td>0.206320</td>\n",
              "      <td>3.255037</td>\n",
              "      <td>11.422511</td>\n",
              "      <td>11.329506</td>\n",
              "      <td>8.097254</td>\n",
              "      <td>4.115712</td>\n",
              "    </tr>\n",
              "  </tbody>\n",
              "</table>\n",
              "<p>5 rows × 276 columns</p>\n",
              "</div>\n",
              "      <button class=\"colab-df-convert\" onclick=\"convertToInteractive('df-94357119-00f9-4ce7-8941-bc13437ee836')\"\n",
              "              title=\"Convert this dataframe to an interactive table.\"\n",
              "              style=\"display:none;\">\n",
              "        \n",
              "  <svg xmlns=\"http://www.w3.org/2000/svg\" height=\"24px\"viewBox=\"0 0 24 24\"\n",
              "       width=\"24px\">\n",
              "    <path d=\"M0 0h24v24H0V0z\" fill=\"none\"/>\n",
              "    <path d=\"M18.56 5.44l.94 2.06.94-2.06 2.06-.94-2.06-.94-.94-2.06-.94 2.06-2.06.94zm-11 1L8.5 8.5l.94-2.06 2.06-.94-2.06-.94L8.5 2.5l-.94 2.06-2.06.94zm10 10l.94 2.06.94-2.06 2.06-.94-2.06-.94-.94-2.06-.94 2.06-2.06.94z\"/><path d=\"M17.41 7.96l-1.37-1.37c-.4-.4-.92-.59-1.43-.59-.52 0-1.04.2-1.43.59L10.3 9.45l-7.72 7.72c-.78.78-.78 2.05 0 2.83L4 21.41c.39.39.9.59 1.41.59.51 0 1.02-.2 1.41-.59l7.78-7.78 2.81-2.81c.8-.78.8-2.07 0-2.86zM5.41 20L4 18.59l7.72-7.72 1.47 1.35L5.41 20z\"/>\n",
              "  </svg>\n",
              "      </button>\n",
              "      \n",
              "  <style>\n",
              "    .colab-df-container {\n",
              "      display:flex;\n",
              "      flex-wrap:wrap;\n",
              "      gap: 12px;\n",
              "    }\n",
              "\n",
              "    .colab-df-convert {\n",
              "      background-color: #E8F0FE;\n",
              "      border: none;\n",
              "      border-radius: 50%;\n",
              "      cursor: pointer;\n",
              "      display: none;\n",
              "      fill: #1967D2;\n",
              "      height: 32px;\n",
              "      padding: 0 0 0 0;\n",
              "      width: 32px;\n",
              "    }\n",
              "\n",
              "    .colab-df-convert:hover {\n",
              "      background-color: #E2EBFA;\n",
              "      box-shadow: 0px 1px 2px rgba(60, 64, 67, 0.3), 0px 1px 3px 1px rgba(60, 64, 67, 0.15);\n",
              "      fill: #174EA6;\n",
              "    }\n",
              "\n",
              "    [theme=dark] .colab-df-convert {\n",
              "      background-color: #3B4455;\n",
              "      fill: #D2E3FC;\n",
              "    }\n",
              "\n",
              "    [theme=dark] .colab-df-convert:hover {\n",
              "      background-color: #434B5C;\n",
              "      box-shadow: 0px 1px 3px 1px rgba(0, 0, 0, 0.15);\n",
              "      filter: drop-shadow(0px 1px 2px rgba(0, 0, 0, 0.3));\n",
              "      fill: #FFFFFF;\n",
              "    }\n",
              "  </style>\n",
              "\n",
              "      <script>\n",
              "        const buttonEl =\n",
              "          document.querySelector('#df-94357119-00f9-4ce7-8941-bc13437ee836 button.colab-df-convert');\n",
              "        buttonEl.style.display =\n",
              "          google.colab.kernel.accessAllowed ? 'block' : 'none';\n",
              "\n",
              "        async function convertToInteractive(key) {\n",
              "          const element = document.querySelector('#df-94357119-00f9-4ce7-8941-bc13437ee836');\n",
              "          const dataTable =\n",
              "            await google.colab.kernel.invokeFunction('convertToInteractive',\n",
              "                                                     [key], {});\n",
              "          if (!dataTable) return;\n",
              "\n",
              "          const docLinkHtml = 'Like what you see? Visit the ' +\n",
              "            '<a target=\"_blank\" href=https://colab.research.google.com/notebooks/data_table.ipynb>data table notebook</a>'\n",
              "            + ' to learn more about interactive tables.';\n",
              "          element.innerHTML = '';\n",
              "          dataTable['output_type'] = 'display_data';\n",
              "          await google.colab.output.renderOutput(dataTable, element);\n",
              "          const docLink = document.createElement('div');\n",
              "          docLink.innerHTML = docLinkHtml;\n",
              "          element.appendChild(docLink);\n",
              "        }\n",
              "      </script>\n",
              "    </div>\n",
              "  </div>\n",
              "  "
            ]
          },
          "metadata": {},
          "execution_count": 43
        }
      ]
    },
    {
      "cell_type": "code",
      "source": [
        "def print_topic_words(tfidf_model,lda_model, n_words):\n",
        "  words=np.array(tfidf_model.get_feature_names())\n",
        "  topic_words = []\n",
        "  #for each topic, we have words weight\n",
        "  for topic_words_weights in lda_model.components_:\n",
        "    top_words= topic_words_weights.argsort()[::-1][:n_words]\n",
        "    topic_words.append(words.take(top_words))\n",
        "  return topic_words\n",
        "\n",
        "topic_keywords = print_topic_words(tfidf_model=tfidf_model, lda_model=lda, n_words=15)        \n",
        "\n",
        "df_topic_words = pd.DataFrame(topic_keywords)\n",
        "df_topic_words.columns = ['Word '+str(i) for i in range(df_topic_words.shape[1])]\n",
        "df_topic_words.index = ['Topic '+str(i) for i in range(df_topic_words.shape[0])]\n",
        "df_topic_words"
      ],
      "metadata": {
        "colab": {
          "base_uri": "https://localhost:8080/",
          "height": 305
        },
        "id": "NfEsJrsrqV1P",
        "outputId": "494fec22-74cd-49d0-ad10-f407439e5050"
      },
      "execution_count": null,
      "outputs": [
        {
          "output_type": "stream",
          "name": "stderr",
          "text": [
            "/usr/local/lib/python3.7/dist-packages/sklearn/utils/deprecation.py:87: FutureWarning: Function get_feature_names is deprecated; get_feature_names is deprecated in 1.0 and will be removed in 1.2. Please use get_feature_names_out instead.\n",
            "  warnings.warn(msg, category=FutureWarning)\n"
          ]
        },
        {
          "output_type": "execute_result",
          "data": {
            "text/plain": [
              "         Word 0   Word 1 Word 2   Word 3  Word 4 Word 5   Word 6   Word 7  \\\n",
              "Topic 0    nice  batteri    day      get    time  broke      use      one   \n",
              "Topic 1    good     love  price    great  awesom   nice  qualiti     fast   \n",
              "Topic 2  beauti  perfect   work   expect     fit   well      bad  everyth   \n",
              "Topic 3   great    excel   look  product    love   wife     amaz   pretti   \n",
              "Topic 4    like       br   band     look    love   wear    would    wrist   \n",
              "\n",
              "        Word 8   Word 9   Word 10   Word 11 Word 12    Word 13 Word 14  \n",
              "Topic 0  light      two   absolut       buy    work       ever    back  \n",
              "Topic 1   look  product  deliveri    seller  realli  recommend   exact  \n",
              "Topic 2   came    alarm    sturdi  instruct    wear      light  classi  \n",
              "Topic 3   time  husband       big      feel   price      littl    keep  \n",
              "Topic 4   time     much      face       one    well      great  realli  "
            ],
            "text/html": [
              "\n",
              "  <div id=\"df-18cf9b63-ebd6-4de3-9965-8c9182b41670\">\n",
              "    <div class=\"colab-df-container\">\n",
              "      <div>\n",
              "<style scoped>\n",
              "    .dataframe tbody tr th:only-of-type {\n",
              "        vertical-align: middle;\n",
              "    }\n",
              "\n",
              "    .dataframe tbody tr th {\n",
              "        vertical-align: top;\n",
              "    }\n",
              "\n",
              "    .dataframe thead th {\n",
              "        text-align: right;\n",
              "    }\n",
              "</style>\n",
              "<table border=\"1\" class=\"dataframe\">\n",
              "  <thead>\n",
              "    <tr style=\"text-align: right;\">\n",
              "      <th></th>\n",
              "      <th>Word 0</th>\n",
              "      <th>Word 1</th>\n",
              "      <th>Word 2</th>\n",
              "      <th>Word 3</th>\n",
              "      <th>Word 4</th>\n",
              "      <th>Word 5</th>\n",
              "      <th>Word 6</th>\n",
              "      <th>Word 7</th>\n",
              "      <th>Word 8</th>\n",
              "      <th>Word 9</th>\n",
              "      <th>Word 10</th>\n",
              "      <th>Word 11</th>\n",
              "      <th>Word 12</th>\n",
              "      <th>Word 13</th>\n",
              "      <th>Word 14</th>\n",
              "    </tr>\n",
              "  </thead>\n",
              "  <tbody>\n",
              "    <tr>\n",
              "      <th>Topic 0</th>\n",
              "      <td>nice</td>\n",
              "      <td>batteri</td>\n",
              "      <td>day</td>\n",
              "      <td>get</td>\n",
              "      <td>time</td>\n",
              "      <td>broke</td>\n",
              "      <td>use</td>\n",
              "      <td>one</td>\n",
              "      <td>light</td>\n",
              "      <td>two</td>\n",
              "      <td>absolut</td>\n",
              "      <td>buy</td>\n",
              "      <td>work</td>\n",
              "      <td>ever</td>\n",
              "      <td>back</td>\n",
              "    </tr>\n",
              "    <tr>\n",
              "      <th>Topic 1</th>\n",
              "      <td>good</td>\n",
              "      <td>love</td>\n",
              "      <td>price</td>\n",
              "      <td>great</td>\n",
              "      <td>awesom</td>\n",
              "      <td>nice</td>\n",
              "      <td>qualiti</td>\n",
              "      <td>fast</td>\n",
              "      <td>look</td>\n",
              "      <td>product</td>\n",
              "      <td>deliveri</td>\n",
              "      <td>seller</td>\n",
              "      <td>realli</td>\n",
              "      <td>recommend</td>\n",
              "      <td>exact</td>\n",
              "    </tr>\n",
              "    <tr>\n",
              "      <th>Topic 2</th>\n",
              "      <td>beauti</td>\n",
              "      <td>perfect</td>\n",
              "      <td>work</td>\n",
              "      <td>expect</td>\n",
              "      <td>fit</td>\n",
              "      <td>well</td>\n",
              "      <td>bad</td>\n",
              "      <td>everyth</td>\n",
              "      <td>came</td>\n",
              "      <td>alarm</td>\n",
              "      <td>sturdi</td>\n",
              "      <td>instruct</td>\n",
              "      <td>wear</td>\n",
              "      <td>light</td>\n",
              "      <td>classi</td>\n",
              "    </tr>\n",
              "    <tr>\n",
              "      <th>Topic 3</th>\n",
              "      <td>great</td>\n",
              "      <td>excel</td>\n",
              "      <td>look</td>\n",
              "      <td>product</td>\n",
              "      <td>love</td>\n",
              "      <td>wife</td>\n",
              "      <td>amaz</td>\n",
              "      <td>pretti</td>\n",
              "      <td>time</td>\n",
              "      <td>husband</td>\n",
              "      <td>big</td>\n",
              "      <td>feel</td>\n",
              "      <td>price</td>\n",
              "      <td>littl</td>\n",
              "      <td>keep</td>\n",
              "    </tr>\n",
              "    <tr>\n",
              "      <th>Topic 4</th>\n",
              "      <td>like</td>\n",
              "      <td>br</td>\n",
              "      <td>band</td>\n",
              "      <td>look</td>\n",
              "      <td>love</td>\n",
              "      <td>wear</td>\n",
              "      <td>would</td>\n",
              "      <td>wrist</td>\n",
              "      <td>time</td>\n",
              "      <td>much</td>\n",
              "      <td>face</td>\n",
              "      <td>one</td>\n",
              "      <td>well</td>\n",
              "      <td>great</td>\n",
              "      <td>realli</td>\n",
              "    </tr>\n",
              "  </tbody>\n",
              "</table>\n",
              "</div>\n",
              "      <button class=\"colab-df-convert\" onclick=\"convertToInteractive('df-18cf9b63-ebd6-4de3-9965-8c9182b41670')\"\n",
              "              title=\"Convert this dataframe to an interactive table.\"\n",
              "              style=\"display:none;\">\n",
              "        \n",
              "  <svg xmlns=\"http://www.w3.org/2000/svg\" height=\"24px\"viewBox=\"0 0 24 24\"\n",
              "       width=\"24px\">\n",
              "    <path d=\"M0 0h24v24H0V0z\" fill=\"none\"/>\n",
              "    <path d=\"M18.56 5.44l.94 2.06.94-2.06 2.06-.94-2.06-.94-.94-2.06-.94 2.06-2.06.94zm-11 1L8.5 8.5l.94-2.06 2.06-.94-2.06-.94L8.5 2.5l-.94 2.06-2.06.94zm10 10l.94 2.06.94-2.06 2.06-.94-2.06-.94-.94-2.06-.94 2.06-2.06.94z\"/><path d=\"M17.41 7.96l-1.37-1.37c-.4-.4-.92-.59-1.43-.59-.52 0-1.04.2-1.43.59L10.3 9.45l-7.72 7.72c-.78.78-.78 2.05 0 2.83L4 21.41c.39.39.9.59 1.41.59.51 0 1.02-.2 1.41-.59l7.78-7.78 2.81-2.81c.8-.78.8-2.07 0-2.86zM5.41 20L4 18.59l7.72-7.72 1.47 1.35L5.41 20z\"/>\n",
              "  </svg>\n",
              "      </button>\n",
              "      \n",
              "  <style>\n",
              "    .colab-df-container {\n",
              "      display:flex;\n",
              "      flex-wrap:wrap;\n",
              "      gap: 12px;\n",
              "    }\n",
              "\n",
              "    .colab-df-convert {\n",
              "      background-color: #E8F0FE;\n",
              "      border: none;\n",
              "      border-radius: 50%;\n",
              "      cursor: pointer;\n",
              "      display: none;\n",
              "      fill: #1967D2;\n",
              "      height: 32px;\n",
              "      padding: 0 0 0 0;\n",
              "      width: 32px;\n",
              "    }\n",
              "\n",
              "    .colab-df-convert:hover {\n",
              "      background-color: #E2EBFA;\n",
              "      box-shadow: 0px 1px 2px rgba(60, 64, 67, 0.3), 0px 1px 3px 1px rgba(60, 64, 67, 0.15);\n",
              "      fill: #174EA6;\n",
              "    }\n",
              "\n",
              "    [theme=dark] .colab-df-convert {\n",
              "      background-color: #3B4455;\n",
              "      fill: #D2E3FC;\n",
              "    }\n",
              "\n",
              "    [theme=dark] .colab-df-convert:hover {\n",
              "      background-color: #434B5C;\n",
              "      box-shadow: 0px 1px 3px 1px rgba(0, 0, 0, 0.15);\n",
              "      filter: drop-shadow(0px 1px 2px rgba(0, 0, 0, 0.3));\n",
              "      fill: #FFFFFF;\n",
              "    }\n",
              "  </style>\n",
              "\n",
              "      <script>\n",
              "        const buttonEl =\n",
              "          document.querySelector('#df-18cf9b63-ebd6-4de3-9965-8c9182b41670 button.colab-df-convert');\n",
              "        buttonEl.style.display =\n",
              "          google.colab.kernel.accessAllowed ? 'block' : 'none';\n",
              "\n",
              "        async function convertToInteractive(key) {\n",
              "          const element = document.querySelector('#df-18cf9b63-ebd6-4de3-9965-8c9182b41670');\n",
              "          const dataTable =\n",
              "            await google.colab.kernel.invokeFunction('convertToInteractive',\n",
              "                                                     [key], {});\n",
              "          if (!dataTable) return;\n",
              "\n",
              "          const docLinkHtml = 'Like what you see? Visit the ' +\n",
              "            '<a target=\"_blank\" href=https://colab.research.google.com/notebooks/data_table.ipynb>data table notebook</a>'\n",
              "            + ' to learn more about interactive tables.';\n",
              "          element.innerHTML = '';\n",
              "          dataTable['output_type'] = 'display_data';\n",
              "          await google.colab.output.renderOutput(dataTable, element);\n",
              "          const docLink = document.createElement('div');\n",
              "          docLink.innerHTML = docLinkHtml;\n",
              "          element.appendChild(docLink);\n",
              "        }\n",
              "      </script>\n",
              "    </div>\n",
              "  </div>\n",
              "  "
            ]
          },
          "metadata": {},
          "execution_count": 44
        }
      ]
    },
    {
      "cell_type": "markdown",
      "source": [
        "# **2.TensorFlow Neural Network using Customer Review to predict Star Rating**"
      ],
      "metadata": {
        "id": "o64fKpMeMXDE"
      }
    },
    {
      "cell_type": "code",
      "source": [
        "plt.hist(df.star_rating)\n",
        "plt.xlabel('star_rating')\n",
        "plt.ylabel('count')\n",
        "plt.title('review to rating')"
      ],
      "metadata": {
        "colab": {
          "base_uri": "https://localhost:8080/",
          "height": 313
        },
        "id": "GxWxKklybOSj",
        "outputId": "44167553-9310-4374-a497-a5cfc7b048db"
      },
      "execution_count": null,
      "outputs": [
        {
          "output_type": "execute_result",
          "data": {
            "text/plain": [
              "Text(0.5, 1.0, 'review to rating')"
            ]
          },
          "metadata": {},
          "execution_count": 16
        },
        {
          "output_type": "display_data",
          "data": {
            "text/plain": [
              "<Figure size 432x288 with 1 Axes>"
            ],
            "image/png": "[encoded data removed]"
          },
          "metadata": {
            "needs_background": "light"
          }
        }
      ]
    },
    {
      "cell_type": "code",
      "source": [
        "import tensorflow as tf\n",
        "import tensorflow_hub as hub"
      ],
      "metadata": {
        "id": "Px89giKyjnCf"
      },
      "execution_count": null,
      "outputs": []
    },
    {
      "cell_type": "code",
      "source": [
        "df['label']=(df.star_rating>=3).astype(int)\n",
        "df=df[['review_body','star_rating','label']]\n",
        "len(df)"
      ],
      "metadata": {
        "colab": {
          "base_uri": "https://localhost:8080/"
        },
        "id": "w2cShxE7j5Jp",
        "outputId": "e0ebfca4-3df2-404c-e0d1-9ca0d706ee3d"
      },
      "execution_count": null,
      "outputs": [
        {
          "output_type": "execute_result",
          "data": {
            "text/plain": [
              "960056"
            ]
          },
          "metadata": {},
          "execution_count": 17
        }
      ]
    },
    {
      "cell_type": "markdown",
      "source": [
        "datasplit into training testing and validation"
      ],
      "metadata": {
        "id": "_mTISQLnm5cc"
      }
    },
    {
      "cell_type": "code",
      "source": [
        "train,val,test=np.split(df.sample(frac=1),[int(0.8*len(df)),int(0.9*len(df))])\n",
        "len(train),len(val),len(test)"
      ],
      "metadata": {
        "colab": {
          "base_uri": "https://localhost:8080/"
        },
        "id": "yHV1MRbUm4y9",
        "outputId": "3987b5e2-326a-4d77-b5a4-55f7fc76dac6"
      },
      "execution_count": null,
      "outputs": [
        {
          "output_type": "execute_result",
          "data": {
            "text/plain": [
              "(768044, 96006, 96006)"
            ]
          },
          "metadata": {},
          "execution_count": 21
        }
      ]
    },
    {
      "cell_type": "code",
      "source": [
        "def df_to_dataset(dataframe, shuffle=True, batch_size=1024):\n",
        "  df=dataframe.copy()\n",
        "  labels=df.pop('label')\n",
        "  df=df['review_body']\n",
        "  ds=tf.data.Dataset.from_tensor_slices((df,labels))\n",
        "  if shuffle:\n",
        "    ds=ds.shuffle(buffer_size=len(dataframe))\n",
        "  ds=ds.batch(batch_size)\n",
        "  ds=ds.prefetch(tf.data.AUTOTUNE)\n",
        "  return ds"
      ],
      "metadata": {
        "id": "N5i_Zu8KVTbT"
      },
      "execution_count": null,
      "outputs": []
    },
    {
      "cell_type": "code",
      "source": [
        "train_data=df_to_dataset(train)\n",
        "valid_data=df_to_dataset(val)\n",
        "test_data=df_to_dataset(test)\n",
        "len(train_data),len(valid_data),len(test_data)\n"
      ],
      "metadata": {
        "colab": {
          "base_uri": "https://localhost:8080/"
        },
        "id": "K39VXZvefA_M",
        "outputId": "f4c1bc8a-bc83-4ce5-b487-5f4c30a011fa"
      },
      "execution_count": null,
      "outputs": [
        {
          "output_type": "execute_result",
          "data": {
            "text/plain": [
              "(751, 94, 94)"
            ]
          },
          "metadata": {},
          "execution_count": 23
        }
      ]
    },
    {
      "cell_type": "code",
      "source": [
        "list(train_data)[0]"
      ],
      "metadata": {
        "colab": {
          "base_uri": "https://localhost:8080/"
        },
        "id": "H8j-ax9zfkJ1",
        "outputId": "59fa5571-4f9e-4782-a271-9f4d8a811c3d"
      },
      "execution_count": null,
      "outputs": [
        {
          "output_type": "execute_result",
          "data": {
            "text/plain": [
              "(<tf.Tensor: shape=(1024,), dtype=string, numpy=\n",
              " array([b\"I gave a similar style Citizen Eco-drive watch to my husband several years ago.      Note, the Stilleto and a few other 'models' in the Citizen eco-drive line appear to have the sapphire dial covers instead of mineral glass (I assume that the 'mineral glass' is something like quartz, which is nicer and harder than glass.) However, this review is concerning the models that have sapphire dial covers, which we have found are superb for someone who has otherwise been very hard on his watches.     This is a quiet understated style that was exactly to our taste as we both disliked big watches with lots of extra dials. Because my husband works in a lab, he was replacing a simple cheap casio watch (with a clean analog dial) every few years after the glass dial became too scratched. A few years ago, when it was ready to be replaced, I wanted to give him something nicer and the Eco-drive seemed very appropriate because the whole concept of their construction was pretty technologically compelling.    I chose a model that had the sapphire dial cover. I wanted to be sure that it would be durable to most anything in the lab that might be scratching up his dials. It really has stood the test of time. After 3 or 4 years, it still does not have a scratch on the cover. It is still working well and looks great.\",\n",
              "        b'Bought this for my adult athletic daughter and when the package arrived, my wife liked it so much I ordered her one too!',\n",
              "        b'Its hard to read the numbers', ...,\n",
              "        b\"Sometimes you need a watch that makes a statement in a the same way a shoe needs to not interrupt an outfit, more like blending with your skin.  However, it does not go unnoticed!  The picture does not show the beautiful crystals around the face.  The horn is the perfect sheen.  Keep in mind this is a chunkier watch and my daughter is very petite.  To be able to carry off this stylish and fun accessory can sometimes look like a five year old playing with moms jewelry.  But, alas, Michael Kor's never fails to deliver a beautiful timepiece. Anyone wondering how to update with the chunkier styles should start here!\",\n",
              "        b\"I have owned several Timex watches and this is by far the best.  The reason I purchased this watch was because the (plastic/resin) band on my previous watch began to crack and the case housing deteriorated to the point where the band was coming off the case.  I choose this watch as a replacement for its digital display, functions, and metal band.  If a watch is not functional, I will not wear it ( I have several dress watches that sit in its original case).  By functional, I mean easy to read, have chronograph and alarm functions, be readable in the dark, and have a band that does not retain odor from constant wear.  This watch meets all those requirements and has the added benefit of being elegant enough to wear with formal attire (the brushed stain-less steel finish is very attractive). (to the reviewer who could not figure out how to switch off the digital display: press and hold the start/stop button).  This watch is not without its flaws.  It is noticeably heavier than a plastic watch (but the case and band should be more durable; the added weight become quickly negligible).  The digital display can be obscured by the analog movement (which can be mitigated by stopping the analog movement and positioning the hands both at 9 o'clock; it can later be re-synchronized to the digital time display).  Overall, this is an all-purpose watch that can be worn all the time.  Highly recommended.\",\n",
              "        b\"This beautiful watch (unfortunately paid much more at London Heathrow airport) was an excellent purchase. Very soon, one of the gears powering the minutes hand broke and I had to get it repaired. This was done by sending it via USPS to the excellent Nesbit's Service in Seattle. It was back within a week. Other than this, I have had the best experience and after a year of ownership not a tiny scratch can be seen despite heavy daily usage.\"],\n",
              "       dtype=object)>,\n",
              " <tf.Tensor: shape=(1024,), dtype=int64, numpy=array([1, 1, 1, ..., 1, 1, 1])>)"
            ]
          },
          "metadata": {},
          "execution_count": 14
        }
      ]
    },
    {
      "cell_type": "markdown",
      "source": [
        "# Embedding + Model"
      ],
      "metadata": {
        "id": "CEqWr45UktV5"
      }
    },
    {
      "cell_type": "code",
      "source": [
        "embedding='https://tfhub.dev/google/nnlm-en-dim128/2'\n",
        "hub_layer=hub.KerasLayer(embedding,dtype=tf.string,trainable=True)"
      ],
      "metadata": {
        "id": "BYYyLp7LkiHo"
      },
      "execution_count": null,
      "outputs": []
    },
    {
      "cell_type": "markdown",
      "source": [
        "Transfer text into vectors(numbers) using TensorFlow nnlm embedding"
      ],
      "metadata": {
        "id": "x0Tt7EXslD5G"
      }
    },
    {
      "cell_type": "code",
      "source": [
        "hub_layer(list(train_data)[0][0])"
      ],
      "metadata": {
        "colab": {
          "base_uri": "https://localhost:8080/"
        },
        "id": "meHGSntrk56k",
        "outputId": "8555d1d4-2669-4f67-fa9a-da5beaddb69e"
      },
      "execution_count": null,
      "outputs": [
        {
          "output_type": "execute_result",
          "data": {
            "text/plain": [
              "<tf.Tensor: shape=(1024, 128), dtype=float32, numpy=\n",
              "array([[ 0.35000175, -0.10203085,  0.02879166, ..., -0.0231524 ,\n",
              "        -0.08411931,  0.10483649],\n",
              "       [ 0.54467887,  0.05257927,  0.2721308 , ..., -0.01736205,\n",
              "        -0.05197517, -0.02661743],\n",
              "       [ 0.9049628 ,  0.10555051,  0.00182365, ..., -0.12881877,\n",
              "        -0.10575271,  0.02290615],\n",
              "       ...,\n",
              "       [-0.18644567,  0.01757552,  0.18755189, ...,  0.05608964,\n",
              "        -0.20255372,  0.02361888],\n",
              "       [ 0.35879326, -0.04200901, -0.02205304, ...,  0.06541987,\n",
              "         0.12115029,  0.11060551],\n",
              "       [ 1.07302   , -0.07297475,  0.07304976, ..., -0.20355679,\n",
              "         0.0825643 ,  0.12518169]], dtype=float32)>"
            ]
          },
          "metadata": {},
          "execution_count": 20
        }
      ]
    },
    {
      "cell_type": "markdown",
      "source": [
        "# Build Model using TensorFlow"
      ],
      "metadata": {
        "id": "hRp6zDSIlMKr"
      }
    },
    {
      "cell_type": "code",
      "source": [
        "model=tf.keras.Sequential()\n",
        "model.add(hub_layer) #add hub_layer\n",
        "model.add(tf.keras.layers.Dense(16,activation='relu'))\n",
        "model.add(tf.keras.layers.Dense(16,activation='relu'))\n",
        "model.add(tf.keras.layers.Dense(1,activation='sigmoid'))"
      ],
      "metadata": {
        "id": "yCt29etBlPb4"
      },
      "execution_count": null,
      "outputs": []
    },
    {
      "cell_type": "code",
      "source": [
        "model.compile(optimizer=tf.keras.optimizers.Adam(learning_rate=0.001),\n",
        "              loss=tf.keras.losses.BinaryCrossentropy(),metrics=['accuracy'])"
      ],
      "metadata": {
        "id": "j2YIJA70pjl5"
      },
      "execution_count": null,
      "outputs": []
    },
    {
      "cell_type": "code",
      "source": [
        "model.evaluate(train_data)"
      ],
      "metadata": {
        "colab": {
          "base_uri": "https://localhost:8080/"
        },
        "id": "NEysOA3Nsu5_",
        "outputId": "6c04518c-b87f-414e-d510-cd976614b414"
      },
      "execution_count": null,
      "outputs": [
        {
          "output_type": "stream",
          "name": "stdout",
          "text": [
            "751/751 [==============================] - 19s 22ms/step - loss: 0.6479 - accuracy: 0.8517\n"
          ]
        },
        {
          "output_type": "execute_result",
          "data": {
            "text/plain": [
              "[0.6479259729385376, 0.8517259359359741]"
            ]
          },
          "metadata": {},
          "execution_count": 23
        }
      ]
    },
    {
      "cell_type": "code",
      "source": [
        "model.evaluate(valid_data)"
      ],
      "metadata": {
        "colab": {
          "base_uri": "https://localhost:8080/"
        },
        "id": "7FSKY06NszLM",
        "outputId": "479615a4-01e9-4caa-8d81-d299b884f633"
      },
      "execution_count": null,
      "outputs": [
        {
          "output_type": "stream",
          "name": "stdout",
          "text": [
            "94/94 [==============================] - 2s 20ms/step - loss: 0.6479 - accuracy: 0.8507\n"
          ]
        },
        {
          "output_type": "execute_result",
          "data": {
            "text/plain": [
              "[0.6478509306907654, 0.8507072329521179]"
            ]
          },
          "metadata": {},
          "execution_count": 24
        }
      ]
    },
    {
      "cell_type": "code",
      "source": [
        "history=model.fit(train_data,epochs=10,validation_data=valid_data)"
      ],
      "metadata": {
        "colab": {
          "base_uri": "https://localhost:8080/"
        },
        "id": "4paJ7RLBs1oe",
        "outputId": "32a81bc8-e688-4778-adb9-b90a63aaac05"
      },
      "execution_count": null,
      "outputs": [
        {
          "output_type": "stream",
          "name": "stdout",
          "text": [
            "Epoch 1/10\n",
            "751/751 [==============================] - 1184s 2s/step - loss: 0.2090 - accuracy: 0.9130 - val_loss: 0.1726 - val_accuracy: 0.9272\n",
            "Epoch 2/10\n",
            "751/751 [==============================] - 1118s 1s/step - loss: 0.1624 - accuracy: 0.9320 - val_loss: 0.1688 - val_accuracy: 0.9281\n",
            "Epoch 3/10\n",
            "751/751 [==============================] - 1123s 1s/step - loss: 0.1511 - accuracy: 0.9368 - val_loss: 0.1708 - val_accuracy: 0.9279\n",
            "Epoch 4/10\n",
            "751/751 [==============================] - 1112s 1s/step - loss: 0.1417 - accuracy: 0.9410 - val_loss: 0.1767 - val_accuracy: 0.9258\n",
            "Epoch 5/10\n",
            "751/751 [==============================] - 1115s 1s/step - loss: 0.1330 - accuracy: 0.9449 - val_loss: 0.1832 - val_accuracy: 0.9254\n",
            "Epoch 6/10\n",
            "751/751 [==============================] - 1117s 1s/step - loss: 0.1235 - accuracy: 0.9491 - val_loss: 0.1925 - val_accuracy: 0.9233\n",
            "Epoch 7/10\n",
            "751/751 [==============================] - 1104s 1s/step - loss: 0.1136 - accuracy: 0.9535 - val_loss: 0.2086 - val_accuracy: 0.9226\n",
            "Epoch 8/10\n",
            "751/751 [==============================] - 1116s 1s/step - loss: 0.1033 - accuracy: 0.9583 - val_loss: 0.2192 - val_accuracy: 0.9215\n",
            "Epoch 9/10\n",
            "751/751 [==============================] - 1114s 1s/step - loss: 0.0933 - accuracy: 0.9627 - val_loss: 0.2317 - val_accuracy: 0.9190\n",
            "Epoch 10/10\n",
            "751/751 [==============================] - 1124s 1s/step - loss: 0.0841 - accuracy: 0.9670 - val_loss: 0.2613 - val_accuracy: 0.9187\n"
          ]
        }
      ]
    },
    {
      "cell_type": "code",
      "source": [
        "plt.plot(history.history['accuracy'],label='Training accurracy')\n",
        "plt.plot(history.history['val_accuracy'],label='Validation accuracy')\n",
        "plt.xlabel('Epoch')\n",
        "plt.ylabel('Accuracy')\n",
        "plt.legend()\n",
        "plt.show()"
      ],
      "metadata": {
        "colab": {
          "base_uri": "https://localhost:8080/",
          "height": 279
        },
        "id": "neK-rWBw9kKw",
        "outputId": "48782825-1aac-4d8c-e900-c29825bfde5f"
      },
      "execution_count": null,
      "outputs": [
        {
          "output_type": "display_data",
          "data": {
            "text/plain": [
              "<Figure size 432x288 with 1 Axes>"
            ],
            "image/png": "[encoded data removed]"
          },
          "metadata": {
            "needs_background": "light"
          }
        }
      ]
    },
    {
      "cell_type": "code",
      "source": [
        "plt.plot(history.history['loss'],label='Training loss')\n",
        "plt.plot(history.history['val_loss'],label='Validation loss')\n",
        "plt.xlabel('Epoch')\n",
        "plt.ylabel('Loss')\n",
        "plt.legend()\n",
        "plt.show()"
      ],
      "metadata": {
        "colab": {
          "base_uri": "https://localhost:8080/",
          "height": 279
        },
        "id": "tCAqc5w4_RWN",
        "outputId": "f15779bd-3a80-4ece-b762-02c62a48e3f1"
      },
      "execution_count": null,
      "outputs": [
        {
          "output_type": "display_data",
          "data": {
            "text/plain": [
              "<Figure size 432x288 with 1 Axes>"
            ],
            "image/png": "[encoded data removed]"
          },
          "metadata": {
            "needs_background": "light"
          }
        }
      ]
    },
    {
      "cell_type": "markdown",
      "source": [
        "# Build a better Neural Network model by adding dropout layer since pervious model tends to overfit"
      ],
      "metadata": {
        "id": "lupjEmv6AGrh"
      }
    },
    {
      "cell_type": "code",
      "source": [
        "model=tf.keras.Sequential()\n",
        "model.add(hub_layer) #add hub_layer\n",
        "model.add(tf.keras.layers.Dense(16,activation='relu'))\n",
        "model.add(tf.keras.layers.Dropout(0.4))\n",
        "model.add(tf.keras.layers.Dense(16,activation='relu'))\n",
        "model.add(tf.keras.layers.Dropout(0.4))\n",
        "model.add(tf.keras.layers.Dense(1,activation='sigmoid'))"
      ],
      "metadata": {
        "id": "SzKWg6ySAK6X"
      },
      "execution_count": null,
      "outputs": []
    },
    {
      "cell_type": "code",
      "source": [
        "model.compile(optimizer=tf.keras.optimizers.Adam(learning_rate=0.001),\n",
        "              loss=tf.keras.losses.BinaryCrossentropy(),metrics=['accuracy'])\n",
        "history=model.fit(train_data,epochs=5,validation_data=valid_data)"
      ],
      "metadata": {
        "colab": {
          "base_uri": "https://localhost:8080/"
        },
        "id": "dNPc1SUvtkmV",
        "outputId": "51939020-077f-4822-8030-fc37397209fd"
      },
      "execution_count": null,
      "outputs": [
        {
          "output_type": "stream",
          "name": "stdout",
          "text": [
            "Epoch 1/5\n",
            "751/751 [==============================] - 1031s 1s/step - loss: 0.2409 - accuracy: 0.9040 - val_loss: 0.1810 - val_accuracy: 0.9239\n",
            "Epoch 2/5\n",
            "751/751 [==============================] - 1036s 1s/step - loss: 0.1811 - accuracy: 0.9278 - val_loss: 0.1798 - val_accuracy: 0.9245\n",
            "Epoch 3/5\n",
            "751/751 [==============================] - 1039s 1s/step - loss: 0.1706 - accuracy: 0.9320 - val_loss: 0.1811 - val_accuracy: 0.9242\n",
            "Epoch 4/5\n",
            "751/751 [==============================] - 1040s 1s/step - loss: 0.1632 - accuracy: 0.9347 - val_loss: 0.1850 - val_accuracy: 0.9240\n",
            "Epoch 5/5\n",
            "751/751 [==============================] - 1059s 1s/step - loss: 0.1579 - accuracy: 0.9361 - val_loss: 0.1864 - val_accuracy: 0.9243\n"
          ]
        }
      ]
    },
    {
      "cell_type": "code",
      "source": [
        "plt.plot(history.history['accuracy'],label='Training accurracy')\n",
        "plt.plot(history.history['val_accuracy'],label='Validation accuracy')\n",
        "plt.xlabel('Epoch')\n",
        "plt.ylabel('Accuracy')\n",
        "plt.legend()\n",
        "plt.show()"
      ],
      "metadata": {
        "colab": {
          "base_uri": "https://localhost:8080/",
          "height": 279
        },
        "id": "Bf1xzCvqtocM",
        "outputId": "6f97cd0a-df8f-4a7a-df84-df6656cc7bc4"
      },
      "execution_count": null,
      "outputs": [
        {
          "output_type": "display_data",
          "data": {
            "text/plain": [
              "<Figure size 432x288 with 1 Axes>"
            ],
            "image/png": "[encoded data removed]"
          },
          "metadata": {
            "needs_background": "light"
          }
        }
      ]
    },
    {
      "cell_type": "code",
      "source": [
        "plt.plot(history.history['loss'],label='Training loss')\n",
        "plt.plot(history.history['val_loss'],label='Validation loss')\n",
        "plt.xlabel('Epoch')\n",
        "plt.ylabel('Loss')\n",
        "plt.legend()\n",
        "plt.show()"
      ],
      "metadata": {
        "colab": {
          "base_uri": "https://localhost:8080/",
          "height": 279
        },
        "id": "fPHRZTe5tqy4",
        "outputId": "e2e7bcbb-10b2-4161-c332-4bfc30a326ec"
      },
      "execution_count": null,
      "outputs": [
        {
          "output_type": "display_data",
          "data": {
            "text/plain": [
              "<Figure size 432x288 with 1 Axes>"
            ],
            "image/png": "[encoded data removed]"
          },
          "metadata": {
            "needs_background": "light"
          }
        }
      ]
    },
    {
      "cell_type": "markdown",
      "source": [
        "Build a LSTM model"
      ],
      "metadata": {
        "id": "I89HxjO_BM_a"
      }
    },
    {
      "cell_type": "markdown",
      "source": [
        "Create an encoder for text"
      ],
      "metadata": {
        "id": "AixnvM_fDlIa"
      }
    },
    {
      "cell_type": "code",
      "source": [
        "encoder=tf.keras.layers.TextVectorization(max_tokens=2000)\n",
        "encoder.adapt(train_data.map(lambda text,label: text))\n",
        "vocab=np.array(encoder.get_vocabulary())\n",
        "vocab[:20]"
      ],
      "metadata": {
        "colab": {
          "base_uri": "https://localhost:8080/"
        },
        "id": "N2cOlG15EErU",
        "outputId": "bcae1d94-bdb1-4847-b706-21e8df31714d"
      },
      "execution_count": null,
      "outputs": [
        {
          "output_type": "execute_result",
          "data": {
            "text/plain": [
              "array(['', '[UNK]', 'the', 'i', 'it', 'a', 'and', 'watch', 'to', 'is',\n",
              "       'this', 'for', 'of', 'my', 'in', 'that', 'but', 'on', 'was',\n",
              "       'with'], dtype='<U14')"
            ]
          },
          "metadata": {},
          "execution_count": 24
        }
      ]
    },
    {
      "cell_type": "markdown",
      "source": [
        "encoder to transfer text to number"
      ],
      "metadata": {
        "id": "mPoKSoxnDx8k"
      }
    },
    {
      "cell_type": "code",
      "source": [
        "model=tf.keras.Sequential([\n",
        "    encoder,\n",
        "    tf.keras.layers.Embedding(\n",
        "        input_dim=len(encoder.get_vocabulary()),\n",
        "        output_dim=32,\n",
        "        mask_zero=True\n",
        "    ),\n",
        "    tf.keras.layers.LSTM(32),\n",
        "    tf.keras.layers.Dense(32,activation='relu'),\n",
        "    tf.keras.layers.Dropout(0.4),\n",
        "    tf.keras.layers.Dense(1,activation='sigmoid')\n",
        "])\n"
      ],
      "metadata": {
        "id": "9kzvrSWhaIG2"
      },
      "execution_count": null,
      "outputs": []
    },
    {
      "cell_type": "code",
      "source": [
        "model.compile(optimizer=tf.keras.optimizers.Adam(learning_rate=0.01),\n",
        "              loss=tf.keras.losses.BinaryCrossentropy(),\n",
        "              metrics=['accuracy'])"
      ],
      "metadata": {
        "id": "AayNwvWaFACI"
      },
      "execution_count": null,
      "outputs": []
    },
    {
      "cell_type": "code",
      "source": [
        "model.evaluate(train_data)\n"
      ],
      "metadata": {
        "colab": {
          "base_uri": "https://localhost:8080/"
        },
        "id": "4g12UyRvFXXF",
        "outputId": "f9edba9a-1e1d-4550-a314-3dc33eb85a67"
      },
      "execution_count": null,
      "outputs": [
        {
          "output_type": "stream",
          "name": "stdout",
          "text": [
            "751/751 [==============================] - 1545s 2s/step - loss: 0.6931 - accuracy: 0.5232\n"
          ]
        },
        {
          "output_type": "execute_result",
          "data": {
            "text/plain": [
              "[0.6931310296058655, 0.5232330560684204]"
            ]
          },
          "metadata": {},
          "execution_count": 31
        }
      ]
    },
    {
      "cell_type": "code",
      "source": [
        "model.evaluate(valid_data)"
      ],
      "metadata": {
        "colab": {
          "base_uri": "https://localhost:8080/"
        },
        "id": "5PeuxSLp-vNz",
        "outputId": "07ce5fbe-6a25-4c09-950e-e50fe321e6c6"
      },
      "execution_count": null,
      "outputs": [
        {
          "output_type": "stream",
          "name": "stdout",
          "text": [
            "94/94 [==============================] - 193s 2s/step - loss: 0.6931 - accuracy: 0.5240\n"
          ]
        },
        {
          "output_type": "execute_result",
          "data": {
            "text/plain": [
              "[0.6931214928627014, 0.5239776968955994]"
            ]
          },
          "metadata": {},
          "execution_count": 30
        }
      ]
    },
    {
      "cell_type": "code",
      "source": [
        "historyLSTM=model.fit(train_data,epochs=5,validation_data=valid_data)"
      ],
      "metadata": {
        "colab": {
          "base_uri": "https://localhost:8080/"
        },
        "id": "nn80MJfHFvlV",
        "outputId": "8476e479-5894-4cf9-fd81-5662ca93c22d"
      },
      "execution_count": null,
      "outputs": [
        {
          "output_type": "stream",
          "name": "stdout",
          "text": [
            "Epoch 1/5\n",
            "751/751 [==============================] - 3099s 4s/step - loss: 0.1892 - accuracy: 0.9237 - val_loss: 0.1549 - val_accuracy: 0.9357\n",
            "Epoch 2/5\n",
            "751/751 [==============================] - 2574s 3s/step - loss: 0.1522 - accuracy: 0.9373 - val_loss: 0.1476 - val_accuracy: 0.9373\n",
            "Epoch 3/5\n",
            "751/751 [==============================] - 2593s 3s/step - loss: 0.1438 - accuracy: 0.9406 - val_loss: 0.1460 - val_accuracy: 0.9386\n",
            "Epoch 4/5\n",
            "751/751 [==============================] - 2519s 3s/step - loss: 0.1385 - accuracy: 0.9426 - val_loss: 0.1446 - val_accuracy: 0.9392\n",
            "Epoch 5/5\n",
            "751/751 [==============================] - 2549s 3s/step - loss: 0.1341 - accuracy: 0.9445 - val_loss: 0.1433 - val_accuracy: 0.9394\n"
          ]
        }
      ]
    },
    {
      "cell_type": "code",
      "source": [
        "plt.plot(historyLSTM.history['accuracy'],label='Training accurracy')\n",
        "plt.plot(historyLSTM.history['val_accuracy'],label='Validation accuracy')\n",
        "plt.xlabel('Epoch')\n",
        "plt.ylabel('Accuracy')\n",
        "plt.legend()\n",
        "plt.show()"
      ],
      "metadata": {
        "colab": {
          "base_uri": "https://localhost:8080/",
          "height": 279
        },
        "id": "y8omo2ANApi4",
        "outputId": "f1734deb-58a0-4c7d-9ce8-c1e6de1fdebe"
      },
      "execution_count": null,
      "outputs": [
        {
          "output_type": "display_data",
          "data": {
            "text/plain": [
              "<Figure size 432x288 with 1 Axes>"
            ],
            "image/png": "[encoded data removed]"
          },
          "metadata": {
            "needs_background": "light"
          }
        }
      ]
    },
    {
      "cell_type": "code",
      "source": [
        "plt.plot(historyLSTM.history['loss'],label='Training loss')\n",
        "plt.plot(historyLSTM.history['val_loss'],label='Validation loss')\n",
        "plt.xlabel('Epoch')\n",
        "plt.ylabel('Loss')\n",
        "plt.legend()\n",
        "plt.show()"
      ],
      "metadata": {
        "colab": {
          "base_uri": "https://localhost:8080/",
          "height": 279
        },
        "id": "KoWiiDUyAL-w",
        "outputId": "d052248a-93f1-45b2-9e04-8a0be487c9b2"
      },
      "execution_count": null,
      "outputs": [
        {
          "output_type": "display_data",
          "data": {
            "text/plain": [
              "<Figure size 432x288 with 1 Axes>"
            ],
            "image/png": "[encoded data removed]"
          },
          "metadata": {
            "needs_background": "light"
          }
        }
      ]
    }
  ]
}